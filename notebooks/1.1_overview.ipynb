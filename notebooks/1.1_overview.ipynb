{
 "cells": [
  {
   "cell_type": "markdown",
   "source": [
    "# User Behavior Overview"
   ],
   "metadata": {}
  },
  {
   "cell_type": "markdown",
   "source": [
    "## Imports"
   ],
   "metadata": {}
  },
  {
   "cell_type": "code",
   "execution_count": 1,
   "source": [
    "import numpy as np\n",
    "import pandas as pd\n",
    "import plotly.express as px\n",
    "import plotly.graph_objects as go\n",
    "from plotly.subplots import make_subplots"
   ],
   "outputs": [],
   "metadata": {}
  },
  {
   "cell_type": "code",
   "execution_count": 2,
   "source": [
    "pd.set_option('display.max_columns', None)\n",
    "pd.set_option('display.max_colwidth', None)\n",
    "pd.set_option(\"expand_frame_repr\", False)\n",
    "pd.set_option('display.float_format', '{:.2f}'.format)"
   ],
   "outputs": [],
   "metadata": {}
  },
  {
   "cell_type": "code",
   "execution_count": 3,
   "source": [
    "sys.path.append(os.path.abspath(os.path.join('../scripts')))\n",
    "from vis_plotly import *"
   ],
   "outputs": [],
   "metadata": {}
  },
  {
   "cell_type": "markdown",
   "source": [
    "## Data reading"
   ],
   "metadata": {}
  },
  {
   "cell_type": "code",
   "execution_count": 4,
   "source": [
    "df = pd.read_csv(\"../data/clean_data.csv\")\n",
    "df.info()"
   ],
   "outputs": [
    {
     "output_type": "stream",
     "name": "stdout",
     "text": [
      "<class 'pandas.core.frame.DataFrame'>\n",
      "RangeIndex: 146891 entries, 0 to 146890\n",
      "Data columns (total 34 columns):\n",
      " #   Column                   Non-Null Count   Dtype  \n",
      "---  ------                   --------------   -----  \n",
      " 0   bearer_id                146891 non-null  float64\n",
      " 1   msisdn_number            146891 non-null  float64\n",
      " 2   imei                     146891 non-null  float64\n",
      " 3   imsi                     146891 non-null  float64\n",
      " 4   last_location_name       146891 non-null  object \n",
      " 5   handset_manufacturer     146891 non-null  object \n",
      " 6   handset_type             146891 non-null  object \n",
      " 7   start                    146891 non-null  object \n",
      " 8   end                      146891 non-null  object \n",
      " 9   dur_(ms)                 146891 non-null  float64\n",
      " 10  social_media_dl_(bytes)  146891 non-null  float64\n",
      " 11  social_media_ul_(bytes)  146891 non-null  float64\n",
      " 12  google_dl_(bytes)        146891 non-null  float64\n",
      " 13  google_ul_(bytes)        146891 non-null  float64\n",
      " 14  email_dl_(bytes)         146891 non-null  float64\n",
      " 15  email_ul_(bytes)         146891 non-null  float64\n",
      " 16  youtube_dl_(bytes)       146891 non-null  float64\n",
      " 17  youtube_ul_(bytes)       146891 non-null  float64\n",
      " 18  netflix_dl_(bytes)       146891 non-null  float64\n",
      " 19  netflix_ul_(bytes)       146891 non-null  float64\n",
      " 20  gaming_dl_(bytes)        146891 non-null  float64\n",
      " 21  gaming_ul_(bytes)        146891 non-null  float64\n",
      " 22  other_dl_(bytes)         146891 non-null  float64\n",
      " 23  other_ul_(bytes)         146891 non-null  float64\n",
      " 24  total_ul_(bytes)         146891 non-null  float64\n",
      " 25  total_dl_(bytes)         146891 non-null  float64\n",
      " 26  social_media             146891 non-null  float64\n",
      " 27  google                   146891 non-null  float64\n",
      " 28  email                    146891 non-null  float64\n",
      " 29  youtube                  146891 non-null  float64\n",
      " 30  netflix                  146891 non-null  float64\n",
      " 31  gaming                   146891 non-null  float64\n",
      " 32  other                    146891 non-null  float64\n",
      " 33  total_data               146891 non-null  float64\n",
      "dtypes: float64(29), object(5)\n",
      "memory usage: 38.1+ MB\n"
     ]
    }
   ],
   "metadata": {}
  },
  {
   "cell_type": "markdown",
   "source": [
    "##  Top 10 handsets used by the customers"
   ],
   "metadata": {}
  },
  {
   "cell_type": "code",
   "execution_count": 5,
   "source": [
    "class DfSelector():\n",
    "\n",
    "    def __init__(self):\n",
    "        pass\n",
    "\n",
    "    def filter_by_count(self, df, column):\n",
    "      new_df = df[column].value_counts(ascending=False).reset_index().copy()\n",
    "      new_df = new_df.rename(\n",
    "          columns={'index': column, column: \"count\"})\n",
    "      return new_df\n",
    "\n",
    "    def filter_by_sum(self, df, column):\n",
    "      new_df = df[column].sum(ascending=False).reset_index().copy()\n",
    "\n",
    "      new_df = new_df.rename(\n",
    "          columns={'index': column, column: \"sum\"})\n",
    "      return new_df\n",
    "\n",
    "    \n",
    "    def find_agg(self, df: pd.DataFrame, agg_column: str, agg_metric: str, col_name: str, top: int, order=False) -> pd.DataFrame:\n",
    "        new_df = df.groupby(agg_column)[agg_column].agg(agg_metric).reset_index(name=col_name).\\\n",
    "        sort_values(by=col_name, ascending=order)[:top]\n",
    "        return new_df\n",
    "    \n",
    "selector = DfSelector()\n"
   ],
   "outputs": [],
   "metadata": {}
  },
  {
   "cell_type": "code",
   "execution_count": 6,
   "source": [
    "count_df = selector.filter_by_count(df, 'handset_type')\n",
    "count_df.head(10)"
   ],
   "outputs": [
    {
     "output_type": "execute_result",
     "data": {
      "text/plain": [
       "                   handset_type  count\n",
       "0              Huawei B528S-23A  28193\n",
       "1       Apple iPhone 6S (A1688)   9369\n",
       "2        Apple iPhone 6 (A1586)   8967\n",
       "3        Apple iPhone 7 (A1778)   6240\n",
       "4       Apple iPhone Se (A1723)   5151\n",
       "5        Apple iPhone 8 (A1905)   4961\n",
       "6       Apple iPhone Xr (A2105)   4542\n",
       "7  Samsung Galaxy S8 (Sm-G950F)   4404\n",
       "8        Apple iPhone X (A1901)   3788\n",
       "9    Samsung Galaxy A5 Sm-A520F   3673"
      ],
      "text/html": [
       "<div>\n",
       "<style scoped>\n",
       "    .dataframe tbody tr th:only-of-type {\n",
       "        vertical-align: middle;\n",
       "    }\n",
       "\n",
       "    .dataframe tbody tr th {\n",
       "        vertical-align: top;\n",
       "    }\n",
       "\n",
       "    .dataframe thead th {\n",
       "        text-align: right;\n",
       "    }\n",
       "</style>\n",
       "<table border=\"1\" class=\"dataframe\">\n",
       "  <thead>\n",
       "    <tr style=\"text-align: right;\">\n",
       "      <th></th>\n",
       "      <th>handset_type</th>\n",
       "      <th>count</th>\n",
       "    </tr>\n",
       "  </thead>\n",
       "  <tbody>\n",
       "    <tr>\n",
       "      <th>0</th>\n",
       "      <td>Huawei B528S-23A</td>\n",
       "      <td>28193</td>\n",
       "    </tr>\n",
       "    <tr>\n",
       "      <th>1</th>\n",
       "      <td>Apple iPhone 6S (A1688)</td>\n",
       "      <td>9369</td>\n",
       "    </tr>\n",
       "    <tr>\n",
       "      <th>2</th>\n",
       "      <td>Apple iPhone 6 (A1586)</td>\n",
       "      <td>8967</td>\n",
       "    </tr>\n",
       "    <tr>\n",
       "      <th>3</th>\n",
       "      <td>Apple iPhone 7 (A1778)</td>\n",
       "      <td>6240</td>\n",
       "    </tr>\n",
       "    <tr>\n",
       "      <th>4</th>\n",
       "      <td>Apple iPhone Se (A1723)</td>\n",
       "      <td>5151</td>\n",
       "    </tr>\n",
       "    <tr>\n",
       "      <th>5</th>\n",
       "      <td>Apple iPhone 8 (A1905)</td>\n",
       "      <td>4961</td>\n",
       "    </tr>\n",
       "    <tr>\n",
       "      <th>6</th>\n",
       "      <td>Apple iPhone Xr (A2105)</td>\n",
       "      <td>4542</td>\n",
       "    </tr>\n",
       "    <tr>\n",
       "      <th>7</th>\n",
       "      <td>Samsung Galaxy S8 (Sm-G950F)</td>\n",
       "      <td>4404</td>\n",
       "    </tr>\n",
       "    <tr>\n",
       "      <th>8</th>\n",
       "      <td>Apple iPhone X (A1901)</td>\n",
       "      <td>3788</td>\n",
       "    </tr>\n",
       "    <tr>\n",
       "      <th>9</th>\n",
       "      <td>Samsung Galaxy A5 Sm-A520F</td>\n",
       "      <td>3673</td>\n",
       "    </tr>\n",
       "  </tbody>\n",
       "</table>\n",
       "</div>"
      ]
     },
     "metadata": {},
     "execution_count": 6
    }
   ],
   "metadata": {}
  },
  {
   "cell_type": "code",
   "execution_count": 7,
   "source": [
    "fig = px.histogram(count_df.nlargest(10, 'count'), x=\"handset_type\", y='count')\n",
    "fig.show()"
   ],
   "outputs": [
    {
     "output_type": "display_data",
     "data": {
      "application/vnd.plotly.v1+json": {
       "config": {
        "plotlyServerURL": "https://plot.ly"
       },
       "data": [
        {
         "alignmentgroup": "True",
         "bingroup": "x",
         "histfunc": "sum",
         "hovertemplate": "handset_type=%{x}<br>sum of count=%{y}<extra></extra>",
         "legendgroup": "",
         "marker": {
          "color": "#636efa"
         },
         "name": "",
         "offsetgroup": "",
         "orientation": "v",
         "showlegend": false,
         "type": "histogram",
         "x": [
          "Huawei B528S-23A",
          "Apple iPhone 6S (A1688)",
          "Apple iPhone 6 (A1586)",
          "Apple iPhone 7 (A1778)",
          "Apple iPhone Se (A1723)",
          "Apple iPhone 8 (A1905)",
          "Apple iPhone Xr (A2105)",
          "Samsung Galaxy S8 (Sm-G950F)",
          "Apple iPhone X (A1901)",
          "Samsung Galaxy A5 Sm-A520F"
         ],
         "xaxis": "x",
         "y": [
          28193,
          9369,
          8967,
          6240,
          5151,
          4961,
          4542,
          4404,
          3788,
          3673
         ],
         "yaxis": "y"
        }
       ],
       "layout": {
        "barmode": "relative",
        "legend": {
         "tracegroupgap": 0
        },
        "margin": {
         "t": 60
        },
        "template": {
         "data": {
          "bar": [
           {
            "error_x": {
             "color": "#2a3f5f"
            },
            "error_y": {
             "color": "#2a3f5f"
            },
            "marker": {
             "line": {
              "color": "#E5ECF6",
              "width": 0.5
             }
            },
            "type": "bar"
           }
          ],
          "barpolar": [
           {
            "marker": {
             "line": {
              "color": "#E5ECF6",
              "width": 0.5
             }
            },
            "type": "barpolar"
           }
          ],
          "carpet": [
           {
            "aaxis": {
             "endlinecolor": "#2a3f5f",
             "gridcolor": "white",
             "linecolor": "white",
             "minorgridcolor": "white",
             "startlinecolor": "#2a3f5f"
            },
            "baxis": {
             "endlinecolor": "#2a3f5f",
             "gridcolor": "white",
             "linecolor": "white",
             "minorgridcolor": "white",
             "startlinecolor": "#2a3f5f"
            },
            "type": "carpet"
           }
          ],
          "choropleth": [
           {
            "colorbar": {
             "outlinewidth": 0,
             "ticks": ""
            },
            "type": "choropleth"
           }
          ],
          "contour": [
           {
            "colorbar": {
             "outlinewidth": 0,
             "ticks": ""
            },
            "colorscale": [
             [
              0,
              "#0d0887"
             ],
             [
              0.1111111111111111,
              "#46039f"
             ],
             [
              0.2222222222222222,
              "#7201a8"
             ],
             [
              0.3333333333333333,
              "#9c179e"
             ],
             [
              0.4444444444444444,
              "#bd3786"
             ],
             [
              0.5555555555555556,
              "#d8576b"
             ],
             [
              0.6666666666666666,
              "#ed7953"
             ],
             [
              0.7777777777777778,
              "#fb9f3a"
             ],
             [
              0.8888888888888888,
              "#fdca26"
             ],
             [
              1,
              "#f0f921"
             ]
            ],
            "type": "contour"
           }
          ],
          "contourcarpet": [
           {
            "colorbar": {
             "outlinewidth": 0,
             "ticks": ""
            },
            "type": "contourcarpet"
           }
          ],
          "heatmap": [
           {
            "colorbar": {
             "outlinewidth": 0,
             "ticks": ""
            },
            "colorscale": [
             [
              0,
              "#0d0887"
             ],
             [
              0.1111111111111111,
              "#46039f"
             ],
             [
              0.2222222222222222,
              "#7201a8"
             ],
             [
              0.3333333333333333,
              "#9c179e"
             ],
             [
              0.4444444444444444,
              "#bd3786"
             ],
             [
              0.5555555555555556,
              "#d8576b"
             ],
             [
              0.6666666666666666,
              "#ed7953"
             ],
             [
              0.7777777777777778,
              "#fb9f3a"
             ],
             [
              0.8888888888888888,
              "#fdca26"
             ],
             [
              1,
              "#f0f921"
             ]
            ],
            "type": "heatmap"
           }
          ],
          "heatmapgl": [
           {
            "colorbar": {
             "outlinewidth": 0,
             "ticks": ""
            },
            "colorscale": [
             [
              0,
              "#0d0887"
             ],
             [
              0.1111111111111111,
              "#46039f"
             ],
             [
              0.2222222222222222,
              "#7201a8"
             ],
             [
              0.3333333333333333,
              "#9c179e"
             ],
             [
              0.4444444444444444,
              "#bd3786"
             ],
             [
              0.5555555555555556,
              "#d8576b"
             ],
             [
              0.6666666666666666,
              "#ed7953"
             ],
             [
              0.7777777777777778,
              "#fb9f3a"
             ],
             [
              0.8888888888888888,
              "#fdca26"
             ],
             [
              1,
              "#f0f921"
             ]
            ],
            "type": "heatmapgl"
           }
          ],
          "histogram": [
           {
            "marker": {
             "colorbar": {
              "outlinewidth": 0,
              "ticks": ""
             }
            },
            "type": "histogram"
           }
          ],
          "histogram2d": [
           {
            "colorbar": {
             "outlinewidth": 0,
             "ticks": ""
            },
            "colorscale": [
             [
              0,
              "#0d0887"
             ],
             [
              0.1111111111111111,
              "#46039f"
             ],
             [
              0.2222222222222222,
              "#7201a8"
             ],
             [
              0.3333333333333333,
              "#9c179e"
             ],
             [
              0.4444444444444444,
              "#bd3786"
             ],
             [
              0.5555555555555556,
              "#d8576b"
             ],
             [
              0.6666666666666666,
              "#ed7953"
             ],
             [
              0.7777777777777778,
              "#fb9f3a"
             ],
             [
              0.8888888888888888,
              "#fdca26"
             ],
             [
              1,
              "#f0f921"
             ]
            ],
            "type": "histogram2d"
           }
          ],
          "histogram2dcontour": [
           {
            "colorbar": {
             "outlinewidth": 0,
             "ticks": ""
            },
            "colorscale": [
             [
              0,
              "#0d0887"
             ],
             [
              0.1111111111111111,
              "#46039f"
             ],
             [
              0.2222222222222222,
              "#7201a8"
             ],
             [
              0.3333333333333333,
              "#9c179e"
             ],
             [
              0.4444444444444444,
              "#bd3786"
             ],
             [
              0.5555555555555556,
              "#d8576b"
             ],
             [
              0.6666666666666666,
              "#ed7953"
             ],
             [
              0.7777777777777778,
              "#fb9f3a"
             ],
             [
              0.8888888888888888,
              "#fdca26"
             ],
             [
              1,
              "#f0f921"
             ]
            ],
            "type": "histogram2dcontour"
           }
          ],
          "mesh3d": [
           {
            "colorbar": {
             "outlinewidth": 0,
             "ticks": ""
            },
            "type": "mesh3d"
           }
          ],
          "parcoords": [
           {
            "line": {
             "colorbar": {
              "outlinewidth": 0,
              "ticks": ""
             }
            },
            "type": "parcoords"
           }
          ],
          "pie": [
           {
            "automargin": true,
            "type": "pie"
           }
          ],
          "scatter": [
           {
            "marker": {
             "colorbar": {
              "outlinewidth": 0,
              "ticks": ""
             }
            },
            "type": "scatter"
           }
          ],
          "scatter3d": [
           {
            "line": {
             "colorbar": {
              "outlinewidth": 0,
              "ticks": ""
             }
            },
            "marker": {
             "colorbar": {
              "outlinewidth": 0,
              "ticks": ""
             }
            },
            "type": "scatter3d"
           }
          ],
          "scattercarpet": [
           {
            "marker": {
             "colorbar": {
              "outlinewidth": 0,
              "ticks": ""
             }
            },
            "type": "scattercarpet"
           }
          ],
          "scattergeo": [
           {
            "marker": {
             "colorbar": {
              "outlinewidth": 0,
              "ticks": ""
             }
            },
            "type": "scattergeo"
           }
          ],
          "scattergl": [
           {
            "marker": {
             "colorbar": {
              "outlinewidth": 0,
              "ticks": ""
             }
            },
            "type": "scattergl"
           }
          ],
          "scattermapbox": [
           {
            "marker": {
             "colorbar": {
              "outlinewidth": 0,
              "ticks": ""
             }
            },
            "type": "scattermapbox"
           }
          ],
          "scatterpolar": [
           {
            "marker": {
             "colorbar": {
              "outlinewidth": 0,
              "ticks": ""
             }
            },
            "type": "scatterpolar"
           }
          ],
          "scatterpolargl": [
           {
            "marker": {
             "colorbar": {
              "outlinewidth": 0,
              "ticks": ""
             }
            },
            "type": "scatterpolargl"
           }
          ],
          "scatterternary": [
           {
            "marker": {
             "colorbar": {
              "outlinewidth": 0,
              "ticks": ""
             }
            },
            "type": "scatterternary"
           }
          ],
          "surface": [
           {
            "colorbar": {
             "outlinewidth": 0,
             "ticks": ""
            },
            "colorscale": [
             [
              0,
              "#0d0887"
             ],
             [
              0.1111111111111111,
              "#46039f"
             ],
             [
              0.2222222222222222,
              "#7201a8"
             ],
             [
              0.3333333333333333,
              "#9c179e"
             ],
             [
              0.4444444444444444,
              "#bd3786"
             ],
             [
              0.5555555555555556,
              "#d8576b"
             ],
             [
              0.6666666666666666,
              "#ed7953"
             ],
             [
              0.7777777777777778,
              "#fb9f3a"
             ],
             [
              0.8888888888888888,
              "#fdca26"
             ],
             [
              1,
              "#f0f921"
             ]
            ],
            "type": "surface"
           }
          ],
          "table": [
           {
            "cells": {
             "fill": {
              "color": "#EBF0F8"
             },
             "line": {
              "color": "white"
             }
            },
            "header": {
             "fill": {
              "color": "#C8D4E3"
             },
             "line": {
              "color": "white"
             }
            },
            "type": "table"
           }
          ]
         },
         "layout": {
          "annotationdefaults": {
           "arrowcolor": "#2a3f5f",
           "arrowhead": 0,
           "arrowwidth": 1
          },
          "autotypenumbers": "strict",
          "coloraxis": {
           "colorbar": {
            "outlinewidth": 0,
            "ticks": ""
           }
          },
          "colorscale": {
           "diverging": [
            [
             0,
             "#8e0152"
            ],
            [
             0.1,
             "#c51b7d"
            ],
            [
             0.2,
             "#de77ae"
            ],
            [
             0.3,
             "#f1b6da"
            ],
            [
             0.4,
             "#fde0ef"
            ],
            [
             0.5,
             "#f7f7f7"
            ],
            [
             0.6,
             "#e6f5d0"
            ],
            [
             0.7,
             "#b8e186"
            ],
            [
             0.8,
             "#7fbc41"
            ],
            [
             0.9,
             "#4d9221"
            ],
            [
             1,
             "#276419"
            ]
           ],
           "sequential": [
            [
             0,
             "#0d0887"
            ],
            [
             0.1111111111111111,
             "#46039f"
            ],
            [
             0.2222222222222222,
             "#7201a8"
            ],
            [
             0.3333333333333333,
             "#9c179e"
            ],
            [
             0.4444444444444444,
             "#bd3786"
            ],
            [
             0.5555555555555556,
             "#d8576b"
            ],
            [
             0.6666666666666666,
             "#ed7953"
            ],
            [
             0.7777777777777778,
             "#fb9f3a"
            ],
            [
             0.8888888888888888,
             "#fdca26"
            ],
            [
             1,
             "#f0f921"
            ]
           ],
           "sequentialminus": [
            [
             0,
             "#0d0887"
            ],
            [
             0.1111111111111111,
             "#46039f"
            ],
            [
             0.2222222222222222,
             "#7201a8"
            ],
            [
             0.3333333333333333,
             "#9c179e"
            ],
            [
             0.4444444444444444,
             "#bd3786"
            ],
            [
             0.5555555555555556,
             "#d8576b"
            ],
            [
             0.6666666666666666,
             "#ed7953"
            ],
            [
             0.7777777777777778,
             "#fb9f3a"
            ],
            [
             0.8888888888888888,
             "#fdca26"
            ],
            [
             1,
             "#f0f921"
            ]
           ]
          },
          "colorway": [
           "#636efa",
           "#EF553B",
           "#00cc96",
           "#ab63fa",
           "#FFA15A",
           "#19d3f3",
           "#FF6692",
           "#B6E880",
           "#FF97FF",
           "#FECB52"
          ],
          "font": {
           "color": "#2a3f5f"
          },
          "geo": {
           "bgcolor": "white",
           "lakecolor": "white",
           "landcolor": "#E5ECF6",
           "showlakes": true,
           "showland": true,
           "subunitcolor": "white"
          },
          "hoverlabel": {
           "align": "left"
          },
          "hovermode": "closest",
          "mapbox": {
           "style": "light"
          },
          "paper_bgcolor": "white",
          "plot_bgcolor": "#E5ECF6",
          "polar": {
           "angularaxis": {
            "gridcolor": "white",
            "linecolor": "white",
            "ticks": ""
           },
           "bgcolor": "#E5ECF6",
           "radialaxis": {
            "gridcolor": "white",
            "linecolor": "white",
            "ticks": ""
           }
          },
          "scene": {
           "xaxis": {
            "backgroundcolor": "#E5ECF6",
            "gridcolor": "white",
            "gridwidth": 2,
            "linecolor": "white",
            "showbackground": true,
            "ticks": "",
            "zerolinecolor": "white"
           },
           "yaxis": {
            "backgroundcolor": "#E5ECF6",
            "gridcolor": "white",
            "gridwidth": 2,
            "linecolor": "white",
            "showbackground": true,
            "ticks": "",
            "zerolinecolor": "white"
           },
           "zaxis": {
            "backgroundcolor": "#E5ECF6",
            "gridcolor": "white",
            "gridwidth": 2,
            "linecolor": "white",
            "showbackground": true,
            "ticks": "",
            "zerolinecolor": "white"
           }
          },
          "shapedefaults": {
           "line": {
            "color": "#2a3f5f"
           }
          },
          "ternary": {
           "aaxis": {
            "gridcolor": "white",
            "linecolor": "white",
            "ticks": ""
           },
           "baxis": {
            "gridcolor": "white",
            "linecolor": "white",
            "ticks": ""
           },
           "bgcolor": "#E5ECF6",
           "caxis": {
            "gridcolor": "white",
            "linecolor": "white",
            "ticks": ""
           }
          },
          "title": {
           "x": 0.05
          },
          "xaxis": {
           "automargin": true,
           "gridcolor": "white",
           "linecolor": "white",
           "ticks": "",
           "title": {
            "standoff": 15
           },
           "zerolinecolor": "white",
           "zerolinewidth": 2
          },
          "yaxis": {
           "automargin": true,
           "gridcolor": "white",
           "linecolor": "white",
           "ticks": "",
           "title": {
            "standoff": 15
           },
           "zerolinecolor": "white",
           "zerolinewidth": 2
          }
         }
        },
        "xaxis": {
         "anchor": "y",
         "domain": [
          0,
          1
         ],
         "title": {
          "text": "handset_type"
         }
        },
        "yaxis": {
         "anchor": "x",
         "domain": [
          0,
          1
         ],
         "title": {
          "text": "sum of count"
         }
        }
       }
      }
     },
     "metadata": {}
    }
   ],
   "metadata": {}
  },
  {
   "cell_type": "markdown",
   "source": [
    "## Top 3 handset manufacturers"
   ],
   "metadata": {}
  },
  {
   "cell_type": "code",
   "execution_count": 8,
   "source": [
    "top_manufacturers = selector.filter_by_count(df, 'handset_manufacturer')\n",
    "top_manufacturers.head(3)"
   ],
   "outputs": [
    {
     "output_type": "execute_result",
     "data": {
      "text/plain": [
       "  handset_manufacturer  count\n",
       "0                Apple  67892\n",
       "1              Samsung  39902\n",
       "2               Huawei  33755"
      ],
      "text/html": [
       "<div>\n",
       "<style scoped>\n",
       "    .dataframe tbody tr th:only-of-type {\n",
       "        vertical-align: middle;\n",
       "    }\n",
       "\n",
       "    .dataframe tbody tr th {\n",
       "        vertical-align: top;\n",
       "    }\n",
       "\n",
       "    .dataframe thead th {\n",
       "        text-align: right;\n",
       "    }\n",
       "</style>\n",
       "<table border=\"1\" class=\"dataframe\">\n",
       "  <thead>\n",
       "    <tr style=\"text-align: right;\">\n",
       "      <th></th>\n",
       "      <th>handset_manufacturer</th>\n",
       "      <th>count</th>\n",
       "    </tr>\n",
       "  </thead>\n",
       "  <tbody>\n",
       "    <tr>\n",
       "      <th>0</th>\n",
       "      <td>Apple</td>\n",
       "      <td>67892</td>\n",
       "    </tr>\n",
       "    <tr>\n",
       "      <th>1</th>\n",
       "      <td>Samsung</td>\n",
       "      <td>39902</td>\n",
       "    </tr>\n",
       "    <tr>\n",
       "      <th>2</th>\n",
       "      <td>Huawei</td>\n",
       "      <td>33755</td>\n",
       "    </tr>\n",
       "  </tbody>\n",
       "</table>\n",
       "</div>"
      ]
     },
     "metadata": {},
     "execution_count": 8
    }
   ],
   "metadata": {}
  },
  {
   "cell_type": "markdown",
   "source": [
    "##  Top 5 handsets per top 3 handset manufacturer"
   ],
   "metadata": {}
  },
  {
   "cell_type": "code",
   "execution_count": 9,
   "source": [
    "top3_manufacturers = top_manufacturers.head(3)['handset_manufacturer'].values\n",
    "top_manufacturers = df[df[\"handset_manufacturer\"].isin(top3_manufacturers)]\n",
    "top_manufacturers['handset_type'].groupby(\n",
    "    df['handset_manufacturer']).apply(lambda x: x.value_counts().head(5))"
   ],
   "outputs": [
    {
     "output_type": "execute_result",
     "data": {
      "text/plain": [
       "handset_manufacturer                                \n",
       "Apple                 Apple iPhone 6S (A1688)            9369\n",
       "                      Apple iPhone 6 (A1586)             8967\n",
       "                      Huawei B528S-23A                   8820\n",
       "                      Apple iPhone 7 (A1778)             6240\n",
       "                      Apple iPhone Se (A1723)            5151\n",
       "Huawei                Huawei B528S-23A                  19373\n",
       "                      Huawei E5180                       2062\n",
       "                      Huawei P20 Lite Huawei Nova 3E     2000\n",
       "                      Huawei P20                         1471\n",
       "                      Huawei Y6 2018                      984\n",
       "Samsung               Samsung Galaxy S8 (Sm-G950F)       4404\n",
       "                      Samsung Galaxy A5 Sm-A520F         3673\n",
       "                      Samsung Galaxy J5 (Sm-J530)        3664\n",
       "                      Samsung Galaxy J3 (Sm-J330)        3431\n",
       "                      Samsung Galaxy S7 (Sm-G930X)       3106\n",
       "Name: handset_type, dtype: int64"
      ]
     },
     "metadata": {},
     "execution_count": 9
    }
   ],
   "metadata": {}
  },
  {
   "cell_type": "markdown",
   "source": [
    "# Task 1.1"
   ],
   "metadata": {}
  },
  {
   "cell_type": "markdown",
   "source": [
    "## Number of xDR sessions"
   ],
   "metadata": {}
  },
  {
   "cell_type": "code",
   "execution_count": 10,
   "source": [
    "sessions = selector.find_agg(df, 'msisdn_number', 'count', 'bearer_id', 10, False)\n",
    "sessions"
   ],
   "outputs": [
    {
     "output_type": "execute_result",
     "data": {
      "text/plain": [
       "       msisdn_number  bearer_id\n",
       "13381 33626320676.00         18\n",
       "6353  33614892860.00         17\n",
       "13037 33625779332.00         17\n",
       "36669 33659725664.00         16\n",
       "75564 33675877202.00         15\n",
       "91949 33760536639.00         15\n",
       "64472 33667163239.00         13\n",
       "653   33603127838.00         12\n",
       "91608 33760413819.00         12\n",
       "13845 33627080969.00         12"
      ],
      "text/html": [
       "<div>\n",
       "<style scoped>\n",
       "    .dataframe tbody tr th:only-of-type {\n",
       "        vertical-align: middle;\n",
       "    }\n",
       "\n",
       "    .dataframe tbody tr th {\n",
       "        vertical-align: top;\n",
       "    }\n",
       "\n",
       "    .dataframe thead th {\n",
       "        text-align: right;\n",
       "    }\n",
       "</style>\n",
       "<table border=\"1\" class=\"dataframe\">\n",
       "  <thead>\n",
       "    <tr style=\"text-align: right;\">\n",
       "      <th></th>\n",
       "      <th>msisdn_number</th>\n",
       "      <th>bearer_id</th>\n",
       "    </tr>\n",
       "  </thead>\n",
       "  <tbody>\n",
       "    <tr>\n",
       "      <th>13381</th>\n",
       "      <td>33626320676.00</td>\n",
       "      <td>18</td>\n",
       "    </tr>\n",
       "    <tr>\n",
       "      <th>6353</th>\n",
       "      <td>33614892860.00</td>\n",
       "      <td>17</td>\n",
       "    </tr>\n",
       "    <tr>\n",
       "      <th>13037</th>\n",
       "      <td>33625779332.00</td>\n",
       "      <td>17</td>\n",
       "    </tr>\n",
       "    <tr>\n",
       "      <th>36669</th>\n",
       "      <td>33659725664.00</td>\n",
       "      <td>16</td>\n",
       "    </tr>\n",
       "    <tr>\n",
       "      <th>75564</th>\n",
       "      <td>33675877202.00</td>\n",
       "      <td>15</td>\n",
       "    </tr>\n",
       "    <tr>\n",
       "      <th>91949</th>\n",
       "      <td>33760536639.00</td>\n",
       "      <td>15</td>\n",
       "    </tr>\n",
       "    <tr>\n",
       "      <th>64472</th>\n",
       "      <td>33667163239.00</td>\n",
       "      <td>13</td>\n",
       "    </tr>\n",
       "    <tr>\n",
       "      <th>653</th>\n",
       "      <td>33603127838.00</td>\n",
       "      <td>12</td>\n",
       "    </tr>\n",
       "    <tr>\n",
       "      <th>91608</th>\n",
       "      <td>33760413819.00</td>\n",
       "      <td>12</td>\n",
       "    </tr>\n",
       "    <tr>\n",
       "      <th>13845</th>\n",
       "      <td>33627080969.00</td>\n",
       "      <td>12</td>\n",
       "    </tr>\n",
       "  </tbody>\n",
       "</table>\n",
       "</div>"
      ]
     },
     "metadata": {},
     "execution_count": 10
    }
   ],
   "metadata": {}
  },
  {
   "cell_type": "markdown",
   "source": [
    "## Session duration"
   ],
   "metadata": {}
  },
  {
   "cell_type": "code",
   "execution_count": 38,
   "source": [
    "duration = df.groupby('msisdn_number').agg({'dur_(ms)': 'sum'})\n",
    "duration = duration.rename(columns={'dur_(ms)': 'total_duration(ms)'})\n",
    "duration.sort_values(by=['total_duration(ms)'], ascending=False).head(10)"
   ],
   "outputs": [
    {
     "output_type": "execute_result",
     "data": {
      "text/plain": [
       "                total_duration(ms)\n",
       "msisdn_number                     \n",
       "33625779332.00          4138200.00\n",
       "33626320676.00          4007173.50\n",
       "33614892860.00          3900151.50\n",
       "33659725664.00          3492445.50\n",
       "33760536639.00          3396748.25\n",
       "33675877202.00          3332098.50\n",
       "33667163239.00          3114064.00\n",
       "33603127838.00          2855400.25\n",
       "33627080969.00          2782307.50\n",
       "33604515716.00          2780000.50"
      ],
      "text/html": [
       "<div>\n",
       "<style scoped>\n",
       "    .dataframe tbody tr th:only-of-type {\n",
       "        vertical-align: middle;\n",
       "    }\n",
       "\n",
       "    .dataframe tbody tr th {\n",
       "        vertical-align: top;\n",
       "    }\n",
       "\n",
       "    .dataframe thead th {\n",
       "        text-align: right;\n",
       "    }\n",
       "</style>\n",
       "<table border=\"1\" class=\"dataframe\">\n",
       "  <thead>\n",
       "    <tr style=\"text-align: right;\">\n",
       "      <th></th>\n",
       "      <th>total_duration(ms)</th>\n",
       "    </tr>\n",
       "    <tr>\n",
       "      <th>msisdn_number</th>\n",
       "      <th></th>\n",
       "    </tr>\n",
       "  </thead>\n",
       "  <tbody>\n",
       "    <tr>\n",
       "      <th>33625779332.00</th>\n",
       "      <td>4138200.00</td>\n",
       "    </tr>\n",
       "    <tr>\n",
       "      <th>33626320676.00</th>\n",
       "      <td>4007173.50</td>\n",
       "    </tr>\n",
       "    <tr>\n",
       "      <th>33614892860.00</th>\n",
       "      <td>3900151.50</td>\n",
       "    </tr>\n",
       "    <tr>\n",
       "      <th>33659725664.00</th>\n",
       "      <td>3492445.50</td>\n",
       "    </tr>\n",
       "    <tr>\n",
       "      <th>33760536639.00</th>\n",
       "      <td>3396748.25</td>\n",
       "    </tr>\n",
       "    <tr>\n",
       "      <th>33675877202.00</th>\n",
       "      <td>3332098.50</td>\n",
       "    </tr>\n",
       "    <tr>\n",
       "      <th>33667163239.00</th>\n",
       "      <td>3114064.00</td>\n",
       "    </tr>\n",
       "    <tr>\n",
       "      <th>33603127838.00</th>\n",
       "      <td>2855400.25</td>\n",
       "    </tr>\n",
       "    <tr>\n",
       "      <th>33627080969.00</th>\n",
       "      <td>2782307.50</td>\n",
       "    </tr>\n",
       "    <tr>\n",
       "      <th>33604515716.00</th>\n",
       "      <td>2780000.50</td>\n",
       "    </tr>\n",
       "  </tbody>\n",
       "</table>\n",
       "</div>"
      ]
     },
     "metadata": {},
     "execution_count": 38
    }
   ],
   "metadata": {}
  },
  {
   "cell_type": "code",
   "execution_count": 39,
   "source": [
    "duration.describe()"
   ],
   "outputs": [
    {
     "output_type": "execute_result",
     "data": {
      "text/plain": [
       "       total_duration(ms)\n",
       "count           105719.00\n",
       "mean            139206.08\n",
       "std             129415.13\n",
       "min               7142.00\n",
       "25%              72729.00\n",
       "50%             103111.00\n",
       "75%             172799.00\n",
       "max            4138200.00"
      ],
      "text/html": [
       "<div>\n",
       "<style scoped>\n",
       "    .dataframe tbody tr th:only-of-type {\n",
       "        vertical-align: middle;\n",
       "    }\n",
       "\n",
       "    .dataframe tbody tr th {\n",
       "        vertical-align: top;\n",
       "    }\n",
       "\n",
       "    .dataframe thead th {\n",
       "        text-align: right;\n",
       "    }\n",
       "</style>\n",
       "<table border=\"1\" class=\"dataframe\">\n",
       "  <thead>\n",
       "    <tr style=\"text-align: right;\">\n",
       "      <th></th>\n",
       "      <th>total_duration(ms)</th>\n",
       "    </tr>\n",
       "  </thead>\n",
       "  <tbody>\n",
       "    <tr>\n",
       "      <th>count</th>\n",
       "      <td>105719.00</td>\n",
       "    </tr>\n",
       "    <tr>\n",
       "      <th>mean</th>\n",
       "      <td>139206.08</td>\n",
       "    </tr>\n",
       "    <tr>\n",
       "      <th>std</th>\n",
       "      <td>129415.13</td>\n",
       "    </tr>\n",
       "    <tr>\n",
       "      <th>min</th>\n",
       "      <td>7142.00</td>\n",
       "    </tr>\n",
       "    <tr>\n",
       "      <th>25%</th>\n",
       "      <td>72729.00</td>\n",
       "    </tr>\n",
       "    <tr>\n",
       "      <th>50%</th>\n",
       "      <td>103111.00</td>\n",
       "    </tr>\n",
       "    <tr>\n",
       "      <th>75%</th>\n",
       "      <td>172799.00</td>\n",
       "    </tr>\n",
       "    <tr>\n",
       "      <th>max</th>\n",
       "      <td>4138200.00</td>\n",
       "    </tr>\n",
       "  </tbody>\n",
       "</table>\n",
       "</div>"
      ]
     },
     "metadata": {},
     "execution_count": 39
    }
   ],
   "metadata": {}
  },
  {
   "cell_type": "markdown",
   "source": [
    "## The total download (DL) and upload (UL) data"
   ],
   "metadata": {}
  },
  {
   "cell_type": "code",
   "execution_count": 13,
   "source": [
    "usage = df.groupby('msisdn_number')[['total_dl_(bytes)', 'total_ul_(bytes)']].sum()\n",
    "usage['total_data'] = usage['total_dl_(bytes)'] + usage['total_ul_(bytes)']\n",
    "usage.nlargest(20, 'total_data')"
   ],
   "outputs": [
    {
     "output_type": "execute_result",
     "data": {
      "text/plain": [
       "                total_dl_(bytes)  total_ul_(bytes)    total_data\n",
       "msisdn_number                                                   \n",
       "33614892860.00     8156743493.00      689483001.00 8846226494.00\n",
       "33760536639.00     7811295382.00      703478581.00 8514773963.00\n",
       "33625779332.00     7770043342.00      729577380.00 8499620722.00\n",
       "33626320676.00     7301516540.00      669650721.00 7971167261.00\n",
       "33675877202.00     7309541816.00      581568792.00 7891110608.00\n",
       "33659725664.00     7081602462.00      624260321.00 7705862783.00\n",
       "33666464084.00     6903439962.00      405060976.00 7308500938.00\n",
       "33760413819.00     6610851624.00      521518890.00 7132370514.00\n",
       "33664712899.00     6400773755.00      471244453.00 6872018208.00\n",
       "33698792269.00     6010556021.00      530343105.00 6540899126.00\n",
       "33658361927.00     5972303379.00      480094477.00 6452397856.00\n",
       "33627080969.00     5309478912.00      445251947.00 5754730859.00\n",
       "33664693736.00     5279826530.00      402180804.00 5682007334.00\n",
       "33665140229.00     5296297286.00      336683835.00 5632981121.00\n",
       "33667163239.00     5052067690.00      566326364.00 5618394054.00\n",
       "33619228163.00     5194723346.00      317683011.00 5512406357.00\n",
       "33630037711.00     5062211939.00      431929587.00 5494141526.00\n",
       "33604515716.00     5096079437.00      391775856.00 5487855293.00\n",
       "33665460546.00     5042243476.00      346387218.00 5388630694.00\n",
       "33675573286.00     4875792452.00      364032615.00 5239825067.00"
      ],
      "text/html": [
       "<div>\n",
       "<style scoped>\n",
       "    .dataframe tbody tr th:only-of-type {\n",
       "        vertical-align: middle;\n",
       "    }\n",
       "\n",
       "    .dataframe tbody tr th {\n",
       "        vertical-align: top;\n",
       "    }\n",
       "\n",
       "    .dataframe thead th {\n",
       "        text-align: right;\n",
       "    }\n",
       "</style>\n",
       "<table border=\"1\" class=\"dataframe\">\n",
       "  <thead>\n",
       "    <tr style=\"text-align: right;\">\n",
       "      <th></th>\n",
       "      <th>total_dl_(bytes)</th>\n",
       "      <th>total_ul_(bytes)</th>\n",
       "      <th>total_data</th>\n",
       "    </tr>\n",
       "    <tr>\n",
       "      <th>msisdn_number</th>\n",
       "      <th></th>\n",
       "      <th></th>\n",
       "      <th></th>\n",
       "    </tr>\n",
       "  </thead>\n",
       "  <tbody>\n",
       "    <tr>\n",
       "      <th>33614892860.00</th>\n",
       "      <td>8156743493.00</td>\n",
       "      <td>689483001.00</td>\n",
       "      <td>8846226494.00</td>\n",
       "    </tr>\n",
       "    <tr>\n",
       "      <th>33760536639.00</th>\n",
       "      <td>7811295382.00</td>\n",
       "      <td>703478581.00</td>\n",
       "      <td>8514773963.00</td>\n",
       "    </tr>\n",
       "    <tr>\n",
       "      <th>33625779332.00</th>\n",
       "      <td>7770043342.00</td>\n",
       "      <td>729577380.00</td>\n",
       "      <td>8499620722.00</td>\n",
       "    </tr>\n",
       "    <tr>\n",
       "      <th>33626320676.00</th>\n",
       "      <td>7301516540.00</td>\n",
       "      <td>669650721.00</td>\n",
       "      <td>7971167261.00</td>\n",
       "    </tr>\n",
       "    <tr>\n",
       "      <th>33675877202.00</th>\n",
       "      <td>7309541816.00</td>\n",
       "      <td>581568792.00</td>\n",
       "      <td>7891110608.00</td>\n",
       "    </tr>\n",
       "    <tr>\n",
       "      <th>33659725664.00</th>\n",
       "      <td>7081602462.00</td>\n",
       "      <td>624260321.00</td>\n",
       "      <td>7705862783.00</td>\n",
       "    </tr>\n",
       "    <tr>\n",
       "      <th>33666464084.00</th>\n",
       "      <td>6903439962.00</td>\n",
       "      <td>405060976.00</td>\n",
       "      <td>7308500938.00</td>\n",
       "    </tr>\n",
       "    <tr>\n",
       "      <th>33760413819.00</th>\n",
       "      <td>6610851624.00</td>\n",
       "      <td>521518890.00</td>\n",
       "      <td>7132370514.00</td>\n",
       "    </tr>\n",
       "    <tr>\n",
       "      <th>33664712899.00</th>\n",
       "      <td>6400773755.00</td>\n",
       "      <td>471244453.00</td>\n",
       "      <td>6872018208.00</td>\n",
       "    </tr>\n",
       "    <tr>\n",
       "      <th>33698792269.00</th>\n",
       "      <td>6010556021.00</td>\n",
       "      <td>530343105.00</td>\n",
       "      <td>6540899126.00</td>\n",
       "    </tr>\n",
       "    <tr>\n",
       "      <th>33658361927.00</th>\n",
       "      <td>5972303379.00</td>\n",
       "      <td>480094477.00</td>\n",
       "      <td>6452397856.00</td>\n",
       "    </tr>\n",
       "    <tr>\n",
       "      <th>33627080969.00</th>\n",
       "      <td>5309478912.00</td>\n",
       "      <td>445251947.00</td>\n",
       "      <td>5754730859.00</td>\n",
       "    </tr>\n",
       "    <tr>\n",
       "      <th>33664693736.00</th>\n",
       "      <td>5279826530.00</td>\n",
       "      <td>402180804.00</td>\n",
       "      <td>5682007334.00</td>\n",
       "    </tr>\n",
       "    <tr>\n",
       "      <th>33665140229.00</th>\n",
       "      <td>5296297286.00</td>\n",
       "      <td>336683835.00</td>\n",
       "      <td>5632981121.00</td>\n",
       "    </tr>\n",
       "    <tr>\n",
       "      <th>33667163239.00</th>\n",
       "      <td>5052067690.00</td>\n",
       "      <td>566326364.00</td>\n",
       "      <td>5618394054.00</td>\n",
       "    </tr>\n",
       "    <tr>\n",
       "      <th>33619228163.00</th>\n",
       "      <td>5194723346.00</td>\n",
       "      <td>317683011.00</td>\n",
       "      <td>5512406357.00</td>\n",
       "    </tr>\n",
       "    <tr>\n",
       "      <th>33630037711.00</th>\n",
       "      <td>5062211939.00</td>\n",
       "      <td>431929587.00</td>\n",
       "      <td>5494141526.00</td>\n",
       "    </tr>\n",
       "    <tr>\n",
       "      <th>33604515716.00</th>\n",
       "      <td>5096079437.00</td>\n",
       "      <td>391775856.00</td>\n",
       "      <td>5487855293.00</td>\n",
       "    </tr>\n",
       "    <tr>\n",
       "      <th>33665460546.00</th>\n",
       "      <td>5042243476.00</td>\n",
       "      <td>346387218.00</td>\n",
       "      <td>5388630694.00</td>\n",
       "    </tr>\n",
       "    <tr>\n",
       "      <th>33675573286.00</th>\n",
       "      <td>4875792452.00</td>\n",
       "      <td>364032615.00</td>\n",
       "      <td>5239825067.00</td>\n",
       "    </tr>\n",
       "  </tbody>\n",
       "</table>\n",
       "</div>"
      ]
     },
     "metadata": {},
     "execution_count": 13
    }
   ],
   "metadata": {}
  },
  {
   "cell_type": "code",
   "execution_count": 14,
   "source": [
    "usage.describe()"
   ],
   "outputs": [
    {
     "output_type": "execute_result",
     "data": {
      "text/plain": [
       "       total_dl_(bytes)  total_ul_(bytes)    total_data\n",
       "count         105719.00         105719.00     105719.00\n",
       "mean       631730049.57       57136009.85  688866059.42\n",
       "std        460920903.80       35271796.89  486996435.35\n",
       "min          8827082.00        2866892.00   33249009.00\n",
       "25%        314240570.50       36378493.50  357950085.00\n",
       "50%        569379683.00       46762975.00  616933544.00\n",
       "75%        806298148.00       65504102.50  856473809.50\n",
       "max       8156743493.00      729577380.00 8846226494.00"
      ],
      "text/html": [
       "<div>\n",
       "<style scoped>\n",
       "    .dataframe tbody tr th:only-of-type {\n",
       "        vertical-align: middle;\n",
       "    }\n",
       "\n",
       "    .dataframe tbody tr th {\n",
       "        vertical-align: top;\n",
       "    }\n",
       "\n",
       "    .dataframe thead th {\n",
       "        text-align: right;\n",
       "    }\n",
       "</style>\n",
       "<table border=\"1\" class=\"dataframe\">\n",
       "  <thead>\n",
       "    <tr style=\"text-align: right;\">\n",
       "      <th></th>\n",
       "      <th>total_dl_(bytes)</th>\n",
       "      <th>total_ul_(bytes)</th>\n",
       "      <th>total_data</th>\n",
       "    </tr>\n",
       "  </thead>\n",
       "  <tbody>\n",
       "    <tr>\n",
       "      <th>count</th>\n",
       "      <td>105719.00</td>\n",
       "      <td>105719.00</td>\n",
       "      <td>105719.00</td>\n",
       "    </tr>\n",
       "    <tr>\n",
       "      <th>mean</th>\n",
       "      <td>631730049.57</td>\n",
       "      <td>57136009.85</td>\n",
       "      <td>688866059.42</td>\n",
       "    </tr>\n",
       "    <tr>\n",
       "      <th>std</th>\n",
       "      <td>460920903.80</td>\n",
       "      <td>35271796.89</td>\n",
       "      <td>486996435.35</td>\n",
       "    </tr>\n",
       "    <tr>\n",
       "      <th>min</th>\n",
       "      <td>8827082.00</td>\n",
       "      <td>2866892.00</td>\n",
       "      <td>33249009.00</td>\n",
       "    </tr>\n",
       "    <tr>\n",
       "      <th>25%</th>\n",
       "      <td>314240570.50</td>\n",
       "      <td>36378493.50</td>\n",
       "      <td>357950085.00</td>\n",
       "    </tr>\n",
       "    <tr>\n",
       "      <th>50%</th>\n",
       "      <td>569379683.00</td>\n",
       "      <td>46762975.00</td>\n",
       "      <td>616933544.00</td>\n",
       "    </tr>\n",
       "    <tr>\n",
       "      <th>75%</th>\n",
       "      <td>806298148.00</td>\n",
       "      <td>65504102.50</td>\n",
       "      <td>856473809.50</td>\n",
       "    </tr>\n",
       "    <tr>\n",
       "      <th>max</th>\n",
       "      <td>8156743493.00</td>\n",
       "      <td>729577380.00</td>\n",
       "      <td>8846226494.00</td>\n",
       "    </tr>\n",
       "  </tbody>\n",
       "</table>\n",
       "</div>"
      ]
     },
     "metadata": {},
     "execution_count": 14
    }
   ],
   "metadata": {}
  },
  {
   "cell_type": "markdown",
   "source": [
    "## The total data volume (in Bytes) during this session for each application"
   ],
   "metadata": {}
  },
  {
   "cell_type": "code",
   "execution_count": 15,
   "source": [
    "df[\"social_media\"] = df[\"social_media_dl_(bytes)\"] + df['social_media_ul_(bytes)']\n",
    "df[\"google\"] = df[\"google_dl_(bytes)\"] + df[\"google_ul_(bytes)\"]\n",
    "df['email'] = df[\"email_dl_(bytes)\"] + df[\"email_ul_(bytes)\"]\n",
    "df['youtube'] = df[\"youtube_dl_(bytes)\"] + df[\"youtube_ul_(bytes)\"]\n",
    "df['netflix'] = df[\"netflix_dl_(bytes)\"] + df[\"netflix_ul_(bytes)\"]\n",
    "df[\"gaming\"] = df[\"gaming_dl_(bytes)\"] + df[\"gaming_ul_(bytes)\"]\n",
    "df['other'] = df[\"other_dl_(bytes)\"]+df[\"other_ul_(bytes)\"]\n",
    "df['total_data'] = df['total_dl_(bytes)'] + df['total_ul_(bytes)']"
   ],
   "outputs": [],
   "metadata": {}
  },
  {
   "cell_type": "code",
   "execution_count": 16,
   "source": [
    "apps_df = df.groupby('msisdn_number')[['social_media', 'google', 'email', 'youtube', 'gaming', 'other', 'total_data']].sum().nlargest(20, 'total_data')\n",
    "apps_df"
   ],
   "outputs": [
    {
     "output_type": "execute_result",
     "data": {
      "text/plain": [
       "                social_media       google       email      youtube        gaming         other    total_data\n",
       "msisdn_number                                                                                               \n",
       "33614892860.00   28294544.00 127973787.00 40788634.00 394370218.00 7749432234.00 7639263572.00 8846226494.00\n",
       "33760536639.00   39783189.00 123223099.00 33693767.00 396289198.00 7461045228.00 4716134493.00 8514773963.00\n",
       "33625779332.00   27135500.00 142307915.00 40633966.00 452958769.00 7326673487.00 6354583086.00 8499620722.00\n",
       "33626320676.00   43374779.00 152191852.00 42418782.00 374483047.00 6887572116.00 8167877776.00 7971167261.00\n",
       "33675877202.00   19222921.00 109860502.00 31514421.00 317410572.00 6970567597.00 6798515150.00 7891110608.00\n",
       "33659725664.00   35412358.00 116516345.00 35999792.00 257991088.00 6725559211.00 6317415487.00 7705862783.00\n",
       "33666464084.00   18629986.00  89320737.00 25557139.00 227336012.00 6646303338.00 4349141478.00 7308500938.00\n",
       "33760413819.00   20777205.00  82738720.00 25576965.00 303169107.00 6268619592.00 4101645436.00 7132370514.00\n",
       "33664712899.00   19390599.00  90389372.00 21426007.00 276834013.00 6103856008.00 3976960308.00 6872018208.00\n",
       "33698792269.00   15728161.00  79736125.00 29059042.00 302661958.00 5753743069.00 4689876286.00 6540899126.00\n",
       "33658361927.00   17285759.00  76507138.00 19682048.00 260989846.00 5705919641.00 5013650844.00 6452397856.00\n",
       "33627080969.00   17808911.00  87125921.00 23567219.00 308790774.00 4972352941.00 5117790890.00 5754730859.00\n",
       "33664693736.00   17185041.00  73583110.00 17579618.00 205367769.00 5008820336.00 4960857897.00 5682007334.00\n",
       "33665140229.00   15849705.00  64497942.00 18242665.00 201345789.00 5087872866.00 2891010883.00 5632981121.00\n",
       "33667163239.00   24247850.00 105032696.00 30335796.00 315231310.00 4725621924.00 4941518794.00 5618394054.00\n",
       "33619228163.00   12103150.00  56119265.00 17056998.00 165763587.00 4997332373.00 3525313627.00 5512406357.00\n",
       "33630037711.00   14811201.00  76717543.00 26898243.00 275462004.00 4794630283.00 4978853178.00 5494141526.00\n",
       "33604515716.00   18476523.00  83815037.00 23854429.00 179686748.00 4846663427.00 4129942723.00 5487855293.00\n",
       "33665460546.00   10554843.00  63597426.00 30417885.00 232292532.00 4781002506.00 2973452159.00 5388630694.00\n",
       "33675573286.00   15647262.00  83004517.00 21770529.00 190142497.00 4666100768.00 4142143708.00 5239825067.00"
      ],
      "text/html": [
       "<div>\n",
       "<style scoped>\n",
       "    .dataframe tbody tr th:only-of-type {\n",
       "        vertical-align: middle;\n",
       "    }\n",
       "\n",
       "    .dataframe tbody tr th {\n",
       "        vertical-align: top;\n",
       "    }\n",
       "\n",
       "    .dataframe thead th {\n",
       "        text-align: right;\n",
       "    }\n",
       "</style>\n",
       "<table border=\"1\" class=\"dataframe\">\n",
       "  <thead>\n",
       "    <tr style=\"text-align: right;\">\n",
       "      <th></th>\n",
       "      <th>social_media</th>\n",
       "      <th>google</th>\n",
       "      <th>email</th>\n",
       "      <th>youtube</th>\n",
       "      <th>gaming</th>\n",
       "      <th>other</th>\n",
       "      <th>total_data</th>\n",
       "    </tr>\n",
       "    <tr>\n",
       "      <th>msisdn_number</th>\n",
       "      <th></th>\n",
       "      <th></th>\n",
       "      <th></th>\n",
       "      <th></th>\n",
       "      <th></th>\n",
       "      <th></th>\n",
       "      <th></th>\n",
       "    </tr>\n",
       "  </thead>\n",
       "  <tbody>\n",
       "    <tr>\n",
       "      <th>33614892860.00</th>\n",
       "      <td>28294544.00</td>\n",
       "      <td>127973787.00</td>\n",
       "      <td>40788634.00</td>\n",
       "      <td>394370218.00</td>\n",
       "      <td>7749432234.00</td>\n",
       "      <td>7639263572.00</td>\n",
       "      <td>8846226494.00</td>\n",
       "    </tr>\n",
       "    <tr>\n",
       "      <th>33760536639.00</th>\n",
       "      <td>39783189.00</td>\n",
       "      <td>123223099.00</td>\n",
       "      <td>33693767.00</td>\n",
       "      <td>396289198.00</td>\n",
       "      <td>7461045228.00</td>\n",
       "      <td>4716134493.00</td>\n",
       "      <td>8514773963.00</td>\n",
       "    </tr>\n",
       "    <tr>\n",
       "      <th>33625779332.00</th>\n",
       "      <td>27135500.00</td>\n",
       "      <td>142307915.00</td>\n",
       "      <td>40633966.00</td>\n",
       "      <td>452958769.00</td>\n",
       "      <td>7326673487.00</td>\n",
       "      <td>6354583086.00</td>\n",
       "      <td>8499620722.00</td>\n",
       "    </tr>\n",
       "    <tr>\n",
       "      <th>33626320676.00</th>\n",
       "      <td>43374779.00</td>\n",
       "      <td>152191852.00</td>\n",
       "      <td>42418782.00</td>\n",
       "      <td>374483047.00</td>\n",
       "      <td>6887572116.00</td>\n",
       "      <td>8167877776.00</td>\n",
       "      <td>7971167261.00</td>\n",
       "    </tr>\n",
       "    <tr>\n",
       "      <th>33675877202.00</th>\n",
       "      <td>19222921.00</td>\n",
       "      <td>109860502.00</td>\n",
       "      <td>31514421.00</td>\n",
       "      <td>317410572.00</td>\n",
       "      <td>6970567597.00</td>\n",
       "      <td>6798515150.00</td>\n",
       "      <td>7891110608.00</td>\n",
       "    </tr>\n",
       "    <tr>\n",
       "      <th>33659725664.00</th>\n",
       "      <td>35412358.00</td>\n",
       "      <td>116516345.00</td>\n",
       "      <td>35999792.00</td>\n",
       "      <td>257991088.00</td>\n",
       "      <td>6725559211.00</td>\n",
       "      <td>6317415487.00</td>\n",
       "      <td>7705862783.00</td>\n",
       "    </tr>\n",
       "    <tr>\n",
       "      <th>33666464084.00</th>\n",
       "      <td>18629986.00</td>\n",
       "      <td>89320737.00</td>\n",
       "      <td>25557139.00</td>\n",
       "      <td>227336012.00</td>\n",
       "      <td>6646303338.00</td>\n",
       "      <td>4349141478.00</td>\n",
       "      <td>7308500938.00</td>\n",
       "    </tr>\n",
       "    <tr>\n",
       "      <th>33760413819.00</th>\n",
       "      <td>20777205.00</td>\n",
       "      <td>82738720.00</td>\n",
       "      <td>25576965.00</td>\n",
       "      <td>303169107.00</td>\n",
       "      <td>6268619592.00</td>\n",
       "      <td>4101645436.00</td>\n",
       "      <td>7132370514.00</td>\n",
       "    </tr>\n",
       "    <tr>\n",
       "      <th>33664712899.00</th>\n",
       "      <td>19390599.00</td>\n",
       "      <td>90389372.00</td>\n",
       "      <td>21426007.00</td>\n",
       "      <td>276834013.00</td>\n",
       "      <td>6103856008.00</td>\n",
       "      <td>3976960308.00</td>\n",
       "      <td>6872018208.00</td>\n",
       "    </tr>\n",
       "    <tr>\n",
       "      <th>33698792269.00</th>\n",
       "      <td>15728161.00</td>\n",
       "      <td>79736125.00</td>\n",
       "      <td>29059042.00</td>\n",
       "      <td>302661958.00</td>\n",
       "      <td>5753743069.00</td>\n",
       "      <td>4689876286.00</td>\n",
       "      <td>6540899126.00</td>\n",
       "    </tr>\n",
       "    <tr>\n",
       "      <th>33658361927.00</th>\n",
       "      <td>17285759.00</td>\n",
       "      <td>76507138.00</td>\n",
       "      <td>19682048.00</td>\n",
       "      <td>260989846.00</td>\n",
       "      <td>5705919641.00</td>\n",
       "      <td>5013650844.00</td>\n",
       "      <td>6452397856.00</td>\n",
       "    </tr>\n",
       "    <tr>\n",
       "      <th>33627080969.00</th>\n",
       "      <td>17808911.00</td>\n",
       "      <td>87125921.00</td>\n",
       "      <td>23567219.00</td>\n",
       "      <td>308790774.00</td>\n",
       "      <td>4972352941.00</td>\n",
       "      <td>5117790890.00</td>\n",
       "      <td>5754730859.00</td>\n",
       "    </tr>\n",
       "    <tr>\n",
       "      <th>33664693736.00</th>\n",
       "      <td>17185041.00</td>\n",
       "      <td>73583110.00</td>\n",
       "      <td>17579618.00</td>\n",
       "      <td>205367769.00</td>\n",
       "      <td>5008820336.00</td>\n",
       "      <td>4960857897.00</td>\n",
       "      <td>5682007334.00</td>\n",
       "    </tr>\n",
       "    <tr>\n",
       "      <th>33665140229.00</th>\n",
       "      <td>15849705.00</td>\n",
       "      <td>64497942.00</td>\n",
       "      <td>18242665.00</td>\n",
       "      <td>201345789.00</td>\n",
       "      <td>5087872866.00</td>\n",
       "      <td>2891010883.00</td>\n",
       "      <td>5632981121.00</td>\n",
       "    </tr>\n",
       "    <tr>\n",
       "      <th>33667163239.00</th>\n",
       "      <td>24247850.00</td>\n",
       "      <td>105032696.00</td>\n",
       "      <td>30335796.00</td>\n",
       "      <td>315231310.00</td>\n",
       "      <td>4725621924.00</td>\n",
       "      <td>4941518794.00</td>\n",
       "      <td>5618394054.00</td>\n",
       "    </tr>\n",
       "    <tr>\n",
       "      <th>33619228163.00</th>\n",
       "      <td>12103150.00</td>\n",
       "      <td>56119265.00</td>\n",
       "      <td>17056998.00</td>\n",
       "      <td>165763587.00</td>\n",
       "      <td>4997332373.00</td>\n",
       "      <td>3525313627.00</td>\n",
       "      <td>5512406357.00</td>\n",
       "    </tr>\n",
       "    <tr>\n",
       "      <th>33630037711.00</th>\n",
       "      <td>14811201.00</td>\n",
       "      <td>76717543.00</td>\n",
       "      <td>26898243.00</td>\n",
       "      <td>275462004.00</td>\n",
       "      <td>4794630283.00</td>\n",
       "      <td>4978853178.00</td>\n",
       "      <td>5494141526.00</td>\n",
       "    </tr>\n",
       "    <tr>\n",
       "      <th>33604515716.00</th>\n",
       "      <td>18476523.00</td>\n",
       "      <td>83815037.00</td>\n",
       "      <td>23854429.00</td>\n",
       "      <td>179686748.00</td>\n",
       "      <td>4846663427.00</td>\n",
       "      <td>4129942723.00</td>\n",
       "      <td>5487855293.00</td>\n",
       "    </tr>\n",
       "    <tr>\n",
       "      <th>33665460546.00</th>\n",
       "      <td>10554843.00</td>\n",
       "      <td>63597426.00</td>\n",
       "      <td>30417885.00</td>\n",
       "      <td>232292532.00</td>\n",
       "      <td>4781002506.00</td>\n",
       "      <td>2973452159.00</td>\n",
       "      <td>5388630694.00</td>\n",
       "    </tr>\n",
       "    <tr>\n",
       "      <th>33675573286.00</th>\n",
       "      <td>15647262.00</td>\n",
       "      <td>83004517.00</td>\n",
       "      <td>21770529.00</td>\n",
       "      <td>190142497.00</td>\n",
       "      <td>4666100768.00</td>\n",
       "      <td>4142143708.00</td>\n",
       "      <td>5239825067.00</td>\n",
       "    </tr>\n",
       "  </tbody>\n",
       "</table>\n",
       "</div>"
      ]
     },
     "metadata": {},
     "execution_count": 16
    }
   ],
   "metadata": {}
  },
  {
   "cell_type": "code",
   "execution_count": 17,
   "source": [
    "df.to_csv('../data/clean_data.csv', index=False)"
   ],
   "outputs": [],
   "metadata": {}
  }
 ],
 "metadata": {
  "orig_nbformat": 4,
  "language_info": {
   "name": "python"
  }
 },
 "nbformat": 4,
 "nbformat_minor": 2
}