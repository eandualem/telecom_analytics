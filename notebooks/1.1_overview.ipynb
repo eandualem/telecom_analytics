{
 "cells": [
  {
   "cell_type": "markdown",
   "source": [
    "# User Behavior Overview"
   ],
   "metadata": {}
  },
  {
   "cell_type": "markdown",
   "source": [
    "## Imports"
   ],
   "metadata": {}
  },
  {
   "cell_type": "code",
   "execution_count": 1,
   "source": [
    "import numpy as np\n",
    "import pandas as pd\n",
    "import plotly.express as px\n",
    "import plotly.graph_objects as go\n",
    "from plotly.subplots import make_subplots"
   ],
   "outputs": [],
   "metadata": {}
  },
  {
   "cell_type": "code",
   "execution_count": 2,
   "source": [
    "pd.set_option('display.max_columns', None)\n",
    "pd.set_option('display.max_colwidth', None)\n",
    "pd.set_option(\"expand_frame_repr\", False)\n",
    "# pd.set_option('display.float_format', '{:.2f}'.format)"
   ],
   "outputs": [],
   "metadata": {}
  },
  {
   "cell_type": "code",
   "execution_count": 3,
   "source": [
    "sys.path.append(os.path.abspath(os.path.join('../scripts')))\n",
    "from vis_plotly import *"
   ],
   "outputs": [],
   "metadata": {}
  },
  {
   "cell_type": "markdown",
   "source": [
    "## Data reading"
   ],
   "metadata": {}
  },
  {
   "cell_type": "code",
   "execution_count": 4,
   "source": [
    "df = pd.read_csv(\"../data/clean_data.csv\")\n",
    "df.info()"
   ],
   "outputs": [
    {
     "output_type": "stream",
     "name": "stdout",
     "text": [
      "<class 'pandas.core.frame.DataFrame'>\n",
      "RangeIndex: 146891 entries, 0 to 146890\n",
      "Data columns (total 34 columns):\n",
      " #   Column                   Non-Null Count   Dtype  \n",
      "---  ------                   --------------   -----  \n",
      " 0   bearer_id                146891 non-null  float64\n",
      " 1   msisdn_number            146891 non-null  float64\n",
      " 2   imei                     146891 non-null  float64\n",
      " 3   imsi                     146891 non-null  float64\n",
      " 4   last_location_name       146891 non-null  object \n",
      " 5   handset_manufacturer     146891 non-null  object \n",
      " 6   handset_type             146891 non-null  object \n",
      " 7   start                    146891 non-null  object \n",
      " 8   end                      146891 non-null  object \n",
      " 9   dur_(ms)                 146891 non-null  float64\n",
      " 10  social_media_dl_(bytes)  146891 non-null  float64\n",
      " 11  social_media_ul_(bytes)  146891 non-null  float64\n",
      " 12  google_dl_(bytes)        146891 non-null  float64\n",
      " 13  google_ul_(bytes)        146891 non-null  float64\n",
      " 14  email_dl_(bytes)         146891 non-null  float64\n",
      " 15  email_ul_(bytes)         146891 non-null  float64\n",
      " 16  youtube_dl_(bytes)       146891 non-null  float64\n",
      " 17  youtube_ul_(bytes)       146891 non-null  float64\n",
      " 18  netflix_dl_(bytes)       146891 non-null  float64\n",
      " 19  netflix_ul_(bytes)       146891 non-null  float64\n",
      " 20  gaming_dl_(bytes)        146891 non-null  float64\n",
      " 21  gaming_ul_(bytes)        146891 non-null  float64\n",
      " 22  other_dl_(bytes)         146891 non-null  float64\n",
      " 23  other_ul_(bytes)         146891 non-null  float64\n",
      " 24  total_ul_(bytes)         146891 non-null  float64\n",
      " 25  total_dl_(bytes)         146891 non-null  float64\n",
      " 26  social_media             146891 non-null  float64\n",
      " 27  google                   146891 non-null  float64\n",
      " 28  email                    146891 non-null  float64\n",
      " 29  youtube                  146891 non-null  float64\n",
      " 30  netflix                  146891 non-null  float64\n",
      " 31  gaming                   146891 non-null  float64\n",
      " 32  other                    146891 non-null  float64\n",
      " 33  total_data               146891 non-null  float64\n",
      "dtypes: float64(29), object(5)\n",
      "memory usage: 38.1+ MB\n"
     ]
    }
   ],
   "metadata": {}
  },
  {
   "cell_type": "markdown",
   "source": [
    "##  Top 10 handsets used by the customers"
   ],
   "metadata": {}
  },
  {
   "cell_type": "code",
   "execution_count": 5,
   "source": [
    "class DfSelector():\n",
    "\n",
    "    def __init__(self):\n",
    "        pass\n",
    "\n",
    "    def filter_by_count(self, df, column):\n",
    "      new_df = df[column].value_counts(ascending=False).reset_index().copy()\n",
    "      new_df = new_df.rename(\n",
    "          columns={'index': column, column: \"count\"})\n",
    "      return new_df\n",
    "\n",
    "    def filter_by_sum(self, df, column):\n",
    "      new_df = df[column].sum(ascending=False).reset_index().copy()\n",
    "\n",
    "      new_df = new_df.rename(\n",
    "          columns={'index': column, column: \"sum\"})\n",
    "      return new_df\n",
    "\n",
    "    \n",
    "    def find_agg(self, df: pd.DataFrame, agg_column: str, agg_metric: str, col_name: str, top: int, order=False) -> pd.DataFrame:\n",
    "        new_df = df.groupby(agg_column)[agg_column].agg(agg_metric).reset_index(name=col_name).\\\n",
    "        sort_values(by=col_name, ascending=order)[:top]\n",
    "        return new_df\n",
    "    \n",
    "selector = DfSelector()\n"
   ],
   "outputs": [],
   "metadata": {}
  },
  {
   "cell_type": "code",
   "execution_count": 6,
   "source": [
    "count_df = selector.filter_by_count(df, 'handset_type')\n",
    "count_df.head(10)"
   ],
   "outputs": [
    {
     "output_type": "execute_result",
     "data": {
      "text/plain": [
       "                   handset_type  count\n",
       "0              Huawei B528S-23A  28193\n",
       "1       Apple iPhone 6S (A1688)   9369\n",
       "2        Apple iPhone 6 (A1586)   8967\n",
       "3        Apple iPhone 7 (A1778)   6240\n",
       "4       Apple iPhone Se (A1723)   5151\n",
       "5        Apple iPhone 8 (A1905)   4961\n",
       "6       Apple iPhone Xr (A2105)   4542\n",
       "7  Samsung Galaxy S8 (Sm-G950F)   4404\n",
       "8        Apple iPhone X (A1901)   3788\n",
       "9    Samsung Galaxy A5 Sm-A520F   3673"
      ],
      "text/html": [
       "<div>\n",
       "<style scoped>\n",
       "    .dataframe tbody tr th:only-of-type {\n",
       "        vertical-align: middle;\n",
       "    }\n",
       "\n",
       "    .dataframe tbody tr th {\n",
       "        vertical-align: top;\n",
       "    }\n",
       "\n",
       "    .dataframe thead th {\n",
       "        text-align: right;\n",
       "    }\n",
       "</style>\n",
       "<table border=\"1\" class=\"dataframe\">\n",
       "  <thead>\n",
       "    <tr style=\"text-align: right;\">\n",
       "      <th></th>\n",
       "      <th>handset_type</th>\n",
       "      <th>count</th>\n",
       "    </tr>\n",
       "  </thead>\n",
       "  <tbody>\n",
       "    <tr>\n",
       "      <th>0</th>\n",
       "      <td>Huawei B528S-23A</td>\n",
       "      <td>28193</td>\n",
       "    </tr>\n",
       "    <tr>\n",
       "      <th>1</th>\n",
       "      <td>Apple iPhone 6S (A1688)</td>\n",
       "      <td>9369</td>\n",
       "    </tr>\n",
       "    <tr>\n",
       "      <th>2</th>\n",
       "      <td>Apple iPhone 6 (A1586)</td>\n",
       "      <td>8967</td>\n",
       "    </tr>\n",
       "    <tr>\n",
       "      <th>3</th>\n",
       "      <td>Apple iPhone 7 (A1778)</td>\n",
       "      <td>6240</td>\n",
       "    </tr>\n",
       "    <tr>\n",
       "      <th>4</th>\n",
       "      <td>Apple iPhone Se (A1723)</td>\n",
       "      <td>5151</td>\n",
       "    </tr>\n",
       "    <tr>\n",
       "      <th>5</th>\n",
       "      <td>Apple iPhone 8 (A1905)</td>\n",
       "      <td>4961</td>\n",
       "    </tr>\n",
       "    <tr>\n",
       "      <th>6</th>\n",
       "      <td>Apple iPhone Xr (A2105)</td>\n",
       "      <td>4542</td>\n",
       "    </tr>\n",
       "    <tr>\n",
       "      <th>7</th>\n",
       "      <td>Samsung Galaxy S8 (Sm-G950F)</td>\n",
       "      <td>4404</td>\n",
       "    </tr>\n",
       "    <tr>\n",
       "      <th>8</th>\n",
       "      <td>Apple iPhone X (A1901)</td>\n",
       "      <td>3788</td>\n",
       "    </tr>\n",
       "    <tr>\n",
       "      <th>9</th>\n",
       "      <td>Samsung Galaxy A5 Sm-A520F</td>\n",
       "      <td>3673</td>\n",
       "    </tr>\n",
       "  </tbody>\n",
       "</table>\n",
       "</div>"
      ]
     },
     "metadata": {},
     "execution_count": 6
    }
   ],
   "metadata": {}
  },
  {
   "cell_type": "code",
   "execution_count": 7,
   "source": [
    "fig = px.histogram(count_df.nlargest(10, 'count'), x=\"handset_type\", y='count')\n",
    "fig.show()"
   ],
   "outputs": [
    {
     "output_type": "display_data",
     "data": {
      "application/vnd.plotly.v1+json": {
       "config": {
        "plotlyServerURL": "https://plot.ly"
       },
       "data": [
        {
         "alignmentgroup": "True",
         "bingroup": "x",
         "histfunc": "sum",
         "hovertemplate": "handset_type=%{x}<br>sum of count=%{y}<extra></extra>",
         "legendgroup": "",
         "marker": {
          "color": "#636efa"
         },
         "name": "",
         "offsetgroup": "",
         "orientation": "v",
         "showlegend": false,
         "type": "histogram",
         "x": [
          "Huawei B528S-23A",
          "Apple iPhone 6S (A1688)",
          "Apple iPhone 6 (A1586)",
          "Apple iPhone 7 (A1778)",
          "Apple iPhone Se (A1723)",
          "Apple iPhone 8 (A1905)",
          "Apple iPhone Xr (A2105)",
          "Samsung Galaxy S8 (Sm-G950F)",
          "Apple iPhone X (A1901)",
          "Samsung Galaxy A5 Sm-A520F"
         ],
         "xaxis": "x",
         "y": [
          28193,
          9369,
          8967,
          6240,
          5151,
          4961,
          4542,
          4404,
          3788,
          3673
         ],
         "yaxis": "y"
        }
       ],
       "layout": {
        "barmode": "relative",
        "legend": {
         "tracegroupgap": 0
        },
        "margin": {
         "t": 60
        },
        "template": {
         "data": {
          "bar": [
           {
            "error_x": {
             "color": "#2a3f5f"
            },
            "error_y": {
             "color": "#2a3f5f"
            },
            "marker": {
             "line": {
              "color": "#E5ECF6",
              "width": 0.5
             }
            },
            "type": "bar"
           }
          ],
          "barpolar": [
           {
            "marker": {
             "line": {
              "color": "#E5ECF6",
              "width": 0.5
             }
            },
            "type": "barpolar"
           }
          ],
          "carpet": [
           {
            "aaxis": {
             "endlinecolor": "#2a3f5f",
             "gridcolor": "white",
             "linecolor": "white",
             "minorgridcolor": "white",
             "startlinecolor": "#2a3f5f"
            },
            "baxis": {
             "endlinecolor": "#2a3f5f",
             "gridcolor": "white",
             "linecolor": "white",
             "minorgridcolor": "white",
             "startlinecolor": "#2a3f5f"
            },
            "type": "carpet"
           }
          ],
          "choropleth": [
           {
            "colorbar": {
             "outlinewidth": 0,
             "ticks": ""
            },
            "type": "choropleth"
           }
          ],
          "contour": [
           {
            "colorbar": {
             "outlinewidth": 0,
             "ticks": ""
            },
            "colorscale": [
             [
              0,
              "#0d0887"
             ],
             [
              0.1111111111111111,
              "#46039f"
             ],
             [
              0.2222222222222222,
              "#7201a8"
             ],
             [
              0.3333333333333333,
              "#9c179e"
             ],
             [
              0.4444444444444444,
              "#bd3786"
             ],
             [
              0.5555555555555556,
              "#d8576b"
             ],
             [
              0.6666666666666666,
              "#ed7953"
             ],
             [
              0.7777777777777778,
              "#fb9f3a"
             ],
             [
              0.8888888888888888,
              "#fdca26"
             ],
             [
              1,
              "#f0f921"
             ]
            ],
            "type": "contour"
           }
          ],
          "contourcarpet": [
           {
            "colorbar": {
             "outlinewidth": 0,
             "ticks": ""
            },
            "type": "contourcarpet"
           }
          ],
          "heatmap": [
           {
            "colorbar": {
             "outlinewidth": 0,
             "ticks": ""
            },
            "colorscale": [
             [
              0,
              "#0d0887"
             ],
             [
              0.1111111111111111,
              "#46039f"
             ],
             [
              0.2222222222222222,
              "#7201a8"
             ],
             [
              0.3333333333333333,
              "#9c179e"
             ],
             [
              0.4444444444444444,
              "#bd3786"
             ],
             [
              0.5555555555555556,
              "#d8576b"
             ],
             [
              0.6666666666666666,
              "#ed7953"
             ],
             [
              0.7777777777777778,
              "#fb9f3a"
             ],
             [
              0.8888888888888888,
              "#fdca26"
             ],
             [
              1,
              "#f0f921"
             ]
            ],
            "type": "heatmap"
           }
          ],
          "heatmapgl": [
           {
            "colorbar": {
             "outlinewidth": 0,
             "ticks": ""
            },
            "colorscale": [
             [
              0,
              "#0d0887"
             ],
             [
              0.1111111111111111,
              "#46039f"
             ],
             [
              0.2222222222222222,
              "#7201a8"
             ],
             [
              0.3333333333333333,
              "#9c179e"
             ],
             [
              0.4444444444444444,
              "#bd3786"
             ],
             [
              0.5555555555555556,
              "#d8576b"
             ],
             [
              0.6666666666666666,
              "#ed7953"
             ],
             [
              0.7777777777777778,
              "#fb9f3a"
             ],
             [
              0.8888888888888888,
              "#fdca26"
             ],
             [
              1,
              "#f0f921"
             ]
            ],
            "type": "heatmapgl"
           }
          ],
          "histogram": [
           {
            "marker": {
             "colorbar": {
              "outlinewidth": 0,
              "ticks": ""
             }
            },
            "type": "histogram"
           }
          ],
          "histogram2d": [
           {
            "colorbar": {
             "outlinewidth": 0,
             "ticks": ""
            },
            "colorscale": [
             [
              0,
              "#0d0887"
             ],
             [
              0.1111111111111111,
              "#46039f"
             ],
             [
              0.2222222222222222,
              "#7201a8"
             ],
             [
              0.3333333333333333,
              "#9c179e"
             ],
             [
              0.4444444444444444,
              "#bd3786"
             ],
             [
              0.5555555555555556,
              "#d8576b"
             ],
             [
              0.6666666666666666,
              "#ed7953"
             ],
             [
              0.7777777777777778,
              "#fb9f3a"
             ],
             [
              0.8888888888888888,
              "#fdca26"
             ],
             [
              1,
              "#f0f921"
             ]
            ],
            "type": "histogram2d"
           }
          ],
          "histogram2dcontour": [
           {
            "colorbar": {
             "outlinewidth": 0,
             "ticks": ""
            },
            "colorscale": [
             [
              0,
              "#0d0887"
             ],
             [
              0.1111111111111111,
              "#46039f"
             ],
             [
              0.2222222222222222,
              "#7201a8"
             ],
             [
              0.3333333333333333,
              "#9c179e"
             ],
             [
              0.4444444444444444,
              "#bd3786"
             ],
             [
              0.5555555555555556,
              "#d8576b"
             ],
             [
              0.6666666666666666,
              "#ed7953"
             ],
             [
              0.7777777777777778,
              "#fb9f3a"
             ],
             [
              0.8888888888888888,
              "#fdca26"
             ],
             [
              1,
              "#f0f921"
             ]
            ],
            "type": "histogram2dcontour"
           }
          ],
          "mesh3d": [
           {
            "colorbar": {
             "outlinewidth": 0,
             "ticks": ""
            },
            "type": "mesh3d"
           }
          ],
          "parcoords": [
           {
            "line": {
             "colorbar": {
              "outlinewidth": 0,
              "ticks": ""
             }
            },
            "type": "parcoords"
           }
          ],
          "pie": [
           {
            "automargin": true,
            "type": "pie"
           }
          ],
          "scatter": [
           {
            "marker": {
             "colorbar": {
              "outlinewidth": 0,
              "ticks": ""
             }
            },
            "type": "scatter"
           }
          ],
          "scatter3d": [
           {
            "line": {
             "colorbar": {
              "outlinewidth": 0,
              "ticks": ""
             }
            },
            "marker": {
             "colorbar": {
              "outlinewidth": 0,
              "ticks": ""
             }
            },
            "type": "scatter3d"
           }
          ],
          "scattercarpet": [
           {
            "marker": {
             "colorbar": {
              "outlinewidth": 0,
              "ticks": ""
             }
            },
            "type": "scattercarpet"
           }
          ],
          "scattergeo": [
           {
            "marker": {
             "colorbar": {
              "outlinewidth": 0,
              "ticks": ""
             }
            },
            "type": "scattergeo"
           }
          ],
          "scattergl": [
           {
            "marker": {
             "colorbar": {
              "outlinewidth": 0,
              "ticks": ""
             }
            },
            "type": "scattergl"
           }
          ],
          "scattermapbox": [
           {
            "marker": {
             "colorbar": {
              "outlinewidth": 0,
              "ticks": ""
             }
            },
            "type": "scattermapbox"
           }
          ],
          "scatterpolar": [
           {
            "marker": {
             "colorbar": {
              "outlinewidth": 0,
              "ticks": ""
             }
            },
            "type": "scatterpolar"
           }
          ],
          "scatterpolargl": [
           {
            "marker": {
             "colorbar": {
              "outlinewidth": 0,
              "ticks": ""
             }
            },
            "type": "scatterpolargl"
           }
          ],
          "scatterternary": [
           {
            "marker": {
             "colorbar": {
              "outlinewidth": 0,
              "ticks": ""
             }
            },
            "type": "scatterternary"
           }
          ],
          "surface": [
           {
            "colorbar": {
             "outlinewidth": 0,
             "ticks": ""
            },
            "colorscale": [
             [
              0,
              "#0d0887"
             ],
             [
              0.1111111111111111,
              "#46039f"
             ],
             [
              0.2222222222222222,
              "#7201a8"
             ],
             [
              0.3333333333333333,
              "#9c179e"
             ],
             [
              0.4444444444444444,
              "#bd3786"
             ],
             [
              0.5555555555555556,
              "#d8576b"
             ],
             [
              0.6666666666666666,
              "#ed7953"
             ],
             [
              0.7777777777777778,
              "#fb9f3a"
             ],
             [
              0.8888888888888888,
              "#fdca26"
             ],
             [
              1,
              "#f0f921"
             ]
            ],
            "type": "surface"
           }
          ],
          "table": [
           {
            "cells": {
             "fill": {
              "color": "#EBF0F8"
             },
             "line": {
              "color": "white"
             }
            },
            "header": {
             "fill": {
              "color": "#C8D4E3"
             },
             "line": {
              "color": "white"
             }
            },
            "type": "table"
           }
          ]
         },
         "layout": {
          "annotationdefaults": {
           "arrowcolor": "#2a3f5f",
           "arrowhead": 0,
           "arrowwidth": 1
          },
          "autotypenumbers": "strict",
          "coloraxis": {
           "colorbar": {
            "outlinewidth": 0,
            "ticks": ""
           }
          },
          "colorscale": {
           "diverging": [
            [
             0,
             "#8e0152"
            ],
            [
             0.1,
             "#c51b7d"
            ],
            [
             0.2,
             "#de77ae"
            ],
            [
             0.3,
             "#f1b6da"
            ],
            [
             0.4,
             "#fde0ef"
            ],
            [
             0.5,
             "#f7f7f7"
            ],
            [
             0.6,
             "#e6f5d0"
            ],
            [
             0.7,
             "#b8e186"
            ],
            [
             0.8,
             "#7fbc41"
            ],
            [
             0.9,
             "#4d9221"
            ],
            [
             1,
             "#276419"
            ]
           ],
           "sequential": [
            [
             0,
             "#0d0887"
            ],
            [
             0.1111111111111111,
             "#46039f"
            ],
            [
             0.2222222222222222,
             "#7201a8"
            ],
            [
             0.3333333333333333,
             "#9c179e"
            ],
            [
             0.4444444444444444,
             "#bd3786"
            ],
            [
             0.5555555555555556,
             "#d8576b"
            ],
            [
             0.6666666666666666,
             "#ed7953"
            ],
            [
             0.7777777777777778,
             "#fb9f3a"
            ],
            [
             0.8888888888888888,
             "#fdca26"
            ],
            [
             1,
             "#f0f921"
            ]
           ],
           "sequentialminus": [
            [
             0,
             "#0d0887"
            ],
            [
             0.1111111111111111,
             "#46039f"
            ],
            [
             0.2222222222222222,
             "#7201a8"
            ],
            [
             0.3333333333333333,
             "#9c179e"
            ],
            [
             0.4444444444444444,
             "#bd3786"
            ],
            [
             0.5555555555555556,
             "#d8576b"
            ],
            [
             0.6666666666666666,
             "#ed7953"
            ],
            [
             0.7777777777777778,
             "#fb9f3a"
            ],
            [
             0.8888888888888888,
             "#fdca26"
            ],
            [
             1,
             "#f0f921"
            ]
           ]
          },
          "colorway": [
           "#636efa",
           "#EF553B",
           "#00cc96",
           "#ab63fa",
           "#FFA15A",
           "#19d3f3",
           "#FF6692",
           "#B6E880",
           "#FF97FF",
           "#FECB52"
          ],
          "font": {
           "color": "#2a3f5f"
          },
          "geo": {
           "bgcolor": "white",
           "lakecolor": "white",
           "landcolor": "#E5ECF6",
           "showlakes": true,
           "showland": true,
           "subunitcolor": "white"
          },
          "hoverlabel": {
           "align": "left"
          },
          "hovermode": "closest",
          "mapbox": {
           "style": "light"
          },
          "paper_bgcolor": "white",
          "plot_bgcolor": "#E5ECF6",
          "polar": {
           "angularaxis": {
            "gridcolor": "white",
            "linecolor": "white",
            "ticks": ""
           },
           "bgcolor": "#E5ECF6",
           "radialaxis": {
            "gridcolor": "white",
            "linecolor": "white",
            "ticks": ""
           }
          },
          "scene": {
           "xaxis": {
            "backgroundcolor": "#E5ECF6",
            "gridcolor": "white",
            "gridwidth": 2,
            "linecolor": "white",
            "showbackground": true,
            "ticks": "",
            "zerolinecolor": "white"
           },
           "yaxis": {
            "backgroundcolor": "#E5ECF6",
            "gridcolor": "white",
            "gridwidth": 2,
            "linecolor": "white",
            "showbackground": true,
            "ticks": "",
            "zerolinecolor": "white"
           },
           "zaxis": {
            "backgroundcolor": "#E5ECF6",
            "gridcolor": "white",
            "gridwidth": 2,
            "linecolor": "white",
            "showbackground": true,
            "ticks": "",
            "zerolinecolor": "white"
           }
          },
          "shapedefaults": {
           "line": {
            "color": "#2a3f5f"
           }
          },
          "ternary": {
           "aaxis": {
            "gridcolor": "white",
            "linecolor": "white",
            "ticks": ""
           },
           "baxis": {
            "gridcolor": "white",
            "linecolor": "white",
            "ticks": ""
           },
           "bgcolor": "#E5ECF6",
           "caxis": {
            "gridcolor": "white",
            "linecolor": "white",
            "ticks": ""
           }
          },
          "title": {
           "x": 0.05
          },
          "xaxis": {
           "automargin": true,
           "gridcolor": "white",
           "linecolor": "white",
           "ticks": "",
           "title": {
            "standoff": 15
           },
           "zerolinecolor": "white",
           "zerolinewidth": 2
          },
          "yaxis": {
           "automargin": true,
           "gridcolor": "white",
           "linecolor": "white",
           "ticks": "",
           "title": {
            "standoff": 15
           },
           "zerolinecolor": "white",
           "zerolinewidth": 2
          }
         }
        },
        "xaxis": {
         "anchor": "y",
         "domain": [
          0,
          1
         ],
         "title": {
          "text": "handset_type"
         }
        },
        "yaxis": {
         "anchor": "x",
         "domain": [
          0,
          1
         ],
         "title": {
          "text": "sum of count"
         }
        }
       }
      }
     },
     "metadata": {}
    }
   ],
   "metadata": {}
  },
  {
   "cell_type": "markdown",
   "source": [
    "## Top 3 handset manufacturers"
   ],
   "metadata": {}
  },
  {
   "cell_type": "code",
   "execution_count": 8,
   "source": [
    "top_manufacturers = selector.filter_by_count(df, 'handset_manufacturer')\n",
    "top_manufacturers.head(3)"
   ],
   "outputs": [
    {
     "output_type": "execute_result",
     "data": {
      "text/plain": [
       "  handset_manufacturer  count\n",
       "0                Apple  67892\n",
       "1              Samsung  39902\n",
       "2               Huawei  33755"
      ],
      "text/html": [
       "<div>\n",
       "<style scoped>\n",
       "    .dataframe tbody tr th:only-of-type {\n",
       "        vertical-align: middle;\n",
       "    }\n",
       "\n",
       "    .dataframe tbody tr th {\n",
       "        vertical-align: top;\n",
       "    }\n",
       "\n",
       "    .dataframe thead th {\n",
       "        text-align: right;\n",
       "    }\n",
       "</style>\n",
       "<table border=\"1\" class=\"dataframe\">\n",
       "  <thead>\n",
       "    <tr style=\"text-align: right;\">\n",
       "      <th></th>\n",
       "      <th>handset_manufacturer</th>\n",
       "      <th>count</th>\n",
       "    </tr>\n",
       "  </thead>\n",
       "  <tbody>\n",
       "    <tr>\n",
       "      <th>0</th>\n",
       "      <td>Apple</td>\n",
       "      <td>67892</td>\n",
       "    </tr>\n",
       "    <tr>\n",
       "      <th>1</th>\n",
       "      <td>Samsung</td>\n",
       "      <td>39902</td>\n",
       "    </tr>\n",
       "    <tr>\n",
       "      <th>2</th>\n",
       "      <td>Huawei</td>\n",
       "      <td>33755</td>\n",
       "    </tr>\n",
       "  </tbody>\n",
       "</table>\n",
       "</div>"
      ]
     },
     "metadata": {},
     "execution_count": 8
    }
   ],
   "metadata": {}
  },
  {
   "cell_type": "markdown",
   "source": [
    "##  Top 5 handsets per top 3 handset manufacturer"
   ],
   "metadata": {}
  },
  {
   "cell_type": "code",
   "execution_count": 9,
   "source": [
    "top3_manufacturers = top_manufacturers.head(3)['handset_manufacturer'].values\n",
    "top_manufacturers = df[df[\"handset_manufacturer\"].isin(top3_manufacturers)]\n",
    "top_manufacturers['handset_type'].groupby(\n",
    "    df['handset_manufacturer']).apply(lambda x: x.value_counts().head(5))"
   ],
   "outputs": [
    {
     "output_type": "execute_result",
     "data": {
      "text/plain": [
       "handset_manufacturer                                \n",
       "Apple                 Apple iPhone 6S (A1688)            9369\n",
       "                      Apple iPhone 6 (A1586)             8967\n",
       "                      Huawei B528S-23A                   8820\n",
       "                      Apple iPhone 7 (A1778)             6240\n",
       "                      Apple iPhone Se (A1723)            5151\n",
       "Huawei                Huawei B528S-23A                  19373\n",
       "                      Huawei E5180                       2062\n",
       "                      Huawei P20 Lite Huawei Nova 3E     2000\n",
       "                      Huawei P20                         1471\n",
       "                      Huawei Y6 2018                      984\n",
       "Samsung               Samsung Galaxy S8 (Sm-G950F)       4404\n",
       "                      Samsung Galaxy A5 Sm-A520F         3673\n",
       "                      Samsung Galaxy J5 (Sm-J530)        3664\n",
       "                      Samsung Galaxy J3 (Sm-J330)        3431\n",
       "                      Samsung Galaxy S7 (Sm-G930X)       3106\n",
       "Name: handset_type, dtype: int64"
      ]
     },
     "metadata": {},
     "execution_count": 9
    }
   ],
   "metadata": {}
  },
  {
   "cell_type": "markdown",
   "source": [
    "# Task 1.1"
   ],
   "metadata": {}
  },
  {
   "cell_type": "markdown",
   "source": [
    "## Number of xDR sessions"
   ],
   "metadata": {}
  },
  {
   "cell_type": "code",
   "execution_count": 10,
   "source": [
    "sessions = selector.find_agg(df, 'msisdn_number', 'count', 'bearer_id', 10, False)\n",
    "sessions"
   ],
   "outputs": [
    {
     "output_type": "execute_result",
     "data": {
      "text/plain": [
       "       msisdn_number  bearer_id\n",
       "13381   3.362632e+10         18\n",
       "6353    3.361489e+10         17\n",
       "13037   3.362578e+10         17\n",
       "36669   3.365973e+10         16\n",
       "75564   3.367588e+10         15\n",
       "91949   3.376054e+10         15\n",
       "64472   3.366716e+10         13\n",
       "653     3.360313e+10         12\n",
       "91608   3.376041e+10         12\n",
       "13845   3.362708e+10         12"
      ],
      "text/html": [
       "<div>\n",
       "<style scoped>\n",
       "    .dataframe tbody tr th:only-of-type {\n",
       "        vertical-align: middle;\n",
       "    }\n",
       "\n",
       "    .dataframe tbody tr th {\n",
       "        vertical-align: top;\n",
       "    }\n",
       "\n",
       "    .dataframe thead th {\n",
       "        text-align: right;\n",
       "    }\n",
       "</style>\n",
       "<table border=\"1\" class=\"dataframe\">\n",
       "  <thead>\n",
       "    <tr style=\"text-align: right;\">\n",
       "      <th></th>\n",
       "      <th>msisdn_number</th>\n",
       "      <th>bearer_id</th>\n",
       "    </tr>\n",
       "  </thead>\n",
       "  <tbody>\n",
       "    <tr>\n",
       "      <th>13381</th>\n",
       "      <td>3.362632e+10</td>\n",
       "      <td>18</td>\n",
       "    </tr>\n",
       "    <tr>\n",
       "      <th>6353</th>\n",
       "      <td>3.361489e+10</td>\n",
       "      <td>17</td>\n",
       "    </tr>\n",
       "    <tr>\n",
       "      <th>13037</th>\n",
       "      <td>3.362578e+10</td>\n",
       "      <td>17</td>\n",
       "    </tr>\n",
       "    <tr>\n",
       "      <th>36669</th>\n",
       "      <td>3.365973e+10</td>\n",
       "      <td>16</td>\n",
       "    </tr>\n",
       "    <tr>\n",
       "      <th>75564</th>\n",
       "      <td>3.367588e+10</td>\n",
       "      <td>15</td>\n",
       "    </tr>\n",
       "    <tr>\n",
       "      <th>91949</th>\n",
       "      <td>3.376054e+10</td>\n",
       "      <td>15</td>\n",
       "    </tr>\n",
       "    <tr>\n",
       "      <th>64472</th>\n",
       "      <td>3.366716e+10</td>\n",
       "      <td>13</td>\n",
       "    </tr>\n",
       "    <tr>\n",
       "      <th>653</th>\n",
       "      <td>3.360313e+10</td>\n",
       "      <td>12</td>\n",
       "    </tr>\n",
       "    <tr>\n",
       "      <th>91608</th>\n",
       "      <td>3.376041e+10</td>\n",
       "      <td>12</td>\n",
       "    </tr>\n",
       "    <tr>\n",
       "      <th>13845</th>\n",
       "      <td>3.362708e+10</td>\n",
       "      <td>12</td>\n",
       "    </tr>\n",
       "  </tbody>\n",
       "</table>\n",
       "</div>"
      ]
     },
     "metadata": {},
     "execution_count": 10
    }
   ],
   "metadata": {}
  },
  {
   "cell_type": "markdown",
   "source": [
    "## Session duration"
   ],
   "metadata": {}
  },
  {
   "cell_type": "code",
   "execution_count": 22,
   "source": [
    "duration = selector.find_agg(df, 'msisdn_number', 'sum', 'dur_(ms)', -1, False)\n",
    "duration.nlargest(20, 'dur_(ms)')\n"
   ],
   "outputs": [
    {
     "output_type": "execute_result",
     "data": {
      "text/plain": [
       "        msisdn_number      dur_(ms)\n",
       "105718   3.370000e+14  3.370000e+14\n",
       "13381    3.362632e+10  6.052738e+11\n",
       "13037    3.362578e+10  5.716382e+11\n",
       "6353     3.361489e+10  5.714532e+11\n",
       "36669    3.365973e+10  5.385556e+11\n",
       "91949    3.376054e+10  5.064080e+11\n",
       "75564    3.367588e+10  5.051382e+11\n",
       "64472    3.366716e+10  4.376731e+11\n",
       "91608    3.376041e+10  4.051250e+11\n",
       "13845    3.362708e+10  4.035250e+11\n",
       "1258     3.360452e+10  4.032542e+11\n",
       "653      3.360313e+10  4.032375e+11\n",
       "85559    3.369879e+10  3.706867e+11\n",
       "62409    3.366646e+10  3.703311e+11\n",
       "56669    3.366471e+10  3.703118e+11\n",
       "35062    3.365936e+10  3.702530e+11\n",
       "93656    3.376127e+10  3.376127e+11\n",
       "86234    3.369900e+10  3.369900e+11\n",
       "44381    3.366159e+10  3.366159e+11\n",
       "38721    3.366021e+10  3.366021e+11"
      ],
      "text/html": [
       "<div>\n",
       "<style scoped>\n",
       "    .dataframe tbody tr th:only-of-type {\n",
       "        vertical-align: middle;\n",
       "    }\n",
       "\n",
       "    .dataframe tbody tr th {\n",
       "        vertical-align: top;\n",
       "    }\n",
       "\n",
       "    .dataframe thead th {\n",
       "        text-align: right;\n",
       "    }\n",
       "</style>\n",
       "<table border=\"1\" class=\"dataframe\">\n",
       "  <thead>\n",
       "    <tr style=\"text-align: right;\">\n",
       "      <th></th>\n",
       "      <th>msisdn_number</th>\n",
       "      <th>dur_(ms)</th>\n",
       "    </tr>\n",
       "  </thead>\n",
       "  <tbody>\n",
       "    <tr>\n",
       "      <th>105718</th>\n",
       "      <td>3.370000e+14</td>\n",
       "      <td>3.370000e+14</td>\n",
       "    </tr>\n",
       "    <tr>\n",
       "      <th>13381</th>\n",
       "      <td>3.362632e+10</td>\n",
       "      <td>6.052738e+11</td>\n",
       "    </tr>\n",
       "    <tr>\n",
       "      <th>13037</th>\n",
       "      <td>3.362578e+10</td>\n",
       "      <td>5.716382e+11</td>\n",
       "    </tr>\n",
       "    <tr>\n",
       "      <th>6353</th>\n",
       "      <td>3.361489e+10</td>\n",
       "      <td>5.714532e+11</td>\n",
       "    </tr>\n",
       "    <tr>\n",
       "      <th>36669</th>\n",
       "      <td>3.365973e+10</td>\n",
       "      <td>5.385556e+11</td>\n",
       "    </tr>\n",
       "    <tr>\n",
       "      <th>91949</th>\n",
       "      <td>3.376054e+10</td>\n",
       "      <td>5.064080e+11</td>\n",
       "    </tr>\n",
       "    <tr>\n",
       "      <th>75564</th>\n",
       "      <td>3.367588e+10</td>\n",
       "      <td>5.051382e+11</td>\n",
       "    </tr>\n",
       "    <tr>\n",
       "      <th>64472</th>\n",
       "      <td>3.366716e+10</td>\n",
       "      <td>4.376731e+11</td>\n",
       "    </tr>\n",
       "    <tr>\n",
       "      <th>91608</th>\n",
       "      <td>3.376041e+10</td>\n",
       "      <td>4.051250e+11</td>\n",
       "    </tr>\n",
       "    <tr>\n",
       "      <th>13845</th>\n",
       "      <td>3.362708e+10</td>\n",
       "      <td>4.035250e+11</td>\n",
       "    </tr>\n",
       "    <tr>\n",
       "      <th>1258</th>\n",
       "      <td>3.360452e+10</td>\n",
       "      <td>4.032542e+11</td>\n",
       "    </tr>\n",
       "    <tr>\n",
       "      <th>653</th>\n",
       "      <td>3.360313e+10</td>\n",
       "      <td>4.032375e+11</td>\n",
       "    </tr>\n",
       "    <tr>\n",
       "      <th>85559</th>\n",
       "      <td>3.369879e+10</td>\n",
       "      <td>3.706867e+11</td>\n",
       "    </tr>\n",
       "    <tr>\n",
       "      <th>62409</th>\n",
       "      <td>3.366646e+10</td>\n",
       "      <td>3.703311e+11</td>\n",
       "    </tr>\n",
       "    <tr>\n",
       "      <th>56669</th>\n",
       "      <td>3.366471e+10</td>\n",
       "      <td>3.703118e+11</td>\n",
       "    </tr>\n",
       "    <tr>\n",
       "      <th>35062</th>\n",
       "      <td>3.365936e+10</td>\n",
       "      <td>3.702530e+11</td>\n",
       "    </tr>\n",
       "    <tr>\n",
       "      <th>93656</th>\n",
       "      <td>3.376127e+10</td>\n",
       "      <td>3.376127e+11</td>\n",
       "    </tr>\n",
       "    <tr>\n",
       "      <th>86234</th>\n",
       "      <td>3.369900e+10</td>\n",
       "      <td>3.369900e+11</td>\n",
       "    </tr>\n",
       "    <tr>\n",
       "      <th>44381</th>\n",
       "      <td>3.366159e+10</td>\n",
       "      <td>3.366159e+11</td>\n",
       "    </tr>\n",
       "    <tr>\n",
       "      <th>38721</th>\n",
       "      <td>3.366021e+10</td>\n",
       "      <td>3.366021e+11</td>\n",
       "    </tr>\n",
       "  </tbody>\n",
       "</table>\n",
       "</div>"
      ]
     },
     "metadata": {},
     "execution_count": 22
    }
   ],
   "metadata": {}
  },
  {
   "cell_type": "code",
   "execution_count": 25,
   "source": [
    "duration.describe()\n"
   ],
   "outputs": [
    {
     "output_type": "execute_result",
     "data": {
      "text/plain": [
       "count    1.057180e+05\n",
       "mean     4.997656e+10\n",
       "std      1.036670e+12\n",
       "min      3.360100e+10\n",
       "25%      3.365960e+10\n",
       "50%      3.367059e+10\n",
       "75%      6.724550e+10\n",
       "max      3.370000e+14\n",
       "Name: dur_(ms), dtype: float64"
      ]
     },
     "metadata": {},
     "execution_count": 25
    }
   ],
   "metadata": {}
  },
  {
   "cell_type": "markdown",
   "source": [
    "## The total download (DL) and upload (UL) data"
   ],
   "metadata": {}
  },
  {
   "cell_type": "code",
   "execution_count": 13,
   "source": [
    "usage = df.groupby('msisdn_number')[['total_dl_(bytes)', 'total_ul_(bytes)']].sum()\n",
    "usage['total_data'] = usage['total_dl_(bytes)'] + usage['total_ul_(bytes)']\n",
    "usage.nlargest(20, 'total_data')"
   ],
   "outputs": [
    {
     "output_type": "execute_result",
     "data": {
      "text/plain": [
       "               total_dl_(bytes)  total_ul_(bytes)    total_data\n",
       "msisdn_number                                                  \n",
       "3.361489e+10       8.156743e+09       689483001.0  8.846226e+09\n",
       "3.376054e+10       7.811295e+09       703478581.0  8.514774e+09\n",
       "3.362578e+10       7.770043e+09       729577380.0  8.499621e+09\n",
       "3.362632e+10       7.301517e+09       669650721.0  7.971167e+09\n",
       "3.367588e+10       7.309542e+09       581568792.0  7.891111e+09\n",
       "3.365973e+10       7.081602e+09       624260321.0  7.705863e+09\n",
       "3.366646e+10       6.903440e+09       405060976.0  7.308501e+09\n",
       "3.376041e+10       6.610852e+09       521518890.0  7.132371e+09\n",
       "3.366471e+10       6.400774e+09       471244453.0  6.872018e+09\n",
       "3.369879e+10       6.010556e+09       530343105.0  6.540899e+09\n",
       "3.365836e+10       5.972303e+09       480094477.0  6.452398e+09\n",
       "3.362708e+10       5.309479e+09       445251947.0  5.754731e+09\n",
       "3.366469e+10       5.279827e+09       402180804.0  5.682007e+09\n",
       "3.366514e+10       5.296297e+09       336683835.0  5.632981e+09\n",
       "3.366716e+10       5.052068e+09       566326364.0  5.618394e+09\n",
       "3.361923e+10       5.194723e+09       317683011.0  5.512406e+09\n",
       "3.363004e+10       5.062212e+09       431929587.0  5.494142e+09\n",
       "3.360452e+10       5.096079e+09       391775856.0  5.487855e+09\n",
       "3.366546e+10       5.042243e+09       346387218.0  5.388631e+09\n",
       "3.367557e+10       4.875792e+09       364032615.0  5.239825e+09"
      ],
      "text/html": [
       "<div>\n",
       "<style scoped>\n",
       "    .dataframe tbody tr th:only-of-type {\n",
       "        vertical-align: middle;\n",
       "    }\n",
       "\n",
       "    .dataframe tbody tr th {\n",
       "        vertical-align: top;\n",
       "    }\n",
       "\n",
       "    .dataframe thead th {\n",
       "        text-align: right;\n",
       "    }\n",
       "</style>\n",
       "<table border=\"1\" class=\"dataframe\">\n",
       "  <thead>\n",
       "    <tr style=\"text-align: right;\">\n",
       "      <th></th>\n",
       "      <th>total_dl_(bytes)</th>\n",
       "      <th>total_ul_(bytes)</th>\n",
       "      <th>total_data</th>\n",
       "    </tr>\n",
       "    <tr>\n",
       "      <th>msisdn_number</th>\n",
       "      <th></th>\n",
       "      <th></th>\n",
       "      <th></th>\n",
       "    </tr>\n",
       "  </thead>\n",
       "  <tbody>\n",
       "    <tr>\n",
       "      <th>3.361489e+10</th>\n",
       "      <td>8.156743e+09</td>\n",
       "      <td>689483001.0</td>\n",
       "      <td>8.846226e+09</td>\n",
       "    </tr>\n",
       "    <tr>\n",
       "      <th>3.376054e+10</th>\n",
       "      <td>7.811295e+09</td>\n",
       "      <td>703478581.0</td>\n",
       "      <td>8.514774e+09</td>\n",
       "    </tr>\n",
       "    <tr>\n",
       "      <th>3.362578e+10</th>\n",
       "      <td>7.770043e+09</td>\n",
       "      <td>729577380.0</td>\n",
       "      <td>8.499621e+09</td>\n",
       "    </tr>\n",
       "    <tr>\n",
       "      <th>3.362632e+10</th>\n",
       "      <td>7.301517e+09</td>\n",
       "      <td>669650721.0</td>\n",
       "      <td>7.971167e+09</td>\n",
       "    </tr>\n",
       "    <tr>\n",
       "      <th>3.367588e+10</th>\n",
       "      <td>7.309542e+09</td>\n",
       "      <td>581568792.0</td>\n",
       "      <td>7.891111e+09</td>\n",
       "    </tr>\n",
       "    <tr>\n",
       "      <th>3.365973e+10</th>\n",
       "      <td>7.081602e+09</td>\n",
       "      <td>624260321.0</td>\n",
       "      <td>7.705863e+09</td>\n",
       "    </tr>\n",
       "    <tr>\n",
       "      <th>3.366646e+10</th>\n",
       "      <td>6.903440e+09</td>\n",
       "      <td>405060976.0</td>\n",
       "      <td>7.308501e+09</td>\n",
       "    </tr>\n",
       "    <tr>\n",
       "      <th>3.376041e+10</th>\n",
       "      <td>6.610852e+09</td>\n",
       "      <td>521518890.0</td>\n",
       "      <td>7.132371e+09</td>\n",
       "    </tr>\n",
       "    <tr>\n",
       "      <th>3.366471e+10</th>\n",
       "      <td>6.400774e+09</td>\n",
       "      <td>471244453.0</td>\n",
       "      <td>6.872018e+09</td>\n",
       "    </tr>\n",
       "    <tr>\n",
       "      <th>3.369879e+10</th>\n",
       "      <td>6.010556e+09</td>\n",
       "      <td>530343105.0</td>\n",
       "      <td>6.540899e+09</td>\n",
       "    </tr>\n",
       "    <tr>\n",
       "      <th>3.365836e+10</th>\n",
       "      <td>5.972303e+09</td>\n",
       "      <td>480094477.0</td>\n",
       "      <td>6.452398e+09</td>\n",
       "    </tr>\n",
       "    <tr>\n",
       "      <th>3.362708e+10</th>\n",
       "      <td>5.309479e+09</td>\n",
       "      <td>445251947.0</td>\n",
       "      <td>5.754731e+09</td>\n",
       "    </tr>\n",
       "    <tr>\n",
       "      <th>3.366469e+10</th>\n",
       "      <td>5.279827e+09</td>\n",
       "      <td>402180804.0</td>\n",
       "      <td>5.682007e+09</td>\n",
       "    </tr>\n",
       "    <tr>\n",
       "      <th>3.366514e+10</th>\n",
       "      <td>5.296297e+09</td>\n",
       "      <td>336683835.0</td>\n",
       "      <td>5.632981e+09</td>\n",
       "    </tr>\n",
       "    <tr>\n",
       "      <th>3.366716e+10</th>\n",
       "      <td>5.052068e+09</td>\n",
       "      <td>566326364.0</td>\n",
       "      <td>5.618394e+09</td>\n",
       "    </tr>\n",
       "    <tr>\n",
       "      <th>3.361923e+10</th>\n",
       "      <td>5.194723e+09</td>\n",
       "      <td>317683011.0</td>\n",
       "      <td>5.512406e+09</td>\n",
       "    </tr>\n",
       "    <tr>\n",
       "      <th>3.363004e+10</th>\n",
       "      <td>5.062212e+09</td>\n",
       "      <td>431929587.0</td>\n",
       "      <td>5.494142e+09</td>\n",
       "    </tr>\n",
       "    <tr>\n",
       "      <th>3.360452e+10</th>\n",
       "      <td>5.096079e+09</td>\n",
       "      <td>391775856.0</td>\n",
       "      <td>5.487855e+09</td>\n",
       "    </tr>\n",
       "    <tr>\n",
       "      <th>3.366546e+10</th>\n",
       "      <td>5.042243e+09</td>\n",
       "      <td>346387218.0</td>\n",
       "      <td>5.388631e+09</td>\n",
       "    </tr>\n",
       "    <tr>\n",
       "      <th>3.367557e+10</th>\n",
       "      <td>4.875792e+09</td>\n",
       "      <td>364032615.0</td>\n",
       "      <td>5.239825e+09</td>\n",
       "    </tr>\n",
       "  </tbody>\n",
       "</table>\n",
       "</div>"
      ]
     },
     "metadata": {},
     "execution_count": 13
    }
   ],
   "metadata": {}
  },
  {
   "cell_type": "code",
   "execution_count": 14,
   "source": [
    "usage.describe()"
   ],
   "outputs": [
    {
     "output_type": "execute_result",
     "data": {
      "text/plain": [
       "       total_dl_(bytes)  total_ul_(bytes)    total_data\n",
       "count      1.057190e+05      1.057190e+05  1.057190e+05\n",
       "mean       6.317300e+08      5.713601e+07  6.888661e+08\n",
       "std        4.609209e+08      3.527180e+07  4.869964e+08\n",
       "min        8.827082e+06      2.866892e+06  3.324901e+07\n",
       "25%        3.142406e+08      3.637849e+07  3.579501e+08\n",
       "50%        5.693797e+08      4.676298e+07  6.169335e+08\n",
       "75%        8.062981e+08      6.550410e+07  8.564738e+08\n",
       "max        8.156743e+09      7.295774e+08  8.846226e+09"
      ],
      "text/html": [
       "<div>\n",
       "<style scoped>\n",
       "    .dataframe tbody tr th:only-of-type {\n",
       "        vertical-align: middle;\n",
       "    }\n",
       "\n",
       "    .dataframe tbody tr th {\n",
       "        vertical-align: top;\n",
       "    }\n",
       "\n",
       "    .dataframe thead th {\n",
       "        text-align: right;\n",
       "    }\n",
       "</style>\n",
       "<table border=\"1\" class=\"dataframe\">\n",
       "  <thead>\n",
       "    <tr style=\"text-align: right;\">\n",
       "      <th></th>\n",
       "      <th>total_dl_(bytes)</th>\n",
       "      <th>total_ul_(bytes)</th>\n",
       "      <th>total_data</th>\n",
       "    </tr>\n",
       "  </thead>\n",
       "  <tbody>\n",
       "    <tr>\n",
       "      <th>count</th>\n",
       "      <td>1.057190e+05</td>\n",
       "      <td>1.057190e+05</td>\n",
       "      <td>1.057190e+05</td>\n",
       "    </tr>\n",
       "    <tr>\n",
       "      <th>mean</th>\n",
       "      <td>6.317300e+08</td>\n",
       "      <td>5.713601e+07</td>\n",
       "      <td>6.888661e+08</td>\n",
       "    </tr>\n",
       "    <tr>\n",
       "      <th>std</th>\n",
       "      <td>4.609209e+08</td>\n",
       "      <td>3.527180e+07</td>\n",
       "      <td>4.869964e+08</td>\n",
       "    </tr>\n",
       "    <tr>\n",
       "      <th>min</th>\n",
       "      <td>8.827082e+06</td>\n",
       "      <td>2.866892e+06</td>\n",
       "      <td>3.324901e+07</td>\n",
       "    </tr>\n",
       "    <tr>\n",
       "      <th>25%</th>\n",
       "      <td>3.142406e+08</td>\n",
       "      <td>3.637849e+07</td>\n",
       "      <td>3.579501e+08</td>\n",
       "    </tr>\n",
       "    <tr>\n",
       "      <th>50%</th>\n",
       "      <td>5.693797e+08</td>\n",
       "      <td>4.676298e+07</td>\n",
       "      <td>6.169335e+08</td>\n",
       "    </tr>\n",
       "    <tr>\n",
       "      <th>75%</th>\n",
       "      <td>8.062981e+08</td>\n",
       "      <td>6.550410e+07</td>\n",
       "      <td>8.564738e+08</td>\n",
       "    </tr>\n",
       "    <tr>\n",
       "      <th>max</th>\n",
       "      <td>8.156743e+09</td>\n",
       "      <td>7.295774e+08</td>\n",
       "      <td>8.846226e+09</td>\n",
       "    </tr>\n",
       "  </tbody>\n",
       "</table>\n",
       "</div>"
      ]
     },
     "metadata": {},
     "execution_count": 14
    }
   ],
   "metadata": {}
  },
  {
   "cell_type": "markdown",
   "source": [
    "## The total data volume (in Bytes) during this session for each application"
   ],
   "metadata": {}
  },
  {
   "cell_type": "code",
   "execution_count": 15,
   "source": [
    "df[\"social_media\"] = df[\"social_media_dl_(bytes)\"] + df['social_media_ul_(bytes)']\n",
    "df[\"google\"] = df[\"google_dl_(bytes)\"] + df[\"google_ul_(bytes)\"]\n",
    "df['email'] = df[\"email_dl_(bytes)\"] + df[\"email_ul_(bytes)\"]\n",
    "df['youtube'] = df[\"youtube_dl_(bytes)\"] + df[\"youtube_ul_(bytes)\"]\n",
    "df['netflix'] = df[\"netflix_dl_(bytes)\"] + df[\"netflix_ul_(bytes)\"]\n",
    "df[\"gaming\"] = df[\"gaming_dl_(bytes)\"] + df[\"gaming_ul_(bytes)\"]\n",
    "df['other'] = df[\"other_dl_(bytes)\"]+df[\"other_ul_(bytes)\"]\n",
    "df['total_data'] = df['total_dl_(bytes)'] + df['total_ul_(bytes)']"
   ],
   "outputs": [],
   "metadata": {}
  },
  {
   "cell_type": "code",
   "execution_count": 16,
   "source": [
    "apps_df = df.groupby('msisdn_number')[['social_media', 'google', 'email', 'youtube', 'gaming', 'other', 'total_data']].sum().nlargest(20, 'total_data')\n",
    "apps_df"
   ],
   "outputs": [
    {
     "output_type": "execute_result",
     "data": {
      "text/plain": [
       "               social_media       google       email      youtube        gaming         other    total_data\n",
       "msisdn_number                                                                                              \n",
       "3.361489e+10     28294544.0  127973787.0  40788634.0  394370218.0  7.749432e+09  7.639264e+09  8.846226e+09\n",
       "3.376054e+10     39783189.0  123223099.0  33693767.0  396289198.0  7.461045e+09  4.716134e+09  8.514774e+09\n",
       "3.362578e+10     27135500.0  142307915.0  40633966.0  452958769.0  7.326673e+09  6.354583e+09  8.499621e+09\n",
       "3.362632e+10     43374779.0  152191852.0  42418782.0  374483047.0  6.887572e+09  8.167878e+09  7.971167e+09\n",
       "3.367588e+10     19222921.0  109860502.0  31514421.0  317410572.0  6.970568e+09  6.798515e+09  7.891111e+09\n",
       "3.365973e+10     35412358.0  116516345.0  35999792.0  257991088.0  6.725559e+09  6.317415e+09  7.705863e+09\n",
       "3.366646e+10     18629986.0   89320737.0  25557139.0  227336012.0  6.646303e+09  4.349141e+09  7.308501e+09\n",
       "3.376041e+10     20777205.0   82738720.0  25576965.0  303169107.0  6.268620e+09  4.101645e+09  7.132371e+09\n",
       "3.366471e+10     19390599.0   90389372.0  21426007.0  276834013.0  6.103856e+09  3.976960e+09  6.872018e+09\n",
       "3.369879e+10     15728161.0   79736125.0  29059042.0  302661958.0  5.753743e+09  4.689876e+09  6.540899e+09\n",
       "3.365836e+10     17285759.0   76507138.0  19682048.0  260989846.0  5.705920e+09  5.013651e+09  6.452398e+09\n",
       "3.362708e+10     17808911.0   87125921.0  23567219.0  308790774.0  4.972353e+09  5.117791e+09  5.754731e+09\n",
       "3.366469e+10     17185041.0   73583110.0  17579618.0  205367769.0  5.008820e+09  4.960858e+09  5.682007e+09\n",
       "3.366514e+10     15849705.0   64497942.0  18242665.0  201345789.0  5.087873e+09  2.891011e+09  5.632981e+09\n",
       "3.366716e+10     24247850.0  105032696.0  30335796.0  315231310.0  4.725622e+09  4.941519e+09  5.618394e+09\n",
       "3.361923e+10     12103150.0   56119265.0  17056998.0  165763587.0  4.997332e+09  3.525314e+09  5.512406e+09\n",
       "3.363004e+10     14811201.0   76717543.0  26898243.0  275462004.0  4.794630e+09  4.978853e+09  5.494142e+09\n",
       "3.360452e+10     18476523.0   83815037.0  23854429.0  179686748.0  4.846663e+09  4.129943e+09  5.487855e+09\n",
       "3.366546e+10     10554843.0   63597426.0  30417885.0  232292532.0  4.781003e+09  2.973452e+09  5.388631e+09\n",
       "3.367557e+10     15647262.0   83004517.0  21770529.0  190142497.0  4.666101e+09  4.142144e+09  5.239825e+09"
      ],
      "text/html": [
       "<div>\n",
       "<style scoped>\n",
       "    .dataframe tbody tr th:only-of-type {\n",
       "        vertical-align: middle;\n",
       "    }\n",
       "\n",
       "    .dataframe tbody tr th {\n",
       "        vertical-align: top;\n",
       "    }\n",
       "\n",
       "    .dataframe thead th {\n",
       "        text-align: right;\n",
       "    }\n",
       "</style>\n",
       "<table border=\"1\" class=\"dataframe\">\n",
       "  <thead>\n",
       "    <tr style=\"text-align: right;\">\n",
       "      <th></th>\n",
       "      <th>social_media</th>\n",
       "      <th>google</th>\n",
       "      <th>email</th>\n",
       "      <th>youtube</th>\n",
       "      <th>gaming</th>\n",
       "      <th>other</th>\n",
       "      <th>total_data</th>\n",
       "    </tr>\n",
       "    <tr>\n",
       "      <th>msisdn_number</th>\n",
       "      <th></th>\n",
       "      <th></th>\n",
       "      <th></th>\n",
       "      <th></th>\n",
       "      <th></th>\n",
       "      <th></th>\n",
       "      <th></th>\n",
       "    </tr>\n",
       "  </thead>\n",
       "  <tbody>\n",
       "    <tr>\n",
       "      <th>3.361489e+10</th>\n",
       "      <td>28294544.0</td>\n",
       "      <td>127973787.0</td>\n",
       "      <td>40788634.0</td>\n",
       "      <td>394370218.0</td>\n",
       "      <td>7.749432e+09</td>\n",
       "      <td>7.639264e+09</td>\n",
       "      <td>8.846226e+09</td>\n",
       "    </tr>\n",
       "    <tr>\n",
       "      <th>3.376054e+10</th>\n",
       "      <td>39783189.0</td>\n",
       "      <td>123223099.0</td>\n",
       "      <td>33693767.0</td>\n",
       "      <td>396289198.0</td>\n",
       "      <td>7.461045e+09</td>\n",
       "      <td>4.716134e+09</td>\n",
       "      <td>8.514774e+09</td>\n",
       "    </tr>\n",
       "    <tr>\n",
       "      <th>3.362578e+10</th>\n",
       "      <td>27135500.0</td>\n",
       "      <td>142307915.0</td>\n",
       "      <td>40633966.0</td>\n",
       "      <td>452958769.0</td>\n",
       "      <td>7.326673e+09</td>\n",
       "      <td>6.354583e+09</td>\n",
       "      <td>8.499621e+09</td>\n",
       "    </tr>\n",
       "    <tr>\n",
       "      <th>3.362632e+10</th>\n",
       "      <td>43374779.0</td>\n",
       "      <td>152191852.0</td>\n",
       "      <td>42418782.0</td>\n",
       "      <td>374483047.0</td>\n",
       "      <td>6.887572e+09</td>\n",
       "      <td>8.167878e+09</td>\n",
       "      <td>7.971167e+09</td>\n",
       "    </tr>\n",
       "    <tr>\n",
       "      <th>3.367588e+10</th>\n",
       "      <td>19222921.0</td>\n",
       "      <td>109860502.0</td>\n",
       "      <td>31514421.0</td>\n",
       "      <td>317410572.0</td>\n",
       "      <td>6.970568e+09</td>\n",
       "      <td>6.798515e+09</td>\n",
       "      <td>7.891111e+09</td>\n",
       "    </tr>\n",
       "    <tr>\n",
       "      <th>3.365973e+10</th>\n",
       "      <td>35412358.0</td>\n",
       "      <td>116516345.0</td>\n",
       "      <td>35999792.0</td>\n",
       "      <td>257991088.0</td>\n",
       "      <td>6.725559e+09</td>\n",
       "      <td>6.317415e+09</td>\n",
       "      <td>7.705863e+09</td>\n",
       "    </tr>\n",
       "    <tr>\n",
       "      <th>3.366646e+10</th>\n",
       "      <td>18629986.0</td>\n",
       "      <td>89320737.0</td>\n",
       "      <td>25557139.0</td>\n",
       "      <td>227336012.0</td>\n",
       "      <td>6.646303e+09</td>\n",
       "      <td>4.349141e+09</td>\n",
       "      <td>7.308501e+09</td>\n",
       "    </tr>\n",
       "    <tr>\n",
       "      <th>3.376041e+10</th>\n",
       "      <td>20777205.0</td>\n",
       "      <td>82738720.0</td>\n",
       "      <td>25576965.0</td>\n",
       "      <td>303169107.0</td>\n",
       "      <td>6.268620e+09</td>\n",
       "      <td>4.101645e+09</td>\n",
       "      <td>7.132371e+09</td>\n",
       "    </tr>\n",
       "    <tr>\n",
       "      <th>3.366471e+10</th>\n",
       "      <td>19390599.0</td>\n",
       "      <td>90389372.0</td>\n",
       "      <td>21426007.0</td>\n",
       "      <td>276834013.0</td>\n",
       "      <td>6.103856e+09</td>\n",
       "      <td>3.976960e+09</td>\n",
       "      <td>6.872018e+09</td>\n",
       "    </tr>\n",
       "    <tr>\n",
       "      <th>3.369879e+10</th>\n",
       "      <td>15728161.0</td>\n",
       "      <td>79736125.0</td>\n",
       "      <td>29059042.0</td>\n",
       "      <td>302661958.0</td>\n",
       "      <td>5.753743e+09</td>\n",
       "      <td>4.689876e+09</td>\n",
       "      <td>6.540899e+09</td>\n",
       "    </tr>\n",
       "    <tr>\n",
       "      <th>3.365836e+10</th>\n",
       "      <td>17285759.0</td>\n",
       "      <td>76507138.0</td>\n",
       "      <td>19682048.0</td>\n",
       "      <td>260989846.0</td>\n",
       "      <td>5.705920e+09</td>\n",
       "      <td>5.013651e+09</td>\n",
       "      <td>6.452398e+09</td>\n",
       "    </tr>\n",
       "    <tr>\n",
       "      <th>3.362708e+10</th>\n",
       "      <td>17808911.0</td>\n",
       "      <td>87125921.0</td>\n",
       "      <td>23567219.0</td>\n",
       "      <td>308790774.0</td>\n",
       "      <td>4.972353e+09</td>\n",
       "      <td>5.117791e+09</td>\n",
       "      <td>5.754731e+09</td>\n",
       "    </tr>\n",
       "    <tr>\n",
       "      <th>3.366469e+10</th>\n",
       "      <td>17185041.0</td>\n",
       "      <td>73583110.0</td>\n",
       "      <td>17579618.0</td>\n",
       "      <td>205367769.0</td>\n",
       "      <td>5.008820e+09</td>\n",
       "      <td>4.960858e+09</td>\n",
       "      <td>5.682007e+09</td>\n",
       "    </tr>\n",
       "    <tr>\n",
       "      <th>3.366514e+10</th>\n",
       "      <td>15849705.0</td>\n",
       "      <td>64497942.0</td>\n",
       "      <td>18242665.0</td>\n",
       "      <td>201345789.0</td>\n",
       "      <td>5.087873e+09</td>\n",
       "      <td>2.891011e+09</td>\n",
       "      <td>5.632981e+09</td>\n",
       "    </tr>\n",
       "    <tr>\n",
       "      <th>3.366716e+10</th>\n",
       "      <td>24247850.0</td>\n",
       "      <td>105032696.0</td>\n",
       "      <td>30335796.0</td>\n",
       "      <td>315231310.0</td>\n",
       "      <td>4.725622e+09</td>\n",
       "      <td>4.941519e+09</td>\n",
       "      <td>5.618394e+09</td>\n",
       "    </tr>\n",
       "    <tr>\n",
       "      <th>3.361923e+10</th>\n",
       "      <td>12103150.0</td>\n",
       "      <td>56119265.0</td>\n",
       "      <td>17056998.0</td>\n",
       "      <td>165763587.0</td>\n",
       "      <td>4.997332e+09</td>\n",
       "      <td>3.525314e+09</td>\n",
       "      <td>5.512406e+09</td>\n",
       "    </tr>\n",
       "    <tr>\n",
       "      <th>3.363004e+10</th>\n",
       "      <td>14811201.0</td>\n",
       "      <td>76717543.0</td>\n",
       "      <td>26898243.0</td>\n",
       "      <td>275462004.0</td>\n",
       "      <td>4.794630e+09</td>\n",
       "      <td>4.978853e+09</td>\n",
       "      <td>5.494142e+09</td>\n",
       "    </tr>\n",
       "    <tr>\n",
       "      <th>3.360452e+10</th>\n",
       "      <td>18476523.0</td>\n",
       "      <td>83815037.0</td>\n",
       "      <td>23854429.0</td>\n",
       "      <td>179686748.0</td>\n",
       "      <td>4.846663e+09</td>\n",
       "      <td>4.129943e+09</td>\n",
       "      <td>5.487855e+09</td>\n",
       "    </tr>\n",
       "    <tr>\n",
       "      <th>3.366546e+10</th>\n",
       "      <td>10554843.0</td>\n",
       "      <td>63597426.0</td>\n",
       "      <td>30417885.0</td>\n",
       "      <td>232292532.0</td>\n",
       "      <td>4.781003e+09</td>\n",
       "      <td>2.973452e+09</td>\n",
       "      <td>5.388631e+09</td>\n",
       "    </tr>\n",
       "    <tr>\n",
       "      <th>3.367557e+10</th>\n",
       "      <td>15647262.0</td>\n",
       "      <td>83004517.0</td>\n",
       "      <td>21770529.0</td>\n",
       "      <td>190142497.0</td>\n",
       "      <td>4.666101e+09</td>\n",
       "      <td>4.142144e+09</td>\n",
       "      <td>5.239825e+09</td>\n",
       "    </tr>\n",
       "  </tbody>\n",
       "</table>\n",
       "</div>"
      ]
     },
     "metadata": {},
     "execution_count": 16
    }
   ],
   "metadata": {}
  },
  {
   "cell_type": "code",
   "execution_count": 17,
   "source": [
    "df.to_csv('../data/clean_data.csv', index=False)"
   ],
   "outputs": [],
   "metadata": {}
  }
 ],
 "metadata": {
  "orig_nbformat": 4,
  "language_info": {
   "name": "python"
  }
 },
 "nbformat": 4,
 "nbformat_minor": 2
}