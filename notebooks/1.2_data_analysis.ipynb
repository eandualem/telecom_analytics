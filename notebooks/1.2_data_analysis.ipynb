{
 "cells": [
  {
   "cell_type": "markdown",
   "source": [
    "# Data Analysis"
   ],
   "metadata": {}
  },
  {
   "cell_type": "markdown",
   "source": [
    "## Imports"
   ],
   "metadata": {}
  },
  {
   "cell_type": "code",
   "execution_count": 1,
   "source": [
    "import numpy as np\n",
    "import pandas as pd\n",
    "import plotly.express as px\n",
    "import plotly.graph_objects as go\n",
    "from plotly.subplots import make_subplots"
   ],
   "outputs": [],
   "metadata": {}
  },
  {
   "cell_type": "code",
   "execution_count": 2,
   "source": [
    "pd.set_option('display.max_columns', None)\n",
    "pd.set_option('display.max_colwidth', None)\n",
    "pd.set_option(\"expand_frame_repr\", False)\n",
    "# pd.set_option('display.float_format', '{:.2f}'.format)"
   ],
   "outputs": [],
   "metadata": {}
  },
  {
   "cell_type": "code",
   "execution_count": 3,
   "source": [
    "sys.path.append(os.path.abspath(os.path.join('../scripts')))\n",
    "from df_overview import DfOverview\n",
    "from df_cleaner import DfCleaner\n",
    "from vis_seaborn import *"
   ],
   "outputs": [],
   "metadata": {}
  },
  {
   "cell_type": "markdown",
   "source": [
    "## Data reading"
   ],
   "metadata": {}
  },
  {
   "cell_type": "code",
   "execution_count": 4,
   "source": [
    "df = pd.read_csv(\"../data/clean_data.csv\")\n",
    "df.info()"
   ],
   "outputs": [
    {
     "output_type": "stream",
     "name": "stdout",
     "text": [
      "<class 'pandas.core.frame.DataFrame'>\n",
      "RangeIndex: 146891 entries, 0 to 146890\n",
      "Data columns (total 34 columns):\n",
      " #   Column                   Non-Null Count   Dtype  \n",
      "---  ------                   --------------   -----  \n",
      " 0   bearer_id                146891 non-null  float64\n",
      " 1   msisdn_number            146891 non-null  float64\n",
      " 2   imei                     146891 non-null  float64\n",
      " 3   imsi                     146891 non-null  float64\n",
      " 4   last_location_name       146891 non-null  object \n",
      " 5   handset_manufacturer     146891 non-null  object \n",
      " 6   handset_type             146891 non-null  object \n",
      " 7   start                    146891 non-null  object \n",
      " 8   end                      146891 non-null  object \n",
      " 9   dur_(ms)                 146891 non-null  float64\n",
      " 10  social_media_dl_(bytes)  146891 non-null  float64\n",
      " 11  social_media_ul_(bytes)  146891 non-null  float64\n",
      " 12  google_dl_(bytes)        146891 non-null  float64\n",
      " 13  google_ul_(bytes)        146891 non-null  float64\n",
      " 14  email_dl_(bytes)         146891 non-null  float64\n",
      " 15  email_ul_(bytes)         146891 non-null  float64\n",
      " 16  youtube_dl_(bytes)       146891 non-null  float64\n",
      " 17  youtube_ul_(bytes)       146891 non-null  float64\n",
      " 18  netflix_dl_(bytes)       146891 non-null  float64\n",
      " 19  netflix_ul_(bytes)       146891 non-null  float64\n",
      " 20  gaming_dl_(bytes)        146891 non-null  float64\n",
      " 21  gaming_ul_(bytes)        146891 non-null  float64\n",
      " 22  other_dl_(bytes)         146891 non-null  float64\n",
      " 23  other_ul_(bytes)         146891 non-null  float64\n",
      " 24  total_ul_(bytes)         146891 non-null  float64\n",
      " 25  total_dl_(bytes)         146891 non-null  float64\n",
      " 26  social_media             146891 non-null  float64\n",
      " 27  google                   146891 non-null  float64\n",
      " 28  email                    146891 non-null  float64\n",
      " 29  youtube                  146891 non-null  float64\n",
      " 30  netflix                  146891 non-null  float64\n",
      " 31  gaming                   146891 non-null  float64\n",
      " 32  other                    146891 non-null  float64\n",
      " 33  total_data               146891 non-null  float64\n",
      "dtypes: float64(29), object(5)\n",
      "memory usage: 38.1+ MB\n"
     ]
    }
   ],
   "metadata": {}
  },
  {
   "cell_type": "markdown",
   "source": [
    "The columns we would be doing this Univariate Analysis on has been given to us earlier\n",
    "\n",
    "number of xDR sessions\n",
    "Session duration\n",
    "the total download(DL) and upload(UL) data\n",
    "the total data volume for Applications"
   ],
   "metadata": {}
  },
  {
   "cell_type": "markdown",
   "source": [
    "## Describe all  relevant variables and associated data types (slide). "
   ],
   "metadata": {}
  },
  {
   "cell_type": "code",
   "execution_count": 5,
   "source": [
    "df.describe().transpose()\n"
   ],
   "outputs": [
    {
     "output_type": "execute_result",
     "data": {
      "text/plain": [
       "                            count          mean           std           min           25%           50%           75%           max\n",
       "bearer_id                146891.0  1.014458e+19  2.892813e+18  6.917538e+18  7.349883e+18  7.349883e+18  1.304243e+19  1.318654e+19\n",
       "msisdn_number            146891.0  3.596855e+10  8.792026e+11  3.360100e+10  3.365128e+10  3.366369e+10  3.368344e+10  3.370000e+14\n",
       "imei                     146891.0  4.844173e+13  2.238835e+13  4.400152e+11  3.546071e+13  3.572181e+13  8.611970e+13  9.900120e+13\n",
       "imsi                     146891.0  2.082017e+14  1.334711e+09  2.082001e+14  2.082014e+14  2.082015e+14  2.082018e+14  2.082099e+14\n",
       "dur_(ms)                 146891.0  1.001881e+05  5.898605e+04  7.142000e+03  5.852700e+04  8.639900e+04  1.331545e+05  2.450958e+05\n",
       "social_media_dl_(bytes)  146891.0  1.794825e+06  1.035401e+06  1.200000e+01  8.980890e+05  1.793409e+06  2.694640e+06  3.586064e+06\n",
       "social_media_ul_(bytes)  146891.0  3.291553e+04  1.900524e+04  0.000000e+00  1.643100e+04  3.290800e+04  4.932650e+04  6.587000e+04\n",
       "google_dl_(bytes)        146891.0  5.751422e+06  3.309586e+06  2.070000e+02  2.882586e+06  5.766576e+06  8.625551e+06  1.146283e+07\n",
       "google_ul_(bytes)        146891.0  2.056556e+06  1.189824e+06  3.000000e+00  1.024412e+06  2.054878e+06  3.088072e+06  4.121357e+06\n",
       "email_dl_(bytes)         146891.0  1.791751e+06  1.036007e+06  1.400000e+01  8.925730e+05  1.793613e+06  2.689786e+06  3.586146e+06\n",
       "email_ul_(bytes)         146891.0  4.673270e+05  2.700067e+05  2.000000e+00  2.334390e+05  4.663570e+05  7.002850e+05  9.364180e+05\n",
       "youtube_dl_(bytes)       146891.0  1.163341e+07  6.710450e+06  5.300000e+01  5.833512e+06  1.161638e+07  1.744064e+07  2.325910e+07\n",
       "youtube_ul_(bytes)       146891.0  1.100858e+07  6.345243e+06  1.050000e+02  5.516549e+06  1.101329e+07  1.651411e+07  2.201196e+07\n",
       "netflix_dl_(bytes)       146891.0  1.162650e+07  6.724904e+06  4.200000e+01  5.776626e+06  1.164271e+07  1.747017e+07  2.325919e+07\n",
       "netflix_ul_(bytes)       146891.0  1.100286e+07  6.357359e+06  3.500000e+01  5.480202e+06  1.099939e+07  1.650352e+07  2.201196e+07\n",
       "gaming_dl_(bytes)        146891.0  4.220649e+08  2.440381e+08  2.516000e+03  2.103941e+08  4.234929e+08  6.333301e+08  8.434419e+08\n",
       "gaming_ul_(bytes)        146891.0  8.290257e+06  4.781553e+06  5.900000e+01  4.132622e+06  8.294516e+06  1.243239e+07  1.655879e+07\n",
       "other_dl_(bytes)         146891.0  4.210038e+08  2.431448e+08  3.290000e+03  2.101527e+08  4.216332e+08  6.313683e+08  8.434425e+08\n",
       "other_ul_(bytes)         146891.0  8.262887e+06  4.768594e+06  1.480000e+02  4.144489e+06  8.265817e+06  1.238204e+07  1.655882e+07\n",
       "total_ul_(bytes)         146891.0  4.112139e+07  1.127775e+07  2.866892e+06  3.321835e+07  4.114253e+07  4.903488e+07  7.833131e+07\n",
       "total_dl_(bytes)         146891.0  4.546628e+08  2.442080e+08  7.114041e+06  2.430767e+08  4.559702e+08  6.657831e+08  9.029696e+08\n",
       "social_media             146891.0  1.827740e+06  1.035571e+06  1.563000e+03  9.313390e+05  1.825390e+06  2.727156e+06  3.650861e+06\n",
       "google                   146891.0  7.807978e+06  3.517121e+06  4.033000e+04  4.943585e+06  7.815399e+06  1.068314e+07  1.552878e+07\n",
       "email                    146891.0  2.259078e+06  1.071128e+06  8.359000e+03  1.359012e+06  2.263843e+06  3.159587e+06  4.518036e+06\n",
       "youtube                  146891.0  2.264199e+07  9.244557e+06  1.296550e+05  1.599734e+07  2.266341e+07  2.929342e+07  4.519008e+07\n",
       "netflix                  146891.0  2.262936e+07  9.259223e+06  9.843200e+04  1.598200e+07  2.263459e+07  2.928815e+07  4.519815e+07\n",
       "gaming                   146891.0  4.303551e+08  2.440902e+08  3.063580e+05  2.186982e+08  4.316651e+08  6.415728e+08  8.592028e+08\n",
       "other                    146891.0  4.292667e+08  2.432095e+08  1.490450e+05  2.184706e+08  4.297978e+08  6.396656e+08  8.595209e+08\n",
       "total_data               146891.0  4.957842e+08  2.444416e+08  2.895611e+07  2.844850e+08  4.969243e+08  7.066379e+08  9.559848e+08"
      ],
      "text/html": [
       "<div>\n",
       "<style scoped>\n",
       "    .dataframe tbody tr th:only-of-type {\n",
       "        vertical-align: middle;\n",
       "    }\n",
       "\n",
       "    .dataframe tbody tr th {\n",
       "        vertical-align: top;\n",
       "    }\n",
       "\n",
       "    .dataframe thead th {\n",
       "        text-align: right;\n",
       "    }\n",
       "</style>\n",
       "<table border=\"1\" class=\"dataframe\">\n",
       "  <thead>\n",
       "    <tr style=\"text-align: right;\">\n",
       "      <th></th>\n",
       "      <th>count</th>\n",
       "      <th>mean</th>\n",
       "      <th>std</th>\n",
       "      <th>min</th>\n",
       "      <th>25%</th>\n",
       "      <th>50%</th>\n",
       "      <th>75%</th>\n",
       "      <th>max</th>\n",
       "    </tr>\n",
       "  </thead>\n",
       "  <tbody>\n",
       "    <tr>\n",
       "      <th>bearer_id</th>\n",
       "      <td>146891.0</td>\n",
       "      <td>1.014458e+19</td>\n",
       "      <td>2.892813e+18</td>\n",
       "      <td>6.917538e+18</td>\n",
       "      <td>7.349883e+18</td>\n",
       "      <td>7.349883e+18</td>\n",
       "      <td>1.304243e+19</td>\n",
       "      <td>1.318654e+19</td>\n",
       "    </tr>\n",
       "    <tr>\n",
       "      <th>msisdn_number</th>\n",
       "      <td>146891.0</td>\n",
       "      <td>3.596855e+10</td>\n",
       "      <td>8.792026e+11</td>\n",
       "      <td>3.360100e+10</td>\n",
       "      <td>3.365128e+10</td>\n",
       "      <td>3.366369e+10</td>\n",
       "      <td>3.368344e+10</td>\n",
       "      <td>3.370000e+14</td>\n",
       "    </tr>\n",
       "    <tr>\n",
       "      <th>imei</th>\n",
       "      <td>146891.0</td>\n",
       "      <td>4.844173e+13</td>\n",
       "      <td>2.238835e+13</td>\n",
       "      <td>4.400152e+11</td>\n",
       "      <td>3.546071e+13</td>\n",
       "      <td>3.572181e+13</td>\n",
       "      <td>8.611970e+13</td>\n",
       "      <td>9.900120e+13</td>\n",
       "    </tr>\n",
       "    <tr>\n",
       "      <th>imsi</th>\n",
       "      <td>146891.0</td>\n",
       "      <td>2.082017e+14</td>\n",
       "      <td>1.334711e+09</td>\n",
       "      <td>2.082001e+14</td>\n",
       "      <td>2.082014e+14</td>\n",
       "      <td>2.082015e+14</td>\n",
       "      <td>2.082018e+14</td>\n",
       "      <td>2.082099e+14</td>\n",
       "    </tr>\n",
       "    <tr>\n",
       "      <th>dur_(ms)</th>\n",
       "      <td>146891.0</td>\n",
       "      <td>1.001881e+05</td>\n",
       "      <td>5.898605e+04</td>\n",
       "      <td>7.142000e+03</td>\n",
       "      <td>5.852700e+04</td>\n",
       "      <td>8.639900e+04</td>\n",
       "      <td>1.331545e+05</td>\n",
       "      <td>2.450958e+05</td>\n",
       "    </tr>\n",
       "    <tr>\n",
       "      <th>social_media_dl_(bytes)</th>\n",
       "      <td>146891.0</td>\n",
       "      <td>1.794825e+06</td>\n",
       "      <td>1.035401e+06</td>\n",
       "      <td>1.200000e+01</td>\n",
       "      <td>8.980890e+05</td>\n",
       "      <td>1.793409e+06</td>\n",
       "      <td>2.694640e+06</td>\n",
       "      <td>3.586064e+06</td>\n",
       "    </tr>\n",
       "    <tr>\n",
       "      <th>social_media_ul_(bytes)</th>\n",
       "      <td>146891.0</td>\n",
       "      <td>3.291553e+04</td>\n",
       "      <td>1.900524e+04</td>\n",
       "      <td>0.000000e+00</td>\n",
       "      <td>1.643100e+04</td>\n",
       "      <td>3.290800e+04</td>\n",
       "      <td>4.932650e+04</td>\n",
       "      <td>6.587000e+04</td>\n",
       "    </tr>\n",
       "    <tr>\n",
       "      <th>google_dl_(bytes)</th>\n",
       "      <td>146891.0</td>\n",
       "      <td>5.751422e+06</td>\n",
       "      <td>3.309586e+06</td>\n",
       "      <td>2.070000e+02</td>\n",
       "      <td>2.882586e+06</td>\n",
       "      <td>5.766576e+06</td>\n",
       "      <td>8.625551e+06</td>\n",
       "      <td>1.146283e+07</td>\n",
       "    </tr>\n",
       "    <tr>\n",
       "      <th>google_ul_(bytes)</th>\n",
       "      <td>146891.0</td>\n",
       "      <td>2.056556e+06</td>\n",
       "      <td>1.189824e+06</td>\n",
       "      <td>3.000000e+00</td>\n",
       "      <td>1.024412e+06</td>\n",
       "      <td>2.054878e+06</td>\n",
       "      <td>3.088072e+06</td>\n",
       "      <td>4.121357e+06</td>\n",
       "    </tr>\n",
       "    <tr>\n",
       "      <th>email_dl_(bytes)</th>\n",
       "      <td>146891.0</td>\n",
       "      <td>1.791751e+06</td>\n",
       "      <td>1.036007e+06</td>\n",
       "      <td>1.400000e+01</td>\n",
       "      <td>8.925730e+05</td>\n",
       "      <td>1.793613e+06</td>\n",
       "      <td>2.689786e+06</td>\n",
       "      <td>3.586146e+06</td>\n",
       "    </tr>\n",
       "    <tr>\n",
       "      <th>email_ul_(bytes)</th>\n",
       "      <td>146891.0</td>\n",
       "      <td>4.673270e+05</td>\n",
       "      <td>2.700067e+05</td>\n",
       "      <td>2.000000e+00</td>\n",
       "      <td>2.334390e+05</td>\n",
       "      <td>4.663570e+05</td>\n",
       "      <td>7.002850e+05</td>\n",
       "      <td>9.364180e+05</td>\n",
       "    </tr>\n",
       "    <tr>\n",
       "      <th>youtube_dl_(bytes)</th>\n",
       "      <td>146891.0</td>\n",
       "      <td>1.163341e+07</td>\n",
       "      <td>6.710450e+06</td>\n",
       "      <td>5.300000e+01</td>\n",
       "      <td>5.833512e+06</td>\n",
       "      <td>1.161638e+07</td>\n",
       "      <td>1.744064e+07</td>\n",
       "      <td>2.325910e+07</td>\n",
       "    </tr>\n",
       "    <tr>\n",
       "      <th>youtube_ul_(bytes)</th>\n",
       "      <td>146891.0</td>\n",
       "      <td>1.100858e+07</td>\n",
       "      <td>6.345243e+06</td>\n",
       "      <td>1.050000e+02</td>\n",
       "      <td>5.516549e+06</td>\n",
       "      <td>1.101329e+07</td>\n",
       "      <td>1.651411e+07</td>\n",
       "      <td>2.201196e+07</td>\n",
       "    </tr>\n",
       "    <tr>\n",
       "      <th>netflix_dl_(bytes)</th>\n",
       "      <td>146891.0</td>\n",
       "      <td>1.162650e+07</td>\n",
       "      <td>6.724904e+06</td>\n",
       "      <td>4.200000e+01</td>\n",
       "      <td>5.776626e+06</td>\n",
       "      <td>1.164271e+07</td>\n",
       "      <td>1.747017e+07</td>\n",
       "      <td>2.325919e+07</td>\n",
       "    </tr>\n",
       "    <tr>\n",
       "      <th>netflix_ul_(bytes)</th>\n",
       "      <td>146891.0</td>\n",
       "      <td>1.100286e+07</td>\n",
       "      <td>6.357359e+06</td>\n",
       "      <td>3.500000e+01</td>\n",
       "      <td>5.480202e+06</td>\n",
       "      <td>1.099939e+07</td>\n",
       "      <td>1.650352e+07</td>\n",
       "      <td>2.201196e+07</td>\n",
       "    </tr>\n",
       "    <tr>\n",
       "      <th>gaming_dl_(bytes)</th>\n",
       "      <td>146891.0</td>\n",
       "      <td>4.220649e+08</td>\n",
       "      <td>2.440381e+08</td>\n",
       "      <td>2.516000e+03</td>\n",
       "      <td>2.103941e+08</td>\n",
       "      <td>4.234929e+08</td>\n",
       "      <td>6.333301e+08</td>\n",
       "      <td>8.434419e+08</td>\n",
       "    </tr>\n",
       "    <tr>\n",
       "      <th>gaming_ul_(bytes)</th>\n",
       "      <td>146891.0</td>\n",
       "      <td>8.290257e+06</td>\n",
       "      <td>4.781553e+06</td>\n",
       "      <td>5.900000e+01</td>\n",
       "      <td>4.132622e+06</td>\n",
       "      <td>8.294516e+06</td>\n",
       "      <td>1.243239e+07</td>\n",
       "      <td>1.655879e+07</td>\n",
       "    </tr>\n",
       "    <tr>\n",
       "      <th>other_dl_(bytes)</th>\n",
       "      <td>146891.0</td>\n",
       "      <td>4.210038e+08</td>\n",
       "      <td>2.431448e+08</td>\n",
       "      <td>3.290000e+03</td>\n",
       "      <td>2.101527e+08</td>\n",
       "      <td>4.216332e+08</td>\n",
       "      <td>6.313683e+08</td>\n",
       "      <td>8.434425e+08</td>\n",
       "    </tr>\n",
       "    <tr>\n",
       "      <th>other_ul_(bytes)</th>\n",
       "      <td>146891.0</td>\n",
       "      <td>8.262887e+06</td>\n",
       "      <td>4.768594e+06</td>\n",
       "      <td>1.480000e+02</td>\n",
       "      <td>4.144489e+06</td>\n",
       "      <td>8.265817e+06</td>\n",
       "      <td>1.238204e+07</td>\n",
       "      <td>1.655882e+07</td>\n",
       "    </tr>\n",
       "    <tr>\n",
       "      <th>total_ul_(bytes)</th>\n",
       "      <td>146891.0</td>\n",
       "      <td>4.112139e+07</td>\n",
       "      <td>1.127775e+07</td>\n",
       "      <td>2.866892e+06</td>\n",
       "      <td>3.321835e+07</td>\n",
       "      <td>4.114253e+07</td>\n",
       "      <td>4.903488e+07</td>\n",
       "      <td>7.833131e+07</td>\n",
       "    </tr>\n",
       "    <tr>\n",
       "      <th>total_dl_(bytes)</th>\n",
       "      <td>146891.0</td>\n",
       "      <td>4.546628e+08</td>\n",
       "      <td>2.442080e+08</td>\n",
       "      <td>7.114041e+06</td>\n",
       "      <td>2.430767e+08</td>\n",
       "      <td>4.559702e+08</td>\n",
       "      <td>6.657831e+08</td>\n",
       "      <td>9.029696e+08</td>\n",
       "    </tr>\n",
       "    <tr>\n",
       "      <th>social_media</th>\n",
       "      <td>146891.0</td>\n",
       "      <td>1.827740e+06</td>\n",
       "      <td>1.035571e+06</td>\n",
       "      <td>1.563000e+03</td>\n",
       "      <td>9.313390e+05</td>\n",
       "      <td>1.825390e+06</td>\n",
       "      <td>2.727156e+06</td>\n",
       "      <td>3.650861e+06</td>\n",
       "    </tr>\n",
       "    <tr>\n",
       "      <th>google</th>\n",
       "      <td>146891.0</td>\n",
       "      <td>7.807978e+06</td>\n",
       "      <td>3.517121e+06</td>\n",
       "      <td>4.033000e+04</td>\n",
       "      <td>4.943585e+06</td>\n",
       "      <td>7.815399e+06</td>\n",
       "      <td>1.068314e+07</td>\n",
       "      <td>1.552878e+07</td>\n",
       "    </tr>\n",
       "    <tr>\n",
       "      <th>email</th>\n",
       "      <td>146891.0</td>\n",
       "      <td>2.259078e+06</td>\n",
       "      <td>1.071128e+06</td>\n",
       "      <td>8.359000e+03</td>\n",
       "      <td>1.359012e+06</td>\n",
       "      <td>2.263843e+06</td>\n",
       "      <td>3.159587e+06</td>\n",
       "      <td>4.518036e+06</td>\n",
       "    </tr>\n",
       "    <tr>\n",
       "      <th>youtube</th>\n",
       "      <td>146891.0</td>\n",
       "      <td>2.264199e+07</td>\n",
       "      <td>9.244557e+06</td>\n",
       "      <td>1.296550e+05</td>\n",
       "      <td>1.599734e+07</td>\n",
       "      <td>2.266341e+07</td>\n",
       "      <td>2.929342e+07</td>\n",
       "      <td>4.519008e+07</td>\n",
       "    </tr>\n",
       "    <tr>\n",
       "      <th>netflix</th>\n",
       "      <td>146891.0</td>\n",
       "      <td>2.262936e+07</td>\n",
       "      <td>9.259223e+06</td>\n",
       "      <td>9.843200e+04</td>\n",
       "      <td>1.598200e+07</td>\n",
       "      <td>2.263459e+07</td>\n",
       "      <td>2.928815e+07</td>\n",
       "      <td>4.519815e+07</td>\n",
       "    </tr>\n",
       "    <tr>\n",
       "      <th>gaming</th>\n",
       "      <td>146891.0</td>\n",
       "      <td>4.303551e+08</td>\n",
       "      <td>2.440902e+08</td>\n",
       "      <td>3.063580e+05</td>\n",
       "      <td>2.186982e+08</td>\n",
       "      <td>4.316651e+08</td>\n",
       "      <td>6.415728e+08</td>\n",
       "      <td>8.592028e+08</td>\n",
       "    </tr>\n",
       "    <tr>\n",
       "      <th>other</th>\n",
       "      <td>146891.0</td>\n",
       "      <td>4.292667e+08</td>\n",
       "      <td>2.432095e+08</td>\n",
       "      <td>1.490450e+05</td>\n",
       "      <td>2.184706e+08</td>\n",
       "      <td>4.297978e+08</td>\n",
       "      <td>6.396656e+08</td>\n",
       "      <td>8.595209e+08</td>\n",
       "    </tr>\n",
       "    <tr>\n",
       "      <th>total_data</th>\n",
       "      <td>146891.0</td>\n",
       "      <td>4.957842e+08</td>\n",
       "      <td>2.444416e+08</td>\n",
       "      <td>2.895611e+07</td>\n",
       "      <td>2.844850e+08</td>\n",
       "      <td>4.969243e+08</td>\n",
       "      <td>7.066379e+08</td>\n",
       "      <td>9.559848e+08</td>\n",
       "    </tr>\n",
       "  </tbody>\n",
       "</table>\n",
       "</div>"
      ]
     },
     "metadata": {},
     "execution_count": 5
    }
   ],
   "metadata": {}
  },
  {
   "cell_type": "markdown",
   "source": [
    "## Analyze the basic metrics (mean, median, etc) in the Dataset (explain) & their importance for the global objective.\n"
   ],
   "metadata": {}
  },
  {
   "cell_type": "markdown",
   "source": [
    "## Non-Graphical Univariate Analysis"
   ],
   "metadata": {}
  },
  {
   "cell_type": "code",
   "execution_count": 9,
   "source": [
    "cols = ['social_media',\n",
    "        'google',\n",
    "        'email',\n",
    "        'youtube',\n",
    "        'netflix',\n",
    "        'gaming',\n",
    "        'other',\n",
    "        'total_data']"
   ],
   "outputs": [],
   "metadata": {}
  },
  {
   "cell_type": "code",
   "execution_count": 10,
   "source": [
    "fig, ax = plt.subplots(figsize=(10, 8))\n",
    "bp = sns.boxplot(data=df[cols])\n",
    "bp.set_xticklabels(bp.get_xticklabels(), rotation=90)\n",
    "plt.grid(True)"
   ],
   "outputs": [
    {
     "output_type": "display_data",
     "data": {
      "text/plain": [
       "<Figure size 720x576 with 1 Axes>"
      ],
      "image/png": "[encoded data removed]"
     },
     "metadata": {
      "needs_background": "light"
     }
    }
   ],
   "metadata": {}
  },
  {
   "cell_type": "code",
   "execution_count": 12,
   "source": [
    "from sklearn.preprocessing import StandardScaler\n",
    "scaler = StandardScaler()\n",
    "scaled_array = scaler.fit_transform(df[cols])"
   ],
   "outputs": [],
   "metadata": {}
  },
  {
   "cell_type": "code",
   "execution_count": 13,
   "source": [
    "scaled_data = pd.DataFrame(scaled_array, columns=cols)\n",
    "scaled_data.head()"
   ],
   "outputs": [
    {
     "output_type": "execute_result",
     "data": {
      "text/plain": [
       "   social_media    google     email   youtube   netflix    gaming     other  total_data\n",
       "0     -0.248709 -1.393777  1.346460 -0.463631 -0.515614 -0.565074 -1.022611   -0.614279\n",
       "1      0.101913 -0.964964 -1.233931  1.808328  1.397118  0.735655  0.463358    0.864836\n",
       "2     -0.097978  0.688390  1.030736  1.274619  0.121160 -0.820908 -0.059037   -0.769484\n",
       "3     -1.130054  1.138374 -0.175605  1.502811 -0.813977  1.556941  1.367429    1.610077\n",
       "4     -0.883527 -0.016813 -0.138853  1.252662 -0.549677  0.413299  0.556531    0.457768"
      ],
      "text/html": [
       "<div>\n",
       "<style scoped>\n",
       "    .dataframe tbody tr th:only-of-type {\n",
       "        vertical-align: middle;\n",
       "    }\n",
       "\n",
       "    .dataframe tbody tr th {\n",
       "        vertical-align: top;\n",
       "    }\n",
       "\n",
       "    .dataframe thead th {\n",
       "        text-align: right;\n",
       "    }\n",
       "</style>\n",
       "<table border=\"1\" class=\"dataframe\">\n",
       "  <thead>\n",
       "    <tr style=\"text-align: right;\">\n",
       "      <th></th>\n",
       "      <th>social_media</th>\n",
       "      <th>google</th>\n",
       "      <th>email</th>\n",
       "      <th>youtube</th>\n",
       "      <th>netflix</th>\n",
       "      <th>gaming</th>\n",
       "      <th>other</th>\n",
       "      <th>total_data</th>\n",
       "    </tr>\n",
       "  </thead>\n",
       "  <tbody>\n",
       "    <tr>\n",
       "      <th>0</th>\n",
       "      <td>-0.248709</td>\n",
       "      <td>-1.393777</td>\n",
       "      <td>1.346460</td>\n",
       "      <td>-0.463631</td>\n",
       "      <td>-0.515614</td>\n",
       "      <td>-0.565074</td>\n",
       "      <td>-1.022611</td>\n",
       "      <td>-0.614279</td>\n",
       "    </tr>\n",
       "    <tr>\n",
       "      <th>1</th>\n",
       "      <td>0.101913</td>\n",
       "      <td>-0.964964</td>\n",
       "      <td>-1.233931</td>\n",
       "      <td>1.808328</td>\n",
       "      <td>1.397118</td>\n",
       "      <td>0.735655</td>\n",
       "      <td>0.463358</td>\n",
       "      <td>0.864836</td>\n",
       "    </tr>\n",
       "    <tr>\n",
       "      <th>2</th>\n",
       "      <td>-0.097978</td>\n",
       "      <td>0.688390</td>\n",
       "      <td>1.030736</td>\n",
       "      <td>1.274619</td>\n",
       "      <td>0.121160</td>\n",
       "      <td>-0.820908</td>\n",
       "      <td>-0.059037</td>\n",
       "      <td>-0.769484</td>\n",
       "    </tr>\n",
       "    <tr>\n",
       "      <th>3</th>\n",
       "      <td>-1.130054</td>\n",
       "      <td>1.138374</td>\n",
       "      <td>-0.175605</td>\n",
       "      <td>1.502811</td>\n",
       "      <td>-0.813977</td>\n",
       "      <td>1.556941</td>\n",
       "      <td>1.367429</td>\n",
       "      <td>1.610077</td>\n",
       "    </tr>\n",
       "    <tr>\n",
       "      <th>4</th>\n",
       "      <td>-0.883527</td>\n",
       "      <td>-0.016813</td>\n",
       "      <td>-0.138853</td>\n",
       "      <td>1.252662</td>\n",
       "      <td>-0.549677</td>\n",
       "      <td>0.413299</td>\n",
       "      <td>0.556531</td>\n",
       "      <td>0.457768</td>\n",
       "    </tr>\n",
       "  </tbody>\n",
       "</table>\n",
       "</div>"
      ]
     },
     "metadata": {},
     "execution_count": 13
    }
   ],
   "metadata": {}
  },
  {
   "cell_type": "code",
   "execution_count": 16,
   "source": [
    "scaled_data.describe()"
   ],
   "outputs": [
    {
     "output_type": "execute_result",
     "data": {
      "text/plain": [
       "       social_media        google         email       youtube       netflix        gaming         other    total_data\n",
       "count  1.468910e+05  1.468910e+05  1.468910e+05  1.468910e+05  1.468910e+05  1.468910e+05  1.468910e+05  1.468910e+05\n",
       "mean  -1.925210e-17  1.309917e-16 -8.944003e-17  9.258422e-17 -1.631107e-16 -1.006140e-17 -9.384189e-18 -9.055259e-17\n",
       "std    1.000003e+00  1.000003e+00  1.000003e+00  1.000003e+00  1.000003e+00  1.000003e+00  1.000003e+00  1.000003e+00\n",
       "min   -1.763455e+00 -2.208532e+00 -2.101269e+00 -2.435207e+00 -2.433358e+00 -1.761850e+00 -1.764401e+00 -1.909780e+00\n",
       "25%   -8.656132e-01 -8.144169e-01 -8.403006e-01 -7.187660e-01 -7.179205e-01 -8.671288e-01 -8.667289e-01 -8.644184e-01\n",
       "50%   -2.269504e-03  2.110054e-03  4.448533e-03  2.316832e-03  5.646252e-04  5.366688e-03  2.183667e-03  4.664470e-03\n",
       "75%    8.685238e-01  8.174803e-01  8.407141e-01  7.194993e-01  7.191550e-01  8.653294e-01  8.650961e-01  8.625964e-01\n",
       "max    1.760503e+00  2.195214e+00  2.108960e+00  2.439075e+00  2.437448e+00  1.756929e+00  1.769074e+00  1.882667e+00"
      ],
      "text/html": [
       "<div>\n",
       "<style scoped>\n",
       "    .dataframe tbody tr th:only-of-type {\n",
       "        vertical-align: middle;\n",
       "    }\n",
       "\n",
       "    .dataframe tbody tr th {\n",
       "        vertical-align: top;\n",
       "    }\n",
       "\n",
       "    .dataframe thead th {\n",
       "        text-align: right;\n",
       "    }\n",
       "</style>\n",
       "<table border=\"1\" class=\"dataframe\">\n",
       "  <thead>\n",
       "    <tr style=\"text-align: right;\">\n",
       "      <th></th>\n",
       "      <th>social_media</th>\n",
       "      <th>google</th>\n",
       "      <th>email</th>\n",
       "      <th>youtube</th>\n",
       "      <th>netflix</th>\n",
       "      <th>gaming</th>\n",
       "      <th>other</th>\n",
       "      <th>total_data</th>\n",
       "    </tr>\n",
       "  </thead>\n",
       "  <tbody>\n",
       "    <tr>\n",
       "      <th>count</th>\n",
       "      <td>1.468910e+05</td>\n",
       "      <td>1.468910e+05</td>\n",
       "      <td>1.468910e+05</td>\n",
       "      <td>1.468910e+05</td>\n",
       "      <td>1.468910e+05</td>\n",
       "      <td>1.468910e+05</td>\n",
       "      <td>1.468910e+05</td>\n",
       "      <td>1.468910e+05</td>\n",
       "    </tr>\n",
       "    <tr>\n",
       "      <th>mean</th>\n",
       "      <td>-1.925210e-17</td>\n",
       "      <td>1.309917e-16</td>\n",
       "      <td>-8.944003e-17</td>\n",
       "      <td>9.258422e-17</td>\n",
       "      <td>-1.631107e-16</td>\n",
       "      <td>-1.006140e-17</td>\n",
       "      <td>-9.384189e-18</td>\n",
       "      <td>-9.055259e-17</td>\n",
       "    </tr>\n",
       "    <tr>\n",
       "      <th>std</th>\n",
       "      <td>1.000003e+00</td>\n",
       "      <td>1.000003e+00</td>\n",
       "      <td>1.000003e+00</td>\n",
       "      <td>1.000003e+00</td>\n",
       "      <td>1.000003e+00</td>\n",
       "      <td>1.000003e+00</td>\n",
       "      <td>1.000003e+00</td>\n",
       "      <td>1.000003e+00</td>\n",
       "    </tr>\n",
       "    <tr>\n",
       "      <th>min</th>\n",
       "      <td>-1.763455e+00</td>\n",
       "      <td>-2.208532e+00</td>\n",
       "      <td>-2.101269e+00</td>\n",
       "      <td>-2.435207e+00</td>\n",
       "      <td>-2.433358e+00</td>\n",
       "      <td>-1.761850e+00</td>\n",
       "      <td>-1.764401e+00</td>\n",
       "      <td>-1.909780e+00</td>\n",
       "    </tr>\n",
       "    <tr>\n",
       "      <th>25%</th>\n",
       "      <td>-8.656132e-01</td>\n",
       "      <td>-8.144169e-01</td>\n",
       "      <td>-8.403006e-01</td>\n",
       "      <td>-7.187660e-01</td>\n",
       "      <td>-7.179205e-01</td>\n",
       "      <td>-8.671288e-01</td>\n",
       "      <td>-8.667289e-01</td>\n",
       "      <td>-8.644184e-01</td>\n",
       "    </tr>\n",
       "    <tr>\n",
       "      <th>50%</th>\n",
       "      <td>-2.269504e-03</td>\n",
       "      <td>2.110054e-03</td>\n",
       "      <td>4.448533e-03</td>\n",
       "      <td>2.316832e-03</td>\n",
       "      <td>5.646252e-04</td>\n",
       "      <td>5.366688e-03</td>\n",
       "      <td>2.183667e-03</td>\n",
       "      <td>4.664470e-03</td>\n",
       "    </tr>\n",
       "    <tr>\n",
       "      <th>75%</th>\n",
       "      <td>8.685238e-01</td>\n",
       "      <td>8.174803e-01</td>\n",
       "      <td>8.407141e-01</td>\n",
       "      <td>7.194993e-01</td>\n",
       "      <td>7.191550e-01</td>\n",
       "      <td>8.653294e-01</td>\n",
       "      <td>8.650961e-01</td>\n",
       "      <td>8.625964e-01</td>\n",
       "    </tr>\n",
       "    <tr>\n",
       "      <th>max</th>\n",
       "      <td>1.760503e+00</td>\n",
       "      <td>2.195214e+00</td>\n",
       "      <td>2.108960e+00</td>\n",
       "      <td>2.439075e+00</td>\n",
       "      <td>2.437448e+00</td>\n",
       "      <td>1.756929e+00</td>\n",
       "      <td>1.769074e+00</td>\n",
       "      <td>1.882667e+00</td>\n",
       "    </tr>\n",
       "  </tbody>\n",
       "</table>\n",
       "</div>"
      ]
     },
     "metadata": {},
     "execution_count": 16
    }
   ],
   "metadata": {}
  },
  {
   "cell_type": "code",
   "execution_count": 17,
   "source": [
    "fig, ax = plt.subplots(figsize=(10,8))\n",
    "bp =sns.boxplot(data = scaled_data)\n",
    "bp.set_xticklabels(bp.get_xticklabels(), rotation=90)\n",
    "plt.grid(True)"
   ],
   "outputs": [
    {
     "output_type": "display_data",
     "data": {
      "text/plain": [
       "<Figure size 720x576 with 1 Axes>"
      ],
      "image/png": "[encoded data removed]"
     },
     "metadata": {
      "needs_background": "light"
     }
    }
   ],
   "metadata": {}
  },
  {
   "cell_type": "code",
   "execution_count": null,
   "source": [
    "df.describe()"
   ],
   "outputs": [],
   "metadata": {}
  },
  {
   "cell_type": "markdown",
   "source": [
    "## Graphical Univariate Analysis"
   ],
   "metadata": {}
  },
  {
   "cell_type": "code",
   "execution_count": 18,
   "source": [
    "plt.figure(figsize=(9, 7))\n",
    "sns.distplot(df.sample(20000)['dur_(ms)']).set_title(\n",
    "    'Distribution how much time customers spend on internet')\n",
    "print(df.sample(5000)['dur_(ms)'].mean())\n"
   ],
   "outputs": [
    {
     "output_type": "stream",
     "name": "stderr",
     "text": [
      "/usr/local/lib/python3.9/site-packages/seaborn/distributions.py:2557: FutureWarning: `distplot` is a deprecated function and will be removed in a future version. Please adapt your code to use either `displot` (a figure-level function with similar flexibility) or `histplot` (an axes-level function for histograms).\n",
      "  warnings.warn(msg, FutureWarning)\n"
     ]
    },
    {
     "output_type": "stream",
     "name": "stdout",
     "text": [
      "100429.10835\n"
     ]
    },
    {
     "output_type": "display_data",
     "data": {
      "text/plain": [
       "<Figure size 648x504 with 1 Axes>"
      ],
      "image/png": "[encoded data removed]"
     },
     "metadata": {
      "needs_background": "light"
     }
    }
   ],
   "metadata": {}
  },
  {
   "cell_type": "code",
   "execution_count": 19,
   "source": [
    "plt.figure(figsize=(9, 7))\n",
    "sns.distplot(df.sample(10000)['total_data']).set_title(\n",
    "    'Distribution of total downloaded data')\n",
    "print(df.sample(10000)['total_data'].mean())"
   ],
   "outputs": [
    {
     "output_type": "stream",
     "name": "stderr",
     "text": [
      "/usr/local/lib/python3.9/site-packages/seaborn/distributions.py:2557: FutureWarning: `distplot` is a deprecated function and will be removed in a future version. Please adapt your code to use either `displot` (a figure-level function with similar flexibility) or `histplot` (an axes-level function for histograms).\n",
      "  warnings.warn(msg, FutureWarning)\n"
     ]
    },
    {
     "output_type": "stream",
     "name": "stdout",
     "text": [
      "495464332.8134\n"
     ]
    },
    {
     "output_type": "display_data",
     "data": {
      "text/plain": [
       "<Figure size 648x504 with 1 Axes>"
      ],
      "image/png": "[encoded data removed]"
     },
     "metadata": {
      "needs_background": "light"
     }
    }
   ],
   "metadata": {}
  },
  {
   "cell_type": "code",
   "execution_count": null,
   "source": [
    "histogram for categorical"
   ],
   "outputs": [],
   "metadata": {}
  },
  {
   "cell_type": "code",
   "execution_count": 20,
   "source": [
    "plt.figure(figsize=(9, 7))\n",
    "sns.distplot(df.sample(10000)['social_media'])\n",
    "print(df.sample(10000)['social_media'].mean())\n"
   ],
   "outputs": [
    {
     "output_type": "stream",
     "name": "stderr",
     "text": [
      "/usr/local/lib/python3.9/site-packages/seaborn/distributions.py:2557: FutureWarning: `distplot` is a deprecated function and will be removed in a future version. Please adapt your code to use either `displot` (a figure-level function with similar flexibility) or `histplot` (an axes-level function for histograms).\n",
      "  warnings.warn(msg, FutureWarning)\n"
     ]
    },
    {
     "output_type": "stream",
     "name": "stdout",
     "text": [
      "1803905.2555\n"
     ]
    },
    {
     "output_type": "display_data",
     "data": {
      "text/plain": [
       "<Figure size 648x504 with 1 Axes>"
      ],
      "image/png": "[encoded data removed]"
     },
     "metadata": {
      "needs_background": "light"
     }
    }
   ],
   "metadata": {}
  },
  {
   "cell_type": "markdown",
   "source": [
    "## Bivariate Analysis – explore the relationship between each application & the total DL+UL data using appropriate methods and interpret your findings. \n"
   ],
   "metadata": {}
  },
  {
   "cell_type": "code",
   "execution_count": null,
   "source": [
    "plot"
   ],
   "outputs": [],
   "metadata": {}
  },
  {
   "cell_type": "code",
   "execution_count": null,
   "source": [],
   "outputs": [],
   "metadata": {}
  },
  {
   "cell_type": "markdown",
   "source": [
    "## Variable transformations – segment the users into top five decile classes based on the total duration for all sessions and compute the total data (DL+UL) per decile class. \n"
   ],
   "metadata": {}
  },
  {
   "cell_type": "code",
   "execution_count": 23,
   "source": [
    "df['dur_5_decile'] = pd.qcut(df['dur_(ms)'], 5, labels=np.arange(1, 6))\n",
    "total_data_per_decile = df.groupby('dur_5_decile').agg(\n",
    "    {'total_data': 'sum', 'dur_(ms)': 'sum'})\n",
    "\n",
    "total_data_per_decile\n"
   ],
   "outputs": [
    {
     "output_type": "execute_result",
     "data": {
      "text/plain": [
       "                total_data      dur_(ms)\n",
       "dur_5_decile                            \n",
       "1             1.456899e+13  8.358108e+08\n",
       "2             2.274651e+13  3.534206e+09\n",
       "3             6.349449e+12  1.126580e+09\n",
       "4             1.454192e+13  3.471441e+09\n",
       "5             1.461937e+13  5.748690e+09"
      ],
      "text/html": [
       "<div>\n",
       "<style scoped>\n",
       "    .dataframe tbody tr th:only-of-type {\n",
       "        vertical-align: middle;\n",
       "    }\n",
       "\n",
       "    .dataframe tbody tr th {\n",
       "        vertical-align: top;\n",
       "    }\n",
       "\n",
       "    .dataframe thead th {\n",
       "        text-align: right;\n",
       "    }\n",
       "</style>\n",
       "<table border=\"1\" class=\"dataframe\">\n",
       "  <thead>\n",
       "    <tr style=\"text-align: right;\">\n",
       "      <th></th>\n",
       "      <th>total_data</th>\n",
       "      <th>dur_(ms)</th>\n",
       "    </tr>\n",
       "    <tr>\n",
       "      <th>dur_5_decile</th>\n",
       "      <th></th>\n",
       "      <th></th>\n",
       "    </tr>\n",
       "  </thead>\n",
       "  <tbody>\n",
       "    <tr>\n",
       "      <th>1</th>\n",
       "      <td>1.456899e+13</td>\n",
       "      <td>8.358108e+08</td>\n",
       "    </tr>\n",
       "    <tr>\n",
       "      <th>2</th>\n",
       "      <td>2.274651e+13</td>\n",
       "      <td>3.534206e+09</td>\n",
       "    </tr>\n",
       "    <tr>\n",
       "      <th>3</th>\n",
       "      <td>6.349449e+12</td>\n",
       "      <td>1.126580e+09</td>\n",
       "    </tr>\n",
       "    <tr>\n",
       "      <th>4</th>\n",
       "      <td>1.454192e+13</td>\n",
       "      <td>3.471441e+09</td>\n",
       "    </tr>\n",
       "    <tr>\n",
       "      <th>5</th>\n",
       "      <td>1.461937e+13</td>\n",
       "      <td>5.748690e+09</td>\n",
       "    </tr>\n",
       "  </tbody>\n",
       "</table>\n",
       "</div>"
      ]
     },
     "metadata": {},
     "execution_count": 23
    }
   ],
   "metadata": {}
  },
  {
   "cell_type": "code",
   "execution_count": 24,
   "source": [
    "plt.figure(figsize=(10, 7))\n",
    "total_data_per_decile.plot(linestyle='-', marker='o', figsize=(10, 7),\n",
    "                           title='Top 5 deciled customers by duration').set_xlabel(\"Decile By Duration\")\n",
    "plt.xticks(np.arange(len(total_data_per_decile.index)),\n",
    "           total_data_per_decile.index)\n"
   ],
   "outputs": [
    {
     "output_type": "execute_result",
     "data": {
      "text/plain": [
       "([<matplotlib.axis.XTick at 0x126f9a790>,\n",
       "  <matplotlib.axis.XTick at 0x124998340>,\n",
       "  <matplotlib.axis.XTick at 0x126e2ba60>,\n",
       "  <matplotlib.axis.XTick at 0x12910bc40>,\n",
       "  <matplotlib.axis.XTick at 0x1291153d0>],\n",
       " [Text(0, 0, '1'),\n",
       "  Text(1, 0, '2'),\n",
       "  Text(2, 0, '3'),\n",
       "  Text(3, 0, '4'),\n",
       "  Text(4, 0, '5')])"
      ]
     },
     "metadata": {},
     "execution_count": 24
    },
    {
     "output_type": "display_data",
     "data": {
      "text/plain": [
       "<Figure size 720x504 with 0 Axes>"
      ]
     },
     "metadata": {}
    },
    {
     "output_type": "display_data",
     "data": {
      "text/plain": [
       "<Figure size 720x504 with 1 Axes>"
      ],
      "image/png": "[encoded data removed]"
     },
     "metadata": {
      "needs_background": "light"
     }
    }
   ],
   "metadata": {}
  },
  {
   "cell_type": "markdown",
   "source": [
    "## Correlation Analysis "
   ],
   "metadata": {}
  },
  {
   "cell_type": "code",
   "execution_count": 29,
   "source": [
    "data_usage_df = df[['social_media',\n",
    "                   'google',\n",
    "                    'email',\n",
    "                    'youtube',\n",
    "                    'netflix',\n",
    "                    'gaming',\n",
    "                    'other', ]].copy()\n",
    "data_usage_corr = data_usage_df.corr(method='pearson')\n",
    "data_usage_corr\n"
   ],
   "outputs": [
    {
     "output_type": "execute_result",
     "data": {
      "text/plain": [
       "              social_media    google     email   youtube   netflix    gaming     other\n",
       "social_media      1.000000 -0.001919  0.004188  0.000580  0.001386  0.001901  0.005540\n",
       "google           -0.001919  1.000000 -0.000049  0.002178 -0.002013 -0.000803 -0.001290\n",
       "email             0.004188 -0.000049  1.000000 -0.003438  0.001499  0.000065 -0.000778\n",
       "youtube           0.000580  0.002178 -0.003438  1.000000  0.003611 -0.003670  0.003235\n",
       "netflix           0.001386 -0.002013  0.001499  0.003611  1.000000 -0.003532 -0.007927\n",
       "gaming            0.001901 -0.000803  0.000065 -0.003670 -0.003532  1.000000 -0.002821\n",
       "other             0.005540 -0.001290 -0.000778  0.003235 -0.007927 -0.002821  1.000000"
      ],
      "text/html": [
       "<div>\n",
       "<style scoped>\n",
       "    .dataframe tbody tr th:only-of-type {\n",
       "        vertical-align: middle;\n",
       "    }\n",
       "\n",
       "    .dataframe tbody tr th {\n",
       "        vertical-align: top;\n",
       "    }\n",
       "\n",
       "    .dataframe thead th {\n",
       "        text-align: right;\n",
       "    }\n",
       "</style>\n",
       "<table border=\"1\" class=\"dataframe\">\n",
       "  <thead>\n",
       "    <tr style=\"text-align: right;\">\n",
       "      <th></th>\n",
       "      <th>social_media</th>\n",
       "      <th>google</th>\n",
       "      <th>email</th>\n",
       "      <th>youtube</th>\n",
       "      <th>netflix</th>\n",
       "      <th>gaming</th>\n",
       "      <th>other</th>\n",
       "    </tr>\n",
       "  </thead>\n",
       "  <tbody>\n",
       "    <tr>\n",
       "      <th>social_media</th>\n",
       "      <td>1.000000</td>\n",
       "      <td>-0.001919</td>\n",
       "      <td>0.004188</td>\n",
       "      <td>0.000580</td>\n",
       "      <td>0.001386</td>\n",
       "      <td>0.001901</td>\n",
       "      <td>0.005540</td>\n",
       "    </tr>\n",
       "    <tr>\n",
       "      <th>google</th>\n",
       "      <td>-0.001919</td>\n",
       "      <td>1.000000</td>\n",
       "      <td>-0.000049</td>\n",
       "      <td>0.002178</td>\n",
       "      <td>-0.002013</td>\n",
       "      <td>-0.000803</td>\n",
       "      <td>-0.001290</td>\n",
       "    </tr>\n",
       "    <tr>\n",
       "      <th>email</th>\n",
       "      <td>0.004188</td>\n",
       "      <td>-0.000049</td>\n",
       "      <td>1.000000</td>\n",
       "      <td>-0.003438</td>\n",
       "      <td>0.001499</td>\n",
       "      <td>0.000065</td>\n",
       "      <td>-0.000778</td>\n",
       "    </tr>\n",
       "    <tr>\n",
       "      <th>youtube</th>\n",
       "      <td>0.000580</td>\n",
       "      <td>0.002178</td>\n",
       "      <td>-0.003438</td>\n",
       "      <td>1.000000</td>\n",
       "      <td>0.003611</td>\n",
       "      <td>-0.003670</td>\n",
       "      <td>0.003235</td>\n",
       "    </tr>\n",
       "    <tr>\n",
       "      <th>netflix</th>\n",
       "      <td>0.001386</td>\n",
       "      <td>-0.002013</td>\n",
       "      <td>0.001499</td>\n",
       "      <td>0.003611</td>\n",
       "      <td>1.000000</td>\n",
       "      <td>-0.003532</td>\n",
       "      <td>-0.007927</td>\n",
       "    </tr>\n",
       "    <tr>\n",
       "      <th>gaming</th>\n",
       "      <td>0.001901</td>\n",
       "      <td>-0.000803</td>\n",
       "      <td>0.000065</td>\n",
       "      <td>-0.003670</td>\n",
       "      <td>-0.003532</td>\n",
       "      <td>1.000000</td>\n",
       "      <td>-0.002821</td>\n",
       "    </tr>\n",
       "    <tr>\n",
       "      <th>other</th>\n",
       "      <td>0.005540</td>\n",
       "      <td>-0.001290</td>\n",
       "      <td>-0.000778</td>\n",
       "      <td>0.003235</td>\n",
       "      <td>-0.007927</td>\n",
       "      <td>-0.002821</td>\n",
       "      <td>1.000000</td>\n",
       "    </tr>\n",
       "  </tbody>\n",
       "</table>\n",
       "</div>"
      ]
     },
     "metadata": {},
     "execution_count": 29
    }
   ],
   "metadata": {}
  },
  {
   "cell_type": "code",
   "execution_count": 30,
   "source": [
    "plt.figure(figsize=(10, 7))\n",
    "ax = sns.heatmap(data_usage_corr,\n",
    "                 xticklabels=data_usage_corr.columns,\n",
    "                 yticklabels=data_usage_corr.columns,\n",
    "                 annot=True,)\n",
    "ax.set_title('Correlation between application data volume')\n",
    "ax.set_xticklabels(ax.get_xticklabels(), rotation=20, ha=\"right\")"
   ],
   "outputs": [
    {
     "output_type": "execute_result",
     "data": {
      "text/plain": [
       "[Text(0.5, 0, 'social_media'),\n",
       " Text(1.5, 0, 'google'),\n",
       " Text(2.5, 0, 'email'),\n",
       " Text(3.5, 0, 'youtube'),\n",
       " Text(4.5, 0, 'netflix'),\n",
       " Text(5.5, 0, 'gaming'),\n",
       " Text(6.5, 0, 'other')]"
      ]
     },
     "metadata": {},
     "execution_count": 30
    },
    {
     "output_type": "display_data",
     "data": {
      "text/plain": [
       "<Figure size 720x504 with 2 Axes>"
      ],
      "image/png": "[encoded data removed]"
     },
     "metadata": {
      "needs_background": "light"
     }
    }
   ],
   "metadata": {}
  },
  {
   "cell_type": "markdown",
   "source": [
    "## Dimensionality Reduction – perform a principal component analysis to reduce the dimensions of your data and provide a useful interpretation of the results (Provide your interpretation in four (4) bullet points-maximum). "
   ],
   "metadata": {}
  },
  {
   "cell_type": "markdown",
   "source": [
    "## Data Understanding"
   ],
   "metadata": {}
  },
  {
   "cell_type": "code",
   "execution_count": null,
   "source": [
    "print('\\nNumber of unique values => ' + str(len(df['gaming_ul'].unique())))\n"
   ],
   "outputs": [],
   "metadata": {}
  },
  {
   "cell_type": "markdown",
   "source": [
    "## Data Cleaning"
   ],
   "metadata": {}
  },
  {
   "cell_type": "code",
   "execution_count": null,
   "source": [],
   "outputs": [],
   "metadata": {}
  }
 ],
 "metadata": {
  "orig_nbformat": 4,
  "language_info": {
   "name": "python"
  }
 },
 "nbformat": 4,
 "nbformat_minor": 2
}