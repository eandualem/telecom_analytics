{
 "cells": [
  {
   "cell_type": "markdown",
   "source": [
    "# Data Analysis"
   ],
   "metadata": {}
  },
  {
   "cell_type": "markdown",
   "source": [
    "## Imports"
   ],
   "metadata": {}
  },
  {
   "cell_type": "code",
   "execution_count": 1,
   "source": [
    "import numpy as np\n",
    "import pandas as pd\n",
    "import plotly.express as px\n",
    "import plotly.graph_objects as go\n",
    "from plotly.subplots import make_subplots\n",
    "from sklearn.preprocessing import StandardScaler\n",
    "from sklearn.decomposition import PCA"
   ],
   "outputs": [],
   "metadata": {}
  },
  {
   "cell_type": "code",
   "execution_count": 2,
   "source": [
    "pd.set_option('display.max_columns', None)\n",
    "pd.set_option('display.max_colwidth', None)\n",
    "pd.set_option(\"expand_frame_repr\", False)\n",
    "# pd.set_option('display.float_format', '{:.2f}'.format)"
   ],
   "outputs": [],
   "metadata": {}
  },
  {
   "cell_type": "code",
   "execution_count": 3,
   "source": [
    "sys.path.append(os.path.abspath(os.path.join('../scripts')))\n",
    "from df_overview import DfOverview\n",
    "from df_cleaner import DfCleaner\n",
    "from df_selector import DfSelector\n",
    "from vis_seaborn import *\n",
    "from vis_plotly import *"
   ],
   "outputs": [
    {
     "output_type": "stream",
     "name": "stdout",
     "text": [
      "2021-07-16 03:16:24,117 — DfOverview — DEBUG — Loaded successfully!\n",
      "2021-07-16 03:16:24,123 — DfCleaner — DEBUG — Loaded successfully!\n",
      "2021-07-16 03:16:24,126 — DfSelector — DEBUG — Loaded successfully!\n"
     ]
    }
   ],
   "metadata": {}
  },
  {
   "cell_type": "markdown",
   "source": [
    "## Data reading"
   ],
   "metadata": {}
  },
  {
   "cell_type": "code",
   "execution_count": 4,
   "source": [
    "df = pd.read_csv(\"../data/clean_data.csv\")\n",
    "df.info()"
   ],
   "outputs": [
    {
     "output_type": "stream",
     "name": "stdout",
     "text": [
      "<class 'pandas.core.frame.DataFrame'>\n",
      "RangeIndex: 146882 entries, 0 to 146881\n",
      "Data columns (total 54 columns):\n",
      " #   Column                          Non-Null Count   Dtype  \n",
      "---  ------                          --------------   -----  \n",
      " 0   bearer_id                       146882 non-null  int64  \n",
      " 1   start                           146882 non-null  object \n",
      " 2   start_ms                        146882 non-null  float64\n",
      " 3   end                             146882 non-null  object \n",
      " 4   end_ms                          146882 non-null  float64\n",
      " 5   dur_(ms)                        146882 non-null  float64\n",
      " 6   imsi                            146882 non-null  int64  \n",
      " 7   msisdn_number                   146882 non-null  int64  \n",
      " 8   imei                            146882 non-null  int64  \n",
      " 9   last_location_name              146882 non-null  object \n",
      " 10  avg_rtt_dl_(ms)                 146882 non-null  float64\n",
      " 11  avg_rtt_ul_(ms)                 146882 non-null  float64\n",
      " 12  avg_bearer_tp_dl_(kbps)         146882 non-null  float64\n",
      " 13  avg_bearer_tp_ul_(kbps)         146882 non-null  float64\n",
      " 14  tcp_dl_retrans_vol_(bytes)      146882 non-null  float64\n",
      " 15  tcp_ul_retrans_vol_(bytes)      146882 non-null  float64\n",
      " 16  dl_tp_<_50_kbps_(%)             146882 non-null  float64\n",
      " 17  50_kbps_<_dl_tp_<_250_kbps_(%)  146882 non-null  float64\n",
      " 18  250_kbps_<_dl_tp_<_1_mbps_(%)   146882 non-null  float64\n",
      " 19  dl_tp_>_1_mbps_(%)              146882 non-null  float64\n",
      " 20  ul_tp_<_10_kbps_(%)             146882 non-null  float64\n",
      " 21  10_kbps_<_ul_tp_<_50_kbps_(%)   146882 non-null  float64\n",
      " 22  50_kbps_<_ul_tp_<_300_kbps_(%)  146882 non-null  float64\n",
      " 23  ul_tp_>_300_kbps_(%)            146882 non-null  float64\n",
      " 24  activity_duration_dl_(ms)       146882 non-null  float64\n",
      " 25  activity_duration_ul_(ms)       146882 non-null  float64\n",
      " 26  handset_manufacturer            146882 non-null  object \n",
      " 27  handset_type                    146882 non-null  object \n",
      " 28  nb_of_sec_with_vol_dl_<_6250b   146882 non-null  float64\n",
      " 29  nb_of_sec_with_vol_ul_<_1250b   146882 non-null  float64\n",
      " 30  social_media_dl_(bytes)         146882 non-null  float64\n",
      " 31  social_media_ul_(bytes)         146882 non-null  float64\n",
      " 32  google_dl_(bytes)               146882 non-null  float64\n",
      " 33  google_ul_(bytes)               146882 non-null  float64\n",
      " 34  email_dl_(bytes)                146882 non-null  float64\n",
      " 35  email_ul_(bytes)                146882 non-null  float64\n",
      " 36  youtube_dl_(bytes)              146882 non-null  float64\n",
      " 37  youtube_ul_(bytes)              146882 non-null  float64\n",
      " 38  netflix_dl_(bytes)              146882 non-null  float64\n",
      " 39  netflix_ul_(bytes)              146882 non-null  float64\n",
      " 40  gaming_dl_(bytes)               146882 non-null  float64\n",
      " 41  gaming_ul_(bytes)               146882 non-null  float64\n",
      " 42  other_dl_(bytes)                146882 non-null  float64\n",
      " 43  other_ul_(bytes)                146882 non-null  float64\n",
      " 44  total_ul_(bytes)                146882 non-null  float64\n",
      " 45  total_dl_(bytes)                146882 non-null  float64\n",
      " 46  social_media                    146882 non-null  float64\n",
      " 47  google                          146882 non-null  float64\n",
      " 48  email                           146882 non-null  float64\n",
      " 49  youtube                         146882 non-null  float64\n",
      " 50  netflix                         146882 non-null  float64\n",
      " 51  gaming                          146882 non-null  float64\n",
      " 52  other                           146882 non-null  float64\n",
      " 53  total_data                      146882 non-null  float64\n",
      "dtypes: float64(45), int64(4), object(5)\n",
      "memory usage: 60.5+ MB\n"
     ]
    }
   ],
   "metadata": {}
  },
  {
   "cell_type": "markdown",
   "source": [
    "## Describe all  relevant variables and associated data types (slide). "
   ],
   "metadata": {}
  },
  {
   "cell_type": "markdown",
   "source": [
    "The columns we would be doing this Univariate Analysis are given in task 1.1 They are\n",
    "- number of xDR sessions\n",
    "- Session duration\n",
    "- the total download(DL) and upload(UL) data\n",
    "- the total data volume for Applications\n",
    "\n",
    "I choose the following columns based on that"
   ],
   "metadata": {}
  },
  {
   "cell_type": "code",
   "execution_count": 5,
   "source": [
    "relavant_cols = [\"msisdn_number\",\n",
    "                 \"handset_manufacturer\",\n",
    "                 \"bearer_id\", \n",
    "                 \"dur_(ms)\",\n",
    "                 'social_media',\n",
    "                 'google',\n",
    "                 'email',\n",
    "                 'youtube',\n",
    "                 'netflix',\n",
    "                 'gaming',\n",
    "                 'other',\n",
    "                 'total_data']"
   ],
   "outputs": [],
   "metadata": {}
  },
  {
   "cell_type": "code",
   "execution_count": 6,
   "source": [
    "df[relavant_cols].head()"
   ],
   "outputs": [
    {
     "output_type": "execute_result",
     "data": {
      "text/plain": [
       "   msisdn_number handset_manufacturer            bearer_id  dur_(ms)  social_media      google      email     youtube     netflix       gaming        other   total_data\n",
       "0    33659219748              Samsung -9223372036854775808  245071.0     1585413.0   8778341.0   766046.0  22911539.0  13185350.0  812946425.0   77671250.0  872988322.0\n",
       "1    33665646348                Apple  7277825610512449536  245071.0     2697600.0   6532777.0  3780918.0  21981135.0  26779600.0  574923841.0  110548061.0  651527183.0\n",
       "2    33664473872               Huawei -9223372036854775808  245071.0      839351.0   8822396.0  2348652.0  19623308.0  20124838.0  505668618.0  538369717.0  568809782.0\n",
       "3    33603291937              Samsung -9223372036854775808  245071.0     1715492.0  13395961.0  3424203.0  26178247.0  22810379.0  769947925.0   45876928.0  848798988.0\n",
       "4    33659219748              Samsung -9223372036854775808  245071.0     2480347.0   7991932.0  3672362.0  25308492.0  26233613.0  255096405.0   50438697.0  331143097.0"
      ],
      "text/html": [
       "<div>\n",
       "<style scoped>\n",
       "    .dataframe tbody tr th:only-of-type {\n",
       "        vertical-align: middle;\n",
       "    }\n",
       "\n",
       "    .dataframe tbody tr th {\n",
       "        vertical-align: top;\n",
       "    }\n",
       "\n",
       "    .dataframe thead th {\n",
       "        text-align: right;\n",
       "    }\n",
       "</style>\n",
       "<table border=\"1\" class=\"dataframe\">\n",
       "  <thead>\n",
       "    <tr style=\"text-align: right;\">\n",
       "      <th></th>\n",
       "      <th>msisdn_number</th>\n",
       "      <th>handset_manufacturer</th>\n",
       "      <th>bearer_id</th>\n",
       "      <th>dur_(ms)</th>\n",
       "      <th>social_media</th>\n",
       "      <th>google</th>\n",
       "      <th>email</th>\n",
       "      <th>youtube</th>\n",
       "      <th>netflix</th>\n",
       "      <th>gaming</th>\n",
       "      <th>other</th>\n",
       "      <th>total_data</th>\n",
       "    </tr>\n",
       "  </thead>\n",
       "  <tbody>\n",
       "    <tr>\n",
       "      <th>0</th>\n",
       "      <td>33659219748</td>\n",
       "      <td>Samsung</td>\n",
       "      <td>-9223372036854775808</td>\n",
       "      <td>245071.0</td>\n",
       "      <td>1585413.0</td>\n",
       "      <td>8778341.0</td>\n",
       "      <td>766046.0</td>\n",
       "      <td>22911539.0</td>\n",
       "      <td>13185350.0</td>\n",
       "      <td>812946425.0</td>\n",
       "      <td>77671250.0</td>\n",
       "      <td>872988322.0</td>\n",
       "    </tr>\n",
       "    <tr>\n",
       "      <th>1</th>\n",
       "      <td>33665646348</td>\n",
       "      <td>Apple</td>\n",
       "      <td>7277825610512449536</td>\n",
       "      <td>245071.0</td>\n",
       "      <td>2697600.0</td>\n",
       "      <td>6532777.0</td>\n",
       "      <td>3780918.0</td>\n",
       "      <td>21981135.0</td>\n",
       "      <td>26779600.0</td>\n",
       "      <td>574923841.0</td>\n",
       "      <td>110548061.0</td>\n",
       "      <td>651527183.0</td>\n",
       "    </tr>\n",
       "    <tr>\n",
       "      <th>2</th>\n",
       "      <td>33664473872</td>\n",
       "      <td>Huawei</td>\n",
       "      <td>-9223372036854775808</td>\n",
       "      <td>245071.0</td>\n",
       "      <td>839351.0</td>\n",
       "      <td>8822396.0</td>\n",
       "      <td>2348652.0</td>\n",
       "      <td>19623308.0</td>\n",
       "      <td>20124838.0</td>\n",
       "      <td>505668618.0</td>\n",
       "      <td>538369717.0</td>\n",
       "      <td>568809782.0</td>\n",
       "    </tr>\n",
       "    <tr>\n",
       "      <th>3</th>\n",
       "      <td>33603291937</td>\n",
       "      <td>Samsung</td>\n",
       "      <td>-9223372036854775808</td>\n",
       "      <td>245071.0</td>\n",
       "      <td>1715492.0</td>\n",
       "      <td>13395961.0</td>\n",
       "      <td>3424203.0</td>\n",
       "      <td>26178247.0</td>\n",
       "      <td>22810379.0</td>\n",
       "      <td>769947925.0</td>\n",
       "      <td>45876928.0</td>\n",
       "      <td>848798988.0</td>\n",
       "    </tr>\n",
       "    <tr>\n",
       "      <th>4</th>\n",
       "      <td>33659219748</td>\n",
       "      <td>Samsung</td>\n",
       "      <td>-9223372036854775808</td>\n",
       "      <td>245071.0</td>\n",
       "      <td>2480347.0</td>\n",
       "      <td>7991932.0</td>\n",
       "      <td>3672362.0</td>\n",
       "      <td>25308492.0</td>\n",
       "      <td>26233613.0</td>\n",
       "      <td>255096405.0</td>\n",
       "      <td>50438697.0</td>\n",
       "      <td>331143097.0</td>\n",
       "    </tr>\n",
       "  </tbody>\n",
       "</table>\n",
       "</div>"
      ]
     },
     "metadata": {},
     "execution_count": 6
    }
   ],
   "metadata": {}
  },
  {
   "cell_type": "markdown",
   "source": [
    "## Analyze the basic metrics (mean, median, etc) in the Dataset (explain) & their importance for the global objective.\n"
   ],
   "metadata": {}
  },
  {
   "cell_type": "code",
   "execution_count": 7,
   "source": [
    "df[relavant_cols].describe()"
   ],
   "outputs": [
    {
     "output_type": "execute_result",
     "data": {
      "text/plain": [
       "       msisdn_number     bearer_id       dur_(ms)  social_media        google         email       youtube       netflix        gaming         other    total_data\n",
       "count   1.468820e+05  1.468820e+05  146882.000000  1.468820e+05  1.468820e+05  1.468820e+05  1.468820e+05  1.468820e+05  1.468820e+05  1.468820e+05  1.468820e+05\n",
       "mean    3.596869e+10 -8.628466e+17  100178.017906  1.827749e+06  7.807995e+06  2.259053e+06  2.264163e+07  2.262943e+07  4.303485e+08  4.292612e+08  4.957771e+08\n",
       "std     8.792295e+11  8.256065e+18   58974.027810  1.035576e+06  3.517123e+06  1.071134e+06  9.244443e+06  9.259341e+06  2.440874e+08  2.432103e+08  2.444379e+08\n",
       "min     3.360100e+10 -9.223372e+18    7142.000000  1.563000e+03  4.033000e+04  8.359000e+03  1.296550e+05  9.843200e+04  3.063580e+05  1.490450e+05  2.895611e+07\n",
       "25%     3.365128e+10 -9.223372e+18   58526.000000  9.313442e+05  4.943722e+06  1.358982e+06  1.599688e+07  1.598191e+07  2.186899e+08  2.184676e+08  2.844771e+08\n",
       "50%     3.366369e+10  6.917538e+18   86399.000000  1.825410e+06  7.815465e+06  2.263822e+06  2.266287e+07  2.263517e+07  4.316601e+08  4.297967e+08  4.969303e+08\n",
       "75%     3.368344e+10  7.349883e+18  133144.000000  2.727156e+06  1.068315e+07  3.159540e+06  2.929221e+07  2.928816e+07  6.415632e+08  6.396632e+08  7.066147e+08\n",
       "max     3.370000e+14  7.566056e+18  245071.000000  3.650861e+06  1.552878e+07  4.518036e+06  4.519008e+07  4.519815e+07  8.592028e+08  8.595209e+08  9.536320e+08"
      ],
      "text/html": [
       "<div>\n",
       "<style scoped>\n",
       "    .dataframe tbody tr th:only-of-type {\n",
       "        vertical-align: middle;\n",
       "    }\n",
       "\n",
       "    .dataframe tbody tr th {\n",
       "        vertical-align: top;\n",
       "    }\n",
       "\n",
       "    .dataframe thead th {\n",
       "        text-align: right;\n",
       "    }\n",
       "</style>\n",
       "<table border=\"1\" class=\"dataframe\">\n",
       "  <thead>\n",
       "    <tr style=\"text-align: right;\">\n",
       "      <th></th>\n",
       "      <th>msisdn_number</th>\n",
       "      <th>bearer_id</th>\n",
       "      <th>dur_(ms)</th>\n",
       "      <th>social_media</th>\n",
       "      <th>google</th>\n",
       "      <th>email</th>\n",
       "      <th>youtube</th>\n",
       "      <th>netflix</th>\n",
       "      <th>gaming</th>\n",
       "      <th>other</th>\n",
       "      <th>total_data</th>\n",
       "    </tr>\n",
       "  </thead>\n",
       "  <tbody>\n",
       "    <tr>\n",
       "      <th>count</th>\n",
       "      <td>1.468820e+05</td>\n",
       "      <td>1.468820e+05</td>\n",
       "      <td>146882.000000</td>\n",
       "      <td>1.468820e+05</td>\n",
       "      <td>1.468820e+05</td>\n",
       "      <td>1.468820e+05</td>\n",
       "      <td>1.468820e+05</td>\n",
       "      <td>1.468820e+05</td>\n",
       "      <td>1.468820e+05</td>\n",
       "      <td>1.468820e+05</td>\n",
       "      <td>1.468820e+05</td>\n",
       "    </tr>\n",
       "    <tr>\n",
       "      <th>mean</th>\n",
       "      <td>3.596869e+10</td>\n",
       "      <td>-8.628466e+17</td>\n",
       "      <td>100178.017906</td>\n",
       "      <td>1.827749e+06</td>\n",
       "      <td>7.807995e+06</td>\n",
       "      <td>2.259053e+06</td>\n",
       "      <td>2.264163e+07</td>\n",
       "      <td>2.262943e+07</td>\n",
       "      <td>4.303485e+08</td>\n",
       "      <td>4.292612e+08</td>\n",
       "      <td>4.957771e+08</td>\n",
       "    </tr>\n",
       "    <tr>\n",
       "      <th>std</th>\n",
       "      <td>8.792295e+11</td>\n",
       "      <td>8.256065e+18</td>\n",
       "      <td>58974.027810</td>\n",
       "      <td>1.035576e+06</td>\n",
       "      <td>3.517123e+06</td>\n",
       "      <td>1.071134e+06</td>\n",
       "      <td>9.244443e+06</td>\n",
       "      <td>9.259341e+06</td>\n",
       "      <td>2.440874e+08</td>\n",
       "      <td>2.432103e+08</td>\n",
       "      <td>2.444379e+08</td>\n",
       "    </tr>\n",
       "    <tr>\n",
       "      <th>min</th>\n",
       "      <td>3.360100e+10</td>\n",
       "      <td>-9.223372e+18</td>\n",
       "      <td>7142.000000</td>\n",
       "      <td>1.563000e+03</td>\n",
       "      <td>4.033000e+04</td>\n",
       "      <td>8.359000e+03</td>\n",
       "      <td>1.296550e+05</td>\n",
       "      <td>9.843200e+04</td>\n",
       "      <td>3.063580e+05</td>\n",
       "      <td>1.490450e+05</td>\n",
       "      <td>2.895611e+07</td>\n",
       "    </tr>\n",
       "    <tr>\n",
       "      <th>25%</th>\n",
       "      <td>3.365128e+10</td>\n",
       "      <td>-9.223372e+18</td>\n",
       "      <td>58526.000000</td>\n",
       "      <td>9.313442e+05</td>\n",
       "      <td>4.943722e+06</td>\n",
       "      <td>1.358982e+06</td>\n",
       "      <td>1.599688e+07</td>\n",
       "      <td>1.598191e+07</td>\n",
       "      <td>2.186899e+08</td>\n",
       "      <td>2.184676e+08</td>\n",
       "      <td>2.844771e+08</td>\n",
       "    </tr>\n",
       "    <tr>\n",
       "      <th>50%</th>\n",
       "      <td>3.366369e+10</td>\n",
       "      <td>6.917538e+18</td>\n",
       "      <td>86399.000000</td>\n",
       "      <td>1.825410e+06</td>\n",
       "      <td>7.815465e+06</td>\n",
       "      <td>2.263822e+06</td>\n",
       "      <td>2.266287e+07</td>\n",
       "      <td>2.263517e+07</td>\n",
       "      <td>4.316601e+08</td>\n",
       "      <td>4.297967e+08</td>\n",
       "      <td>4.969303e+08</td>\n",
       "    </tr>\n",
       "    <tr>\n",
       "      <th>75%</th>\n",
       "      <td>3.368344e+10</td>\n",
       "      <td>7.349883e+18</td>\n",
       "      <td>133144.000000</td>\n",
       "      <td>2.727156e+06</td>\n",
       "      <td>1.068315e+07</td>\n",
       "      <td>3.159540e+06</td>\n",
       "      <td>2.929221e+07</td>\n",
       "      <td>2.928816e+07</td>\n",
       "      <td>6.415632e+08</td>\n",
       "      <td>6.396632e+08</td>\n",
       "      <td>7.066147e+08</td>\n",
       "    </tr>\n",
       "    <tr>\n",
       "      <th>max</th>\n",
       "      <td>3.370000e+14</td>\n",
       "      <td>7.566056e+18</td>\n",
       "      <td>245071.000000</td>\n",
       "      <td>3.650861e+06</td>\n",
       "      <td>1.552878e+07</td>\n",
       "      <td>4.518036e+06</td>\n",
       "      <td>4.519008e+07</td>\n",
       "      <td>4.519815e+07</td>\n",
       "      <td>8.592028e+08</td>\n",
       "      <td>8.595209e+08</td>\n",
       "      <td>9.536320e+08</td>\n",
       "    </tr>\n",
       "  </tbody>\n",
       "</table>\n",
       "</div>"
      ]
     },
     "metadata": {},
     "execution_count": 7
    }
   ],
   "metadata": {}
  },
  {
   "cell_type": "markdown",
   "source": [
    "## Non-Graphical Univariate Analysis"
   ],
   "metadata": {}
  },
  {
   "cell_type": "code",
   "execution_count": 8,
   "source": [
    "cols = ['social_media',\n",
    "        'google',\n",
    "        'email',\n",
    "        'youtube',\n",
    "        'netflix',\n",
    "        'gaming',\n",
    "        'other',\n",
    "        'total_data']"
   ],
   "outputs": [],
   "metadata": {}
  },
  {
   "cell_type": "code",
   "execution_count": 9,
   "source": [
    "df[cols].describe().transpose()"
   ],
   "outputs": [
    {
     "output_type": "execute_result",
     "data": {
      "text/plain": [
       "                 count          mean           std         min           25%          50%           75%          max\n",
       "social_media  146882.0  1.827749e+06  1.035576e+06      1563.0  9.313442e+05    1825410.0  2.727156e+06    3650861.0\n",
       "google        146882.0  7.807995e+06  3.517123e+06     40330.0  4.943722e+06    7815465.0  1.068315e+07   15528782.0\n",
       "email         146882.0  2.259053e+06  1.071134e+06      8359.0  1.358982e+06    2263821.5  3.159540e+06    4518036.0\n",
       "youtube       146882.0  2.264163e+07  9.244443e+06    129655.0  1.599688e+07   22662867.5  2.929221e+07   45190078.0\n",
       "netflix       146882.0  2.262943e+07  9.259341e+06     98432.0  1.598191e+07   22635170.0  2.928816e+07   45198153.0\n",
       "gaming        146882.0  4.303485e+08  2.440874e+08    306358.0  2.186899e+08  431660065.0  6.415632e+08  859202784.0\n",
       "other         146882.0  4.292612e+08  2.432103e+08    149045.0  2.184676e+08  429796668.5  6.396632e+08  859520934.0\n",
       "total_data    146882.0  4.957771e+08  2.444379e+08  28956107.0  2.844771e+08  496930298.0  7.066147e+08  953632035.0"
      ],
      "text/html": [
       "<div>\n",
       "<style scoped>\n",
       "    .dataframe tbody tr th:only-of-type {\n",
       "        vertical-align: middle;\n",
       "    }\n",
       "\n",
       "    .dataframe tbody tr th {\n",
       "        vertical-align: top;\n",
       "    }\n",
       "\n",
       "    .dataframe thead th {\n",
       "        text-align: right;\n",
       "    }\n",
       "</style>\n",
       "<table border=\"1\" class=\"dataframe\">\n",
       "  <thead>\n",
       "    <tr style=\"text-align: right;\">\n",
       "      <th></th>\n",
       "      <th>count</th>\n",
       "      <th>mean</th>\n",
       "      <th>std</th>\n",
       "      <th>min</th>\n",
       "      <th>25%</th>\n",
       "      <th>50%</th>\n",
       "      <th>75%</th>\n",
       "      <th>max</th>\n",
       "    </tr>\n",
       "  </thead>\n",
       "  <tbody>\n",
       "    <tr>\n",
       "      <th>social_media</th>\n",
       "      <td>146882.0</td>\n",
       "      <td>1.827749e+06</td>\n",
       "      <td>1.035576e+06</td>\n",
       "      <td>1563.0</td>\n",
       "      <td>9.313442e+05</td>\n",
       "      <td>1825410.0</td>\n",
       "      <td>2.727156e+06</td>\n",
       "      <td>3650861.0</td>\n",
       "    </tr>\n",
       "    <tr>\n",
       "      <th>google</th>\n",
       "      <td>146882.0</td>\n",
       "      <td>7.807995e+06</td>\n",
       "      <td>3.517123e+06</td>\n",
       "      <td>40330.0</td>\n",
       "      <td>4.943722e+06</td>\n",
       "      <td>7815465.0</td>\n",
       "      <td>1.068315e+07</td>\n",
       "      <td>15528782.0</td>\n",
       "    </tr>\n",
       "    <tr>\n",
       "      <th>email</th>\n",
       "      <td>146882.0</td>\n",
       "      <td>2.259053e+06</td>\n",
       "      <td>1.071134e+06</td>\n",
       "      <td>8359.0</td>\n",
       "      <td>1.358982e+06</td>\n",
       "      <td>2263821.5</td>\n",
       "      <td>3.159540e+06</td>\n",
       "      <td>4518036.0</td>\n",
       "    </tr>\n",
       "    <tr>\n",
       "      <th>youtube</th>\n",
       "      <td>146882.0</td>\n",
       "      <td>2.264163e+07</td>\n",
       "      <td>9.244443e+06</td>\n",
       "      <td>129655.0</td>\n",
       "      <td>1.599688e+07</td>\n",
       "      <td>22662867.5</td>\n",
       "      <td>2.929221e+07</td>\n",
       "      <td>45190078.0</td>\n",
       "    </tr>\n",
       "    <tr>\n",
       "      <th>netflix</th>\n",
       "      <td>146882.0</td>\n",
       "      <td>2.262943e+07</td>\n",
       "      <td>9.259341e+06</td>\n",
       "      <td>98432.0</td>\n",
       "      <td>1.598191e+07</td>\n",
       "      <td>22635170.0</td>\n",
       "      <td>2.928816e+07</td>\n",
       "      <td>45198153.0</td>\n",
       "    </tr>\n",
       "    <tr>\n",
       "      <th>gaming</th>\n",
       "      <td>146882.0</td>\n",
       "      <td>4.303485e+08</td>\n",
       "      <td>2.440874e+08</td>\n",
       "      <td>306358.0</td>\n",
       "      <td>2.186899e+08</td>\n",
       "      <td>431660065.0</td>\n",
       "      <td>6.415632e+08</td>\n",
       "      <td>859202784.0</td>\n",
       "    </tr>\n",
       "    <tr>\n",
       "      <th>other</th>\n",
       "      <td>146882.0</td>\n",
       "      <td>4.292612e+08</td>\n",
       "      <td>2.432103e+08</td>\n",
       "      <td>149045.0</td>\n",
       "      <td>2.184676e+08</td>\n",
       "      <td>429796668.5</td>\n",
       "      <td>6.396632e+08</td>\n",
       "      <td>859520934.0</td>\n",
       "    </tr>\n",
       "    <tr>\n",
       "      <th>total_data</th>\n",
       "      <td>146882.0</td>\n",
       "      <td>4.957771e+08</td>\n",
       "      <td>2.444379e+08</td>\n",
       "      <td>28956107.0</td>\n",
       "      <td>2.844771e+08</td>\n",
       "      <td>496930298.0</td>\n",
       "      <td>7.066147e+08</td>\n",
       "      <td>953632035.0</td>\n",
       "    </tr>\n",
       "  </tbody>\n",
       "</table>\n",
       "</div>"
      ]
     },
     "metadata": {},
     "execution_count": 9
    }
   ],
   "metadata": {}
  },
  {
   "cell_type": "code",
   "execution_count": 10,
   "source": [
    "scaler = StandardScaler()\n",
    "scaled_array = scaler.fit_transform(df[cols])"
   ],
   "outputs": [],
   "metadata": {}
  },
  {
   "cell_type": "code",
   "execution_count": 11,
   "source": [
    "scaled_data = pd.DataFrame(scaled_array, columns=cols)\n",
    "scaled_data.head()"
   ],
   "outputs": [
    {
     "output_type": "execute_result",
     "data": {
      "text/plain": [
       "   social_media    google     email   youtube   netflix    gaming     other  total_data\n",
       "0     -0.234012  0.275893 -1.393861  0.029197 -1.019955  1.567468 -1.445626    1.543183\n",
       "1      0.839971 -0.362575  1.420803 -0.071448  0.448216  0.592312 -1.310447    0.637179\n",
       "2     -0.954446  0.288419  0.083649 -0.326502 -0.270495  0.308580  0.448620    0.298779\n",
       "3     -0.108401  1.588794  1.087777  0.382569  0.019542  1.391308 -1.576354    1.444224\n",
       "4      0.630181  0.052298  1.319456  0.288484  0.389249 -0.717992 -1.557597   -0.673523"
      ],
      "text/html": [
       "<div>\n",
       "<style scoped>\n",
       "    .dataframe tbody tr th:only-of-type {\n",
       "        vertical-align: middle;\n",
       "    }\n",
       "\n",
       "    .dataframe tbody tr th {\n",
       "        vertical-align: top;\n",
       "    }\n",
       "\n",
       "    .dataframe thead th {\n",
       "        text-align: right;\n",
       "    }\n",
       "</style>\n",
       "<table border=\"1\" class=\"dataframe\">\n",
       "  <thead>\n",
       "    <tr style=\"text-align: right;\">\n",
       "      <th></th>\n",
       "      <th>social_media</th>\n",
       "      <th>google</th>\n",
       "      <th>email</th>\n",
       "      <th>youtube</th>\n",
       "      <th>netflix</th>\n",
       "      <th>gaming</th>\n",
       "      <th>other</th>\n",
       "      <th>total_data</th>\n",
       "    </tr>\n",
       "  </thead>\n",
       "  <tbody>\n",
       "    <tr>\n",
       "      <th>0</th>\n",
       "      <td>-0.234012</td>\n",
       "      <td>0.275893</td>\n",
       "      <td>-1.393861</td>\n",
       "      <td>0.029197</td>\n",
       "      <td>-1.019955</td>\n",
       "      <td>1.567468</td>\n",
       "      <td>-1.445626</td>\n",
       "      <td>1.543183</td>\n",
       "    </tr>\n",
       "    <tr>\n",
       "      <th>1</th>\n",
       "      <td>0.839971</td>\n",
       "      <td>-0.362575</td>\n",
       "      <td>1.420803</td>\n",
       "      <td>-0.071448</td>\n",
       "      <td>0.448216</td>\n",
       "      <td>0.592312</td>\n",
       "      <td>-1.310447</td>\n",
       "      <td>0.637179</td>\n",
       "    </tr>\n",
       "    <tr>\n",
       "      <th>2</th>\n",
       "      <td>-0.954446</td>\n",
       "      <td>0.288419</td>\n",
       "      <td>0.083649</td>\n",
       "      <td>-0.326502</td>\n",
       "      <td>-0.270495</td>\n",
       "      <td>0.308580</td>\n",
       "      <td>0.448620</td>\n",
       "      <td>0.298779</td>\n",
       "    </tr>\n",
       "    <tr>\n",
       "      <th>3</th>\n",
       "      <td>-0.108401</td>\n",
       "      <td>1.588794</td>\n",
       "      <td>1.087777</td>\n",
       "      <td>0.382569</td>\n",
       "      <td>0.019542</td>\n",
       "      <td>1.391308</td>\n",
       "      <td>-1.576354</td>\n",
       "      <td>1.444224</td>\n",
       "    </tr>\n",
       "    <tr>\n",
       "      <th>4</th>\n",
       "      <td>0.630181</td>\n",
       "      <td>0.052298</td>\n",
       "      <td>1.319456</td>\n",
       "      <td>0.288484</td>\n",
       "      <td>0.389249</td>\n",
       "      <td>-0.717992</td>\n",
       "      <td>-1.557597</td>\n",
       "      <td>-0.673523</td>\n",
       "    </tr>\n",
       "  </tbody>\n",
       "</table>\n",
       "</div>"
      ]
     },
     "metadata": {},
     "execution_count": 11
    }
   ],
   "metadata": {}
  },
  {
   "cell_type": "code",
   "execution_count": 12,
   "source": [
    "scaled_data.describe()"
   ],
   "outputs": [
    {
     "output_type": "execute_result",
     "data": {
      "text/plain": [
       "       social_media        google         email       youtube       netflix        gaming         other    total_data\n",
       "count  1.468820e+05  1.468820e+05  1.468820e+05  1.468820e+05  1.468820e+05  1.468820e+05  1.468820e+05  1.468820e+05\n",
       "mean   8.030262e-17  3.599105e-17 -2.108186e-16  6.724135e-17  4.527907e-17  9.244476e-17  7.730337e-17  7.401386e-18\n",
       "std    1.000003e+00  1.000003e+00  1.000003e+00  1.000003e+00  1.000003e+00  1.000003e+00  1.000003e+00  1.000003e+00\n",
       "min   -1.763455e+00 -2.208536e+00 -2.101233e+00 -2.435198e+00 -2.433335e+00 -1.761843e+00 -1.764372e+00 -1.909780e+00\n",
       "25%   -8.656124e-01 -8.143825e-01 -8.402995e-01 -7.187847e-01 -7.179287e-01 -8.671456e-01 -8.667159e-01 -8.644350e-01\n",
       "50%   -2.258665e-03  2.123889e-03  4.452111e-03  2.297725e-03  6.195494e-04  5.373446e-03  2.201772e-03  4.717850e-03\n",
       "75%    8.685118e-01  8.174775e-01  8.406885e-01  7.194165e-01  7.191389e-01  8.653272e-01  8.651061e-01  8.625435e-01\n",
       "max    1.760486e+00  2.195207e+00  2.108972e+00  2.439144e+00  2.437409e+00  1.756976e+00  1.769091e+00  1.873099e+00"
      ],
      "text/html": [
       "<div>\n",
       "<style scoped>\n",
       "    .dataframe tbody tr th:only-of-type {\n",
       "        vertical-align: middle;\n",
       "    }\n",
       "\n",
       "    .dataframe tbody tr th {\n",
       "        vertical-align: top;\n",
       "    }\n",
       "\n",
       "    .dataframe thead th {\n",
       "        text-align: right;\n",
       "    }\n",
       "</style>\n",
       "<table border=\"1\" class=\"dataframe\">\n",
       "  <thead>\n",
       "    <tr style=\"text-align: right;\">\n",
       "      <th></th>\n",
       "      <th>social_media</th>\n",
       "      <th>google</th>\n",
       "      <th>email</th>\n",
       "      <th>youtube</th>\n",
       "      <th>netflix</th>\n",
       "      <th>gaming</th>\n",
       "      <th>other</th>\n",
       "      <th>total_data</th>\n",
       "    </tr>\n",
       "  </thead>\n",
       "  <tbody>\n",
       "    <tr>\n",
       "      <th>count</th>\n",
       "      <td>1.468820e+05</td>\n",
       "      <td>1.468820e+05</td>\n",
       "      <td>1.468820e+05</td>\n",
       "      <td>1.468820e+05</td>\n",
       "      <td>1.468820e+05</td>\n",
       "      <td>1.468820e+05</td>\n",
       "      <td>1.468820e+05</td>\n",
       "      <td>1.468820e+05</td>\n",
       "    </tr>\n",
       "    <tr>\n",
       "      <th>mean</th>\n",
       "      <td>8.030262e-17</td>\n",
       "      <td>3.599105e-17</td>\n",
       "      <td>-2.108186e-16</td>\n",
       "      <td>6.724135e-17</td>\n",
       "      <td>4.527907e-17</td>\n",
       "      <td>9.244476e-17</td>\n",
       "      <td>7.730337e-17</td>\n",
       "      <td>7.401386e-18</td>\n",
       "    </tr>\n",
       "    <tr>\n",
       "      <th>std</th>\n",
       "      <td>1.000003e+00</td>\n",
       "      <td>1.000003e+00</td>\n",
       "      <td>1.000003e+00</td>\n",
       "      <td>1.000003e+00</td>\n",
       "      <td>1.000003e+00</td>\n",
       "      <td>1.000003e+00</td>\n",
       "      <td>1.000003e+00</td>\n",
       "      <td>1.000003e+00</td>\n",
       "    </tr>\n",
       "    <tr>\n",
       "      <th>min</th>\n",
       "      <td>-1.763455e+00</td>\n",
       "      <td>-2.208536e+00</td>\n",
       "      <td>-2.101233e+00</td>\n",
       "      <td>-2.435198e+00</td>\n",
       "      <td>-2.433335e+00</td>\n",
       "      <td>-1.761843e+00</td>\n",
       "      <td>-1.764372e+00</td>\n",
       "      <td>-1.909780e+00</td>\n",
       "    </tr>\n",
       "    <tr>\n",
       "      <th>25%</th>\n",
       "      <td>-8.656124e-01</td>\n",
       "      <td>-8.143825e-01</td>\n",
       "      <td>-8.402995e-01</td>\n",
       "      <td>-7.187847e-01</td>\n",
       "      <td>-7.179287e-01</td>\n",
       "      <td>-8.671456e-01</td>\n",
       "      <td>-8.667159e-01</td>\n",
       "      <td>-8.644350e-01</td>\n",
       "    </tr>\n",
       "    <tr>\n",
       "      <th>50%</th>\n",
       "      <td>-2.258665e-03</td>\n",
       "      <td>2.123889e-03</td>\n",
       "      <td>4.452111e-03</td>\n",
       "      <td>2.297725e-03</td>\n",
       "      <td>6.195494e-04</td>\n",
       "      <td>5.373446e-03</td>\n",
       "      <td>2.201772e-03</td>\n",
       "      <td>4.717850e-03</td>\n",
       "    </tr>\n",
       "    <tr>\n",
       "      <th>75%</th>\n",
       "      <td>8.685118e-01</td>\n",
       "      <td>8.174775e-01</td>\n",
       "      <td>8.406885e-01</td>\n",
       "      <td>7.194165e-01</td>\n",
       "      <td>7.191389e-01</td>\n",
       "      <td>8.653272e-01</td>\n",
       "      <td>8.651061e-01</td>\n",
       "      <td>8.625435e-01</td>\n",
       "    </tr>\n",
       "    <tr>\n",
       "      <th>max</th>\n",
       "      <td>1.760486e+00</td>\n",
       "      <td>2.195207e+00</td>\n",
       "      <td>2.108972e+00</td>\n",
       "      <td>2.439144e+00</td>\n",
       "      <td>2.437409e+00</td>\n",
       "      <td>1.756976e+00</td>\n",
       "      <td>1.769091e+00</td>\n",
       "      <td>1.873099e+00</td>\n",
       "    </tr>\n",
       "  </tbody>\n",
       "</table>\n",
       "</div>"
      ]
     },
     "metadata": {},
     "execution_count": 12
    }
   ],
   "metadata": {}
  },
  {
   "cell_type": "markdown",
   "source": [
    "## Graphical Univariate Analysis"
   ],
   "metadata": {}
  },
  {
   "cell_type": "code",
   "execution_count": 13,
   "source": [
    "sample = scaled_data.sample(5000)\n",
    "sample = np.array(sample[cols]).reshape(8, -1)\n",
    "sample.shape\n"
   ],
   "outputs": [
    {
     "output_type": "execute_result",
     "data": {
      "text/plain": [
       "(8, 5000)"
      ]
     },
     "metadata": {},
     "execution_count": 13
    }
   ],
   "metadata": {}
  },
  {
   "cell_type": "code",
   "execution_count": 14,
   "source": [
    "# histogram(sample, cols, .1)"
   ],
   "outputs": [],
   "metadata": {}
  },
  {
   "cell_type": "code",
   "execution_count": 15,
   "source": [
    "sample[0] = sample[0]-8\n",
    "sample[1] = sample[0]-6\n",
    "sample[2] = sample[0]-4\n",
    "sample[3] = sample[0]-2\n",
    "sample[4] = sample[0]-0\n",
    "sample[5] = sample[0]-2\n",
    "sample[6] = sample[0]-4\n",
    "sample[7] = sample[0]-6\n"
   ],
   "outputs": [],
   "metadata": {}
  },
  {
   "cell_type": "code",
   "execution_count": 16,
   "source": [
    "# histogram(sample, cols, .1)"
   ],
   "outputs": [],
   "metadata": {}
  },
  {
   "cell_type": "markdown",
   "source": [
    "## Bivariate Analysis – explore the relationship between each application & the total DL+UL data using appropriate methods and interpret your findings. \n"
   ],
   "metadata": {}
  },
  {
   "cell_type": "code",
   "execution_count": 17,
   "source": [
    "# sample = scaled_data.sample(1000)\n",
    "# scatter(sample, x=\"google\", y=\"total_data\", fit='ols', mx='box', my='violin')"
   ],
   "outputs": [],
   "metadata": {}
  },
  {
   "cell_type": "code",
   "execution_count": 18,
   "source": [
    "# scatter(sample, x=\"gaming\", y=\"total_data\",\n",
    "#         fit='ols', mx='box', my='violin')"
   ],
   "outputs": [],
   "metadata": {}
  },
  {
   "cell_type": "code",
   "execution_count": 19,
   "source": [
    "# scatter(sample, x=\"netflix\", y=\"total_data\", fit='ols', mx='box', my='violin')"
   ],
   "outputs": [],
   "metadata": {}
  },
  {
   "cell_type": "code",
   "execution_count": 20,
   "source": [
    "# scatter(sample, x=\"other\", y=\"total_data\", fit='ols', mx='box', my='violin')"
   ],
   "outputs": [],
   "metadata": {}
  },
  {
   "cell_type": "code",
   "execution_count": 21,
   "source": [
    "# def corelation(df):\n",
    "#     fig = px.scatter_matrix(sample, dimensions=[\n",
    "#         \"total_data\",\n",
    "#         \"netflix\",\n",
    "#         \"youtube\",\n",
    "#         \"gaming\",\n",
    "#         \"other\",\n",
    "#         \"google\"\n",
    "#     ])\n",
    "#     fig.update_layout(width=1200, height=600)\n",
    "#     fig.show()\n",
    "\n",
    "\n",
    "# corelation(sample)\n"
   ],
   "outputs": [],
   "metadata": {}
  },
  {
   "cell_type": "markdown",
   "source": [
    "## Variable transformations – segment the users into top five decile classes based on the total duration for all sessions and compute the total data (DL+UL) per decile class. \n"
   ],
   "metadata": {}
  },
  {
   "cell_type": "code",
   "execution_count": 22,
   "source": [
    "user_dur = df.groupby(\n",
    "    'msisdn_number').agg({'dur_(ms)': 'sum', 'total_data': 'sum'})\n",
    "user_dur"
   ],
   "outputs": [
    {
     "output_type": "execute_result",
     "data": {
      "text/plain": [
       "                 dur_(ms)    total_data\n",
       "msisdn_number                          \n",
       "33601001722      116720.0  8.786906e+08\n",
       "33601001754      181230.0  1.568596e+08\n",
       "33601002511      134969.0  5.959665e+08\n",
       "33601007832       49878.0  4.223207e+08\n",
       "33601008617       37104.0  1.457411e+09\n",
       "...                   ...           ...\n",
       "33789967113      160461.0  2.081231e+08\n",
       "33789980299      210389.0  1.094693e+09\n",
       "33789996170        8810.0  7.146416e+08\n",
       "33789997247      140988.0  4.803073e+08\n",
       "337000037000919  245071.0  5.962878e+08\n",
       "\n",
       "[105714 rows x 2 columns]"
      ],
      "text/html": [
       "<div>\n",
       "<style scoped>\n",
       "    .dataframe tbody tr th:only-of-type {\n",
       "        vertical-align: middle;\n",
       "    }\n",
       "\n",
       "    .dataframe tbody tr th {\n",
       "        vertical-align: top;\n",
       "    }\n",
       "\n",
       "    .dataframe thead th {\n",
       "        text-align: right;\n",
       "    }\n",
       "</style>\n",
       "<table border=\"1\" class=\"dataframe\">\n",
       "  <thead>\n",
       "    <tr style=\"text-align: right;\">\n",
       "      <th></th>\n",
       "      <th>dur_(ms)</th>\n",
       "      <th>total_data</th>\n",
       "    </tr>\n",
       "    <tr>\n",
       "      <th>msisdn_number</th>\n",
       "      <th></th>\n",
       "      <th></th>\n",
       "    </tr>\n",
       "  </thead>\n",
       "  <tbody>\n",
       "    <tr>\n",
       "      <th>33601001722</th>\n",
       "      <td>116720.0</td>\n",
       "      <td>8.786906e+08</td>\n",
       "    </tr>\n",
       "    <tr>\n",
       "      <th>33601001754</th>\n",
       "      <td>181230.0</td>\n",
       "      <td>1.568596e+08</td>\n",
       "    </tr>\n",
       "    <tr>\n",
       "      <th>33601002511</th>\n",
       "      <td>134969.0</td>\n",
       "      <td>5.959665e+08</td>\n",
       "    </tr>\n",
       "    <tr>\n",
       "      <th>33601007832</th>\n",
       "      <td>49878.0</td>\n",
       "      <td>4.223207e+08</td>\n",
       "    </tr>\n",
       "    <tr>\n",
       "      <th>33601008617</th>\n",
       "      <td>37104.0</td>\n",
       "      <td>1.457411e+09</td>\n",
       "    </tr>\n",
       "    <tr>\n",
       "      <th>...</th>\n",
       "      <td>...</td>\n",
       "      <td>...</td>\n",
       "    </tr>\n",
       "    <tr>\n",
       "      <th>33789967113</th>\n",
       "      <td>160461.0</td>\n",
       "      <td>2.081231e+08</td>\n",
       "    </tr>\n",
       "    <tr>\n",
       "      <th>33789980299</th>\n",
       "      <td>210389.0</td>\n",
       "      <td>1.094693e+09</td>\n",
       "    </tr>\n",
       "    <tr>\n",
       "      <th>33789996170</th>\n",
       "      <td>8810.0</td>\n",
       "      <td>7.146416e+08</td>\n",
       "    </tr>\n",
       "    <tr>\n",
       "      <th>33789997247</th>\n",
       "      <td>140988.0</td>\n",
       "      <td>4.803073e+08</td>\n",
       "    </tr>\n",
       "    <tr>\n",
       "      <th>337000037000919</th>\n",
       "      <td>245071.0</td>\n",
       "      <td>5.962878e+08</td>\n",
       "    </tr>\n",
       "  </tbody>\n",
       "</table>\n",
       "<p>105714 rows × 2 columns</p>\n",
       "</div>"
      ]
     },
     "metadata": {},
     "execution_count": 22
    }
   ],
   "metadata": {}
  },
  {
   "cell_type": "code",
   "execution_count": 23,
   "source": [
    "user_dur['dur_decile'] = pd.qcut(user_dur['dur_(ms)'], 5, labels=np.arange(1, 6))\n",
    "total_data_per_decile = user_dur.groupby('dur_decile').agg(\n",
    "    {'dur_(ms)': 'sum', 'total_data': 'sum'})\n",
    "total_data_per_decile"
   ],
   "outputs": [
    {
     "output_type": "execute_result",
     "data": {
      "text/plain": [
       "                dur_(ms)    total_data\n",
       "dur_decile                            \n",
       "1           6.474188e+08  1.142998e+13\n",
       "2           1.778446e+09  1.227155e+13\n",
       "3           2.129877e+09  1.156524e+13\n",
       "4           3.414379e+09  1.377362e+13\n",
       "5           6.744227e+09  2.378034e+13"
      ],
      "text/html": [
       "<div>\n",
       "<style scoped>\n",
       "    .dataframe tbody tr th:only-of-type {\n",
       "        vertical-align: middle;\n",
       "    }\n",
       "\n",
       "    .dataframe tbody tr th {\n",
       "        vertical-align: top;\n",
       "    }\n",
       "\n",
       "    .dataframe thead th {\n",
       "        text-align: right;\n",
       "    }\n",
       "</style>\n",
       "<table border=\"1\" class=\"dataframe\">\n",
       "  <thead>\n",
       "    <tr style=\"text-align: right;\">\n",
       "      <th></th>\n",
       "      <th>dur_(ms)</th>\n",
       "      <th>total_data</th>\n",
       "    </tr>\n",
       "    <tr>\n",
       "      <th>dur_decile</th>\n",
       "      <th></th>\n",
       "      <th></th>\n",
       "    </tr>\n",
       "  </thead>\n",
       "  <tbody>\n",
       "    <tr>\n",
       "      <th>1</th>\n",
       "      <td>6.474188e+08</td>\n",
       "      <td>1.142998e+13</td>\n",
       "    </tr>\n",
       "    <tr>\n",
       "      <th>2</th>\n",
       "      <td>1.778446e+09</td>\n",
       "      <td>1.227155e+13</td>\n",
       "    </tr>\n",
       "    <tr>\n",
       "      <th>3</th>\n",
       "      <td>2.129877e+09</td>\n",
       "      <td>1.156524e+13</td>\n",
       "    </tr>\n",
       "    <tr>\n",
       "      <th>4</th>\n",
       "      <td>3.414379e+09</td>\n",
       "      <td>1.377362e+13</td>\n",
       "    </tr>\n",
       "    <tr>\n",
       "      <th>5</th>\n",
       "      <td>6.744227e+09</td>\n",
       "      <td>2.378034e+13</td>\n",
       "    </tr>\n",
       "  </tbody>\n",
       "</table>\n",
       "</div>"
      ]
     },
     "metadata": {},
     "execution_count": 23
    }
   ],
   "metadata": {}
  },
  {
   "cell_type": "code",
   "execution_count": 24,
   "source": [
    "fig = px.line(total_data_per_decile, x=[1, 2, 3, 4, 5], y=[\n",
    "              \"dur_(ms)\", \"total_data\"], title='Top 5 deciled customers by duration', \n",
    "              labels={'value': \"dur_(ms) and total_data\", 'x': \"5 Decile Duration\"})\n",
    "fig.show()"
   ],
   "outputs": [
    {
     "output_type": "display_data",
     "data": {
      "application/vnd.plotly.v1+json": {
       "config": {
        "plotlyServerURL": "https://plot.ly"
       },
       "data": [
        {
         "hovertemplate": "variable=dur_(ms)<br>5 Decile Duration=%{x}<br>dur_(ms) and total_data=%{y}<extra></extra>",
         "legendgroup": "dur_(ms)",
         "line": {
          "color": "#636efa",
          "dash": "solid"
         },
         "mode": "lines",
         "name": "dur_(ms)",
         "orientation": "v",
         "showlegend": true,
         "type": "scatter",
         "x": [
          1,
          2,
          3,
          4,
          5
         ],
         "xaxis": "x",
         "y": [
          647418785,
          1778446259,
          2129876596,
          3414379325,
          6744226661
         ],
         "yaxis": "y"
        },
        {
         "hovertemplate": "variable=total_data<br>5 Decile Duration=%{x}<br>dur_(ms) and total_data=%{y}<extra></extra>",
         "legendgroup": "total_data",
         "line": {
          "color": "#EF553B",
          "dash": "solid"
         },
         "mode": "lines",
         "name": "total_data",
         "orientation": "v",
         "showlegend": true,
         "type": "scatter",
         "x": [
          1,
          2,
          3,
          4,
          5
         ],
         "xaxis": "x",
         "y": [
          11429976570304,
          12271554605375,
          11565237235479,
          13773619878460,
          23780340843208
         ],
         "yaxis": "y"
        }
       ],
       "layout": {
        "legend": {
         "title": {
          "text": "variable"
         },
         "tracegroupgap": 0
        },
        "template": {
         "data": {
          "bar": [
           {
            "error_x": {
             "color": "#2a3f5f"
            },
            "error_y": {
             "color": "#2a3f5f"
            },
            "marker": {
             "line": {
              "color": "#E5ECF6",
              "width": 0.5
             }
            },
            "type": "bar"
           }
          ],
          "barpolar": [
           {
            "marker": {
             "line": {
              "color": "#E5ECF6",
              "width": 0.5
             }
            },
            "type": "barpolar"
           }
          ],
          "carpet": [
           {
            "aaxis": {
             "endlinecolor": "#2a3f5f",
             "gridcolor": "white",
             "linecolor": "white",
             "minorgridcolor": "white",
             "startlinecolor": "#2a3f5f"
            },
            "baxis": {
             "endlinecolor": "#2a3f5f",
             "gridcolor": "white",
             "linecolor": "white",
             "minorgridcolor": "white",
             "startlinecolor": "#2a3f5f"
            },
            "type": "carpet"
           }
          ],
          "choropleth": [
           {
            "colorbar": {
             "outlinewidth": 0,
             "ticks": ""
            },
            "type": "choropleth"
           }
          ],
          "contour": [
           {
            "colorbar": {
             "outlinewidth": 0,
             "ticks": ""
            },
            "colorscale": [
             [
              0,
              "#0d0887"
             ],
             [
              0.1111111111111111,
              "#46039f"
             ],
             [
              0.2222222222222222,
              "#7201a8"
             ],
             [
              0.3333333333333333,
              "#9c179e"
             ],
             [
              0.4444444444444444,
              "#bd3786"
             ],
             [
              0.5555555555555556,
              "#d8576b"
             ],
             [
              0.6666666666666666,
              "#ed7953"
             ],
             [
              0.7777777777777778,
              "#fb9f3a"
             ],
             [
              0.8888888888888888,
              "#fdca26"
             ],
             [
              1,
              "#f0f921"
             ]
            ],
            "type": "contour"
           }
          ],
          "contourcarpet": [
           {
            "colorbar": {
             "outlinewidth": 0,
             "ticks": ""
            },
            "type": "contourcarpet"
           }
          ],
          "heatmap": [
           {
            "colorbar": {
             "outlinewidth": 0,
             "ticks": ""
            },
            "colorscale": [
             [
              0,
              "#0d0887"
             ],
             [
              0.1111111111111111,
              "#46039f"
             ],
             [
              0.2222222222222222,
              "#7201a8"
             ],
             [
              0.3333333333333333,
              "#9c179e"
             ],
             [
              0.4444444444444444,
              "#bd3786"
             ],
             [
              0.5555555555555556,
              "#d8576b"
             ],
             [
              0.6666666666666666,
              "#ed7953"
             ],
             [
              0.7777777777777778,
              "#fb9f3a"
             ],
             [
              0.8888888888888888,
              "#fdca26"
             ],
             [
              1,
              "#f0f921"
             ]
            ],
            "type": "heatmap"
           }
          ],
          "heatmapgl": [
           {
            "colorbar": {
             "outlinewidth": 0,
             "ticks": ""
            },
            "colorscale": [
             [
              0,
              "#0d0887"
             ],
             [
              0.1111111111111111,
              "#46039f"
             ],
             [
              0.2222222222222222,
              "#7201a8"
             ],
             [
              0.3333333333333333,
              "#9c179e"
             ],
             [
              0.4444444444444444,
              "#bd3786"
             ],
             [
              0.5555555555555556,
              "#d8576b"
             ],
             [
              0.6666666666666666,
              "#ed7953"
             ],
             [
              0.7777777777777778,
              "#fb9f3a"
             ],
             [
              0.8888888888888888,
              "#fdca26"
             ],
             [
              1,
              "#f0f921"
             ]
            ],
            "type": "heatmapgl"
           }
          ],
          "histogram": [
           {
            "marker": {
             "colorbar": {
              "outlinewidth": 0,
              "ticks": ""
             }
            },
            "type": "histogram"
           }
          ],
          "histogram2d": [
           {
            "colorbar": {
             "outlinewidth": 0,
             "ticks": ""
            },
            "colorscale": [
             [
              0,
              "#0d0887"
             ],
             [
              0.1111111111111111,
              "#46039f"
             ],
             [
              0.2222222222222222,
              "#7201a8"
             ],
             [
              0.3333333333333333,
              "#9c179e"
             ],
             [
              0.4444444444444444,
              "#bd3786"
             ],
             [
              0.5555555555555556,
              "#d8576b"
             ],
             [
              0.6666666666666666,
              "#ed7953"
             ],
             [
              0.7777777777777778,
              "#fb9f3a"
             ],
             [
              0.8888888888888888,
              "#fdca26"
             ],
             [
              1,
              "#f0f921"
             ]
            ],
            "type": "histogram2d"
           }
          ],
          "histogram2dcontour": [
           {
            "colorbar": {
             "outlinewidth": 0,
             "ticks": ""
            },
            "colorscale": [
             [
              0,
              "#0d0887"
             ],
             [
              0.1111111111111111,
              "#46039f"
             ],
             [
              0.2222222222222222,
              "#7201a8"
             ],
             [
              0.3333333333333333,
              "#9c179e"
             ],
             [
              0.4444444444444444,
              "#bd3786"
             ],
             [
              0.5555555555555556,
              "#d8576b"
             ],
             [
              0.6666666666666666,
              "#ed7953"
             ],
             [
              0.7777777777777778,
              "#fb9f3a"
             ],
             [
              0.8888888888888888,
              "#fdca26"
             ],
             [
              1,
              "#f0f921"
             ]
            ],
            "type": "histogram2dcontour"
           }
          ],
          "mesh3d": [
           {
            "colorbar": {
             "outlinewidth": 0,
             "ticks": ""
            },
            "type": "mesh3d"
           }
          ],
          "parcoords": [
           {
            "line": {
             "colorbar": {
              "outlinewidth": 0,
              "ticks": ""
             }
            },
            "type": "parcoords"
           }
          ],
          "pie": [
           {
            "automargin": true,
            "type": "pie"
           }
          ],
          "scatter": [
           {
            "marker": {
             "colorbar": {
              "outlinewidth": 0,
              "ticks": ""
             }
            },
            "type": "scatter"
           }
          ],
          "scatter3d": [
           {
            "line": {
             "colorbar": {
              "outlinewidth": 0,
              "ticks": ""
             }
            },
            "marker": {
             "colorbar": {
              "outlinewidth": 0,
              "ticks": ""
             }
            },
            "type": "scatter3d"
           }
          ],
          "scattercarpet": [
           {
            "marker": {
             "colorbar": {
              "outlinewidth": 0,
              "ticks": ""
             }
            },
            "type": "scattercarpet"
           }
          ],
          "scattergeo": [
           {
            "marker": {
             "colorbar": {
              "outlinewidth": 0,
              "ticks": ""
             }
            },
            "type": "scattergeo"
           }
          ],
          "scattergl": [
           {
            "marker": {
             "colorbar": {
              "outlinewidth": 0,
              "ticks": ""
             }
            },
            "type": "scattergl"
           }
          ],
          "scattermapbox": [
           {
            "marker": {
             "colorbar": {
              "outlinewidth": 0,
              "ticks": ""
             }
            },
            "type": "scattermapbox"
           }
          ],
          "scatterpolar": [
           {
            "marker": {
             "colorbar": {
              "outlinewidth": 0,
              "ticks": ""
             }
            },
            "type": "scatterpolar"
           }
          ],
          "scatterpolargl": [
           {
            "marker": {
             "colorbar": {
              "outlinewidth": 0,
              "ticks": ""
             }
            },
            "type": "scatterpolargl"
           }
          ],
          "scatterternary": [
           {
            "marker": {
             "colorbar": {
              "outlinewidth": 0,
              "ticks": ""
             }
            },
            "type": "scatterternary"
           }
          ],
          "surface": [
           {
            "colorbar": {
             "outlinewidth": 0,
             "ticks": ""
            },
            "colorscale": [
             [
              0,
              "#0d0887"
             ],
             [
              0.1111111111111111,
              "#46039f"
             ],
             [
              0.2222222222222222,
              "#7201a8"
             ],
             [
              0.3333333333333333,
              "#9c179e"
             ],
             [
              0.4444444444444444,
              "#bd3786"
             ],
             [
              0.5555555555555556,
              "#d8576b"
             ],
             [
              0.6666666666666666,
              "#ed7953"
             ],
             [
              0.7777777777777778,
              "#fb9f3a"
             ],
             [
              0.8888888888888888,
              "#fdca26"
             ],
             [
              1,
              "#f0f921"
             ]
            ],
            "type": "surface"
           }
          ],
          "table": [
           {
            "cells": {
             "fill": {
              "color": "#EBF0F8"
             },
             "line": {
              "color": "white"
             }
            },
            "header": {
             "fill": {
              "color": "#C8D4E3"
             },
             "line": {
              "color": "white"
             }
            },
            "type": "table"
           }
          ]
         },
         "layout": {
          "annotationdefaults": {
           "arrowcolor": "#2a3f5f",
           "arrowhead": 0,
           "arrowwidth": 1
          },
          "autotypenumbers": "strict",
          "coloraxis": {
           "colorbar": {
            "outlinewidth": 0,
            "ticks": ""
           }
          },
          "colorscale": {
           "diverging": [
            [
             0,
             "#8e0152"
            ],
            [
             0.1,
             "#c51b7d"
            ],
            [
             0.2,
             "#de77ae"
            ],
            [
             0.3,
             "#f1b6da"
            ],
            [
             0.4,
             "#fde0ef"
            ],
            [
             0.5,
             "#f7f7f7"
            ],
            [
             0.6,
             "#e6f5d0"
            ],
            [
             0.7,
             "#b8e186"
            ],
            [
             0.8,
             "#7fbc41"
            ],
            [
             0.9,
             "#4d9221"
            ],
            [
             1,
             "#276419"
            ]
           ],
           "sequential": [
            [
             0,
             "#0d0887"
            ],
            [
             0.1111111111111111,
             "#46039f"
            ],
            [
             0.2222222222222222,
             "#7201a8"
            ],
            [
             0.3333333333333333,
             "#9c179e"
            ],
            [
             0.4444444444444444,
             "#bd3786"
            ],
            [
             0.5555555555555556,
             "#d8576b"
            ],
            [
             0.6666666666666666,
             "#ed7953"
            ],
            [
             0.7777777777777778,
             "#fb9f3a"
            ],
            [
             0.8888888888888888,
             "#fdca26"
            ],
            [
             1,
             "#f0f921"
            ]
           ],
           "sequentialminus": [
            [
             0,
             "#0d0887"
            ],
            [
             0.1111111111111111,
             "#46039f"
            ],
            [
             0.2222222222222222,
             "#7201a8"
            ],
            [
             0.3333333333333333,
             "#9c179e"
            ],
            [
             0.4444444444444444,
             "#bd3786"
            ],
            [
             0.5555555555555556,
             "#d8576b"
            ],
            [
             0.6666666666666666,
             "#ed7953"
            ],
            [
             0.7777777777777778,
             "#fb9f3a"
            ],
            [
             0.8888888888888888,
             "#fdca26"
            ],
            [
             1,
             "#f0f921"
            ]
           ]
          },
          "colorway": [
           "#636efa",
           "#EF553B",
           "#00cc96",
           "#ab63fa",
           "#FFA15A",
           "#19d3f3",
           "#FF6692",
           "#B6E880",
           "#FF97FF",
           "#FECB52"
          ],
          "font": {
           "color": "#2a3f5f"
          },
          "geo": {
           "bgcolor": "white",
           "lakecolor": "white",
           "landcolor": "#E5ECF6",
           "showlakes": true,
           "showland": true,
           "subunitcolor": "white"
          },
          "hoverlabel": {
           "align": "left"
          },
          "hovermode": "closest",
          "mapbox": {
           "style": "light"
          },
          "paper_bgcolor": "white",
          "plot_bgcolor": "#E5ECF6",
          "polar": {
           "angularaxis": {
            "gridcolor": "white",
            "linecolor": "white",
            "ticks": ""
           },
           "bgcolor": "#E5ECF6",
           "radialaxis": {
            "gridcolor": "white",
            "linecolor": "white",
            "ticks": ""
           }
          },
          "scene": {
           "xaxis": {
            "backgroundcolor": "#E5ECF6",
            "gridcolor": "white",
            "gridwidth": 2,
            "linecolor": "white",
            "showbackground": true,
            "ticks": "",
            "zerolinecolor": "white"
           },
           "yaxis": {
            "backgroundcolor": "#E5ECF6",
            "gridcolor": "white",
            "gridwidth": 2,
            "linecolor": "white",
            "showbackground": true,
            "ticks": "",
            "zerolinecolor": "white"
           },
           "zaxis": {
            "backgroundcolor": "#E5ECF6",
            "gridcolor": "white",
            "gridwidth": 2,
            "linecolor": "white",
            "showbackground": true,
            "ticks": "",
            "zerolinecolor": "white"
           }
          },
          "shapedefaults": {
           "line": {
            "color": "#2a3f5f"
           }
          },
          "ternary": {
           "aaxis": {
            "gridcolor": "white",
            "linecolor": "white",
            "ticks": ""
           },
           "baxis": {
            "gridcolor": "white",
            "linecolor": "white",
            "ticks": ""
           },
           "bgcolor": "#E5ECF6",
           "caxis": {
            "gridcolor": "white",
            "linecolor": "white",
            "ticks": ""
           }
          },
          "title": {
           "x": 0.05
          },
          "xaxis": {
           "automargin": true,
           "gridcolor": "white",
           "linecolor": "white",
           "ticks": "",
           "title": {
            "standoff": 15
           },
           "zerolinecolor": "white",
           "zerolinewidth": 2
          },
          "yaxis": {
           "automargin": true,
           "gridcolor": "white",
           "linecolor": "white",
           "ticks": "",
           "title": {
            "standoff": 15
           },
           "zerolinecolor": "white",
           "zerolinewidth": 2
          }
         }
        },
        "title": {
         "text": "Top 5 deciled customers by duration"
        },
        "xaxis": {
         "anchor": "y",
         "domain": [
          0,
          1
         ],
         "title": {
          "text": "5 Decile Duration"
         }
        },
        "yaxis": {
         "anchor": "x",
         "domain": [
          0,
          1
         ],
         "title": {
          "text": "dur_(ms) and total_data"
         }
        }
       }
      }
     },
     "metadata": {}
    }
   ],
   "metadata": {}
  },
  {
   "cell_type": "markdown",
   "source": [
    "## Correlation Analysis "
   ],
   "metadata": {}
  },
  {
   "cell_type": "code",
   "execution_count": 26,
   "source": [
    "data_usage_df = df[['social_media',\n",
    "                   'google',\n",
    "                    'email',\n",
    "                    'youtube',\n",
    "                    'netflix',\n",
    "                    'gaming',\n",
    "                    'other', ]].copy()\n",
    "data_usage_corr = data_usage_df.corr(method='pearson')\n",
    "data_usage_corr\n"
   ],
   "outputs": [
    {
     "output_type": "execute_result",
     "data": {
      "text/plain": [
       "              social_media    google     email   youtube   netflix    gaming     other\n",
       "social_media      1.000000 -0.001914  0.004184  0.000593  0.001384  0.001904  0.005532\n",
       "google           -0.001914  1.000000 -0.000048  0.002164 -0.001990 -0.000825 -0.001301\n",
       "email             0.004184 -0.000048  1.000000 -0.003440  0.001524  0.000055 -0.000761\n",
       "youtube           0.000593  0.002164 -0.003440  1.000000  0.003619 -0.003728  0.003225\n",
       "netflix           0.001384 -0.001990  0.001524  0.003619  1.000000 -0.003505 -0.007931\n",
       "gaming            0.001904 -0.000825  0.000055 -0.003728 -0.003505  1.000000 -0.002828\n",
       "other             0.005532 -0.001301 -0.000761  0.003225 -0.007931 -0.002828  1.000000"
      ],
      "text/html": [
       "<div>\n",
       "<style scoped>\n",
       "    .dataframe tbody tr th:only-of-type {\n",
       "        vertical-align: middle;\n",
       "    }\n",
       "\n",
       "    .dataframe tbody tr th {\n",
       "        vertical-align: top;\n",
       "    }\n",
       "\n",
       "    .dataframe thead th {\n",
       "        text-align: right;\n",
       "    }\n",
       "</style>\n",
       "<table border=\"1\" class=\"dataframe\">\n",
       "  <thead>\n",
       "    <tr style=\"text-align: right;\">\n",
       "      <th></th>\n",
       "      <th>social_media</th>\n",
       "      <th>google</th>\n",
       "      <th>email</th>\n",
       "      <th>youtube</th>\n",
       "      <th>netflix</th>\n",
       "      <th>gaming</th>\n",
       "      <th>other</th>\n",
       "    </tr>\n",
       "  </thead>\n",
       "  <tbody>\n",
       "    <tr>\n",
       "      <th>social_media</th>\n",
       "      <td>1.000000</td>\n",
       "      <td>-0.001914</td>\n",
       "      <td>0.004184</td>\n",
       "      <td>0.000593</td>\n",
       "      <td>0.001384</td>\n",
       "      <td>0.001904</td>\n",
       "      <td>0.005532</td>\n",
       "    </tr>\n",
       "    <tr>\n",
       "      <th>google</th>\n",
       "      <td>-0.001914</td>\n",
       "      <td>1.000000</td>\n",
       "      <td>-0.000048</td>\n",
       "      <td>0.002164</td>\n",
       "      <td>-0.001990</td>\n",
       "      <td>-0.000825</td>\n",
       "      <td>-0.001301</td>\n",
       "    </tr>\n",
       "    <tr>\n",
       "      <th>email</th>\n",
       "      <td>0.004184</td>\n",
       "      <td>-0.000048</td>\n",
       "      <td>1.000000</td>\n",
       "      <td>-0.003440</td>\n",
       "      <td>0.001524</td>\n",
       "      <td>0.000055</td>\n",
       "      <td>-0.000761</td>\n",
       "    </tr>\n",
       "    <tr>\n",
       "      <th>youtube</th>\n",
       "      <td>0.000593</td>\n",
       "      <td>0.002164</td>\n",
       "      <td>-0.003440</td>\n",
       "      <td>1.000000</td>\n",
       "      <td>0.003619</td>\n",
       "      <td>-0.003728</td>\n",
       "      <td>0.003225</td>\n",
       "    </tr>\n",
       "    <tr>\n",
       "      <th>netflix</th>\n",
       "      <td>0.001384</td>\n",
       "      <td>-0.001990</td>\n",
       "      <td>0.001524</td>\n",
       "      <td>0.003619</td>\n",
       "      <td>1.000000</td>\n",
       "      <td>-0.003505</td>\n",
       "      <td>-0.007931</td>\n",
       "    </tr>\n",
       "    <tr>\n",
       "      <th>gaming</th>\n",
       "      <td>0.001904</td>\n",
       "      <td>-0.000825</td>\n",
       "      <td>0.000055</td>\n",
       "      <td>-0.003728</td>\n",
       "      <td>-0.003505</td>\n",
       "      <td>1.000000</td>\n",
       "      <td>-0.002828</td>\n",
       "    </tr>\n",
       "    <tr>\n",
       "      <th>other</th>\n",
       "      <td>0.005532</td>\n",
       "      <td>-0.001301</td>\n",
       "      <td>-0.000761</td>\n",
       "      <td>0.003225</td>\n",
       "      <td>-0.007931</td>\n",
       "      <td>-0.002828</td>\n",
       "      <td>1.000000</td>\n",
       "    </tr>\n",
       "  </tbody>\n",
       "</table>\n",
       "</div>"
      ]
     },
     "metadata": {},
     "execution_count": 26
    }
   ],
   "metadata": {}
  },
  {
   "cell_type": "code",
   "execution_count": 27,
   "source": [
    "fig = px.imshow(data_usage_corr.values)\n",
    "fig.show()"
   ],
   "outputs": [
    {
     "output_type": "display_data",
     "data": {
      "application/vnd.plotly.v1+json": {
       "config": {
        "plotlyServerURL": "https://plot.ly"
       },
       "data": [
        {
         "coloraxis": "coloraxis",
         "hovertemplate": "x: %{x}<br>y: %{y}<br>color: %{z}<extra></extra>",
         "name": "0",
         "type": "heatmap",
         "xaxis": "x",
         "yaxis": "y",
         "z": [
          [
           1,
           -0.0019135984675041344,
           0.004183896616197586,
           0.0005925051635869049,
           0.001384251945929172,
           0.0019044628031516103,
           0.005532295484034666
          ],
          [
           -0.0019135984675041344,
           1,
           -0.000047754767298435195,
           0.0021644298840225794,
           -0.0019904881577894593,
           -0.0008250260737264877,
           -0.0013013219702463364
          ],
          [
           0.004183896616197586,
           -0.000047754767298435195,
           1,
           -0.003439814249997567,
           0.0015239416252403612,
           0.000054946617870129035,
           -0.0007607211490122984
          ],
          [
           0.0005925051635869049,
           0.0021644298840225794,
           -0.003439814249997567,
           1,
           0.003619350136137242,
           -0.0037275298651247672,
           0.0032246173776044706
          ],
          [
           0.001384251945929172,
           -0.0019904881577894593,
           0.0015239416252403612,
           0.003619350136137242,
           1,
           -0.0035046256405001155,
           -0.007931285437127894
          ],
          [
           0.0019044628031516103,
           -0.0008250260737264877,
           0.000054946617870129035,
           -0.0037275298651247672,
           -0.0035046256405001155,
           1,
           -0.0028283815974150138
          ],
          [
           0.005532295484034666,
           -0.0013013219702463364,
           -0.0007607211490122984,
           0.0032246173776044706,
           -0.007931285437127894,
           -0.0028283815974150138,
           1
          ]
         ]
        }
       ],
       "layout": {
        "coloraxis": {
         "colorscale": [
          [
           0,
           "#0d0887"
          ],
          [
           0.1111111111111111,
           "#46039f"
          ],
          [
           0.2222222222222222,
           "#7201a8"
          ],
          [
           0.3333333333333333,
           "#9c179e"
          ],
          [
           0.4444444444444444,
           "#bd3786"
          ],
          [
           0.5555555555555556,
           "#d8576b"
          ],
          [
           0.6666666666666666,
           "#ed7953"
          ],
          [
           0.7777777777777778,
           "#fb9f3a"
          ],
          [
           0.8888888888888888,
           "#fdca26"
          ],
          [
           1,
           "#f0f921"
          ]
         ]
        },
        "margin": {
         "t": 60
        },
        "template": {
         "data": {
          "bar": [
           {
            "error_x": {
             "color": "#2a3f5f"
            },
            "error_y": {
             "color": "#2a3f5f"
            },
            "marker": {
             "line": {
              "color": "#E5ECF6",
              "width": 0.5
             }
            },
            "type": "bar"
           }
          ],
          "barpolar": [
           {
            "marker": {
             "line": {
              "color": "#E5ECF6",
              "width": 0.5
             }
            },
            "type": "barpolar"
           }
          ],
          "carpet": [
           {
            "aaxis": {
             "endlinecolor": "#2a3f5f",
             "gridcolor": "white",
             "linecolor": "white",
             "minorgridcolor": "white",
             "startlinecolor": "#2a3f5f"
            },
            "baxis": {
             "endlinecolor": "#2a3f5f",
             "gridcolor": "white",
             "linecolor": "white",
             "minorgridcolor": "white",
             "startlinecolor": "#2a3f5f"
            },
            "type": "carpet"
           }
          ],
          "choropleth": [
           {
            "colorbar": {
             "outlinewidth": 0,
             "ticks": ""
            },
            "type": "choropleth"
           }
          ],
          "contour": [
           {
            "colorbar": {
             "outlinewidth": 0,
             "ticks": ""
            },
            "colorscale": [
             [
              0,
              "#0d0887"
             ],
             [
              0.1111111111111111,
              "#46039f"
             ],
             [
              0.2222222222222222,
              "#7201a8"
             ],
             [
              0.3333333333333333,
              "#9c179e"
             ],
             [
              0.4444444444444444,
              "#bd3786"
             ],
             [
              0.5555555555555556,
              "#d8576b"
             ],
             [
              0.6666666666666666,
              "#ed7953"
             ],
             [
              0.7777777777777778,
              "#fb9f3a"
             ],
             [
              0.8888888888888888,
              "#fdca26"
             ],
             [
              1,
              "#f0f921"
             ]
            ],
            "type": "contour"
           }
          ],
          "contourcarpet": [
           {
            "colorbar": {
             "outlinewidth": 0,
             "ticks": ""
            },
            "type": "contourcarpet"
           }
          ],
          "heatmap": [
           {
            "colorbar": {
             "outlinewidth": 0,
             "ticks": ""
            },
            "colorscale": [
             [
              0,
              "#0d0887"
             ],
             [
              0.1111111111111111,
              "#46039f"
             ],
             [
              0.2222222222222222,
              "#7201a8"
             ],
             [
              0.3333333333333333,
              "#9c179e"
             ],
             [
              0.4444444444444444,
              "#bd3786"
             ],
             [
              0.5555555555555556,
              "#d8576b"
             ],
             [
              0.6666666666666666,
              "#ed7953"
             ],
             [
              0.7777777777777778,
              "#fb9f3a"
             ],
             [
              0.8888888888888888,
              "#fdca26"
             ],
             [
              1,
              "#f0f921"
             ]
            ],
            "type": "heatmap"
           }
          ],
          "heatmapgl": [
           {
            "colorbar": {
             "outlinewidth": 0,
             "ticks": ""
            },
            "colorscale": [
             [
              0,
              "#0d0887"
             ],
             [
              0.1111111111111111,
              "#46039f"
             ],
             [
              0.2222222222222222,
              "#7201a8"
             ],
             [
              0.3333333333333333,
              "#9c179e"
             ],
             [
              0.4444444444444444,
              "#bd3786"
             ],
             [
              0.5555555555555556,
              "#d8576b"
             ],
             [
              0.6666666666666666,
              "#ed7953"
             ],
             [
              0.7777777777777778,
              "#fb9f3a"
             ],
             [
              0.8888888888888888,
              "#fdca26"
             ],
             [
              1,
              "#f0f921"
             ]
            ],
            "type": "heatmapgl"
           }
          ],
          "histogram": [
           {
            "marker": {
             "colorbar": {
              "outlinewidth": 0,
              "ticks": ""
             }
            },
            "type": "histogram"
           }
          ],
          "histogram2d": [
           {
            "colorbar": {
             "outlinewidth": 0,
             "ticks": ""
            },
            "colorscale": [
             [
              0,
              "#0d0887"
             ],
             [
              0.1111111111111111,
              "#46039f"
             ],
             [
              0.2222222222222222,
              "#7201a8"
             ],
             [
              0.3333333333333333,
              "#9c179e"
             ],
             [
              0.4444444444444444,
              "#bd3786"
             ],
             [
              0.5555555555555556,
              "#d8576b"
             ],
             [
              0.6666666666666666,
              "#ed7953"
             ],
             [
              0.7777777777777778,
              "#fb9f3a"
             ],
             [
              0.8888888888888888,
              "#fdca26"
             ],
             [
              1,
              "#f0f921"
             ]
            ],
            "type": "histogram2d"
           }
          ],
          "histogram2dcontour": [
           {
            "colorbar": {
             "outlinewidth": 0,
             "ticks": ""
            },
            "colorscale": [
             [
              0,
              "#0d0887"
             ],
             [
              0.1111111111111111,
              "#46039f"
             ],
             [
              0.2222222222222222,
              "#7201a8"
             ],
             [
              0.3333333333333333,
              "#9c179e"
             ],
             [
              0.4444444444444444,
              "#bd3786"
             ],
             [
              0.5555555555555556,
              "#d8576b"
             ],
             [
              0.6666666666666666,
              "#ed7953"
             ],
             [
              0.7777777777777778,
              "#fb9f3a"
             ],
             [
              0.8888888888888888,
              "#fdca26"
             ],
             [
              1,
              "#f0f921"
             ]
            ],
            "type": "histogram2dcontour"
           }
          ],
          "mesh3d": [
           {
            "colorbar": {
             "outlinewidth": 0,
             "ticks": ""
            },
            "type": "mesh3d"
           }
          ],
          "parcoords": [
           {
            "line": {
             "colorbar": {
              "outlinewidth": 0,
              "ticks": ""
             }
            },
            "type": "parcoords"
           }
          ],
          "pie": [
           {
            "automargin": true,
            "type": "pie"
           }
          ],
          "scatter": [
           {
            "marker": {
             "colorbar": {
              "outlinewidth": 0,
              "ticks": ""
             }
            },
            "type": "scatter"
           }
          ],
          "scatter3d": [
           {
            "line": {
             "colorbar": {
              "outlinewidth": 0,
              "ticks": ""
             }
            },
            "marker": {
             "colorbar": {
              "outlinewidth": 0,
              "ticks": ""
             }
            },
            "type": "scatter3d"
           }
          ],
          "scattercarpet": [
           {
            "marker": {
             "colorbar": {
              "outlinewidth": 0,
              "ticks": ""
             }
            },
            "type": "scattercarpet"
           }
          ],
          "scattergeo": [
           {
            "marker": {
             "colorbar": {
              "outlinewidth": 0,
              "ticks": ""
             }
            },
            "type": "scattergeo"
           }
          ],
          "scattergl": [
           {
            "marker": {
             "colorbar": {
              "outlinewidth": 0,
              "ticks": ""
             }
            },
            "type": "scattergl"
           }
          ],
          "scattermapbox": [
           {
            "marker": {
             "colorbar": {
              "outlinewidth": 0,
              "ticks": ""
             }
            },
            "type": "scattermapbox"
           }
          ],
          "scatterpolar": [
           {
            "marker": {
             "colorbar": {
              "outlinewidth": 0,
              "ticks": ""
             }
            },
            "type": "scatterpolar"
           }
          ],
          "scatterpolargl": [
           {
            "marker": {
             "colorbar": {
              "outlinewidth": 0,
              "ticks": ""
             }
            },
            "type": "scatterpolargl"
           }
          ],
          "scatterternary": [
           {
            "marker": {
             "colorbar": {
              "outlinewidth": 0,
              "ticks": ""
             }
            },
            "type": "scatterternary"
           }
          ],
          "surface": [
           {
            "colorbar": {
             "outlinewidth": 0,
             "ticks": ""
            },
            "colorscale": [
             [
              0,
              "#0d0887"
             ],
             [
              0.1111111111111111,
              "#46039f"
             ],
             [
              0.2222222222222222,
              "#7201a8"
             ],
             [
              0.3333333333333333,
              "#9c179e"
             ],
             [
              0.4444444444444444,
              "#bd3786"
             ],
             [
              0.5555555555555556,
              "#d8576b"
             ],
             [
              0.6666666666666666,
              "#ed7953"
             ],
             [
              0.7777777777777778,
              "#fb9f3a"
             ],
             [
              0.8888888888888888,
              "#fdca26"
             ],
             [
              1,
              "#f0f921"
             ]
            ],
            "type": "surface"
           }
          ],
          "table": [
           {
            "cells": {
             "fill": {
              "color": "#EBF0F8"
             },
             "line": {
              "color": "white"
             }
            },
            "header": {
             "fill": {
              "color": "#C8D4E3"
             },
             "line": {
              "color": "white"
             }
            },
            "type": "table"
           }
          ]
         },
         "layout": {
          "annotationdefaults": {
           "arrowcolor": "#2a3f5f",
           "arrowhead": 0,
           "arrowwidth": 1
          },
          "autotypenumbers": "strict",
          "coloraxis": {
           "colorbar": {
            "outlinewidth": 0,
            "ticks": ""
           }
          },
          "colorscale": {
           "diverging": [
            [
             0,
             "#8e0152"
            ],
            [
             0.1,
             "#c51b7d"
            ],
            [
             0.2,
             "#de77ae"
            ],
            [
             0.3,
             "#f1b6da"
            ],
            [
             0.4,
             "#fde0ef"
            ],
            [
             0.5,
             "#f7f7f7"
            ],
            [
             0.6,
             "#e6f5d0"
            ],
            [
             0.7,
             "#b8e186"
            ],
            [
             0.8,
             "#7fbc41"
            ],
            [
             0.9,
             "#4d9221"
            ],
            [
             1,
             "#276419"
            ]
           ],
           "sequential": [
            [
             0,
             "#0d0887"
            ],
            [
             0.1111111111111111,
             "#46039f"
            ],
            [
             0.2222222222222222,
             "#7201a8"
            ],
            [
             0.3333333333333333,
             "#9c179e"
            ],
            [
             0.4444444444444444,
             "#bd3786"
            ],
            [
             0.5555555555555556,
             "#d8576b"
            ],
            [
             0.6666666666666666,
             "#ed7953"
            ],
            [
             0.7777777777777778,
             "#fb9f3a"
            ],
            [
             0.8888888888888888,
             "#fdca26"
            ],
            [
             1,
             "#f0f921"
            ]
           ],
           "sequentialminus": [
            [
             0,
             "#0d0887"
            ],
            [
             0.1111111111111111,
             "#46039f"
            ],
            [
             0.2222222222222222,
             "#7201a8"
            ],
            [
             0.3333333333333333,
             "#9c179e"
            ],
            [
             0.4444444444444444,
             "#bd3786"
            ],
            [
             0.5555555555555556,
             "#d8576b"
            ],
            [
             0.6666666666666666,
             "#ed7953"
            ],
            [
             0.7777777777777778,
             "#fb9f3a"
            ],
            [
             0.8888888888888888,
             "#fdca26"
            ],
            [
             1,
             "#f0f921"
            ]
           ]
          },
          "colorway": [
           "#636efa",
           "#EF553B",
           "#00cc96",
           "#ab63fa",
           "#FFA15A",
           "#19d3f3",
           "#FF6692",
           "#B6E880",
           "#FF97FF",
           "#FECB52"
          ],
          "font": {
           "color": "#2a3f5f"
          },
          "geo": {
           "bgcolor": "white",
           "lakecolor": "white",
           "landcolor": "#E5ECF6",
           "showlakes": true,
           "showland": true,
           "subunitcolor": "white"
          },
          "hoverlabel": {
           "align": "left"
          },
          "hovermode": "closest",
          "mapbox": {
           "style": "light"
          },
          "paper_bgcolor": "white",
          "plot_bgcolor": "#E5ECF6",
          "polar": {
           "angularaxis": {
            "gridcolor": "white",
            "linecolor": "white",
            "ticks": ""
           },
           "bgcolor": "#E5ECF6",
           "radialaxis": {
            "gridcolor": "white",
            "linecolor": "white",
            "ticks": ""
           }
          },
          "scene": {
           "xaxis": {
            "backgroundcolor": "#E5ECF6",
            "gridcolor": "white",
            "gridwidth": 2,
            "linecolor": "white",
            "showbackground": true,
            "ticks": "",
            "zerolinecolor": "white"
           },
           "yaxis": {
            "backgroundcolor": "#E5ECF6",
            "gridcolor": "white",
            "gridwidth": 2,
            "linecolor": "white",
            "showbackground": true,
            "ticks": "",
            "zerolinecolor": "white"
           },
           "zaxis": {
            "backgroundcolor": "#E5ECF6",
            "gridcolor": "white",
            "gridwidth": 2,
            "linecolor": "white",
            "showbackground": true,
            "ticks": "",
            "zerolinecolor": "white"
           }
          },
          "shapedefaults": {
           "line": {
            "color": "#2a3f5f"
           }
          },
          "ternary": {
           "aaxis": {
            "gridcolor": "white",
            "linecolor": "white",
            "ticks": ""
           },
           "baxis": {
            "gridcolor": "white",
            "linecolor": "white",
            "ticks": ""
           },
           "bgcolor": "#E5ECF6",
           "caxis": {
            "gridcolor": "white",
            "linecolor": "white",
            "ticks": ""
           }
          },
          "title": {
           "x": 0.05
          },
          "xaxis": {
           "automargin": true,
           "gridcolor": "white",
           "linecolor": "white",
           "ticks": "",
           "title": {
            "standoff": 15
           },
           "zerolinecolor": "white",
           "zerolinewidth": 2
          },
          "yaxis": {
           "automargin": true,
           "gridcolor": "white",
           "linecolor": "white",
           "ticks": "",
           "title": {
            "standoff": 15
           },
           "zerolinecolor": "white",
           "zerolinewidth": 2
          }
         }
        },
        "xaxis": {
         "anchor": "y",
         "constrain": "domain",
         "domain": [
          0,
          1
         ],
         "scaleanchor": "y"
        },
        "yaxis": {
         "anchor": "x",
         "autorange": "reversed",
         "constrain": "domain",
         "domain": [
          0,
          1
         ]
        }
       }
      }
     },
     "metadata": {}
    }
   ],
   "metadata": {}
  },
  {
   "cell_type": "markdown",
   "source": [
    "## Dimensionality Reduction – perform a principal component analysis to reduce the dimensions of your data and provide a useful interpretation of the results (Provide your interpretation in four (4) bullet points-maximum). "
   ],
   "metadata": {}
  },
  {
   "cell_type": "markdown",
   "source": [
    "In our dataset the original feature space has 30 dimensions, known as p dimensions. PCA will project the data onto a smaller subspace of k dimensions (where k < p) while retaining as much of the variation as possible. These k dimensions are known as the principal components. \n",
    "\n",
    "By applying PCA, we lose some of the variance (i.e., information). By reducing the dimensionality of the data, PCA will reduce the size of the data.\n",
    "- This will improve the performance of machine learning algorithms.\n",
    "- This will reduce hardware requirements and speed up the training process.\n",
    "- This will allow us to easily understand the underlying structure of the data.\n",
    "- This will allow us to visualize the data on a 2d or 3d plot (if we choose the number of principal components as 2 or 3).\n",
    "\n",
    "We follow the following steps:\n",
    "1. Obtain the feature matrix"
   ],
   "metadata": {}
  },
  {
   "cell_type": "code",
   "execution_count": 29,
   "source": [
    "numeric_columns = [ 'start_ms',\n",
    "                    'end_ms',\n",
    "                    'dur_(ms)',\n",
    "                    'avg_rtt_dl_(ms)',\n",
    "                    'avg_rtt_ul_(ms)',\n",
    "                    'avg_bearer_tp_dl_(kbps)',\n",
    "                    'avg_bearer_tp_ul_(kbps)',\n",
    "                    'tcp_dl_retrans_vol_(bytes)',\n",
    "                    'tcp_ul_retrans_vol_(bytes)',\n",
    "                    'dl_tp_<_50_kbps_(%)',\n",
    "                    '50_kbps_<_dl_tp_<_250_kbps_(%)',\n",
    "                    '250_kbps_<_dl_tp_<_1_mbps_(%)',\n",
    "                    'dl_tp_>_1_mbps_(%)',\n",
    "                    'ul_tp_<_10_kbps_(%)',\n",
    "                    '10_kbps_<_ul_tp_<_50_kbps_(%)',\n",
    "                    '50_kbps_<_ul_tp_<_300_kbps_(%)',\n",
    "                    'ul_tp_>_300_kbps_(%)',\n",
    "                    'activity_duration_dl_(ms)',\n",
    "                    'activity_duration_ul_(ms)',\n",
    "                    'nb_of_sec_with_vol_dl_<_6250b',\n",
    "                    'nb_of_sec_with_vol_ul_<_1250b',\n",
    "                    'social_media_dl_(bytes)',\n",
    "                    'social_media_ul_(bytes)',\n",
    "                    'google_dl_(bytes)',\n",
    "                    'google_ul_(bytes)',\n",
    "                    'email_dl_(bytes)',\n",
    "                    'email_ul_(bytes)',\n",
    "                    'youtube_dl_(bytes)',\n",
    "                    'youtube_ul_(bytes)',\n",
    "                    'netflix_dl_(bytes)',\n",
    "                    'netflix_ul_(bytes)',\n",
    "                    'gaming_dl_(bytes)',\n",
    "                    'gaming_ul_(bytes)',\n",
    "                    'other_dl_(bytes)',\n",
    "                    'other_ul_(bytes)',\n",
    "                    'total_ul_(bytes)',\n",
    "                    'total_dl_(bytes)']"
   ],
   "outputs": [],
   "metadata": {}
  },
  {
   "cell_type": "code",
   "execution_count": 31,
   "source": [
    "feature_matrix = df[numeric_columns].values\n",
    "feature_matrix.shape"
   ],
   "outputs": [
    {
     "output_type": "execute_result",
     "data": {
      "text/plain": [
       "(146882, 37)"
      ]
     },
     "metadata": {},
     "execution_count": 31
    }
   ],
   "metadata": {}
  },
  {
   "cell_type": "markdown",
   "source": [
    "2. Standardize the features if necessary"
   ],
   "metadata": {}
  },
  {
   "cell_type": "code",
   "execution_count": 32,
   "source": [
    "scaler = StandardScaler()\n",
    "scaler.fit(feature_matrix)\n",
    "\n",
    "feature_matrix_scaled = scaler.transform(feature_matrix)"
   ],
   "outputs": [],
   "metadata": {}
  },
  {
   "cell_type": "markdown",
   "source": [
    "3. Choose the right number of dimensions(k)\n"
   ],
   "metadata": {}
  },
  {
   "cell_type": "code",
   "execution_count": 57,
   "source": [
    "pca_37 = PCA(n_components=37, random_state=1)\n",
    "pca_37.fit(feature_matrix_scaled)\n",
    "x_pca_37 = pca_37.transform(feature_matrix_scaled)"
   ],
   "outputs": [],
   "metadata": {}
  },
  {
   "cell_type": "code",
   "execution_count": 58,
   "source": [
    "print(\n",
    "    f\"percentage of variance kept: {sum(pca_37.explained_variance_ratio_ * 100):.2}\" )\n"
   ],
   "outputs": [
    {
     "output_type": "stream",
     "name": "stdout",
     "text": [
      "percentage of variance kept:  100.00000000000001\n"
     ]
    }
   ],
   "metadata": {}
  },
  {
   "cell_type": "code",
   "execution_count": 67,
   "source": [
    "feat_mt_ratio = pca_37.explained_variance_ratio_ * 100\n",
    "for i in range(len(numeric_columns)):\n",
    "  print(\n",
    "      f'column {numeric_columns[i]:32}, contribution to variability = {feat_mt_ratio[i]:.2f}')\n"
   ],
   "outputs": [
    {
     "output_type": "stream",
     "name": "stdout",
     "text": [
      "column start_ms                        , contribution to variability = 27.29\n",
      "column end_ms                          , contribution to variability = 6.07\n",
      "column dur_(ms)                        , contribution to variability = 6.04\n",
      "column avg_rtt_dl_(ms)                 , contribution to variability = 4.20\n",
      "column avg_rtt_ul_(ms)                 , contribution to variability = 3.40\n",
      "column avg_bearer_tp_dl_(kbps)         , contribution to variability = 3.10\n",
      "column avg_bearer_tp_ul_(kbps)         , contribution to variability = 3.07\n",
      "column tcp_dl_retrans_vol_(bytes)      , contribution to variability = 3.07\n",
      "column tcp_ul_retrans_vol_(bytes)      , contribution to variability = 3.05\n",
      "column dl_tp_<_50_kbps_(%)             , contribution to variability = 3.05\n",
      "column 50_kbps_<_dl_tp_<_250_kbps_(%)  , contribution to variability = 3.04\n",
      "column 250_kbps_<_dl_tp_<_1_mbps_(%)   , contribution to variability = 3.03\n",
      "column dl_tp_>_1_mbps_(%)              , contribution to variability = 3.03\n",
      "column ul_tp_<_10_kbps_(%)             , contribution to variability = 3.02\n",
      "column 10_kbps_<_ul_tp_<_50_kbps_(%)   , contribution to variability = 3.02\n",
      "column 50_kbps_<_ul_tp_<_300_kbps_(%)  , contribution to variability = 3.00\n",
      "column ul_tp_>_300_kbps_(%)            , contribution to variability = 3.00\n",
      "column activity_duration_dl_(ms)       , contribution to variability = 2.99\n",
      "column activity_duration_ul_(ms)       , contribution to variability = 2.74\n",
      "column nb_of_sec_with_vol_dl_<_6250b   , contribution to variability = 2.66\n",
      "column nb_of_sec_with_vol_ul_<_1250b   , contribution to variability = 2.22\n",
      "column social_media_dl_(bytes)         , contribution to variability = 1.74\n",
      "column social_media_ul_(bytes)         , contribution to variability = 1.26\n",
      "column google_dl_(bytes)               , contribution to variability = 1.19\n",
      "column google_ul_(bytes)               , contribution to variability = 0.57\n",
      "column email_dl_(bytes)                , contribution to variability = 0.39\n",
      "column email_ul_(bytes)                , contribution to variability = 0.33\n",
      "column youtube_dl_(bytes)              , contribution to variability = 0.20\n",
      "column youtube_ul_(bytes)              , contribution to variability = 0.11\n",
      "column netflix_dl_(bytes)              , contribution to variability = 0.07\n",
      "column netflix_ul_(bytes)              , contribution to variability = 0.05\n",
      "column gaming_dl_(bytes)               , contribution to variability = 0.00\n",
      "column gaming_ul_(bytes)               , contribution to variability = 0.00\n",
      "column other_dl_(bytes)                , contribution to variability = 0.00\n",
      "column other_ul_(bytes)                , contribution to variability = 0.00\n",
      "column total_ul_(bytes)                , contribution to variability = 0.00\n",
      "column total_dl_(bytes)                , contribution to variability = 0.00\n"
     ]
    }
   ],
   "metadata": {}
  },
  {
   "cell_type": "markdown",
   "source": [
    "The first component alone captures about 44.27 % of the variability in the dataset and the second component alone captures about 18.97 % of the variability in the dataset and so on\n"
   ],
   "metadata": {}
  },
  {
   "cell_type": "code",
   "execution_count": 61,
   "source": [
    "plt.plot(np.cumsum(pca_37.explained_variance_ratio_))\n",
    "plt.xlabel(\"Number of components\")\n",
    "plt.ylabel(\"Explained variance\");"
   ],
   "outputs": [
    {
     "output_type": "display_data",
     "data": {
      "text/plain": [
       "<Figure size 432x288 with 1 Axes>"
      ],
      "image/png": "[encoded data removed]"
     },
     "metadata": {
      "needs_background": "light"
     }
    }
   ],
   "metadata": {}
  },
  {
   "cell_type": "markdown",
   "source": [
    "You can see that the first 10 principal components keep about 95.1 % of the variability in the dataset while reducing 20 (30–10) features in the dataset.\n"
   ],
   "metadata": {}
  },
  {
   "cell_type": "code",
   "execution_count": 62,
   "source": [
    "pca_21 = PCA(n_components=21, random_state=1)\n",
    "pca_21.fit(feature_matrix_scaled)\n",
    "x_pca_21 = pca_21.transform(feature_matrix_scaled)"
   ],
   "outputs": [],
   "metadata": {}
  },
  {
   "cell_type": "code",
   "execution_count": 64,
   "source": [
    "print(\"percentage of variance kept: \", sum(\n",
    "    pca_21.explained_variance_ratio_ * 100))\n"
   ],
   "outputs": [
    {
     "output_type": "stream",
     "name": "stdout",
     "text": [
      "percentage of variance kept:  94.08426687586679\n"
     ]
    }
   ],
   "metadata": {}
  },
  {
   "cell_type": "code",
   "execution_count": 65,
   "source": [
    "feat_mt_ratio = pca_21.explained_variance_ratio_ * 100"
   ],
   "outputs": [],
   "metadata": {}
  },
  {
   "cell_type": "code",
   "execution_count": 66,
   "source": [
    "plt.plot(np.cumsum(pca_21.explained_variance_ratio_))\n",
    "plt.xlabel(\"Number of components\")\n",
    "plt.ylabel(\"Explained variance\");"
   ],
   "outputs": [
    {
     "output_type": "display_data",
     "data": {
      "text/plain": [
       "<Figure size 432x288 with 1 Axes>"
      ],
      "image/png": "[encoded data removed]"
     },
     "metadata": {
      "needs_background": "light"
     }
    }
   ],
   "metadata": {}
  }
 ],
 "metadata": {
  "orig_nbformat": 4,
  "language_info": {
   "name": "python"
  }
 },
 "nbformat": 4,
 "nbformat_minor": 2
}