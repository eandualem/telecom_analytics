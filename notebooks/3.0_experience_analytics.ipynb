{
 "cells": [
  {
   "cell_type": "markdown",
   "source": [
    "# User Experience Analytics"
   ],
   "metadata": {}
  },
  {
   "cell_type": "markdown",
   "source": [
    "## Imports"
   ],
   "metadata": {}
  },
  {
   "cell_type": "code",
   "execution_count": 1,
   "source": [
    "import numpy as np\n",
    "import pandas as pd\n",
    "from math import floor\n",
    "import plotly.express as px\n",
    "import plotly.graph_objects as go\n",
    "from plotly.subplots import make_subplots\n",
    "from scipy.stats import zscore\n",
    "from sklearn import metrics\n",
    "from sklearn.cluster import KMeans\n",
    "from sklearn.preprocessing import StandardScaler, normalize\n",
    "from scipy.spatial.distance import cdist\n",
    "import matplotlib.pyplot as plt"
   ],
   "outputs": [],
   "metadata": {}
  },
  {
   "cell_type": "code",
   "execution_count": 2,
   "source": [
    "pd.set_option('display.max_columns', None)\n",
    "pd.set_option('display.max_colwidth', None)\n",
    "pd.set_option(\"expand_frame_repr\", False)\n",
    "pd.set_option('display.float_format', '{:.2f}'.format)"
   ],
   "outputs": [],
   "metadata": {}
  },
  {
   "cell_type": "code",
   "execution_count": 3,
   "source": [
    "sys.path.append(os.path.abspath(os.path.join('../scripts')))\n",
    "from df_selector import DfSelector\n",
    "from df_outlier import DfOutlier\n",
    "from vis_seaborn import *\n",
    "from vis_plotly import *"
   ],
   "outputs": [
    {
     "output_type": "stream",
     "name": "stdout",
     "text": [
      "2021-07-16 21:07:04,216 — DfSelector — DEBUG — Loaded successfully!\n",
      "2021-07-16 21:07:04,223 — DfOutlier — DEBUG — Loaded successfully!\n"
     ]
    }
   ],
   "metadata": {}
  },
  {
   "cell_type": "markdown",
   "source": [
    "## Data reading"
   ],
   "metadata": {}
  },
  {
   "cell_type": "code",
   "execution_count": 4,
   "source": [
    "df = pd.read_csv(\"../data/clean_data.csv\")\n",
    "df.info()"
   ],
   "outputs": [
    {
     "output_type": "stream",
     "name": "stdout",
     "text": [
      "<class 'pandas.core.frame.DataFrame'>\n",
      "RangeIndex: 146882 entries, 0 to 146881\n",
      "Data columns (total 54 columns):\n",
      " #   Column                          Non-Null Count   Dtype  \n",
      "---  ------                          --------------   -----  \n",
      " 0   bearer_id                       146882 non-null  int64  \n",
      " 1   start                           146882 non-null  object \n",
      " 2   start_ms                        146882 non-null  float64\n",
      " 3   end                             146882 non-null  object \n",
      " 4   end_ms                          146882 non-null  float64\n",
      " 5   dur_(ms)                        146882 non-null  float64\n",
      " 6   imsi                            146882 non-null  int64  \n",
      " 7   msisdn_number                   146882 non-null  int64  \n",
      " 8   imei                            146882 non-null  int64  \n",
      " 9   last_location_name              146882 non-null  object \n",
      " 10  avg_rtt_dl_(ms)                 146882 non-null  float64\n",
      " 11  avg_rtt_ul_(ms)                 146882 non-null  float64\n",
      " 12  avg_bearer_tp_dl_(kbps)         146882 non-null  float64\n",
      " 13  avg_bearer_tp_ul_(kbps)         146882 non-null  float64\n",
      " 14  tcp_dl_retrans_vol_(bytes)      146882 non-null  float64\n",
      " 15  tcp_ul_retrans_vol_(bytes)      146882 non-null  float64\n",
      " 16  dl_tp_<_50_kbps_(%)             146882 non-null  float64\n",
      " 17  50_kbps_<_dl_tp_<_250_kbps_(%)  146882 non-null  float64\n",
      " 18  250_kbps_<_dl_tp_<_1_mbps_(%)   146882 non-null  float64\n",
      " 19  dl_tp_>_1_mbps_(%)              146882 non-null  float64\n",
      " 20  ul_tp_<_10_kbps_(%)             146882 non-null  float64\n",
      " 21  10_kbps_<_ul_tp_<_50_kbps_(%)   146882 non-null  float64\n",
      " 22  50_kbps_<_ul_tp_<_300_kbps_(%)  146882 non-null  float64\n",
      " 23  ul_tp_>_300_kbps_(%)            146882 non-null  float64\n",
      " 24  activity_duration_dl_(ms)       146882 non-null  float64\n",
      " 25  activity_duration_ul_(ms)       146882 non-null  float64\n",
      " 26  handset_manufacturer            146882 non-null  object \n",
      " 27  handset_type                    146882 non-null  object \n",
      " 28  nb_of_sec_with_vol_dl_<_6250b   146882 non-null  float64\n",
      " 29  nb_of_sec_with_vol_ul_<_1250b   146882 non-null  float64\n",
      " 30  social_media_dl_(bytes)         146882 non-null  float64\n",
      " 31  social_media_ul_(bytes)         146882 non-null  float64\n",
      " 32  google_dl_(bytes)               146882 non-null  float64\n",
      " 33  google_ul_(bytes)               146882 non-null  float64\n",
      " 34  email_dl_(bytes)                146882 non-null  float64\n",
      " 35  email_ul_(bytes)                146882 non-null  float64\n",
      " 36  youtube_dl_(bytes)              146882 non-null  float64\n",
      " 37  youtube_ul_(bytes)              146882 non-null  float64\n",
      " 38  netflix_dl_(bytes)              146882 non-null  float64\n",
      " 39  netflix_ul_(bytes)              146882 non-null  float64\n",
      " 40  gaming_dl_(bytes)               146882 non-null  float64\n",
      " 41  gaming_ul_(bytes)               146882 non-null  float64\n",
      " 42  other_dl_(bytes)                146882 non-null  float64\n",
      " 43  other_ul_(bytes)                146882 non-null  float64\n",
      " 44  total_ul_(bytes)                146882 non-null  float64\n",
      " 45  total_dl_(bytes)                146882 non-null  float64\n",
      " 46  social_media                    146882 non-null  float64\n",
      " 47  google                          146882 non-null  float64\n",
      " 48  email                           146882 non-null  float64\n",
      " 49  youtube                         146882 non-null  float64\n",
      " 50  netflix                         146882 non-null  float64\n",
      " 51  gaming                          146882 non-null  float64\n",
      " 52  other                           146882 non-null  float64\n",
      " 53  total_data                      146882 non-null  float64\n",
      "dtypes: float64(45), int64(4), object(5)\n",
      "memory usage: 60.5+ MB\n"
     ]
    }
   ],
   "metadata": {}
  },
  {
   "cell_type": "markdown",
   "source": [
    "## Task 3. 1"
   ],
   "metadata": {}
  },
  {
   "cell_type": "markdown",
   "source": [
    "Aggregate, per customer, the following information(treat missing & outliers by replacing by the mean or the mode of the corresponding variable"
   ],
   "metadata": {}
  },
  {
   "cell_type": "markdown",
   "source": [
    "- Average TCP retransmission\n",
    "- Average RTT\n",
    "- Handset type\n",
    "- Average throughput"
   ],
   "metadata": {}
  },
  {
   "cell_type": "code",
   "execution_count": 5,
   "source": [
    "user_engagement_df = df[[\n",
    "    \"msisdn_number\",\n",
    "    \"avg_rtt_dl_(ms)\",\n",
    "    \"avg_rtt_ul_(ms)\",\n",
    "    \"avg_bearer_tp_dl_(kbps)\",\n",
    "    \"avg_bearer_tp_ul_(kbps)\",\n",
    "    \"tcp_dl_retrans_vol_(bytes)\",\n",
    "    \"tcp_ul_retrans_vol_(bytes)\",\n",
    "    \"handset_type\"]].copy()"
   ],
   "outputs": [],
   "metadata": {}
  },
  {
   "cell_type": "code",
   "execution_count": 6,
   "source": [
    "user_engagement_df['total_avg_rtt'] = user_engagement_df['avg_rtt_dl_(ms)'] + user_engagement_df['avg_rtt_ul_(ms)']\n",
    "user_engagement_df['total_avg_tp'] = user_engagement_df['avg_bearer_tp_dl_(kbps)'] + user_engagement_df['avg_bearer_tp_ul_(kbps)']\n",
    "user_engagement_df['total_avg_tcp'] = user_engagement_df['tcp_dl_retrans_vol_(bytes)'] + user_engagement_df['tcp_ul_retrans_vol_(bytes)']\n",
    "user_engagement_df.info()\n"
   ],
   "outputs": [
    {
     "output_type": "stream",
     "name": "stdout",
     "text": [
      "<class 'pandas.core.frame.DataFrame'>\n",
      "RangeIndex: 146882 entries, 0 to 146881\n",
      "Data columns (total 11 columns):\n",
      " #   Column                      Non-Null Count   Dtype  \n",
      "---  ------                      --------------   -----  \n",
      " 0   msisdn_number               146882 non-null  int64  \n",
      " 1   avg_rtt_dl_(ms)             146882 non-null  float64\n",
      " 2   avg_rtt_ul_(ms)             146882 non-null  float64\n",
      " 3   avg_bearer_tp_dl_(kbps)     146882 non-null  float64\n",
      " 4   avg_bearer_tp_ul_(kbps)     146882 non-null  float64\n",
      " 5   tcp_dl_retrans_vol_(bytes)  146882 non-null  float64\n",
      " 6   tcp_ul_retrans_vol_(bytes)  146882 non-null  float64\n",
      " 7   handset_type                146882 non-null  object \n",
      " 8   total_avg_rtt               146882 non-null  float64\n",
      " 9   total_avg_tp                146882 non-null  float64\n",
      " 10  total_avg_tcp               146882 non-null  float64\n",
      "dtypes: float64(9), int64(1), object(1)\n",
      "memory usage: 12.3+ MB\n"
     ]
    }
   ],
   "metadata": {}
  },
  {
   "cell_type": "code",
   "execution_count": 7,
   "source": [
    "_user_engagement_df = user_engagement_df.groupby('msisdn_number').agg({\n",
    "    'total_avg_rtt': 'sum',\n",
    "    'total_avg_tp': 'sum',\n",
    "    'total_avg_tcp': 'sum',\n",
    "    'handset_type': [lambda x: x.mode()[0]]})\n",
    "\n",
    "user_engagement_df = pd.DataFrame(columns=[\n",
    "    \"total_avg_rtt\",\n",
    "    \"total_avg_tp\",\n",
    "    \"total_avg_tcp\",\n",
    "    \"handset_type\"])\n",
    "\n",
    "user_engagement_df[\"total_avg_rtt\"] = _user_engagement_df[\"total_avg_rtt\"]['sum']\n",
    "user_engagement_df[\"total_avg_tp\"] = _user_engagement_df[\"total_avg_tp\"]['sum']\n",
    "user_engagement_df[\"total_avg_tcp\"] = _user_engagement_df[\"total_avg_tcp\"]['sum']\n",
    "user_engagement_df[\"handset_type\"] = _user_engagement_df[\"handset_type\"]['<lambda>']\n",
    "user_engagement_df.head()"
   ],
   "outputs": [
    {
     "output_type": "execute_result",
     "data": {
      "text/plain": [
       "               total_avg_rtt  total_avg_tp  total_avg_tcp                    handset_type\n",
       "msisdn_number                                                                            \n",
       "33601001722            46.00         76.00      729692.00  Huawei P20 Lite Huawei Nova 3E\n",
       "33601001754            31.00         99.00       15743.00          Apple iPhone 7 (A1778)\n",
       "33601002511            50.00         97.00     4032874.25                Huawei B528S-23A\n",
       "33601007832            84.00        248.00        5056.00         Apple iPhone 5S (A1457)\n",
       "33601008617           119.00      43204.50     8980965.88         Apple iPhone Se (A1723)"
      ],
      "text/html": [
       "<div>\n",
       "<style scoped>\n",
       "    .dataframe tbody tr th:only-of-type {\n",
       "        vertical-align: middle;\n",
       "    }\n",
       "\n",
       "    .dataframe tbody tr th {\n",
       "        vertical-align: top;\n",
       "    }\n",
       "\n",
       "    .dataframe thead th {\n",
       "        text-align: right;\n",
       "    }\n",
       "</style>\n",
       "<table border=\"1\" class=\"dataframe\">\n",
       "  <thead>\n",
       "    <tr style=\"text-align: right;\">\n",
       "      <th></th>\n",
       "      <th>total_avg_rtt</th>\n",
       "      <th>total_avg_tp</th>\n",
       "      <th>total_avg_tcp</th>\n",
       "      <th>handset_type</th>\n",
       "    </tr>\n",
       "    <tr>\n",
       "      <th>msisdn_number</th>\n",
       "      <th></th>\n",
       "      <th></th>\n",
       "      <th></th>\n",
       "      <th></th>\n",
       "    </tr>\n",
       "  </thead>\n",
       "  <tbody>\n",
       "    <tr>\n",
       "      <th>33601001722</th>\n",
       "      <td>46.00</td>\n",
       "      <td>76.00</td>\n",
       "      <td>729692.00</td>\n",
       "      <td>Huawei P20 Lite Huawei Nova 3E</td>\n",
       "    </tr>\n",
       "    <tr>\n",
       "      <th>33601001754</th>\n",
       "      <td>31.00</td>\n",
       "      <td>99.00</td>\n",
       "      <td>15743.00</td>\n",
       "      <td>Apple iPhone 7 (A1778)</td>\n",
       "    </tr>\n",
       "    <tr>\n",
       "      <th>33601002511</th>\n",
       "      <td>50.00</td>\n",
       "      <td>97.00</td>\n",
       "      <td>4032874.25</td>\n",
       "      <td>Huawei B528S-23A</td>\n",
       "    </tr>\n",
       "    <tr>\n",
       "      <th>33601007832</th>\n",
       "      <td>84.00</td>\n",
       "      <td>248.00</td>\n",
       "      <td>5056.00</td>\n",
       "      <td>Apple iPhone 5S (A1457)</td>\n",
       "    </tr>\n",
       "    <tr>\n",
       "      <th>33601008617</th>\n",
       "      <td>119.00</td>\n",
       "      <td>43204.50</td>\n",
       "      <td>8980965.88</td>\n",
       "      <td>Apple iPhone Se (A1723)</td>\n",
       "    </tr>\n",
       "  </tbody>\n",
       "</table>\n",
       "</div>"
      ]
     },
     "metadata": {},
     "execution_count": 7
    }
   ],
   "metadata": {}
  },
  {
   "cell_type": "markdown",
   "source": [
    "## Task 3.2 "
   ],
   "metadata": {}
  },
  {
   "cell_type": "markdown",
   "source": [
    "Compute & list 10 of the top, bottom and most frequent:"
   ],
   "metadata": {}
  },
  {
   "cell_type": "markdown",
   "source": [
    "### TCP values in the dataset.\n"
   ],
   "metadata": {}
  },
  {
   "cell_type": "code",
   "execution_count": 20,
   "source": [
    "sorted_by_tcp = user_engagement_df.sort_values('total_avg_tcp', ascending=False)\n",
    "top_10 = sorted_by_tcp.head(10)['total_avg_tcp']\n",
    "last_10 = sorted_by_tcp.tail(10)['total_avg_tcp']\n",
    "most_10 = user_engagement_df['total_avg_tcp'].value_counts().head(10)"
   ],
   "outputs": [],
   "metadata": {}
  },
  {
   "cell_type": "code",
   "execution_count": 21,
   "source": [
    "mult_hist([top_10, last_10, most_10, top_10], 1,\n",
    "          3, \"TCP values in the dataset\", ['Top 10', 'Last 10', 'Most 10'])"
   ],
   "outputs": [
    {
     "output_type": "display_data",
     "data": {
      "application/vnd.plotly.v1+json": {
       "config": {
        "plotlyServerURL": "https://plot.ly"
       },
       "data": [
        {
         "type": "bar",
         "x": [
          "-> 33604515716",
          "-> 33665639832",
          "-> 33675877202",
          "-> 33699231421",
          "-> 33760112066",
          "-> 33665778430",
          "-> 33659822913",
          "-> 33699248832",
          "-> 33659795860",
          "-> 33763730582"
         ],
         "xaxis": "x",
         "y": [
          56842100.75,
          54077173.125,
          48793363.375,
          47298810.75,
          47116970.25,
          47018449,
          46843771,
          46675416.25,
          46594455.5,
          46579867.5
         ],
         "yaxis": "y"
        },
        {
         "type": "bar",
         "x": [
          "-> 33650128412",
          "-> 33663290805",
          "-> 33661002468",
          "-> 33671079115",
          "-> 33667671281",
          "-> 33658316511",
          "-> 33615255533",
          "-> 33666583085",
          "-> 33622725360",
          "-> 33669388268"
         ],
         "xaxis": "x2",
         "y": [
          97,
          97,
          97,
          97,
          97,
          97,
          84,
          63,
          47,
          44
         ],
         "yaxis": "y2"
        },
        {
         "type": "bar",
         "x": [
          "-> 7883135.125",
          "-> 15766270.25",
          "-> 7715280.875",
          "-> 78897.0",
          "-> 7715316.875",
          "-> 70819.0",
          "-> 1041874.0",
          "-> 7716646.875",
          "-> 4320.0",
          "-> 216066.0"
         ],
         "xaxis": "x3",
         "y": [
          4093,
          424,
          419,
          85,
          84,
          81,
          80,
          74,
          69,
          69
         ],
         "yaxis": "y3"
        }
       ],
       "layout": {
        "annotations": [
         {
          "font": {
           "size": 16
          },
          "showarrow": false,
          "text": "Top 10",
          "x": 0.14444444444444446,
          "xanchor": "center",
          "xref": "paper",
          "y": 1,
          "yanchor": "bottom",
          "yref": "paper"
         },
         {
          "font": {
           "size": 16
          },
          "showarrow": false,
          "text": "Last 10",
          "x": 0.5,
          "xanchor": "center",
          "xref": "paper",
          "y": 1,
          "yanchor": "bottom",
          "yref": "paper"
         },
         {
          "font": {
           "size": 16
          },
          "showarrow": false,
          "text": "Most 10",
          "x": 0.8555555555555556,
          "xanchor": "center",
          "xref": "paper",
          "y": 1,
          "yanchor": "bottom",
          "yref": "paper"
         }
        ],
        "showlegend": false,
        "template": {
         "data": {
          "bar": [
           {
            "error_x": {
             "color": "#2a3f5f"
            },
            "error_y": {
             "color": "#2a3f5f"
            },
            "marker": {
             "line": {
              "color": "#E5ECF6",
              "width": 0.5
             }
            },
            "type": "bar"
           }
          ],
          "barpolar": [
           {
            "marker": {
             "line": {
              "color": "#E5ECF6",
              "width": 0.5
             }
            },
            "type": "barpolar"
           }
          ],
          "carpet": [
           {
            "aaxis": {
             "endlinecolor": "#2a3f5f",
             "gridcolor": "white",
             "linecolor": "white",
             "minorgridcolor": "white",
             "startlinecolor": "#2a3f5f"
            },
            "baxis": {
             "endlinecolor": "#2a3f5f",
             "gridcolor": "white",
             "linecolor": "white",
             "minorgridcolor": "white",
             "startlinecolor": "#2a3f5f"
            },
            "type": "carpet"
           }
          ],
          "choropleth": [
           {
            "colorbar": {
             "outlinewidth": 0,
             "ticks": ""
            },
            "type": "choropleth"
           }
          ],
          "contour": [
           {
            "colorbar": {
             "outlinewidth": 0,
             "ticks": ""
            },
            "colorscale": [
             [
              0,
              "#0d0887"
             ],
             [
              0.1111111111111111,
              "#46039f"
             ],
             [
              0.2222222222222222,
              "#7201a8"
             ],
             [
              0.3333333333333333,
              "#9c179e"
             ],
             [
              0.4444444444444444,
              "#bd3786"
             ],
             [
              0.5555555555555556,
              "#d8576b"
             ],
             [
              0.6666666666666666,
              "#ed7953"
             ],
             [
              0.7777777777777778,
              "#fb9f3a"
             ],
             [
              0.8888888888888888,
              "#fdca26"
             ],
             [
              1,
              "#f0f921"
             ]
            ],
            "type": "contour"
           }
          ],
          "contourcarpet": [
           {
            "colorbar": {
             "outlinewidth": 0,
             "ticks": ""
            },
            "type": "contourcarpet"
           }
          ],
          "heatmap": [
           {
            "colorbar": {
             "outlinewidth": 0,
             "ticks": ""
            },
            "colorscale": [
             [
              0,
              "#0d0887"
             ],
             [
              0.1111111111111111,
              "#46039f"
             ],
             [
              0.2222222222222222,
              "#7201a8"
             ],
             [
              0.3333333333333333,
              "#9c179e"
             ],
             [
              0.4444444444444444,
              "#bd3786"
             ],
             [
              0.5555555555555556,
              "#d8576b"
             ],
             [
              0.6666666666666666,
              "#ed7953"
             ],
             [
              0.7777777777777778,
              "#fb9f3a"
             ],
             [
              0.8888888888888888,
              "#fdca26"
             ],
             [
              1,
              "#f0f921"
             ]
            ],
            "type": "heatmap"
           }
          ],
          "heatmapgl": [
           {
            "colorbar": {
             "outlinewidth": 0,
             "ticks": ""
            },
            "colorscale": [
             [
              0,
              "#0d0887"
             ],
             [
              0.1111111111111111,
              "#46039f"
             ],
             [
              0.2222222222222222,
              "#7201a8"
             ],
             [
              0.3333333333333333,
              "#9c179e"
             ],
             [
              0.4444444444444444,
              "#bd3786"
             ],
             [
              0.5555555555555556,
              "#d8576b"
             ],
             [
              0.6666666666666666,
              "#ed7953"
             ],
             [
              0.7777777777777778,
              "#fb9f3a"
             ],
             [
              0.8888888888888888,
              "#fdca26"
             ],
             [
              1,
              "#f0f921"
             ]
            ],
            "type": "heatmapgl"
           }
          ],
          "histogram": [
           {
            "marker": {
             "colorbar": {
              "outlinewidth": 0,
              "ticks": ""
             }
            },
            "type": "histogram"
           }
          ],
          "histogram2d": [
           {
            "colorbar": {
             "outlinewidth": 0,
             "ticks": ""
            },
            "colorscale": [
             [
              0,
              "#0d0887"
             ],
             [
              0.1111111111111111,
              "#46039f"
             ],
             [
              0.2222222222222222,
              "#7201a8"
             ],
             [
              0.3333333333333333,
              "#9c179e"
             ],
             [
              0.4444444444444444,
              "#bd3786"
             ],
             [
              0.5555555555555556,
              "#d8576b"
             ],
             [
              0.6666666666666666,
              "#ed7953"
             ],
             [
              0.7777777777777778,
              "#fb9f3a"
             ],
             [
              0.8888888888888888,
              "#fdca26"
             ],
             [
              1,
              "#f0f921"
             ]
            ],
            "type": "histogram2d"
           }
          ],
          "histogram2dcontour": [
           {
            "colorbar": {
             "outlinewidth": 0,
             "ticks": ""
            },
            "colorscale": [
             [
              0,
              "#0d0887"
             ],
             [
              0.1111111111111111,
              "#46039f"
             ],
             [
              0.2222222222222222,
              "#7201a8"
             ],
             [
              0.3333333333333333,
              "#9c179e"
             ],
             [
              0.4444444444444444,
              "#bd3786"
             ],
             [
              0.5555555555555556,
              "#d8576b"
             ],
             [
              0.6666666666666666,
              "#ed7953"
             ],
             [
              0.7777777777777778,
              "#fb9f3a"
             ],
             [
              0.8888888888888888,
              "#fdca26"
             ],
             [
              1,
              "#f0f921"
             ]
            ],
            "type": "histogram2dcontour"
           }
          ],
          "mesh3d": [
           {
            "colorbar": {
             "outlinewidth": 0,
             "ticks": ""
            },
            "type": "mesh3d"
           }
          ],
          "parcoords": [
           {
            "line": {
             "colorbar": {
              "outlinewidth": 0,
              "ticks": ""
             }
            },
            "type": "parcoords"
           }
          ],
          "pie": [
           {
            "automargin": true,
            "type": "pie"
           }
          ],
          "scatter": [
           {
            "marker": {
             "colorbar": {
              "outlinewidth": 0,
              "ticks": ""
             }
            },
            "type": "scatter"
           }
          ],
          "scatter3d": [
           {
            "line": {
             "colorbar": {
              "outlinewidth": 0,
              "ticks": ""
             }
            },
            "marker": {
             "colorbar": {
              "outlinewidth": 0,
              "ticks": ""
             }
            },
            "type": "scatter3d"
           }
          ],
          "scattercarpet": [
           {
            "marker": {
             "colorbar": {
              "outlinewidth": 0,
              "ticks": ""
             }
            },
            "type": "scattercarpet"
           }
          ],
          "scattergeo": [
           {
            "marker": {
             "colorbar": {
              "outlinewidth": 0,
              "ticks": ""
             }
            },
            "type": "scattergeo"
           }
          ],
          "scattergl": [
           {
            "marker": {
             "colorbar": {
              "outlinewidth": 0,
              "ticks": ""
             }
            },
            "type": "scattergl"
           }
          ],
          "scattermapbox": [
           {
            "marker": {
             "colorbar": {
              "outlinewidth": 0,
              "ticks": ""
             }
            },
            "type": "scattermapbox"
           }
          ],
          "scatterpolar": [
           {
            "marker": {
             "colorbar": {
              "outlinewidth": 0,
              "ticks": ""
             }
            },
            "type": "scatterpolar"
           }
          ],
          "scatterpolargl": [
           {
            "marker": {
             "colorbar": {
              "outlinewidth": 0,
              "ticks": ""
             }
            },
            "type": "scatterpolargl"
           }
          ],
          "scatterternary": [
           {
            "marker": {
             "colorbar": {
              "outlinewidth": 0,
              "ticks": ""
             }
            },
            "type": "scatterternary"
           }
          ],
          "surface": [
           {
            "colorbar": {
             "outlinewidth": 0,
             "ticks": ""
            },
            "colorscale": [
             [
              0,
              "#0d0887"
             ],
             [
              0.1111111111111111,
              "#46039f"
             ],
             [
              0.2222222222222222,
              "#7201a8"
             ],
             [
              0.3333333333333333,
              "#9c179e"
             ],
             [
              0.4444444444444444,
              "#bd3786"
             ],
             [
              0.5555555555555556,
              "#d8576b"
             ],
             [
              0.6666666666666666,
              "#ed7953"
             ],
             [
              0.7777777777777778,
              "#fb9f3a"
             ],
             [
              0.8888888888888888,
              "#fdca26"
             ],
             [
              1,
              "#f0f921"
             ]
            ],
            "type": "surface"
           }
          ],
          "table": [
           {
            "cells": {
             "fill": {
              "color": "#EBF0F8"
             },
             "line": {
              "color": "white"
             }
            },
            "header": {
             "fill": {
              "color": "#C8D4E3"
             },
             "line": {
              "color": "white"
             }
            },
            "type": "table"
           }
          ]
         },
         "layout": {
          "annotationdefaults": {
           "arrowcolor": "#2a3f5f",
           "arrowhead": 0,
           "arrowwidth": 1
          },
          "autotypenumbers": "strict",
          "coloraxis": {
           "colorbar": {
            "outlinewidth": 0,
            "ticks": ""
           }
          },
          "colorscale": {
           "diverging": [
            [
             0,
             "#8e0152"
            ],
            [
             0.1,
             "#c51b7d"
            ],
            [
             0.2,
             "#de77ae"
            ],
            [
             0.3,
             "#f1b6da"
            ],
            [
             0.4,
             "#fde0ef"
            ],
            [
             0.5,
             "#f7f7f7"
            ],
            [
             0.6,
             "#e6f5d0"
            ],
            [
             0.7,
             "#b8e186"
            ],
            [
             0.8,
             "#7fbc41"
            ],
            [
             0.9,
             "#4d9221"
            ],
            [
             1,
             "#276419"
            ]
           ],
           "sequential": [
            [
             0,
             "#0d0887"
            ],
            [
             0.1111111111111111,
             "#46039f"
            ],
            [
             0.2222222222222222,
             "#7201a8"
            ],
            [
             0.3333333333333333,
             "#9c179e"
            ],
            [
             0.4444444444444444,
             "#bd3786"
            ],
            [
             0.5555555555555556,
             "#d8576b"
            ],
            [
             0.6666666666666666,
             "#ed7953"
            ],
            [
             0.7777777777777778,
             "#fb9f3a"
            ],
            [
             0.8888888888888888,
             "#fdca26"
            ],
            [
             1,
             "#f0f921"
            ]
           ],
           "sequentialminus": [
            [
             0,
             "#0d0887"
            ],
            [
             0.1111111111111111,
             "#46039f"
            ],
            [
             0.2222222222222222,
             "#7201a8"
            ],
            [
             0.3333333333333333,
             "#9c179e"
            ],
            [
             0.4444444444444444,
             "#bd3786"
            ],
            [
             0.5555555555555556,
             "#d8576b"
            ],
            [
             0.6666666666666666,
             "#ed7953"
            ],
            [
             0.7777777777777778,
             "#fb9f3a"
            ],
            [
             0.8888888888888888,
             "#fdca26"
            ],
            [
             1,
             "#f0f921"
            ]
           ]
          },
          "colorway": [
           "#636efa",
           "#EF553B",
           "#00cc96",
           "#ab63fa",
           "#FFA15A",
           "#19d3f3",
           "#FF6692",
           "#B6E880",
           "#FF97FF",
           "#FECB52"
          ],
          "font": {
           "color": "#2a3f5f"
          },
          "geo": {
           "bgcolor": "white",
           "lakecolor": "white",
           "landcolor": "#E5ECF6",
           "showlakes": true,
           "showland": true,
           "subunitcolor": "white"
          },
          "hoverlabel": {
           "align": "left"
          },
          "hovermode": "closest",
          "mapbox": {
           "style": "light"
          },
          "paper_bgcolor": "white",
          "plot_bgcolor": "#E5ECF6",
          "polar": {
           "angularaxis": {
            "gridcolor": "white",
            "linecolor": "white",
            "ticks": ""
           },
           "bgcolor": "#E5ECF6",
           "radialaxis": {
            "gridcolor": "white",
            "linecolor": "white",
            "ticks": ""
           }
          },
          "scene": {
           "xaxis": {
            "backgroundcolor": "#E5ECF6",
            "gridcolor": "white",
            "gridwidth": 2,
            "linecolor": "white",
            "showbackground": true,
            "ticks": "",
            "zerolinecolor": "white"
           },
           "yaxis": {
            "backgroundcolor": "#E5ECF6",
            "gridcolor": "white",
            "gridwidth": 2,
            "linecolor": "white",
            "showbackground": true,
            "ticks": "",
            "zerolinecolor": "white"
           },
           "zaxis": {
            "backgroundcolor": "#E5ECF6",
            "gridcolor": "white",
            "gridwidth": 2,
            "linecolor": "white",
            "showbackground": true,
            "ticks": "",
            "zerolinecolor": "white"
           }
          },
          "shapedefaults": {
           "line": {
            "color": "#2a3f5f"
           }
          },
          "ternary": {
           "aaxis": {
            "gridcolor": "white",
            "linecolor": "white",
            "ticks": ""
           },
           "baxis": {
            "gridcolor": "white",
            "linecolor": "white",
            "ticks": ""
           },
           "bgcolor": "#E5ECF6",
           "caxis": {
            "gridcolor": "white",
            "linecolor": "white",
            "ticks": ""
           }
          },
          "title": {
           "x": 0.05
          },
          "xaxis": {
           "automargin": true,
           "gridcolor": "white",
           "linecolor": "white",
           "ticks": "",
           "title": {
            "standoff": 15
           },
           "zerolinecolor": "white",
           "zerolinewidth": 2
          },
          "yaxis": {
           "automargin": true,
           "gridcolor": "white",
           "linecolor": "white",
           "ticks": "",
           "title": {
            "standoff": 15
           },
           "zerolinecolor": "white",
           "zerolinewidth": 2
          }
         }
        },
        "title": {
         "text": "TCP values in the dataset"
        },
        "xaxis": {
         "anchor": "y",
         "domain": [
          0,
          0.2888888888888889
         ]
        },
        "xaxis2": {
         "anchor": "y2",
         "domain": [
          0.35555555555555557,
          0.6444444444444445
         ]
        },
        "xaxis3": {
         "anchor": "y3",
         "domain": [
          0.7111111111111111,
          1
         ]
        },
        "yaxis": {
         "anchor": "x",
         "domain": [
          0,
          1
         ]
        },
        "yaxis2": {
         "anchor": "x2",
         "domain": [
          0,
          1
         ]
        },
        "yaxis3": {
         "anchor": "x3",
         "domain": [
          0,
          1
         ]
        }
       }
      }
     },
     "metadata": {}
    }
   ],
   "metadata": {}
  },
  {
   "cell_type": "markdown",
   "source": [
    "### RTT values in the dataset.\n"
   ],
   "metadata": {}
  },
  {
   "cell_type": "code",
   "execution_count": 22,
   "source": [
    "sorted_by_rtt = user_engagement_df.sort_values(\n",
    "    'total_avg_rtt', ascending=False)\n",
    "top_10 = sorted_by_rtt.head(10)['total_avg_rtt']\n",
    "last_10 = sorted_by_rtt.tail(10)['total_avg_rtt']\n",
    "most_10 = user_engagement_df['total_avg_rtt'].value_counts().head(10)\n"
   ],
   "outputs": [],
   "metadata": {}
  },
  {
   "cell_type": "code",
   "execution_count": 23,
   "source": [
    "mult_hist([top_10, last_10, most_10, top_10], 1,\n",
    "          3, \"TCP values in the dataset\", ['Top 10', 'Last 10', 'Most 10'])\n"
   ],
   "outputs": [
    {
     "output_type": "display_data",
     "data": {
      "application/vnd.plotly.v1+json": {
       "config": {
        "plotlyServerURL": "https://plot.ly"
       },
       "data": [
        {
         "type": "bar",
         "x": [
          "-> 33658263267",
          "-> 33675877202",
          "-> 33660214653",
          "-> 33659822913",
          "-> 33603127838",
          "-> 33760536639",
          "-> 33659725664",
          "-> 33761268199",
          "-> 33614892860",
          "-> 33668929914"
         ],
         "xaxis": "x",
         "y": [
          1094,
          1050,
          974,
          956,
          949,
          949,
          895,
          875,
          843,
          842
         ],
         "yaxis": "y"
        },
        {
         "type": "bar",
         "x": [
          "-> 33634684770",
          "-> 33610846366",
          "-> 33672196893",
          "-> 33647679481",
          "-> 33668619895",
          "-> 33659493541",
          "-> 33695045499",
          "-> 33660204450",
          "-> 33661575382",
          "-> 33652982188"
         ],
         "xaxis": "x2",
         "y": [
          10,
          9,
          9,
          8,
          6,
          5,
          4,
          2,
          0,
          0
         ],
         "yaxis": "y2"
        },
        {
         "type": "bar",
         "x": [
          "-> 50.0",
          "-> 29.0",
          "-> 127.0",
          "-> 100.0",
          "-> 39.0",
          "-> 38.0",
          "-> 30.0",
          "-> 40.0",
          "-> 28.0",
          "-> 49.0"
         ],
         "xaxis": "x3",
         "y": [
          16703,
          2734,
          2418,
          2208,
          2172,
          1451,
          1422,
          1393,
          1333,
          1237
         ],
         "yaxis": "y3"
        }
       ],
       "layout": {
        "annotations": [
         {
          "font": {
           "size": 16
          },
          "showarrow": false,
          "text": "Top 10",
          "x": 0.14444444444444446,
          "xanchor": "center",
          "xref": "paper",
          "y": 1,
          "yanchor": "bottom",
          "yref": "paper"
         },
         {
          "font": {
           "size": 16
          },
          "showarrow": false,
          "text": "Last 10",
          "x": 0.5,
          "xanchor": "center",
          "xref": "paper",
          "y": 1,
          "yanchor": "bottom",
          "yref": "paper"
         },
         {
          "font": {
           "size": 16
          },
          "showarrow": false,
          "text": "Most 10",
          "x": 0.8555555555555556,
          "xanchor": "center",
          "xref": "paper",
          "y": 1,
          "yanchor": "bottom",
          "yref": "paper"
         }
        ],
        "showlegend": false,
        "template": {
         "data": {
          "bar": [
           {
            "error_x": {
             "color": "#2a3f5f"
            },
            "error_y": {
             "color": "#2a3f5f"
            },
            "marker": {
             "line": {
              "color": "#E5ECF6",
              "width": 0.5
             }
            },
            "type": "bar"
           }
          ],
          "barpolar": [
           {
            "marker": {
             "line": {
              "color": "#E5ECF6",
              "width": 0.5
             }
            },
            "type": "barpolar"
           }
          ],
          "carpet": [
           {
            "aaxis": {
             "endlinecolor": "#2a3f5f",
             "gridcolor": "white",
             "linecolor": "white",
             "minorgridcolor": "white",
             "startlinecolor": "#2a3f5f"
            },
            "baxis": {
             "endlinecolor": "#2a3f5f",
             "gridcolor": "white",
             "linecolor": "white",
             "minorgridcolor": "white",
             "startlinecolor": "#2a3f5f"
            },
            "type": "carpet"
           }
          ],
          "choropleth": [
           {
            "colorbar": {
             "outlinewidth": 0,
             "ticks": ""
            },
            "type": "choropleth"
           }
          ],
          "contour": [
           {
            "colorbar": {
             "outlinewidth": 0,
             "ticks": ""
            },
            "colorscale": [
             [
              0,
              "#0d0887"
             ],
             [
              0.1111111111111111,
              "#46039f"
             ],
             [
              0.2222222222222222,
              "#7201a8"
             ],
             [
              0.3333333333333333,
              "#9c179e"
             ],
             [
              0.4444444444444444,
              "#bd3786"
             ],
             [
              0.5555555555555556,
              "#d8576b"
             ],
             [
              0.6666666666666666,
              "#ed7953"
             ],
             [
              0.7777777777777778,
              "#fb9f3a"
             ],
             [
              0.8888888888888888,
              "#fdca26"
             ],
             [
              1,
              "#f0f921"
             ]
            ],
            "type": "contour"
           }
          ],
          "contourcarpet": [
           {
            "colorbar": {
             "outlinewidth": 0,
             "ticks": ""
            },
            "type": "contourcarpet"
           }
          ],
          "heatmap": [
           {
            "colorbar": {
             "outlinewidth": 0,
             "ticks": ""
            },
            "colorscale": [
             [
              0,
              "#0d0887"
             ],
             [
              0.1111111111111111,
              "#46039f"
             ],
             [
              0.2222222222222222,
              "#7201a8"
             ],
             [
              0.3333333333333333,
              "#9c179e"
             ],
             [
              0.4444444444444444,
              "#bd3786"
             ],
             [
              0.5555555555555556,
              "#d8576b"
             ],
             [
              0.6666666666666666,
              "#ed7953"
             ],
             [
              0.7777777777777778,
              "#fb9f3a"
             ],
             [
              0.8888888888888888,
              "#fdca26"
             ],
             [
              1,
              "#f0f921"
             ]
            ],
            "type": "heatmap"
           }
          ],
          "heatmapgl": [
           {
            "colorbar": {
             "outlinewidth": 0,
             "ticks": ""
            },
            "colorscale": [
             [
              0,
              "#0d0887"
             ],
             [
              0.1111111111111111,
              "#46039f"
             ],
             [
              0.2222222222222222,
              "#7201a8"
             ],
             [
              0.3333333333333333,
              "#9c179e"
             ],
             [
              0.4444444444444444,
              "#bd3786"
             ],
             [
              0.5555555555555556,
              "#d8576b"
             ],
             [
              0.6666666666666666,
              "#ed7953"
             ],
             [
              0.7777777777777778,
              "#fb9f3a"
             ],
             [
              0.8888888888888888,
              "#fdca26"
             ],
             [
              1,
              "#f0f921"
             ]
            ],
            "type": "heatmapgl"
           }
          ],
          "histogram": [
           {
            "marker": {
             "colorbar": {
              "outlinewidth": 0,
              "ticks": ""
             }
            },
            "type": "histogram"
           }
          ],
          "histogram2d": [
           {
            "colorbar": {
             "outlinewidth": 0,
             "ticks": ""
            },
            "colorscale": [
             [
              0,
              "#0d0887"
             ],
             [
              0.1111111111111111,
              "#46039f"
             ],
             [
              0.2222222222222222,
              "#7201a8"
             ],
             [
              0.3333333333333333,
              "#9c179e"
             ],
             [
              0.4444444444444444,
              "#bd3786"
             ],
             [
              0.5555555555555556,
              "#d8576b"
             ],
             [
              0.6666666666666666,
              "#ed7953"
             ],
             [
              0.7777777777777778,
              "#fb9f3a"
             ],
             [
              0.8888888888888888,
              "#fdca26"
             ],
             [
              1,
              "#f0f921"
             ]
            ],
            "type": "histogram2d"
           }
          ],
          "histogram2dcontour": [
           {
            "colorbar": {
             "outlinewidth": 0,
             "ticks": ""
            },
            "colorscale": [
             [
              0,
              "#0d0887"
             ],
             [
              0.1111111111111111,
              "#46039f"
             ],
             [
              0.2222222222222222,
              "#7201a8"
             ],
             [
              0.3333333333333333,
              "#9c179e"
             ],
             [
              0.4444444444444444,
              "#bd3786"
             ],
             [
              0.5555555555555556,
              "#d8576b"
             ],
             [
              0.6666666666666666,
              "#ed7953"
             ],
             [
              0.7777777777777778,
              "#fb9f3a"
             ],
             [
              0.8888888888888888,
              "#fdca26"
             ],
             [
              1,
              "#f0f921"
             ]
            ],
            "type": "histogram2dcontour"
           }
          ],
          "mesh3d": [
           {
            "colorbar": {
             "outlinewidth": 0,
             "ticks": ""
            },
            "type": "mesh3d"
           }
          ],
          "parcoords": [
           {
            "line": {
             "colorbar": {
              "outlinewidth": 0,
              "ticks": ""
             }
            },
            "type": "parcoords"
           }
          ],
          "pie": [
           {
            "automargin": true,
            "type": "pie"
           }
          ],
          "scatter": [
           {
            "marker": {
             "colorbar": {
              "outlinewidth": 0,
              "ticks": ""
             }
            },
            "type": "scatter"
           }
          ],
          "scatter3d": [
           {
            "line": {
             "colorbar": {
              "outlinewidth": 0,
              "ticks": ""
             }
            },
            "marker": {
             "colorbar": {
              "outlinewidth": 0,
              "ticks": ""
             }
            },
            "type": "scatter3d"
           }
          ],
          "scattercarpet": [
           {
            "marker": {
             "colorbar": {
              "outlinewidth": 0,
              "ticks": ""
             }
            },
            "type": "scattercarpet"
           }
          ],
          "scattergeo": [
           {
            "marker": {
             "colorbar": {
              "outlinewidth": 0,
              "ticks": ""
             }
            },
            "type": "scattergeo"
           }
          ],
          "scattergl": [
           {
            "marker": {
             "colorbar": {
              "outlinewidth": 0,
              "ticks": ""
             }
            },
            "type": "scattergl"
           }
          ],
          "scattermapbox": [
           {
            "marker": {
             "colorbar": {
              "outlinewidth": 0,
              "ticks": ""
             }
            },
            "type": "scattermapbox"
           }
          ],
          "scatterpolar": [
           {
            "marker": {
             "colorbar": {
              "outlinewidth": 0,
              "ticks": ""
             }
            },
            "type": "scatterpolar"
           }
          ],
          "scatterpolargl": [
           {
            "marker": {
             "colorbar": {
              "outlinewidth": 0,
              "ticks": ""
             }
            },
            "type": "scatterpolargl"
           }
          ],
          "scatterternary": [
           {
            "marker": {
             "colorbar": {
              "outlinewidth": 0,
              "ticks": ""
             }
            },
            "type": "scatterternary"
           }
          ],
          "surface": [
           {
            "colorbar": {
             "outlinewidth": 0,
             "ticks": ""
            },
            "colorscale": [
             [
              0,
              "#0d0887"
             ],
             [
              0.1111111111111111,
              "#46039f"
             ],
             [
              0.2222222222222222,
              "#7201a8"
             ],
             [
              0.3333333333333333,
              "#9c179e"
             ],
             [
              0.4444444444444444,
              "#bd3786"
             ],
             [
              0.5555555555555556,
              "#d8576b"
             ],
             [
              0.6666666666666666,
              "#ed7953"
             ],
             [
              0.7777777777777778,
              "#fb9f3a"
             ],
             [
              0.8888888888888888,
              "#fdca26"
             ],
             [
              1,
              "#f0f921"
             ]
            ],
            "type": "surface"
           }
          ],
          "table": [
           {
            "cells": {
             "fill": {
              "color": "#EBF0F8"
             },
             "line": {
              "color": "white"
             }
            },
            "header": {
             "fill": {
              "color": "#C8D4E3"
             },
             "line": {
              "color": "white"
             }
            },
            "type": "table"
           }
          ]
         },
         "layout": {
          "annotationdefaults": {
           "arrowcolor": "#2a3f5f",
           "arrowhead": 0,
           "arrowwidth": 1
          },
          "autotypenumbers": "strict",
          "coloraxis": {
           "colorbar": {
            "outlinewidth": 0,
            "ticks": ""
           }
          },
          "colorscale": {
           "diverging": [
            [
             0,
             "#8e0152"
            ],
            [
             0.1,
             "#c51b7d"
            ],
            [
             0.2,
             "#de77ae"
            ],
            [
             0.3,
             "#f1b6da"
            ],
            [
             0.4,
             "#fde0ef"
            ],
            [
             0.5,
             "#f7f7f7"
            ],
            [
             0.6,
             "#e6f5d0"
            ],
            [
             0.7,
             "#b8e186"
            ],
            [
             0.8,
             "#7fbc41"
            ],
            [
             0.9,
             "#4d9221"
            ],
            [
             1,
             "#276419"
            ]
           ],
           "sequential": [
            [
             0,
             "#0d0887"
            ],
            [
             0.1111111111111111,
             "#46039f"
            ],
            [
             0.2222222222222222,
             "#7201a8"
            ],
            [
             0.3333333333333333,
             "#9c179e"
            ],
            [
             0.4444444444444444,
             "#bd3786"
            ],
            [
             0.5555555555555556,
             "#d8576b"
            ],
            [
             0.6666666666666666,
             "#ed7953"
            ],
            [
             0.7777777777777778,
             "#fb9f3a"
            ],
            [
             0.8888888888888888,
             "#fdca26"
            ],
            [
             1,
             "#f0f921"
            ]
           ],
           "sequentialminus": [
            [
             0,
             "#0d0887"
            ],
            [
             0.1111111111111111,
             "#46039f"
            ],
            [
             0.2222222222222222,
             "#7201a8"
            ],
            [
             0.3333333333333333,
             "#9c179e"
            ],
            [
             0.4444444444444444,
             "#bd3786"
            ],
            [
             0.5555555555555556,
             "#d8576b"
            ],
            [
             0.6666666666666666,
             "#ed7953"
            ],
            [
             0.7777777777777778,
             "#fb9f3a"
            ],
            [
             0.8888888888888888,
             "#fdca26"
            ],
            [
             1,
             "#f0f921"
            ]
           ]
          },
          "colorway": [
           "#636efa",
           "#EF553B",
           "#00cc96",
           "#ab63fa",
           "#FFA15A",
           "#19d3f3",
           "#FF6692",
           "#B6E880",
           "#FF97FF",
           "#FECB52"
          ],
          "font": {
           "color": "#2a3f5f"
          },
          "geo": {
           "bgcolor": "white",
           "lakecolor": "white",
           "landcolor": "#E5ECF6",
           "showlakes": true,
           "showland": true,
           "subunitcolor": "white"
          },
          "hoverlabel": {
           "align": "left"
          },
          "hovermode": "closest",
          "mapbox": {
           "style": "light"
          },
          "paper_bgcolor": "white",
          "plot_bgcolor": "#E5ECF6",
          "polar": {
           "angularaxis": {
            "gridcolor": "white",
            "linecolor": "white",
            "ticks": ""
           },
           "bgcolor": "#E5ECF6",
           "radialaxis": {
            "gridcolor": "white",
            "linecolor": "white",
            "ticks": ""
           }
          },
          "scene": {
           "xaxis": {
            "backgroundcolor": "#E5ECF6",
            "gridcolor": "white",
            "gridwidth": 2,
            "linecolor": "white",
            "showbackground": true,
            "ticks": "",
            "zerolinecolor": "white"
           },
           "yaxis": {
            "backgroundcolor": "#E5ECF6",
            "gridcolor": "white",
            "gridwidth": 2,
            "linecolor": "white",
            "showbackground": true,
            "ticks": "",
            "zerolinecolor": "white"
           },
           "zaxis": {
            "backgroundcolor": "#E5ECF6",
            "gridcolor": "white",
            "gridwidth": 2,
            "linecolor": "white",
            "showbackground": true,
            "ticks": "",
            "zerolinecolor": "white"
           }
          },
          "shapedefaults": {
           "line": {
            "color": "#2a3f5f"
           }
          },
          "ternary": {
           "aaxis": {
            "gridcolor": "white",
            "linecolor": "white",
            "ticks": ""
           },
           "baxis": {
            "gridcolor": "white",
            "linecolor": "white",
            "ticks": ""
           },
           "bgcolor": "#E5ECF6",
           "caxis": {
            "gridcolor": "white",
            "linecolor": "white",
            "ticks": ""
           }
          },
          "title": {
           "x": 0.05
          },
          "xaxis": {
           "automargin": true,
           "gridcolor": "white",
           "linecolor": "white",
           "ticks": "",
           "title": {
            "standoff": 15
           },
           "zerolinecolor": "white",
           "zerolinewidth": 2
          },
          "yaxis": {
           "automargin": true,
           "gridcolor": "white",
           "linecolor": "white",
           "ticks": "",
           "title": {
            "standoff": 15
           },
           "zerolinecolor": "white",
           "zerolinewidth": 2
          }
         }
        },
        "title": {
         "text": "TCP values in the dataset"
        },
        "xaxis": {
         "anchor": "y",
         "domain": [
          0,
          0.2888888888888889
         ]
        },
        "xaxis2": {
         "anchor": "y2",
         "domain": [
          0.35555555555555557,
          0.6444444444444445
         ]
        },
        "xaxis3": {
         "anchor": "y3",
         "domain": [
          0.7111111111111111,
          1
         ]
        },
        "yaxis": {
         "anchor": "x",
         "domain": [
          0,
          1
         ]
        },
        "yaxis2": {
         "anchor": "x2",
         "domain": [
          0,
          1
         ]
        },
        "yaxis3": {
         "anchor": "x3",
         "domain": [
          0,
          1
         ]
        }
       }
      }
     },
     "metadata": {}
    }
   ],
   "metadata": {}
  },
  {
   "cell_type": "markdown",
   "source": [
    "### Throughput values in the dataset.\n"
   ],
   "metadata": {}
  },
  {
   "cell_type": "code",
   "execution_count": 29,
   "source": [
    "sorted_by_tp = user_engagement_df.sort_values(\n",
    "    'total_avg_tp', ascending=False)\n",
    "top_10 = sorted_by_tp.head(10)['total_avg_tp']\n",
    "last_10 = sorted_by_tp.tail(10)['total_avg_tp']\n",
    "most_10 = user_engagement_df['total_avg_tp'].value_counts().head(10)"
   ],
   "outputs": [],
   "metadata": {}
  },
  {
   "cell_type": "code",
   "execution_count": 30,
   "source": [
    "mult_hist([top_10, last_10, most_10, top_10], 1,\n",
    "          3, \"TCP values in the dataset\", ['Top 10', 'Last 10', 'Most 10'])"
   ],
   "outputs": [
    {
     "output_type": "display_data",
     "data": {
      "application/vnd.plotly.v1+json": {
       "config": {
        "plotlyServerURL": "https://plot.ly"
       },
       "data": [
        {
         "type": "bar",
         "x": [
          "-> 33762333464",
          "-> 33659546392",
          "-> 33614892860",
          "-> 33659359429",
          "-> 33662780927",
          "-> 33604515716",
          "-> 33699248832",
          "-> 33699327554",
          "-> 33658263267",
          "-> 33658946065"
         ],
         "xaxis": "x",
         "y": [
          445213.25,
          421014.75,
          377043,
          362385.25,
          328357.75,
          319800.5,
          316612.5,
          315542.75,
          314995.5,
          311803.5
         ],
         "yaxis": "y"
        },
        {
         "type": "bar",
         "x": [
          "-> 33662203388",
          "-> 33616110252",
          "-> 33634247429",
          "-> 33650000334",
          "-> 33667336746",
          "-> 33604131582",
          "-> 33661089447",
          "-> 33658211925",
          "-> 33782806278",
          "-> 33659471143"
         ],
         "xaxis": "x2",
         "y": [
          0,
          0,
          0,
          0,
          0,
          0,
          0,
          0,
          0,
          0
         ],
         "yaxis": "y2"
        },
        {
         "type": "bar",
         "x": [
          "-> 15.0",
          "-> 52768.75",
          "-> 63.0",
          "-> 97.0",
          "-> 90.0",
          "-> 98.0",
          "-> 96.0",
          "-> 99.0",
          "-> 89.0",
          "-> 95.0"
         ],
         "xaxis": "x3",
         "y": [
          2686,
          2664,
          2073,
          1024,
          1006,
          969,
          865,
          852,
          815,
          797
         ],
         "yaxis": "y3"
        }
       ],
       "layout": {
        "annotations": [
         {
          "font": {
           "size": 16
          },
          "showarrow": false,
          "text": "Top 10",
          "x": 0.14444444444444446,
          "xanchor": "center",
          "xref": "paper",
          "y": 1,
          "yanchor": "bottom",
          "yref": "paper"
         },
         {
          "font": {
           "size": 16
          },
          "showarrow": false,
          "text": "Last 10",
          "x": 0.5,
          "xanchor": "center",
          "xref": "paper",
          "y": 1,
          "yanchor": "bottom",
          "yref": "paper"
         },
         {
          "font": {
           "size": 16
          },
          "showarrow": false,
          "text": "Most 10",
          "x": 0.8555555555555556,
          "xanchor": "center",
          "xref": "paper",
          "y": 1,
          "yanchor": "bottom",
          "yref": "paper"
         }
        ],
        "showlegend": false,
        "template": {
         "data": {
          "bar": [
           {
            "error_x": {
             "color": "#2a3f5f"
            },
            "error_y": {
             "color": "#2a3f5f"
            },
            "marker": {
             "line": {
              "color": "#E5ECF6",
              "width": 0.5
             }
            },
            "type": "bar"
           }
          ],
          "barpolar": [
           {
            "marker": {
             "line": {
              "color": "#E5ECF6",
              "width": 0.5
             }
            },
            "type": "barpolar"
           }
          ],
          "carpet": [
           {
            "aaxis": {
             "endlinecolor": "#2a3f5f",
             "gridcolor": "white",
             "linecolor": "white",
             "minorgridcolor": "white",
             "startlinecolor": "#2a3f5f"
            },
            "baxis": {
             "endlinecolor": "#2a3f5f",
             "gridcolor": "white",
             "linecolor": "white",
             "minorgridcolor": "white",
             "startlinecolor": "#2a3f5f"
            },
            "type": "carpet"
           }
          ],
          "choropleth": [
           {
            "colorbar": {
             "outlinewidth": 0,
             "ticks": ""
            },
            "type": "choropleth"
           }
          ],
          "contour": [
           {
            "colorbar": {
             "outlinewidth": 0,
             "ticks": ""
            },
            "colorscale": [
             [
              0,
              "#0d0887"
             ],
             [
              0.1111111111111111,
              "#46039f"
             ],
             [
              0.2222222222222222,
              "#7201a8"
             ],
             [
              0.3333333333333333,
              "#9c179e"
             ],
             [
              0.4444444444444444,
              "#bd3786"
             ],
             [
              0.5555555555555556,
              "#d8576b"
             ],
             [
              0.6666666666666666,
              "#ed7953"
             ],
             [
              0.7777777777777778,
              "#fb9f3a"
             ],
             [
              0.8888888888888888,
              "#fdca26"
             ],
             [
              1,
              "#f0f921"
             ]
            ],
            "type": "contour"
           }
          ],
          "contourcarpet": [
           {
            "colorbar": {
             "outlinewidth": 0,
             "ticks": ""
            },
            "type": "contourcarpet"
           }
          ],
          "heatmap": [
           {
            "colorbar": {
             "outlinewidth": 0,
             "ticks": ""
            },
            "colorscale": [
             [
              0,
              "#0d0887"
             ],
             [
              0.1111111111111111,
              "#46039f"
             ],
             [
              0.2222222222222222,
              "#7201a8"
             ],
             [
              0.3333333333333333,
              "#9c179e"
             ],
             [
              0.4444444444444444,
              "#bd3786"
             ],
             [
              0.5555555555555556,
              "#d8576b"
             ],
             [
              0.6666666666666666,
              "#ed7953"
             ],
             [
              0.7777777777777778,
              "#fb9f3a"
             ],
             [
              0.8888888888888888,
              "#fdca26"
             ],
             [
              1,
              "#f0f921"
             ]
            ],
            "type": "heatmap"
           }
          ],
          "heatmapgl": [
           {
            "colorbar": {
             "outlinewidth": 0,
             "ticks": ""
            },
            "colorscale": [
             [
              0,
              "#0d0887"
             ],
             [
              0.1111111111111111,
              "#46039f"
             ],
             [
              0.2222222222222222,
              "#7201a8"
             ],
             [
              0.3333333333333333,
              "#9c179e"
             ],
             [
              0.4444444444444444,
              "#bd3786"
             ],
             [
              0.5555555555555556,
              "#d8576b"
             ],
             [
              0.6666666666666666,
              "#ed7953"
             ],
             [
              0.7777777777777778,
              "#fb9f3a"
             ],
             [
              0.8888888888888888,
              "#fdca26"
             ],
             [
              1,
              "#f0f921"
             ]
            ],
            "type": "heatmapgl"
           }
          ],
          "histogram": [
           {
            "marker": {
             "colorbar": {
              "outlinewidth": 0,
              "ticks": ""
             }
            },
            "type": "histogram"
           }
          ],
          "histogram2d": [
           {
            "colorbar": {
             "outlinewidth": 0,
             "ticks": ""
            },
            "colorscale": [
             [
              0,
              "#0d0887"
             ],
             [
              0.1111111111111111,
              "#46039f"
             ],
             [
              0.2222222222222222,
              "#7201a8"
             ],
             [
              0.3333333333333333,
              "#9c179e"
             ],
             [
              0.4444444444444444,
              "#bd3786"
             ],
             [
              0.5555555555555556,
              "#d8576b"
             ],
             [
              0.6666666666666666,
              "#ed7953"
             ],
             [
              0.7777777777777778,
              "#fb9f3a"
             ],
             [
              0.8888888888888888,
              "#fdca26"
             ],
             [
              1,
              "#f0f921"
             ]
            ],
            "type": "histogram2d"
           }
          ],
          "histogram2dcontour": [
           {
            "colorbar": {
             "outlinewidth": 0,
             "ticks": ""
            },
            "colorscale": [
             [
              0,
              "#0d0887"
             ],
             [
              0.1111111111111111,
              "#46039f"
             ],
             [
              0.2222222222222222,
              "#7201a8"
             ],
             [
              0.3333333333333333,
              "#9c179e"
             ],
             [
              0.4444444444444444,
              "#bd3786"
             ],
             [
              0.5555555555555556,
              "#d8576b"
             ],
             [
              0.6666666666666666,
              "#ed7953"
             ],
             [
              0.7777777777777778,
              "#fb9f3a"
             ],
             [
              0.8888888888888888,
              "#fdca26"
             ],
             [
              1,
              "#f0f921"
             ]
            ],
            "type": "histogram2dcontour"
           }
          ],
          "mesh3d": [
           {
            "colorbar": {
             "outlinewidth": 0,
             "ticks": ""
            },
            "type": "mesh3d"
           }
          ],
          "parcoords": [
           {
            "line": {
             "colorbar": {
              "outlinewidth": 0,
              "ticks": ""
             }
            },
            "type": "parcoords"
           }
          ],
          "pie": [
           {
            "automargin": true,
            "type": "pie"
           }
          ],
          "scatter": [
           {
            "marker": {
             "colorbar": {
              "outlinewidth": 0,
              "ticks": ""
             }
            },
            "type": "scatter"
           }
          ],
          "scatter3d": [
           {
            "line": {
             "colorbar": {
              "outlinewidth": 0,
              "ticks": ""
             }
            },
            "marker": {
             "colorbar": {
              "outlinewidth": 0,
              "ticks": ""
             }
            },
            "type": "scatter3d"
           }
          ],
          "scattercarpet": [
           {
            "marker": {
             "colorbar": {
              "outlinewidth": 0,
              "ticks": ""
             }
            },
            "type": "scattercarpet"
           }
          ],
          "scattergeo": [
           {
            "marker": {
             "colorbar": {
              "outlinewidth": 0,
              "ticks": ""
             }
            },
            "type": "scattergeo"
           }
          ],
          "scattergl": [
           {
            "marker": {
             "colorbar": {
              "outlinewidth": 0,
              "ticks": ""
             }
            },
            "type": "scattergl"
           }
          ],
          "scattermapbox": [
           {
            "marker": {
             "colorbar": {
              "outlinewidth": 0,
              "ticks": ""
             }
            },
            "type": "scattermapbox"
           }
          ],
          "scatterpolar": [
           {
            "marker": {
             "colorbar": {
              "outlinewidth": 0,
              "ticks": ""
             }
            },
            "type": "scatterpolar"
           }
          ],
          "scatterpolargl": [
           {
            "marker": {
             "colorbar": {
              "outlinewidth": 0,
              "ticks": ""
             }
            },
            "type": "scatterpolargl"
           }
          ],
          "scatterternary": [
           {
            "marker": {
             "colorbar": {
              "outlinewidth": 0,
              "ticks": ""
             }
            },
            "type": "scatterternary"
           }
          ],
          "surface": [
           {
            "colorbar": {
             "outlinewidth": 0,
             "ticks": ""
            },
            "colorscale": [
             [
              0,
              "#0d0887"
             ],
             [
              0.1111111111111111,
              "#46039f"
             ],
             [
              0.2222222222222222,
              "#7201a8"
             ],
             [
              0.3333333333333333,
              "#9c179e"
             ],
             [
              0.4444444444444444,
              "#bd3786"
             ],
             [
              0.5555555555555556,
              "#d8576b"
             ],
             [
              0.6666666666666666,
              "#ed7953"
             ],
             [
              0.7777777777777778,
              "#fb9f3a"
             ],
             [
              0.8888888888888888,
              "#fdca26"
             ],
             [
              1,
              "#f0f921"
             ]
            ],
            "type": "surface"
           }
          ],
          "table": [
           {
            "cells": {
             "fill": {
              "color": "#EBF0F8"
             },
             "line": {
              "color": "white"
             }
            },
            "header": {
             "fill": {
              "color": "#C8D4E3"
             },
             "line": {
              "color": "white"
             }
            },
            "type": "table"
           }
          ]
         },
         "layout": {
          "annotationdefaults": {
           "arrowcolor": "#2a3f5f",
           "arrowhead": 0,
           "arrowwidth": 1
          },
          "autotypenumbers": "strict",
          "coloraxis": {
           "colorbar": {
            "outlinewidth": 0,
            "ticks": ""
           }
          },
          "colorscale": {
           "diverging": [
            [
             0,
             "#8e0152"
            ],
            [
             0.1,
             "#c51b7d"
            ],
            [
             0.2,
             "#de77ae"
            ],
            [
             0.3,
             "#f1b6da"
            ],
            [
             0.4,
             "#fde0ef"
            ],
            [
             0.5,
             "#f7f7f7"
            ],
            [
             0.6,
             "#e6f5d0"
            ],
            [
             0.7,
             "#b8e186"
            ],
            [
             0.8,
             "#7fbc41"
            ],
            [
             0.9,
             "#4d9221"
            ],
            [
             1,
             "#276419"
            ]
           ],
           "sequential": [
            [
             0,
             "#0d0887"
            ],
            [
             0.1111111111111111,
             "#46039f"
            ],
            [
             0.2222222222222222,
             "#7201a8"
            ],
            [
             0.3333333333333333,
             "#9c179e"
            ],
            [
             0.4444444444444444,
             "#bd3786"
            ],
            [
             0.5555555555555556,
             "#d8576b"
            ],
            [
             0.6666666666666666,
             "#ed7953"
            ],
            [
             0.7777777777777778,
             "#fb9f3a"
            ],
            [
             0.8888888888888888,
             "#fdca26"
            ],
            [
             1,
             "#f0f921"
            ]
           ],
           "sequentialminus": [
            [
             0,
             "#0d0887"
            ],
            [
             0.1111111111111111,
             "#46039f"
            ],
            [
             0.2222222222222222,
             "#7201a8"
            ],
            [
             0.3333333333333333,
             "#9c179e"
            ],
            [
             0.4444444444444444,
             "#bd3786"
            ],
            [
             0.5555555555555556,
             "#d8576b"
            ],
            [
             0.6666666666666666,
             "#ed7953"
            ],
            [
             0.7777777777777778,
             "#fb9f3a"
            ],
            [
             0.8888888888888888,
             "#fdca26"
            ],
            [
             1,
             "#f0f921"
            ]
           ]
          },
          "colorway": [
           "#636efa",
           "#EF553B",
           "#00cc96",
           "#ab63fa",
           "#FFA15A",
           "#19d3f3",
           "#FF6692",
           "#B6E880",
           "#FF97FF",
           "#FECB52"
          ],
          "font": {
           "color": "#2a3f5f"
          },
          "geo": {
           "bgcolor": "white",
           "lakecolor": "white",
           "landcolor": "#E5ECF6",
           "showlakes": true,
           "showland": true,
           "subunitcolor": "white"
          },
          "hoverlabel": {
           "align": "left"
          },
          "hovermode": "closest",
          "mapbox": {
           "style": "light"
          },
          "paper_bgcolor": "white",
          "plot_bgcolor": "#E5ECF6",
          "polar": {
           "angularaxis": {
            "gridcolor": "white",
            "linecolor": "white",
            "ticks": ""
           },
           "bgcolor": "#E5ECF6",
           "radialaxis": {
            "gridcolor": "white",
            "linecolor": "white",
            "ticks": ""
           }
          },
          "scene": {
           "xaxis": {
            "backgroundcolor": "#E5ECF6",
            "gridcolor": "white",
            "gridwidth": 2,
            "linecolor": "white",
            "showbackground": true,
            "ticks": "",
            "zerolinecolor": "white"
           },
           "yaxis": {
            "backgroundcolor": "#E5ECF6",
            "gridcolor": "white",
            "gridwidth": 2,
            "linecolor": "white",
            "showbackground": true,
            "ticks": "",
            "zerolinecolor": "white"
           },
           "zaxis": {
            "backgroundcolor": "#E5ECF6",
            "gridcolor": "white",
            "gridwidth": 2,
            "linecolor": "white",
            "showbackground": true,
            "ticks": "",
            "zerolinecolor": "white"
           }
          },
          "shapedefaults": {
           "line": {
            "color": "#2a3f5f"
           }
          },
          "ternary": {
           "aaxis": {
            "gridcolor": "white",
            "linecolor": "white",
            "ticks": ""
           },
           "baxis": {
            "gridcolor": "white",
            "linecolor": "white",
            "ticks": ""
           },
           "bgcolor": "#E5ECF6",
           "caxis": {
            "gridcolor": "white",
            "linecolor": "white",
            "ticks": ""
           }
          },
          "title": {
           "x": 0.05
          },
          "xaxis": {
           "automargin": true,
           "gridcolor": "white",
           "linecolor": "white",
           "ticks": "",
           "title": {
            "standoff": 15
           },
           "zerolinecolor": "white",
           "zerolinewidth": 2
          },
          "yaxis": {
           "automargin": true,
           "gridcolor": "white",
           "linecolor": "white",
           "ticks": "",
           "title": {
            "standoff": 15
           },
           "zerolinecolor": "white",
           "zerolinewidth": 2
          }
         }
        },
        "title": {
         "text": "TCP values in the dataset"
        },
        "xaxis": {
         "anchor": "y",
         "domain": [
          0,
          0.2888888888888889
         ]
        },
        "xaxis2": {
         "anchor": "y2",
         "domain": [
          0.35555555555555557,
          0.6444444444444445
         ]
        },
        "xaxis3": {
         "anchor": "y3",
         "domain": [
          0.7111111111111111,
          1
         ]
        },
        "yaxis": {
         "anchor": "x",
         "domain": [
          0,
          1
         ]
        },
        "yaxis2": {
         "anchor": "x2",
         "domain": [
          0,
          1
         ]
        },
        "yaxis3": {
         "anchor": "x3",
         "domain": [
          0,
          1
         ]
        }
       }
      }
     },
     "metadata": {}
    }
   ],
   "metadata": {}
  },
  {
   "cell_type": "markdown",
   "source": [
    "## Task 3.3"
   ],
   "metadata": {}
  },
  {
   "cell_type": "markdown",
   "source": [
    "### The distribution of the average throughput  per handset type and provide interpretation for your findings."
   ],
   "metadata": {}
  },
  {
   "cell_type": "code",
   "execution_count": 37,
   "source": [
    "handset_type_df = user_engagement_df.groupby('handset_type').agg(\n",
    "    {'total_avg_tp': 'mean', 'total_avg_tcp': 'mean'})\n",
    "handset_type_df.head()"
   ],
   "outputs": [
    {
     "output_type": "execute_result",
     "data": {
      "text/plain": [
       "                                   total_avg_tp  total_avg_tcp\n",
       "handset_type                                                  \n",
       "A-Link Telecom I. Cubot A5             23510.00      793127.00\n",
       "A-Link Telecom I. Cubot Note Plus       6699.00      616213.00\n",
       "A-Link Telecom I. Cubot Note S          8937.00     7781238.88\n",
       "A-Link Telecom I. Cubot Nova           50549.25      137170.00\n",
       "A-Link Telecom I. Cubot Power          50341.25        8041.00"
      ],
      "text/html": [
       "<div>\n",
       "<style scoped>\n",
       "    .dataframe tbody tr th:only-of-type {\n",
       "        vertical-align: middle;\n",
       "    }\n",
       "\n",
       "    .dataframe tbody tr th {\n",
       "        vertical-align: top;\n",
       "    }\n",
       "\n",
       "    .dataframe thead th {\n",
       "        text-align: right;\n",
       "    }\n",
       "</style>\n",
       "<table border=\"1\" class=\"dataframe\">\n",
       "  <thead>\n",
       "    <tr style=\"text-align: right;\">\n",
       "      <th></th>\n",
       "      <th>total_avg_tp</th>\n",
       "      <th>total_avg_tcp</th>\n",
       "    </tr>\n",
       "    <tr>\n",
       "      <th>handset_type</th>\n",
       "      <th></th>\n",
       "      <th></th>\n",
       "    </tr>\n",
       "  </thead>\n",
       "  <tbody>\n",
       "    <tr>\n",
       "      <th>A-Link Telecom I. Cubot A5</th>\n",
       "      <td>23510.00</td>\n",
       "      <td>793127.00</td>\n",
       "    </tr>\n",
       "    <tr>\n",
       "      <th>A-Link Telecom I. Cubot Note Plus</th>\n",
       "      <td>6699.00</td>\n",
       "      <td>616213.00</td>\n",
       "    </tr>\n",
       "    <tr>\n",
       "      <th>A-Link Telecom I. Cubot Note S</th>\n",
       "      <td>8937.00</td>\n",
       "      <td>7781238.88</td>\n",
       "    </tr>\n",
       "    <tr>\n",
       "      <th>A-Link Telecom I. Cubot Nova</th>\n",
       "      <td>50549.25</td>\n",
       "      <td>137170.00</td>\n",
       "    </tr>\n",
       "    <tr>\n",
       "      <th>A-Link Telecom I. Cubot Power</th>\n",
       "      <td>50341.25</td>\n",
       "      <td>8041.00</td>\n",
       "    </tr>\n",
       "  </tbody>\n",
       "</table>\n",
       "</div>"
      ]
     },
     "metadata": {},
     "execution_count": 37
    }
   ],
   "metadata": {}
  },
  {
   "cell_type": "code",
   "execution_count": 52,
   "source": [
    "sorted_by_tp = handset_type_df.sort_values(\n",
    "    'total_avg_tp', ascending=False)\n",
    "top_tp = sorted_by_tp['total_avg_tp']"
   ],
   "outputs": [],
   "metadata": {}
  },
  {
   "cell_type": "code",
   "execution_count": 57,
   "source": [
    "hist(top_tp)\n"
   ],
   "outputs": [
    {
     "output_type": "display_data",
     "data": {
      "application/vnd.plotly.v1+json": {
       "config": {
        "plotlyServerURL": "https://plot.ly"
       },
       "data": [
        {
         "alignmentgroup": "True",
         "bingroup": "x",
         "histfunc": "sum",
         "hovertemplate": "x=%{x}<br>sum of y=%{y}<extra></extra>",
         "legendgroup": "",
         "marker": {
          "color": "#636efa"
         },
         "name": "",
         "offsetgroup": "",
         "orientation": "v",
         "showlegend": false,
         "type": "histogram",
         "x": [
          "Id: Huawei Par-Lx9",
          "Id: Spa Condor Elect. Allure M2",
          "Id: Asustek Wireless-Ac1200 Lte Router",
          "Id: Lg-H860",
          "Id: Huawei B618S-22D",
          "Id: New-Bund Technol. Thor",
          "Id: Samsung Galaxy A7 (Sm-A730F)",
          "Id: Lenovo Moto Z Play Vx12752445",
          "Id: Huawei B715S-23C",
          "Id: Huawei B525S-65A",
          "Id: Samsung Galaxy S9+",
          "Id: Ovvi-Cellphone T. Echo",
          "Id: Huawei E8372",
          "Id: Oppo Cph1723",
          "Id: Zyxel Communicat. Sbg3600",
          "Id: Oppo Cph1701",
          "Id: Huawei Y6 Prime 2018",
          "Id: Spa Condor Elect. Plume L2",
          "Id: Lg G6+",
          "Id: Huawei Aum-Al00",
          "Id: Xiaomi Communica. Mi 6",
          "Id: Tecno Telecom (H. Phantom6 Plus",
          "Id: Huawei Hwi-Al00",
          "Id: Shenzhen Leagoo. Leagoo S8",
          "Id: Xiaomi Communica. M1803E1A",
          "Id: Huawei Pele",
          "Id: Asustek Asus Ze550Kl Zenfone2 Laser",
          "Id: Huawei P9 Plus",
          "Id: Huawei Y9 2019",
          "Id: Umi Network Tech. Umidigi Z1 Pro",
          "Id: Kvd Internationa. Doogee S55 Lite",
          "Id: Doke Communicati. Blackview Bv6800 Pro",
          "Id: Umi Network Tech. One Pro",
          "Id: Zte Blade V8 Blade V8",
          "Id: A-Link Telecom I. Cubot Nova",
          "Id: New-Bund Technol. Mix 2",
          "Id: A-Link Telecom I. Cubot Power",
          "Id: Oppo Cph1877",
          "Id: Xiaomi Communica. Redmi Note 2",
          "Id: Qingdao Hisense. S41",
          "Id: Huawei Nova 2I Huawei Mate 10 Lite",
          "Id: Htc 2Q6E100",
          "Id: Huawei E5180",
          "Id: Tp-Link Technolo. Tl-Mr6400",
          "Id: Archos Sa 55 Diamond Selfie ( Lite)",
          "Id: Lephone U Pro",
          "Id: Samsung Galaxy S9 Sm-G960F",
          "Id: Huawei Stf-Tl10",
          "Id: Huawei Vns-Dl00",
          "Id: Samsung Galaxy On 7",
          "Id: Xiaomi Communica. B5",
          "Id: Samsung Galaxy S9 Sm-G960N",
          "Id: Xiaomi Communica. Redmi 5Plus",
          "Id: Lg Lg-H818P",
          "Id: Samsung Galaxy A6 Duos (Sm-A605G Ds)",
          "Id: Huawei B528S-23A",
          "Id: Shenzhen Chainwa. C70",
          "Id: Zyxel Communicat. Lte7460",
          "Id: Huawei B525S-23A",
          "Id: Xiaomi Communica. M1902F1G",
          "Id: Huawei Was-Al00",
          "Id: Meizu Technology. M5 Note",
          "Id: Apple iPad Pro 12.9 (A1671)",
          "Id: Samsung Gt-P5220",
          "Id: Huawei E5786S-32A Huawei E5786Bs-32A",
          "Id: Archos Sa Sense 55S",
          "Id: Samsung Galaxy S4 Active Gt-I9295",
          "Id: Huawei Honor 6",
          "Id: Beijing Shenqi T. Z2 Pro",
          "Id: Asustek Asus_Z00D",
          "Id: Tp-Link Technolo. Archer Mr400",
          "Id: Htc 2Q5W100",
          "Id: Huawei E5186S",
          "Id: Samsung Galaxy A7 (Sm-A710X)",
          "Id: Mundo Reader S.L. Aquaris U2 16+2",
          "Id: Google Inc G011C",
          "Id: Xiaomi Communica. Xiaomi Note",
          "Id: Lemobile Informa. Le X527",
          "Id: Oneplus Technolo. Oneplus 5T",
          "Id: Nokia Lumia 925 Lumia 925",
          "Id: Asustek Asus Zenfone2 Ze551Ml",
          "Id: Lenovo P2 Ku12842445",
          "Id: Asustek Asus Zb633Kl Zenfone Max M2",
          "Id: Oppo Cph1609",
          "Id: Lg K10",
          "Id: Neel Enterprise Kolor Crosscalltrekker-X2",
          "Id: Asustek Asus Zenfone 3 Deluxe Zs570Kl",
          "Id: Sony Mobile Comm. Xperia Xz1 Compact",
          "Id: Samsung Galaxy C5 (Sm-C500X)",
          "Id: Wiko Global Sasu Wiko U Pulse",
          "Id: Samsung Galaxy A6 (Sm-A605F)",
          "Id: Lg G3",
          "Id: Tp-Link Technolo. Tp-Link M7350",
          "Id: Huawei B593S-22",
          "Id: Hmd Global Oy Nokia 2",
          "Id: Sony Mobile Comm. Sony Xperia Z (C6603)",
          "Id: Oppo Cph1837",
          "Id: Lg-H791",
          "Id: Htc One A9",
          "Id: Asustek Asus Zenfone 4 Max Zc554Kl",
          "Id: Tcl Communicatio. Alcatel Onetouch Idol3 (5.5)",
          "Id: Oppo A33F",
          "Id: Wileyfox Europe. Wileyfox Swift 2",
          "Id: Samsung Galaxy Tab A (Sm-T555)",
          "Id: Oneplus Technolo. One A2003",
          "Id: Samsung Galaxy S4 (Gt-I9515)",
          "Id: Tcl Communicatio. Linkzone",
          "Id: Htc 2Q5V100",
          "Id: D-Link Corporati. D-Link Dwr-921",
          "Id: Lg-H815",
          "Id: Nubia Technology. M2 Play",
          "Id: Huawei E5785Lh-22C",
          "Id: Zte Blade V7 Lite Blade V6 Plus Zte Blitz",
          "Id: Huawei Y5 2017",
          "Id: Wiko Global Sasu Wiko Tommy2 Plus",
          "Id: Samsung Galaxy J7 Prime Duos (Sm-G610F Dd)",
          "Id: Huawei E5573",
          "Id: Huawei Col-Al10",
          "Id: Kvd Internationa. Doogee X60L",
          "Id: Tcl Communicatio. Alcatel Onetouch 5070D",
          "Id: Shanghai Chengyu. Pp6000",
          "Id: Spa Condor Elect. P8 Lite",
          "Id: Huawei P8Max",
          "Id: Oneplus Technolo. Oneplus 5",
          "Id: Huawei Lnd-L29",
          "Id: Huawei E5577",
          "Id: Asustek Asus Zs620Kl Zenfone 5Z",
          "Id: Sierra Wireless Usb305",
          "Id: Huawei Jsn-Al00A",
          "Id: Qingdao Hisense. Hisense F31",
          "Id: Huawei Honor 7S",
          "Id: Huawei E5577 E5577C",
          "Id: Lenovo Al12415545",
          "Id: Lenovo Moto G (5Th Gen) Da12985045",
          "Id: Huawei Bkl-Tl10",
          "Id: Lg Nexus 5X",
          "Id: Huawei E5573B",
          "Id: Samsung Galaxy Tab S3 (Sm-T825)",
          "Id: Oppo A37F",
          "Id: Razer Inc Razer Phone",
          "Id: Samsung Galaxy J8 2018",
          "Id: Qingdao Hisense. Hisense F23",
          "Id: Lenovo Moto G Plus (5Th Gen) Co12984045",
          "Id: Lenovo Moto Z Play (2Nd Gen) Ho12005845",
          "Id: Acer Liquid Zest 4G",
          "Id: Oneplus Technolo. One A1001 Oneplus A0001 One A0001",
          "Id: Xiaomi Communica. Mi 8",
          "Id: Lenovo Moto G (3Rd Gen)",
          "Id: Xiaomi Communica. Mi Max3",
          "Id: Bird L8",
          "Id: Lenovo D012064645",
          "Id: Samsung Galaxy S4 Advance (Gt-I9506)",
          "Id: Asustek Asus Zenfone 3 Ze520Kl",
          "Id: Huawei Nova 3I Huawei P Smart+",
          "Id: Tp-Link Technolo. Archer Mr200",
          "Id: Huawei E5776S-32",
          "Id: Lg-H850",
          "Id: Sony Mobile Comm. Xperia Z5 Dual",
          "Id: Huawei E5372S-32",
          "Id: Oneplus Technolo. Oneplus 6",
          "Id: Apple iPhone Xr (A1984)",
          "Id: Asustek Asus Zb570Tl",
          "Id: Lenovo Moto G Plus (4Th Gen) Af12802845",
          "Id: Huawei Honor 8 Lite",
          "Id: Wiko Global Sasu Wiko Wim Lite",
          "Id: Samsung Galaxy A7 Sm-A720F Ds",
          "Id: Wistron M18Qw",
          "Id: Apple iPad Mini (A1490)",
          "Id: Civicom Technolo. European",
          "Id: Spa Condor Elect. Allure M3",
          "Id: Samsung Galaxy A5 Sm-A520F Ds",
          "Id: Huawei Maimang 6",
          "Id: Spa Condor Elect. Allure M1 Plus",
          "Id: Haier L55",
          "Id: Lg G6",
          "Id: Lg-M320N",
          "Id: Xiaomi Communica. Redmi Note4",
          "Id: Huawei B593S-12",
          "Id: Asustek Asus Zenfone2 Laser Ze600Kl",
          "Id: Tcl Communicatio. Blackberry Bbb100-2",
          "Id: Xiaomi Communica. Redmi 2",
          "Id: Sony Mobile Comm. Xperia Z5 Premium",
          "Id: Logicom Sa L-Ite 504Hd",
          "Id: Lenovo Lenovo B Lenovo Vibe B",
          "Id: Lg Lg-H635",
          "Id: Meizu Technology. M3 Note",
          "Id: Asustek Zenfone Max Pro(M1)",
          "Id: Xiaomi Communica. Redmi Note5",
          "Id: Xiaomi Communica. M1804C3Dg",
          "Id: Apple iPad (A1823)",
          "Id: Sony Mobile Comm. Sony Xperia Z3",
          "Id: Samsung Galaxy J7 Prime (On7) Duos (Sm-G6100)",
          "Id: Xiaomi Communica. Redmi Note6 Pro",
          "Id: Huawei Fig-Al00",
          "Id: Samsung Galaxy S5 Neo (Sm-G903)",
          "Id: Essential Produc. Ph-1",
          "Id: Wiko Global Sasu View Lite",
          "Id: Sony Mobile Comm. Xperia Xz",
          "Id: Tcl Communicatio. Alcatel A5 Led Alcatel A5",
          "Id: Huawei Gr5 2017 Huawei Mate 9 Lite",
          "Id: Lenovo Moto G (5Th Gen) Da12984545",
          "Id: Netgear Inc Aircard 810S",
          "Id: Lenovo K Pro",
          "Id: Huawei Plk-L01",
          "Id: Samsung Galaxy Note 5 (Sm-N920X)",
          "Id: Spa Condor Elect. Plume P6 Pro Lte",
          "Id: Oneplus Technolo. Oneplus5T",
          "Id: Huawei P8",
          "Id: Oneplus Technolo. Oneplus 3",
          "Id: Hmd Global Oy Ta-1049",
          "Id: Oneplus Technolo. Oneplus A3003",
          "Id: Asustek Asus_Z00Ad",
          "Id: Ddm Brands Llc Energy S550",
          "Id: Tp-Link Technolo. Tp-Link Archer Mr200 Tp-Link Tl-Mr6400",
          "Id: Samsung Galaxy J5",
          "Id: A-Link Telecom I. Cubot A5",
          "Id: Hmd Global Oy Ta-1095",
          "Id: Htc 10",
          "Id: Huawei Bln-Tl10",
          "Id: Fairphone B.V Fairphone 2",
          "Id: Samsung Galaxy Note 9",
          "Id: Asustek Zenfone 4 Selfie Pro",
          "Id: Nubia Technology. Z17 Mini",
          "Id: Apple iPad (A1954)",
          "Id: Lenovo Ro12524245",
          "Id: Lenovo Moto X Style",
          "Id: Dg Homtom Group. Homtom Ht3",
          "Id: Apple iPad 4 (A1460)",
          "Id: Xiaomi Communica. Mi Max2",
          "Id: Asustek Asus Zenfone Selfie Zd551Kl",
          "Id: Crosscall Trekker-X4",
          "Id: Tct Mobile Suzho. Alcatel Onetouch Pop2 4.5",
          "Id: Xiaomi Communica. H3C",
          "Id: Lg-H870S",
          "Id: Asustek Asus Zenfone 2 Laser Ze500Kl",
          "Id: Xiaomi Communica. M1808D2Tg",
          "Id: Sony Mobile Comm. Xperia Xz Premium",
          "Id: Lg Lm-G710Em",
          "Id: Huawei E587 E587U-2 Turkcell Vinnwifi E587",
          "Id: Huawei Hma-L29",
          "Id: Hmd Global Oy Nokia 6 Ss",
          "Id: Fully Holdings (. Oukitel C2",
          "Id: Huawei Honor 6X",
          "Id: Tp-Link Technolo. Tp-Link Tp701A",
          "Id: Wiko Global Sasu Wiko Highway Pure",
          "Id: Samsung Galaxy J7 (Sm-J701F)",
          "Id: Sony Mobile Comm. Xperia X",
          "Id: Huawei Honor",
          "Id: Sony Mobile Comm. Xperia Xz2",
          "Id: Samsung Galaxy J1 Ace (Sm-J111X)",
          "Id: Samsung Galaxy Tab A (Sm-T285)",
          "Id: Shenzhen Leagoo. Leagoo M9 Pro",
          "Id: Xiaomi Communica. Mi Mix2S",
          "Id: Sony Mobile Comm. Xperia X Compact",
          "Id: Tcl Communicatio. Alcatel Pop4 6 4G 7070X",
          "Id: Xiaomi Communica. Redmi 5",
          "Id: Huawei Nova",
          "Id: Oneplus Technolo. Oneplus 6T",
          "Id: Huawei Frd-L19",
          "Id: Lenovo Moto G (5Th Gen S) D012081145",
          "Id: Huawei Honor 6C Dig-L21Hn",
          "Id: D-Link Corporati. Dwr-921",
          "Id: Samsung Galaxy A9 2018",
          "Id: Wiko Global Sasu View2",
          "Id: Xiaomi Communica. Pocophone F1",
          "Id: Sony Mobile Comm. Pm-1162-Bv",
          "Id: Oneplus Technolo. Oneplus 3T",
          "Id: Oppo Cph1893",
          "Id: Huawei Y7",
          "Id: Asustek Asus Zenfone4 Max Zc520Kl",
          "Id: Xiaomi Communica. Redmi Note5A",
          "Id: Samsung Galaxy J3 (Sm-J330G Ds)",
          "Id: Archos Sa Archos 50 Cobalt Bush Spira B3 5",
          "Id: Samsung Galaxy J2",
          "Id: Tcl Communicatio. Alcatel M812F",
          "Id: Hmd Global Oy Nokia 7 Plus Ds",
          "Id: Shenzhen Jeko Co. Blackview Bv9000 Pro",
          "Id: Samsung Galaxy Mega (Gt-I9205)",
          "Id: Sony Mobile Comm. Pm-1164-Bv",
          "Id: Yota Devices Yotaphone2",
          "Id: Samsung Sm-N7505",
          "Id: Sony Mobile Comm. Xperia Z5",
          "Id: Xiaomi Communica. Mi A1",
          "Id: Asustek Asus Zenfone Zoom S Ze553Kl",
          "Id: Asustek Asus Ze500Kl Zenfone 2 Lazer",
          "Id: Samsung Galaxy Grand Prime (Sm-G530X)",
          "Id: Xiaomi Communica. Redmi 5 Plus",
          "Id: Xiaomi Communica. Redmi Note3",
          "Id: Lg G4",
          "Id: Huawei Rvl-Al09",
          "Id: Meizu Technology. Meizu U20",
          "Id: Shenzhen Jeko Co. Blackview Bv7000",
          "Id: Lg Lg-D722",
          "Id: Huawei Y7 Prime 2018",
          "Id: Sony Mobile Comm. Xperia Xa2 Ultra",
          "Id: Oppo Cph1903",
          "Id: Oppo F1F",
          "Id: Htc One M9",
          "Id: Xiaomi Communica. Mi A2",
          "Id: Apple iPad Air (A1475)",
          "Id: Google Inc Pixel 3",
          "Id: Lg X Power2",
          "Id: Ecom Instruments. Ecom Mobile Safety Smart-Ex 201",
          "Id: Lenovo Lenovo A6020A40",
          "Id: Asustek Asus Zenfone Go Zb500Kl",
          "Id: Lg G4C",
          "Id: Apple iPad Pro 10.5 (A1709)",
          "Id: Huawei Honor 5X",
          "Id: Dg Homtom Group. Homtom H50",
          "Id: Samsung Galaxy Note 4 (Sm-N910X)",
          "Id: Asustek Asus Zenfone 3 Max Zc520Tl",
          "Id: Asustek Asus Zenfone 5 Ze620Kl",
          "Id: Shenzhen Huanuo. B2803",
          "Id: Htc Desire 728",
          "Id: Oppo A1601",
          "Id: Huawei P10 Plus",
          "Id: Asustek Asus Zenfone Max Plus Zb570Tl",
          "Id: Huawei E5220S-2",
          "Id: Samsung Galaxy S5 Lte-A (Sm-G901X)",
          "Id: Huawei Lya-L29",
          "Id: Samsung Galaxy Note 2 (Gt-N7105)",
          "Id: Sony Mobile Comm. Xperia Xa1 Ultra",
          "Id: Tp-Link Technolo. X1 Lite",
          "Id: Asustek Asus Zenfone Max Pro Zb631Kl",
          "Id: Apple iPad Air 2 (A1567)",
          "Id: Xiaomi Communica. Redmi S2",
          "Id: Lg-K100",
          "Id: Huawei Jkm-Lx1",
          "Id: Kvd Internationa. Doogee Y6 C",
          "Id: Wiko Global Sasu Wiko View",
          "Id: Lenovo Sl12367645",
          "Id: Kvd Internationa. Doogee Mix",
          "Id: Samsung Galaxy Tab A (Sm-T585)",
          "Id: Sfr Altice S61",
          "Id: Sony Mobile Comm. Pm-1150-Bv",
          "Id: Samsung Galaxy J7 (Sm-J710X)",
          "Id: Tct Mobile Suzho. Alcatel Onetouch Pop D5",
          "Id: Lenovo Nexus 6 Valocia",
          "Id: Htc Desire 825",
          "Id: Apple iPhone Xs Max (A2104)",
          "Id: Sony Mobile Comm. Xperia Xa1",
          "Id: Crosscall Action-X3 Pro",
          "Id: Huawei Honor View10",
          "Id: Samsung 2018 Galaxy J4",
          "Id: Crosscall Trekker-M1",
          "Id: Samsung Galaxy A5 (Sm-A510X)",
          "Id: Sony Mobile Comm. Xperia Xz1",
          "Id: Samsung Galaxy Mega Duos (Gt-I9152)",
          "Id: Lenovo Moto Z Ve12657645",
          "Id: Huawei Frd-L09",
          "Id: Huawei Ascend Y550",
          "Id: Samsung Galaxy S5 (Sm-G900W8)",
          "Id: Huawei Pct-L29",
          "Id: Razer Inc Razer Phone 2",
          "Id: Samsung Galaxy Tab S2 (Sm-T719)",
          "Id: Lg V30+",
          "Id: Samsung Galaxy S10",
          "Id: Logicom Sa L-Ement 551",
          "Id: Sony Mobile Comm. Xperia M4 Aqua",
          "Id: Wiko Global Sasu Wiko Jerry Max",
          "Id: Samsung Galaxy Grand 2 (Sm-G7105)",
          "Id: Wiko Global Sasu Wiko Rainbow Jam",
          "Id: Xiaomi Communica. Mi A2 Lite",
          "Id: Lg-K600Y",
          "Id: Huawei P20 Pro",
          "Id: Sony Mobile Comm. Xperia E4G Dual",
          "Id: Lenovo Moto G (5Th Gen) Indr003546",
          "Id: Samsung Galaxy A7 (Sm-A700X)",
          "Id: Htc One Mini 2",
          "Id: Qingdao Hisense. Hisense C20",
          "Id: Samsung Galaxy Tab Active Sm-T365",
          "Id: Sony Mobile Comm. Xperia Xa Ultra",
          "Id: Samsung Galaxy Note 8 (Sm-N950F)",
          "Id: Xiaomi Communica. M1806E7Tg",
          "Id: Wiko Global Sasu Wiko Freddy",
          "Id: Lenovo Moto E",
          "Id: Netgear Inc Nighthawk Ac1900 Cat 6 Lte Gateway",
          "Id: Htc One Mini",
          "Id: Xiaomi Communica. B6L",
          "Id: Lidaxin Technolo. Glida Be09",
          "Id: Huawei Col-L29",
          "Id: Wiko Global Sasu Wiko U Feel Lite",
          "Id: Lg-M200N",
          "Id: Xiaomi Communica. Redmi Note5A Prime",
          "Id: Qingdao Hisense. Hisense F24",
          "Id: Crosscall Core-X3",
          "Id: Sony Mobile Comm. Xperia Xz2 Compact",
          "Id: Gotron (Hk) Elec. Armor X",
          "Id: Sierra Wireless Mc8355",
          "Id: Yop Technology C. Maze Alpha",
          "Id: Google Inc Pixel 3Xl",
          "Id: Logicom Sa L-Ite 400M",
          "Id: Huawei B593",
          "Id: Sony Mobile Comm. Xperia Xa",
          "Id: Apple iPhone Xs (A1920)",
          "Id: Htc Desire 650",
          "Id: Shenzhen Xin Kin. V1600",
          "Id: Neel Enterprise Kolor Crosscall Trekker-X1",
          "Id: Samsung Galaxy S4 (Gt-I9505)",
          "Id: Samsung Galaxy J2 Core Sm-J260F Ds",
          "Id: Samsung Galaxy J4",
          "Id: Asustek Asus Za550Kl Zenfone Max M1",
          "Id: Huawei P8 Lite",
          "Id: Samsung Galaxy S9 Sm-G960F Ds",
          "Id: Huawei Vog-L29",
          "Id: Huawei Mate 8",
          "Id: Nokia 1661-2 1661",
          "Id: Spa Condor Elect. Plume L1 Plus",
          "Id: Huawei Honor 10",
          "Id: Huawei Ine-Lx1",
          "Id: Wiko Global Sasu View2 Go",
          "Id: Hmd Global Oy Ta-1063 Ds",
          "Id: Apple iPhone Xs Max (A1921)",
          "Id: Sony Mobile Comm. Sony Xperia Z2 (D6503)",
          "Id: Samsung Galaxy S5 (Sm-G900F)",
          "Id: Samsung Galaxy S8 Plus (Sm-G955F)",
          "Id: Sony Mobile Comm. Xperia Z3 Compact",
          "Id: Sony Mobile Comm. Sony C6802 Xl39H",
          "Id: Huawei B315S-22",
          "Id: Huawei Nova 3E",
          "Id: Samsung Galaxy Note 8",
          "Id: Samsung Galaxy J5 (Sm-J510X)",
          "Id: Wiko Global Sasu Wiko Tommy",
          "Id: Htc Desire 816",
          "Id: Huawei P9 Lite",
          "Id: Huawei Mate 10 Pro",
          "Id: Microsoft Mobile. Rm-1085 Microsoft Lumia 950 Xl",
          "Id: Huawei Sne-Lx1",
          "Id: Sony Mobile Comm. Pm-1181-Bv",
          "Id: Lenovo Lc12988845",
          "Id: Samsung Galaxy S8 (Sm-G950F)",
          "Id: Xiaomi Communica. Redmi Note4X",
          "Id: Lenovo Moto G Plus (5Th Gen) Co128983645",
          "Id: Lenovo Xt1772",
          "Id: Apple iPad 3 (A1430)",
          "Id: Htc Desire 820G Plus Dual Sim",
          "Id: Sfr Starxtrem7",
          "Id: Huawei Mate 10 Pro Porsche Design Huawei Mate 10",
          "Id: Apple iPhone 8 (A1906)",
          "Id: Wiko Global Sasu Tommy3",
          "Id: Lenovo Bl12416045",
          "Id: Xiaomi Communica. A12A",
          "Id: Teletalk Pvt Ltd Colors Cl220+",
          "Id: Lg-H870Ds",
          "Id: Samsung Galaxy K Zoom Sm-C111",
          "Id: Samsung Galaxy J5 (Sm-J500X)",
          "Id: Huawei Jmm-L22 Honor 6C Pro Honor 6C Pro",
          "Id: Huawei P20",
          "Id: Apple iPhone 5S (A1530)",
          "Id: Archos Sa 55 Helium (Ultra)",
          "Id: Asustek Asus Zenfone 4 Ze554Kl",
          "Id: Asustek Asus Zenfone Live Zb501Kl",
          "Id: Spa Condor Elect. Allure M1",
          "Id: Huawei Cor-L29",
          "Id: Samsung Galaxy A3 (Sm-A310X)",
          "Id: Tcl Communicatio. A7 Xl",
          "Id: Wiko Global Sasu Wiko Jimmy",
          "Id: China Trade Grou. Ed1",
          "Id: Sony Mobile Comm. Xperia Z3",
          "Id: Logicom Sa L-Ite 552",
          "Id: Htc Desire 820",
          "Id: Apple iPhone 8 Plus (A1864)",
          "Id: Hmd Global Oy Nokia 3",
          "Id: Lenovo Moto X Style Indr001145",
          "Id: Wiko Global Sasu Wiko U Feel",
          "Id: Sony Mobile Comm. Xperia Xa2",
          "Id: Asustek Asus Asus_Z00Ada",
          "Id: Asustek Asus Zenfone 3 Laser Zc551Kl",
          "Id: Huawei Honor 8X",
          "Id: Samsung Galaxy S9 Plus (Sm-G965F)",
          "Id: Huawei Ascend P7",
          "Id: Huawei Gr5",
          "Id: Nubia Technology. Z17S",
          "Id: Wiko Global Sasu Wiko View Prime",
          "Id: Samsung Galaxy S8 Edge (Sm-G955U)",
          "Id: Samsung Galaxy S9",
          "Id: Samsung Galaxy S7 Edge (Sm-G935X)",
          "Id: Apple iPhone X (A1901)",
          "Id: Asustek Asus Zc553Kl Zenfone 3 Max",
          "Id: Sony Mobile Comm. Xperia L1",
          "Id: Wiko Global Sasu Wiko Rainbow 4G",
          "Id: Netgear Inc Netgear Ac785S-100",
          "Id: Kvd Internationa. Doogee S60",
          "Id: Crosscall Trekker-X3",
          "Id: Shenzhen Jeko Co. Blackview Bv5000",
          "Id: Huawei Mate 10 Lite Huawei Nova 2I",
          "Id: Archos Sa 50F Neon",
          "Id: Asustek Asus Zenfone Zoom Zx551Ml",
          "Id: Samsung Galaxy S8 (Sm-G950Fd)",
          "Id: Shenzhen Jeko Co. Blackview Bv8000 Pro",
          "Id: Xiaomi Communica. Redmi 6",
          "Id: Asustek Asus Zenfone 4 Selfie Zd553Kl",
          "Id: Kvd Internationa. Doogee Mix Lite",
          "Id: Shenzhen Jeko Co. Blackview Bv4000",
          "Id: Sony Mobile Comm. Pm-1190-Bv",
          "Id: Electro Depot Fr. W55Hd",
          "Id: Samsung Galaxy J2 Prime (Sm-G532)",
          "Id: Apple iPhone Xs (A2100)",
          "Id: Samsung Galaxy Note 3 (Sm-N9005)",
          "Id: Apple iPhone Xs Max (A2101)",
          "Id: Lg Nexus 5",
          "Id: Lenovo Moto G (4Th Gen) Af12802745",
          "Id: Sony Mobile Comm. Xperia E5",
          "Id: Sony Mobile Comm. Xperia C4 Dual",
          "Id: Sony Mobile Comm. Xperia Z5 Compact",
          "Id: Wiko Global Sasu View2 Pro",
          "Id: Samsung Sm-J250Y Ds",
          "Id: Huawei Ascend G620S",
          "Id: Apple iPhone Xr (A2105)",
          "Id: Huawei Ele-L29",
          "Id: Apple iPhone Xs (A2097)",
          "Id: Samsung Galaxy Mobile (E.G. A3Lschi535)",
          "Id: Apple iPhone Xr (A2106)",
          "Id: Samsung Galaxy Note9",
          "Id: Samsung Galaxy J5 Prime Dual-Sim (Sm-G570F Ds)",
          "Id: Huawei Y3Ii",
          "Id: Samsung Galaxy S7 (Sm-G930X)",
          "Id: Modelabs Horizon M",
          "Id: Shenzhen Fortune. M-Ppas6",
          "Id: Apple iPad Pro (A1652)",
          "Id: Archos Sa Archos 45B Helium 50B Helium 50C Helium 50D Helium 50 Diamond",
          "Id: Apple iPhone 7 Plus (A1784)",
          "Id: Apple iPhone 8 Plus (A1897)",
          "Id: Wiko Global Sasu Wiko Tommy2",
          "Id: Archos Sa 50 Platinum 4G",
          "Id: Oppo Cph1725",
          "Id: Huawei Honor 7A",
          "Id: A-Link Telecom I. Cubot X18 Plus",
          "Id: Lenovo Moto E Plus (4Th Gen) Go12071045",
          "Id: Apple iPhone 5 (A1428) A1428S",
          "Id: Huawei P10 Lite",
          "Id: Huawei Y6 2017 Huawei Nova Young",
          "Id: Xiaomi Communica. M1805E10A",
          "Id: Apple iPhone 7 Plus (A1661)",
          "Id: Huawei P10",
          "Id: Apple iPhone 6S Plus (A1634)",
          "Id: Lg-K120E",
          "Id: Huawei Frd-Al10",
          "Id: Samsung Galaxy J7 (Sm-J701F Ds)",
          "Id: Huawei Tit-Al00 Huawei Y6 Pro",
          "Id: Lenovo Za12074545",
          "Id: Samsung Galaxy A7 2018",
          "Id: Samsung Galaxy S8 Plus (Sm-G955Fd)",
          "Id: Samsung Galaxy S6 (A3Lsmg920P)",
          "Id: Archos Sa 50 Saphir",
          "Id: Wiko Global Sasu Wiko Upulse Lite",
          "Id: Lg L Bello",
          "Id: Lenovo Moto G (2Nd Generation) Xt1068 Indr000145",
          "Id: Apple iPhone 6 Plus (A1522)",
          "Id: Samsung Galaxy S5 Mini (Sm-G800X)",
          "Id: Tct Mobile Suzho. 7048A",
          "Id: Shenzhen Boway E. Boway Boway U11",
          "Id: Wiko Global Sasu Harry2",
          "Id: Ddm Brands Llc Andy C5V",
          "Id: Spa Condor Elect. C6+",
          "Id: Hmd Global Oy Nokia 8 Ss",
          "Id: Apple iPhone 7 (A1660)",
          "Id: Maysun Info Tech. M4028",
          "Id: Huawei Stf-L09",
          "Id: Apple iPhone 7 (A1778)",
          "Id: Huawei Mate 20 Lite",
          "Id: Xiaomi Communica. M1807E8A",
          "Id: Meizu Technology. Mx6",
          "Id: Huawei Mate 9",
          "Id: Apple iPhone X (A1865)",
          "Id: Haier G50 L54",
          "Id: Hmd Global Oy Nokia 6.1 Ds",
          "Id: Samsung Galaxy A3 (Sm-A300X)",
          "Id: Lg C70",
          "Id: Lgms631",
          "Id: Lenovo Moto X Play Lx12506245",
          "Id: Microsoft Mobile. Rm-1104 Microsoft Lumia 950",
          "Id: Xiaomi Communica. A7",
          "Id: Lenovo Moto E (2Nd Gen) With 4G Lte St12406045",
          "Id: Huawei Y6Ii",
          "Id: Samsung Galaxy Grand Prime (Sm-G530F)",
          "Id: Samsung Galaxy Express Gt-I8730",
          "Id: Crosscall Trekker-M1 Core",
          "Id: Apple iPhone 8 (A1905)",
          "Id: Xiaomi Communica. Redmi 5A",
          "Id: Samsung Galaxy S6 (Sm-G920X)",
          "Id: Xiaomi Communica. C3",
          "Id: Samsung Galaxy A8 (2018)",
          "Id: Huawei Y5 2018",
          "Id: Samsung Galaxy S6 Edge (Sm-G925X)",
          "Id: Samsung Galaxy J7 Prime Duos (Sm-G610F Ds)",
          "Id: Logicom Sa L-Egant One",
          "Id: Oppo A37Fw",
          "Id: Lenovo Moto G (3Rd Gen) Ca12459445",
          "Id: Samsung Galaxy S8 (Sm-G950U)",
          "Id: Lenovo Moto G With 4G Motorola M0Fa8",
          "Id: Htc Desire 510",
          "Id: Apple iPhone 6S (A1633)",
          "Id: Htc Desire 610",
          "Id: Infinix Technolo. Note 3 Pro",
          "Id: Samsung Galaxy J7",
          "Id: Asustek Asus Zenfone Max Zc550Kl",
          "Id: Oneplus Technolo. Oneplus A3000",
          "Id: Asustek Asus Zc521Tl Zenfone 3S Max",
          "Id: Lg-K100Ds",
          "Id: Huawei P9",
          "Id: Huawei Pot-Lx1",
          "Id: Logicom Sa Logicom Vr Bot 552+",
          "Id: Asustek Asus Zb552Kl Zenfone Go",
          "Id: Oneplus Technolo. One A0001",
          "Id: Sony Mobile Comm. Xperia Z3+ Dual",
          "Id: Fully Holdings (. C8 4G",
          "Id: Huawei Honor 7X",
          "Id: Xiaomi Communica. Mi Mix2",
          "Id: Gigaset Communic. Gs100",
          "Id: Samsung Galaxy S4 (Gt-I9500)",
          "Id: Lenovo Moto X (2Nd Generation) X112360445",
          "Id: Lenovo Moto C Plus Lc12988845",
          "Id: Lg-K420N",
          "Id: Huawei P20 Lite Huawei Nova 3E",
          "Id: Group Acquisitio. Cirrus 5",
          "Id: Asustek Asus Zb500Tl",
          "Id: Apple iPhone 8 (A1863)",
          "Id: Tianlong Interna. Uphone S922 Uphone S930",
          "Id: Samsung Galaxy Note 8 (Sm-N950F Ds)",
          "Id: Lenovo Moto X Play",
          "Id: Zte Mf190",
          "Id: Tcl Communicatio. Alcatel 3C",
          "Id: Hem Easy",
          "Id: Tcl Communicatio. Alcatel Pixi 4 (5) 5010E",
          "Id: Archos Sa Archos 60 Platinum",
          "Id: Asustek Asus Zb500Kg",
          "Id: Shenzhen Jeko Co. Blackview A7",
          "Id: Spa Condor Elect. P4",
          "Id: Tct Mobile Suzho. Alcatel Onetouch Idol 3 (4.7)",
          "Id: Apple iPhone 6 Plus (A1524)",
          "Id: Sintave Technolo. Sintave S1000",
          "Id: Htc 2Pya210",
          "Id: Samsung Galaxy J3 (Sm-J320X)",
          "Id: Samsung Sm-T819",
          "Id: Huawei Hry-Lx1",
          "Id: Samsung Galaxy A5 Sm-A520F",
          "Id: Apple iPhone 7 (A1779)",
          "Id: Huawei Ascend Mate7",
          "Id: Leagoo Intl Co. . Leagoo T5",
          "Id: Apple iPhone 6 (A1549)",
          "Id: Lemobile Informa. Le X820",
          "Id: Meizu Technology. Pro 7",
          "Id: Dn Electronics Danew Konnect 350",
          "Id: Archos Sa Access 55 3G",
          "Id: Sfr Star Trail 5 By Sfr",
          "Id: Wiko Global Sasu Wiko Rainbow Lite 4G",
          "Id: Samsung Galaxy J1 (Sm-J120X)",
          "Id: Logicom Sa Le Up",
          "Id: Wiko Jerry3",
          "Id: Htc Desire 626",
          "Id: Samsung Galaxy S6 Plus (Sm-G928)",
          "Id: Apple iPhone 5S (A1457)",
          "Id: Huawei Y7 Prime",
          "Id: Huawei Ascend Y600",
          "Id: Samsung Galaxy A6 Sm-A600Fn Ds",
          "Id: Lg Nexus 4 (E960)",
          "Id: Wiko Global Sasu Wiko Lenny4 Plus",
          "Id: M S Soha Enterp. Qphone Q70",
          "Id: Huawei Bkl-Al20",
          "Id: Huawei Stf-Al00",
          "Id: Wiko Global Sasu Wiko Lenny4",
          "Id: Samsung Galaxy A6 (Sm-A605Fn)",
          "Id: Samsung Galaxy Grand Prime Ve (Sm-G531X)",
          "Id: Vivo Mobile Comm. Vivo V7+",
          "Id: Wiko Global Sasu Wiko Rainbow Getaway",
          "Id: Wiko Global Sasu Wiko U Feel Prime",
          "Id: Apple iPad Pro 9.7 (A1674)",
          "Id: Tcl Communicatio. Alcatel Pixi 4 (5) 5010D",
          "Id: Huawei Sla-L22",
          "Id: Huawei Y7 2018",
          "Id: Bullitt Group Li. Cat S30",
          "Id: Samsung Galaxy Core Prime (Sm-G360X)",
          "Id: Samsung Sm-G357Fz",
          "Id: Tcl Communicatio. U5",
          "Id: Sony Mobile Comm. Xperia Xa1 Plus",
          "Id: Apple iPhone 6 (A1586)",
          "Id: Nubia Technology. Nx569H",
          "Id: Samsung Galaxy Tab E (Sm-T561)",
          "Id: Asustek Asus Zenfone 3 Ze552Kl",
          "Id: Htc Desire 530",
          "Id: Samsung Galaxy A5 (Sm-A500X)",
          "Id: Huawei Dli-L22",
          "Id: Crosscall Action-X3",
          "Id: Huawei Fig-Lx1",
          "Id: Lg-K350Nds",
          "Id: Apple iPhone 6S (A1700)",
          "Id: Itel Technology. S33",
          "Id: Doro Ab Doro 8030 Doro 8028 Doro 8031 Doro 8030C Doro 8031C",
          "Id: Huawei Lld-Al00",
          "Id: Lg Lg-D620Fr",
          "Id: Samsung Galaxy J7 (Sm-J730)",
          "Id: Zte A2016",
          "Id: Lenovo Moto G Xt1032",
          "Id: A-Link Telecom I. Cubot Note S",
          "Id: Tcl Communicatio. Alcatel U5",
          "Id: Tcl Communicatio. Alcatel 3L 5034D",
          "Id: Samsung Galaxy J2 2018 Duos (Sm-J250F Ds)",
          "Id: Xiaomi Communica. Redmi 4X",
          "Id: Huawei Ascend Y530",
          "Id: Apple iPhone 5C (A1529)",
          "Id: Samsung Galaxy Note Edge (Sm-N915X)",
          "Id: Samsung Galaxy J1 Mini Prime (Sm-J106B)",
          "Id: Haier W826",
          "Id: Xiaomi Communica. Redmi 3S",
          "Id: Huawei Bln-Al30",
          "Id: Qingdao Hisense. Hisense F17 Pro",
          "Id: Sony Mobile Comm. Xperia X Performance Dual",
          "Id: Lg-K520",
          "Id: Wiko Global Sasu Wiko Sunny2 Plus",
          "Id: Sony Mobile Comm. Pm-1151-Bv",
          "Id: Apple iPhone Xr (A2108)",
          "Id: Apple iPhone 5C (A1507)",
          "Id: Nokia 920.1 Lumia 920 Rm-821",
          "Id: Htc Desire 620",
          "Id: Wiko Global Sasu Wiko Pulp 4G",
          "Id: Modelabs Clap Plus 2",
          "Id: Nokia 925.1 925.4 Lumia 925 Nokia 925",
          "Id: Wiko Global Sasu Lenny 5",
          "Id: Samsung Galaxy Alpha (Sm-G850X)",
          "Id: Apple iPhone 6S (A1688)",
          "Id: Lenovo Moto G Play (4Th Gen) Ju12738345",
          "Id: Samsung Galaxy S4 Mini (Gt-I9195)",
          "Id: Huawei P Smart",
          "Id: Ecom Instruments. Ecom Mobile Safety Ex-Handy 209",
          "Id: Samsung Galaxy Core Prime (Sm-G361F)",
          "Id: Lenovo K6",
          "Id: Apple iPhone 6S Plus (A1687)",
          "Id: Wiko Global Sasu Jerry3",
          "Id: Sdt Electronica Startrail 8",
          "Id: Asustek Asus Zenfone2 Laser Ze601Kl",
          "Id: Nokia Rm-941 Nokia 625 Lumia 625",
          "Id: Apple iPhone 5S (A1453)",
          "Id: Wiko Global Sasu Wiko Robby",
          "Id: Microsoft Mobile. Rm-1152 Microsoft Lumia 650",
          "Id: Tcl Communicatio. Alcatel 1",
          "Id: Sony Mobile Comm. Sony St26I",
          "Id: Tcl Communicatio. Alcatel Idol4 6055K",
          "Id: Hmd Global Oy Ta-1063",
          "Id: Lg-X210Ds",
          "Id: Samsung Galaxy J6",
          "Id: Shenzhen Fortune. Ss5804G",
          "Id: Wiko Global Sasu View Go",
          "Id: Samsung Galaxy J6+",
          "Id: Logicom Sa L-Ement 505 T580",
          "Id: Zte Blade L110 Zte Blade L110 Blade L110 Blade L110",
          "Id: Samsung Galaxy Xcover4 Sm-G390F",
          "Id: Kook (Hong Kong). Teeno T600",
          "Id: Asustek Zc550Kl Zenfone Max",
          "Id: Qingdao Hisense. Hisense L675",
          "Id: Hmd Global Oy Nokia 2 Ds",
          "Id: Huawei Y6 2017 Huawei Nova Young Huawei Y5 2017",
          "Id: Archos Sa 50B Cobalt (Lite)",
          "Id: Samsung Galaxy A3 (Sm-A320)",
          "Id: Logicom Sa Le Hello",
          "Id: Sony Mobile Comm. Xperia Z2",
          "Id: Huawei Y5Ii",
          "Id: Samsung Galaxy J4+",
          "Id: Huawei Ascend G6",
          "Id: Casper Bilgisaya. Via M1",
          "Id: Samsung Xcover 3 (Sm-G388X)",
          "Id: Xiaomi Communica. M1805D1Sg",
          "Id: Samsung Galaxy J7 (Sm-J700X)",
          "Id: Ertebat Hamrah G. Glx H1",
          "Id: Tcl Communicatio. Pixi 4 6 3G Android",
          "Id: Apple iPhone 5C (A1532)",
          "Id: Huawei Tbd",
          "Id: Logicom Sa Le Smooth",
          "Id: Microsoft Mobile. Rm-1072 Microsoft Lumia 640 Lte",
          "Id: Tinno Mobile Tec. Tinno S9091B",
          "Id: Htc Desire 310",
          "Id: Acer V370 Acer V370 Liquid E2 Duo",
          "Id: Huawei G8 Huawei Gx8 Huawei G7 Plus",
          "Id: Samsung Galaxy S3 (Gt-I9305)",
          "Id: Huawei Honor 9 Lite",
          "Id: Apple iPhone Se (A1723)",
          "Id: Apple iPhone 5S (A1533)",
          "Id: Kvd Internationa. Doogee X20",
          "Id: Microsoft Mobile. Microsoft Rm-1075 Microsoft Lumia 640 Lte Dual Sim",
          "Id: Nokia Rm-984 Lumia 830 Nokia 830",
          "Id: Compal Electroni. Cat B15Q",
          "Id: Tcl Communicatio. B-Athena",
          "Id: Samsung Galaxy A6",
          "Id: Tinno Mobile Tec. Tinno S9111",
          "Id: Lenovo Moto G Play (4Th Gen) Ju12797645",
          "Id: Quartel Infotech. Maximus M84",
          "Id: Meizu Technology. Pro 6 Plus",
          "Id: Apple iPhone Se (A1662)",
          "Id: Huawei Y6 2018",
          "Id: Sony Mobile Comm. Sony Lt30P",
          "Id: Huawei Mrd-Lx1",
          "Id: Huawei Fig-Al10",
          "Id: Wiko Global Sasu Wiko Sunset",
          "Id: Orbita Telecom L. Konrow",
          "Id: Sony Mobile Comm. Sony D2303 - Xperia M2",
          "Id: Rim Blackberry Stl100-2 Z10 Rfh121Lw",
          "Id: Wiko Global Sasu Wiko Lenny3",
          "Id: A-Link Telecom I. Cubot Note Plus",
          "Id: Shenzhen Jsr Tec. Innos K502",
          "Id: Meizu Technology. M5",
          "Id: Huawei Jat-L29",
          "Id: Bullitt Group Li. S61",
          "Id: Samsung Galaxy Xcover2 Gt-S7710",
          "Id: Lg L80",
          "Id: Tcl Communicatio. Alcatel A3",
          "Id: Rainbow Communic. C45",
          "Id: Tcl Communicatio. Alcatel 1X",
          "Id: Htc U Play",
          "Id: Archos Sa 55B Platinum",
          "Id: Rim Blackberry (Q5)",
          "Id: Lg-H811",
          "Id: Samsung Galaxy J3 (Sm-J330)",
          "Id: Microsoft Mobile. Rm-1127 Microsoft Lumia 550",
          "Id: Tcl Communicatio. Alcatel Pixi 4 5045D",
          "Id: Samsung Galaxy J4 Core",
          "Id: Rim Blackberry Sqc100-1 Rhh151Lw",
          "Id: Zebra Technologi. Symbol Tc55Bh",
          "Id: Archos Sa Access 45 4G",
          "Id: Hmd Global Oy Nokia 6 Ds",
          "Id: Zte Mf626",
          "Id: Samsung Sm-J106H Ds",
          "Id: Hmd Global Oy Nokia 5 Ds",
          "Id: Wiko Global Sasu Wiko Jerry2",
          "Id: Apple iPhone 5 (A1429)",
          "Id: Nokia Rm-1091 Lumia 535 Microsoft Lumia 535",
          "Id: Tcl Communicatio. Alcatel Onetouch Pixi 3 (4.5)",
          "Id: Sfr Starshine 5",
          "Id: Sony Mobile Comm. Sony D2105",
          "Id: Rim Blackberry Sqn100-3 Q10 Rfn81Uw",
          "Id: Huawei Bln-Al10",
          "Id: Doro Ab Doro Liberto 825",
          "Id: Sony Mobile Comm. Sony Xperia M2",
          "Id: Wiko Global Sasu Wiko Harry",
          "Id: Lenovo Lenovo K52E78",
          "Id: Samsung Gt-I8730",
          "Id: Bullitt Group Li. S60",
          "Id: Tcl Communicatio. Alcatel Onetouch Pop 3 (5)",
          "Id: Ddm Brands Llc Yezz Andy 5.5Ei",
          "Id: Tp-Link Technolo. C5A",
          "Id: Infocus Corporat. Infocus Vzh",
          "Id: Wiko Global Sasu Wiko Lenny2",
          "Id: Sony Mobile Comm. Xperia M5",
          "Id: Wiko Global Sasu Fever",
          "Id: Apple iPad Mini 4 (A1550)",
          "Id: Htc One",
          "Id: Honstech Communi. Do G26",
          "Id: Meizu Technology. Pro 6S",
          "Id: Sony Mobile Comm. Xperia E4",
          "Id: Samsung Sm-G386F",
          "Id: Samsung Galaxy J5 (Sm-J530)",
          "Id: Samsung Sm-G389F",
          "Id: Wiko Global Sasu Wiko View Xl",
          "Id: Samsung Galaxy S3 (Gt-I9300)",
          "Id: Wiko Global Sasu Wiko Jerry",
          "Id: Microsoft Mobile. Rm-1072 Lumia 640 Lte",
          "Id: Microsoft Mobile. Rm-1062 Lumia 640 Xl Lte",
          "Id: Shenzhen Jeko Co. Blackview A20",
          "Id: Samsung Galaxy Grand (Gt-I9060X)",
          "Id: Lg-M400Dy",
          "Id: Yi Sheng Technol. Gretel A7",
          "Id: Lenovo Lenovo A Plus Lenovo Vibe A Plus",
          "Id: Apple iPhone 7 Plus (A1785)",
          "Id: Infinix Technolo. Infinix Surf Bravo",
          "Id: Logicom Sa M Bot 60",
          "Id: Sierra Wireless Mc7710",
          "Id: Logicom Sa L-Ement 403",
          "Id: Wiko Global Sasu Wiko Highway Signs",
          "Id: Samsung Galaxy S5 (Sm-G900X)",
          "Id: Samsung Galaxy Note 2 (Gt-N7100)",
          "Id: Shenzhen Fortune. Nh001",
          "Id: Huawei Maya",
          "Id: Samsung Galaxy Trend Plus (Gt-S7580)",
          "Id: Htc One (M8)",
          "Id: Gigaset Communic. Gs185",
          "Id: Tct Mobile Suzho. Alcatel One Touch Pop C5",
          "Id: Lenovo Gl12494745",
          "Id: D-Link Corporati. D-Link Lte Usb Adaptor",
          "Id: Lidaxin Technolo. My81",
          "Id: Wiko Global Sasu Lenny2",
          "Id: Spa Condor Elect. A9 Plus",
          "Id: Lenovo K520",
          "Id: Sony Mobile Comm. Sony C5303 -Xperia Sp",
          "Id: Lg-M160",
          "Id: Apple iPhone 5C (A1456)",
          "Id: Qingdao Hisense. Hisense F17",
          "Id: Rim Blackberry Stl100-1 Z10 Rfg81Uw",
          "Id: Huawei Ale-Ul00",
          "Id: Oppo 1201",
          "Id: Lemobile Informa. Lex651",
          "Id: Microsoft Mobile. Nokia Rm-1034 Microsoft Lumia 532",
          "Id: Ddm Brands Llc Andy 4.5El Lte",
          "Id: Huawei Evr-Al00",
          "Id: Huawei Y6 Pro",
          "Id: Blu Products Inc Blu R1 Plus",
          "Id: Samsung Galaxy Core 2 (Sm-G355X)",
          "Id: Gotron (Hk) Elec. Gemini",
          "Id: Asustek Zenfone Max Zc550Kl",
          "Id: Tinno Mobile Tec. Lt X33",
          "Id: Sony Mobile Comm. Xperia L2",
          "Id: Shenzhen Fortune. X8610",
          "Id: Oneplus Technolo. One E1003",
          "Id: Lenovo Al12492145",
          "Id: Vplus Communicat. Vplus V5001",
          "Id: Vivo Mobile Comm. Vivo Vivo X7Plus",
          "Id: Xiaomi Communica. Mi 5X",
          "Id: Wiko Global Sasu Wiko Barry Iggy Ozzy",
          "Id: A-Link Telecom I. Cubot R9",
          "Id: Wiko Global Sasu Wiko Sunset2",
          "Id: Samsung Galaxy Note 3 (Sm-N9002)",
          "Id: Huawei Nova 3I",
          "Id: Wiko Global Sasu Wiko Sunny2",
          "Id: Lenovo Moto G",
          "Id: Wiko Global Sasu Wiko Sunny",
          "Id: Meizu Technology. M6 Note",
          "Id: Hmd Global Oy Nokia 1 Ds",
          "Id: Samsung Sm-G390F",
          "Id: Tcl Communicatio. Pop 4+",
          "Id: Samsung Galaxy S3 Neo(Gt-I9301X)",
          "Id: Tcl Communicatio. Alcatel Pixi 4 (4) 4034D",
          "Id: Shenzhen Malata Liger 81G Smb-E1002 Smb-E8001",
          "Id: Sony Mobile Comm. Xperia E3",
          "Id: Tcl Communicatio. Blackberry Bba100-2",
          "Id: Huawei Was-Tl10",
          "Id: Umi Network Tech. One",
          "Id: Oppo Pbam00",
          "Id: Leagoo Intl Co. . Leagoo Lead 6 Lead 5 Lead 7",
          "Id: Apple iPad 2 (A1396)",
          "Id: Samsung Galaxy Young (Gt-S5310)",
          "Id: Samsung Galaxy Note 2",
          "Id: Samsung Galaxy Note5 (A3Lsmn920P)",
          "Id: Nokia Rm-1090 Lumia 535 Dual Sim Microsoft Lumia 535 Dual Sim",
          "Id: Samsung Galaxy Ace 2 (Gt-I8160)",
          "Id: Microsoft Mobile. Microsoft Rm-1089 Microsoft Lumia 535",
          "Id: Wistron Wnc D18Qx",
          "Id: Kenxinda V7",
          "Id: Lg-H410",
          "Id: Xiaomi Communica. M1901F7G",
          "Id: Samsung Galaxy J1 Mini (Sm-J105X)",
          "Id: Sony Mobile Comm. Sony Xperia Z1 Compact (D5503)",
          "Id: Wiko Global Sasu View Max",
          "Id: Samsung Sm-G350",
          "Id: Huawei Y635",
          "Id: Hmd Global Oy Ta-1080",
          "Id: Samsung Galaxy Note (Gt-N7000)",
          "Id: Sony Mobile Comm. Xperia T3",
          "Id: Wiko Global Sasu Wiko Iggy",
          "Id: Infinix Technolo. Infinix Hot Note",
          "Id: D-Link Corporati. Dwr-932",
          "Id: Archos Sa 55 Cobalt + Bush Spira B3 5.5",
          "Id: Wiko Global Sasu Wiko Rainbow Up 4G",
          "Id: Wiko Global Sasu Wiko Pulp Fab 4G",
          "Id: Infinix Technolo. X511",
          "Id: Samsung Gt-I8260",
          "Id: Huawei Dli-Al10",
          "Id: Nokia 800 Nokia 800",
          "Id: Wiko Global Sasu Sunny3",
          "Id: Lenovo Moto C",
          "Id: Microsoft Mobile. Microsoft Rm-1099 Microsoft Lumia 435 Dual Sim",
          "Id: Rim Blackberry Rhd131Lw (Str100-1)",
          "Id: Nokia Rm-1038 Nokia Lumia 735",
          "Id: Tcl Communicatio. U3 3G",
          "Id: Sony Mobile Comm. Sony C1505 - Xperia E",
          "Id: Tinno Mobile Tec. Tinno S9201",
          "Id: Qingdao Hisense. Hisense F20",
          "Id: Umi Network Tech. Z2",
          "Id: Samsung Galaxy Trend Lite 2 (Sm-G318X)",
          "Id: Zte Blade V8 Lite Blade V8 Lite Zte Blade V8 Se",
          "Id: Sfr Startrail 6",
          "Id: Huawei Y5",
          "Id: Shenzhen Jeko Co. Blackview S8",
          "Id: Tcl Communicatio. Pixi 4 6 4G Android",
          "Id: Archos Sa Archos 50C Platinum",
          "Id: Huawei Ascend Y330",
          "Id: Avenir Telecom Pm550S",
          "Id: Logicom Sa Logicom Le Moov",
          "Id: Sony Mobile Comm. Xperia M4 Aqua Dual",
          "Id: Ddm Brands Llc Andy 5Ei3",
          "Id: Neel Enterprise Kolor Crosscall Odyssey",
          "Id: Microsoft Mobile. Nokia Lumia 530 Dual Sim Rm-1019",
          "Id: Microsoft Mobile. Rm-1065 Lumia 640 Xl Lte Dual Sim",
          "Id: Wiko Global Sasu Wiko Goa",
          "Id: Doro Ab Doro 8030 Doro 8028 Doro 8031",
          "Id: Shenzhen Huadoo. Huadoo Hg03",
          "Id: Samsung Galaxy S2 (Gt-I9100)",
          "Id: Htc 2Q55100",
          "Id: Kenxinda Victor Vm-66 N6000 K6",
          "Id: Samsung Galaxy Trend Lite (Gt-S7390)",
          "Id: Kvd Internationa. Doogee X5 Max Pro",
          "Id: Lemobile Informa. Lex622",
          "Id: Microsoft Mobile. Rm-1154 Microsoft Lumia 650 Dual Sim",
          "Id: Archos Sa Core 50 4G(L)",
          "Id: Lemobile Informa. Lex626",
          "Id: Samsung Galaxy J2 (Sm-J200X)",
          "Id: Shenzhen Jeko Co. Blackview Bv6000",
          "Id: Samsung Galaxy S3 Mini (Gt-I8190)",
          "Id: Apple iPhone 6S Plus (A1699)",
          "Id: Huawei Y6 Pro 2017 Huawei P9 Lite Mini",
          "Id: Sony Mobile Comm. Pm-0951-Bv",
          "Id: Zyxel Communicat. Zyxel Wah7706",
          "Id: Lg Optimus L5 Ii",
          "Id: Huawei G535-L11",
          "Id: Tct Mobile Suzho. Alcatel One Touch 6030X",
          "Id: Nokia 620 Lumia 620 Nokia 620",
          "Id: Oppo Cph1821",
          "Id: Nokia Rm-998 525 Lumia 525 Nokia 525",
          "Id: Lenovo Moto G (5Th Gen) Da12936945",
          "Id: Nokia Lumia 635 Rm-974",
          "Id: Qingdao Hisense. Cmb510",
          "Id: Huawei Vns-Al00",
          "Id: Nokia 520 Lumia 520 Nokia 520",
          "Id: Shenzhen Jeko Co. Blackview P10000Pro",
          "Id: Apple iPhone 4S (A1387)",
          "Id: Oppo Pacm00",
          "Id: Logicom Sa Logicom B Bot 50",
          "Id: Lenovo Motorola Moto G (2Nd Generation) Xt1068 Ti12402545",
          "Id: Lg-H791F",
          "Id: Tct Mobile Suzho. Alcatel One Touch Y580D",
          "Id: Sfr Altice S11",
          "Id: Infinix Technolo. Hot 6",
          "Id: Nokia Lumia 630 Dual Sim Rm-978",
          "Id: Samsung Galaxy J1 (Sm-J100X)",
          "Id: Tcl Communicatio. Alcatel 3V",
          "Id: Qingdao Hisense. Hs-U609 Hisense I500U Hisense E260U Hs-U607 Hs-U980 Pure 1 Eco",
          "Id: Tcl Communicatio. Alcatel Onetouch Pixi 3 (3.5) 4009D",
          "Id: Huawei Y7 Prime 2018 Huawei Y7 Pro 2018",
          "Id: Blu Products Inc Blu Studio C 5+5",
          "Id: Lg-K430Ds",
          "Id: Microsoft Mobile. Rm-1089 Microsoft Lumia 535",
          "Id: Fully Holdings (. K10",
          "Id: Zte Racer Iii Mini Zte Switch X1 Bouygues Telecom Bs 402 Blade Q Mini Zte Blade G Pro",
          "Id: Huawei Me909S-120",
          "Id: Kvd Internationa. Doogee X10",
          "Id: Tcl Communicatio. Nura 2",
          "Id: Xiaomi Communica. Redmi 4A",
          "Id: Nokia Rm-1017 530 Lumia 530",
          "Id: Apple iPad Mini (A1600)",
          "Id: Logicom Sa L-Ement 553",
          "Id: Lenovo Moto Z Force (2Nd Gen) Ge12072245",
          "Id: Dn Electronics Surnaturel R500",
          "Id: Tcl Communicatio. B-Luna",
          "Id: Sony Ericsson Lt15I (Aad-3880097-Bv)",
          "Id: Lenovo Moto E (3Rd Gen) Ta12892945",
          "Id: Sony Ericsson Lt18I",
          "Id: Apple iPhone 4 (A1332)",
          "Id: Samsung Galaxy S3 Mini Ve(Gt-I8200X)",
          "Id: Maysun Info Tech. M5026",
          "Id: Lg-X210",
          "Id: Meizu Technology. M5C",
          "Id: Sonaki Corporati. Crown Japan Cr-Mp3019",
          "Id: Bullitt Group Li. S41",
          "Id: Asustek Asus Zb555Kl Zenfone Max M1",
          "Id: Huawei Y3",
          "Id: Tcl Communicatio. Alcatel Onetouch Pixi 3 (4)",
          "Id: Microsoft Mobile. Nokia Lumia 635 Rm-974",
          "Id: Sony Mobile Comm. Xperia E4G",
          "Id: Samsung Galaxy Ace 3 (Gt-S7275)",
          "Id: Samsung Galaxy Trend (Gt-S7560)",
          "Id: Nokia Lumia 1020",
          "Id: Microsoft Mobile. Rm-1116 Microsoft Lumia 950 Xl",
          "Id: Doro Ab Doro Liberto 822 Doro 8031",
          "Id: Tcl Communicatio. Alcatel Pixi 4 (4) 4034X",
          "Id: Lenovo Lenovo K50-T3S",
          "Id: Concox Informati. Jh09",
          "Id: Htc U11",
          "Id: Acer Liquid Zest Plus",
          "Id: Xiaomi Communica. B3",
          "Id: Zte Axon 6S Zte Axon 7 Axon 7",
          "Id: Samsung Galaxy Ace (Gt-S5830)",
          "Id: Lg V20",
          "Id: Sony Mobile Comm. Pm-0953-Bv",
          "Id: Samsung Sm-G110H",
          "Id: Doro Ab Doro 8040",
          "Id: Yota Devices Yota Y3",
          "Id: Microsoft Mobile. Rm-1090 Microsoft Lumia 535 Dual Sim",
          "Id: Apple iPad Mini (A1455)",
          "Id: Lg K10 2017",
          "Id: Vastking Technol. Vastking M750",
          "Id: Quanta 1Kg",
          "Id: Xiaomi Communica. A1",
          "Id: Samsung Galaxy S (Gt-I9000)",
          "Id: Kvd Internationa. Doogee S30",
          "Id: Doro Ab Doro Liberto 820",
          "Id: Sony Ericsson St25I Xperia U",
          "Id: Lenovo Lenovo A588T",
          "Id: Samsung Galaxy J3 (Sm-J327)",
          "Id: Samsung Galaxy Note 3 (Sm-N900X)",
          "Id: Kvd Internationa. Doogee X50",
          "Id: Crosscall Odyssey-S1",
          "Id: Qingdao Hisense. Staraddict 6",
          "Id: Samsung Galaxy On5 (Sm-G550X)",
          "Id: Nokia 820.1 Lumia 820",
          "Id: Shenzhen Xin Kin. V18H",
          "Id: Samsung Galaxy Mini (Gt-S5570)",
          "Id: Lg Leon",
          "Id: Kapsys Smartvision Kapsys Smartvision By Kapsys Smartconnect",
          "Id: Archos Sa Diamond S",
          "Id: Nokia Rm-976 Lumia 630",
          "Id: Logicom Sa Logicom Id Bot 53+",
          "Id: Samsung Galaxy Tab A2 Xl",
          "Id: Htc Desire C",
          "Id: Zte Blade A2 Plus Zte Blade A610 Plus",
          "Id: Nokia Rm-941 625 Lumia 625",
          "Id: Qingdao Hisense. Starxtrem 6",
          "Id: Zebra Technologi. Mc659B",
          "Id: Lg-As330",
          "Id: Samsung Galaxy J1 Pop (Sm-J110X)",
          "Id: Dg Homtom Group. Homtom Ht16",
          "Id: Nokia Rm-914 520 Lumia 520 Nokia 520",
          "Id: Microsoft Mobile. Nokia Lumia 630 Dual Sim Rm-978",
          "Id: Nokia 625 Lumia 625",
          "Id: Lg Lm-X410Eow",
          "Id: Microsoft Mobile. Nokia Rm-974 Nokia Lumia 635",
          "Id: Wiko Global Sasu Wiko Darkmoon Slide",
          "Id: Tcl Communicatio. Alcatel Onetouch Pixi 3 (3.5) 4009X",
          "Id: Pacific Co (Bd). Nexus Nx14 Nx15 Nx65 Nx66 Nx8",
          "Id: Apple iPhone 3Gs (A1303)",
          "Id: Lenovo Moto E (4Th Gen)",
          "Id: Archos Sa Access 50 4G",
          "Id: Samsung Metro 350",
          "Id: Oppo Cph1729",
          "Id: Microsoft Mobile. Rm-1011 Nokia 225 Dual Sim",
          "Id: Power Idea Techn. Rg730 Md501 D1",
          "Id: Lg G2",
          "Id: Sony Mobile Comm. Xperia M2 Dual",
          "Id: Zebra Technologi. Mc67Na",
          "Id: Microsoft Mobile. Nokia Lumia 630 Rm-976",
          "Id: Hmd Global Oy Nokia 3 Ds",
          "Id: Nokia Rm-1045 Lumia 930 Nokia 930",
          "Id: Microsoft Mobile. Microsoft Rm-1090 Microsoft Lumia 535 Dual Sim",
          "Id: Acer Liquid Z220",
          "Id: Hmd Global Oy Nokia 1",
          "Id: Acer Zx Z130",
          "Id: Mikrotikls Sia R11E-Lte",
          "Id: Samsung Gt-S5690",
          "Id: Microsoft Mobile. Microsoft Rm-1071 Microsoft Lumia 435",
          "Id: Wiko Global Sasu Rainbow Jam 4G",
          "Id: Nokia Rm-1019 Lumia 530 Dual Sim",
          "Id: Lenovo Motorola Razr I Sm12334645 M0D12 Xt890",
          "Id: Tp-Link Technolo. C7 Y7",
          "Id: Samsung Gt-I9105P",
          "Id: Zte Blade A506 Blade A506 Dive 71 Orange Dive 71 D52 Lite",
          "Id: Shenzhen Diadem. Liquid Z6",
          "Id: Tct Mobile Suzho. Alcatel Onetouch Pop S7",
          "Id: Wiko Global Sasu Wiko Highway 4G",
          "Id: Apple iPhone 5S (A1528)",
          "Id: Tecno Telecom (H. C9",
          "Id: Acer M310",
          "Id: Adar Stanley Mobile S231",
          "Id: Tct Mobile Suzho. Alcatel One Touch 6010X",
          "Id: Logicom Sa Id Bot 54",
          "Id: Lg Lg-X145",
          "Id: Samsung Galaxy Xcover 2 Gt-S7710",
          "Id: Ck Telecom Limit. M1",
          "Id: Lg Ck",
          "Id: Logicom Sa Le Lift",
          "Id: Huawei Nexus 6P",
          "Id: Pt. Arga Mas Les. Advan S35D",
          "Id: Telit Ul865-Eur",
          "Id: Logicom Sa Logicom Id Bot 553+",
          "Id: Zte Blade A452 Blade A452",
          "Id: Samsung Galaxy Ace (Gt-S5839I)",
          "Id: Nokia Rm-1089 Lumia 535 Microsoft Lumia 535",
          "Id: Samsung Gt-B3210C",
          "Id: Acer Liquid Z630",
          "Id: Sony Mobile Comm. Sony Xperia Z1 (C6903)",
          "Id: Nokia Lumia 520 Nokia 520",
          "Id: Qingdao Hisense. Hisense L830",
          "Id: Kvd Internationa. Doogee X30",
          "Id: Lenovo A6020A40",
          "Id: Tct Mobile Suzho. Alcatel Onetouch Pop C2",
          "Id: Hong Kong Frog I. A10",
          "Id: Ddm Brands Llc Andy 4Ei2",
          "Id: Rim Blackberry Sta100-2 Z30 Rfw121Lw",
          "Id: Xiaomi Communica. H3A",
          "Id: Hmd Global Oy Ta-1003",
          "Id: Logicom Sa L-Ement 400",
          "Id: Tecno Telecom (H. It1506",
          "Id: Huawei Lld-Al10",
          "Id: Lg Lg-E610",
          "Id: Huawei Y6",
          "Id: Kvd Internationa. Doogee X5",
          "Id: Meizu Technology. Pro 5",
          "Id: Shenzhen Jeko Co. Blackview Bv5800",
          "Id: Kapsys Smartvision2 Smartconnect2",
          "Id: Archos Sa 50 Titanium 4G",
          "Id: Tinno Mobile Tec. Tinno S909X S930X S9311 P5003 P6001",
          "Id: Gemalto M2M Gmbh Cinterion Pls8-E",
          "Id: Huawei U8815",
          "Id: Itel Technology. S31",
          "Id: Htc Clic100",
          "Id: Qingdao Hisense. Hs-U606 Starshine 4 Hs-U961 U602 Hs-U601",
          "Id: Htc Pl80100",
          "Id: Lg Lg-P700",
          "Id: Nokia Test Imei",
          "Id: Sony Mobile Comm. Xperia M5 Dual",
          "Id: Acer Liquid Z530",
          "Id: Samsung Sm-T235",
          "Id: Huawei E180",
          "Id: Microsoft Mobile. Nokia Lumia 530 Rm-1017",
          "Id: Sonim Technologi. Sonim Xp7",
          "Id: Sony Ericsson St17I",
          "Id: Lg Optimus L3 Lg-E400",
          "Id: Nokia X",
          "Id: Nokia 610 Nokia 610",
          "Id: Maysun Info Tech. Maysunm Mid5702",
          "Id: Microsoft Mobile. Rm-1118 Microsoft Lumia 950",
          "Id: Ddm Brands Llc Yezz Andy A6M",
          "Id: Zte Blade A506 Blade A506",
          "Id: Apple iPhone 4S (A1431)",
          "Id: Tcl Communicatio. Alcatel Onetouch Pop 3 (5.5)",
          "Id: Power Idea Techn. Rg310",
          "Id: Samsung Galaxy Note 8 (Sm-N9500)",
          "Id: Sony Ericsson St25I - Xperia U",
          "Id: Shenzhen Kelly T. Kliton Kailitong F168",
          "Id: Source (Hk) Ltd J-Max Zara-Zara",
          "Id: Dynamic Tech Hol. D-Mobile I3 I5 I7 I8 I9",
          "Id: Samsung Galaxy Pocket Gt-S5301",
          "Id: Wiko Global Sasu Wiko Lenny",
          "Id: Htc Windows Phone 8S By Htc",
          "Id: Huawei Lld-Al30",
          "Id: Htc Desire X",
          "Id: Cisco Systems In. Cisco Mc7304",
          "Id: Samsung Gt-I8700",
          "Id: Huawei E3372",
          "Id: D-Link Corporati. Dwr-953",
          "Id: Wiko Global Sasu Wiko Ridge 4G",
          "Id: Huawei Pra-Al00X",
          "Id: Logicom Sa Logicom Power Bot",
          "Id: Samsung Gt-I9003",
          "Id: Lenovo Moto E Plus (4Th Gen)",
          "Id: Telit Le910-Eu V2",
          "Id: Intermec Technol. Series 70 (Cn70 1000Cp01U) (Cn70E 1000Cp02U) (Ck70 1001Cp01U)",
          "Id: Rim Blackberry Passport Sqw100-1 Rgy181Lw",
          "Id: Samsung Galaxy S4 (Sgh-I337M)",
          "Id: Zte Mf259",
          "Id: Nokia 920.1 Lumia 920",
          "Id: Ddm Brands Llc Andy 5El Lte",
          "Id: Samsung Gt-C3590",
          "Id: Mptech Hammer Energy 18X9",
          "Id: Lenovo Moto X (4Th Gen) Ib12266545",
          "Id: Maysun Info Tech. M5046",
          "Id: Haier Hw-W717 Hw-W816 Hw-W870",
          "Id: Kiwip Technologi. Montre Telephone Connectee Kiwip",
          "Id: Archos Sa 50 Cesium",
          "Id: Apple iPhone X (A1902)",
          "Id: Asustek Asus Zc550Tl",
          "Id: Shenzhen Jeko Co. Blackview A20 Pro",
          "Id: Huawei Mate 9 Pro Porsche Design Huawei Mate 9",
          "Id: Zebra Technologi. Mc5574",
          "Id: Apple iPhone 8 Plus (A1898)",
          "Id: Tct Mobile Suzho. Alcatel Onetouch Pop S3",
          "Id: Power Idea Techn. Rg160",
          "Id: Archos Sa Archos 40 Helium",
          "Id: Huawei Dub-Lx1",
          "Id: Shenzhen Guowei. V6304",
          "Id: Gotron (Hk) Elec. Power 5",
          "Id: Sony Mobile Comm. Pm-1201-Bv",
          "Id: Hongkong Ipro Te. Ipro I9350 I9400 S3 Wave 3.5 Wave 4.0",
          "Id: Sentar Wireless. Sentar V80",
          "Id: Huawei Chc-U01",
          "Id: Sfr Starxtrem5",
          "Id: Lemobile Informa. Lex720",
          "Id: Power Idea Techn. Ruggear Rg230 Ruggear Rg500 I.Safe Innovation2.0",
          "Id: Hmd Global Oy Nokia 8110 4G Ds",
          "Id: Tianyu K-Touch M7",
          "Id: Tcl Communicatio. A3 Xl",
          "Id: Huawei Fig-La1",
          "Id: Sony Ericsson Mt27I - Xperia Sola",
          "Id: Lenovo Moto G (2Nd Generation) Xt1064 Ti12402745",
          "Id: Huawei Stf-Al10",
          "Id: Huawei Evr-L29",
          "Id: Samsung Galaxy Y (Gt-S5369)",
          "Id: Rim 9000 (At&T)",
          "Id: Gemalto M2M Gmbh Eu3-E",
          "Id: Samsung Galaxy Y (Gt-S5360)",
          "Id: Apple iPhone Xs (A2098)",
          "Id: Tct Mobile Suzho. Alcatel One Touch Pop C1 Alcatel One Touch Pop C1 Alcatel One Touch Pixi2",
          "Id: Sony Ericsson Lt15I",
          "Id: Hmd Global Oy Ta-1006",
          "Id: Wileyfox Europe. Wileyfox Spark",
          "Id: Archos Sa Archos Sense 50X",
          "Id: Apple iPhone 7 (A1780)",
          "Id: Huawei Porsche Design Huawei Mate Rs",
          "Id: Sierra Wireless Airprime Q2687",
          "Id: Sony Mobile Comm. Sony St21I Xperia Tipo",
          "Id: Doro Ab Doro 6520 Doro 6521",
          "Id: Rim Blackberry Sqc100-4 Rhg161Lw",
          "Id: Nokia Lumia 635 Rm-975",
          "Id: Telit Le910-Eug",
          "Id: Apple iPhone 8 Plus (A1899)",
          "Id: Hewlett-Packard Hp Elite X3",
          "Id: Huawei Bnd-Al10",
          "Id: Zte Zte Blade C2 Smartphone Android By Sfr Startrail 4 Zte Blade Flex T809 Zte T809",
          "Id: Huawei Ham-L09",
          "Id: Gemalto M2M Gmbh Cinterion Wireless Module Phs8-P",
          "Id: Sony Ericsson U20I (Aad-3880072-Bv)",
          "Id: Sony Ericsson Sk17I",
          "Id: Samsung Gt-B5510",
          "Id: Shenzhen Jeko Co. Blackview Bv5800 Pro",
          "Id: Samsung Gt-S6790N",
          "Id: Sierra Wireless Hilo3G 900",
          "Id: Tct Mobile Suzho. Alcatel One Touch 997",
          "Id: Rim Blackberry Rhm181Lw (Stv100-4)",
          "Id: Huawei U8825-1",
          "Id: Hmd Global Oy Nokia 3310 Ds 3G",
          "Id: Shenzhen Sprocom. Fly Iq4490",
          "Id: Wiko Global Sasu Wiko Kite",
          "Id: Vivo Mobile Comm. Vivo Vivo 1718",
          "Id: Logicom Sa Le Must",
          "Id: Doro Ab Doro Phoneeasy 632",
          "Id: Huawei Mu609",
          "Id: Wiko Global Sasu Wiko Wax",
          "Id: Doro Ab Doro 6530 Doro 6531",
          "Id: Samsung Gt-I5500",
          "Id: Shenzhen Kdi Com. D58",
          "Id: Samsung Gt-I5510",
          "Id: Gemalto M2M Gmbh Cinterion Ehs6",
          "Id: Samsung Gt-I5700",
          "Id: Samsung Gt-S5280",
          "Id: Tct Mobile Suzho. One Touch Idol S",
          "Id: Samsung Gt-S5660",
          "Id: Meizu Technology. Mx5 Pro",
          "Id: Hmd Global Oy Nokia 5 Ss",
          "Id: Lg Gt540",
          "Id: Samsung Galaxy Y",
          "Id: Nokia N8-00",
          "Id: Samsung Gt-I5800",
          "Id: Kazam Mobile Lim. Kazam Trooper 451",
          "Id: Nokia Rm-980 Nokia X",
          "Id: Quectel Wireless. Quectel M10",
          "Id: Samsung Galaxy Wave 2 (Gt-S8530)",
          "Id: Alif Communicati. Pulian Cm84",
          "Id: Lg Lg-D315",
          "Id: Gemalto M2M Gmbh Cinterion Ehs5-E",
          "Id: Option Nv Option Gtm661W Globesurfer Iii+",
          "Id: Shenzhen New Cha. Cb358",
          "Id: Topwell Technolo. Topwell M318A",
          "Id: Kvd Internationa. Doogee S55",
          "Id: Hmd Global Oy Ta-1109",
          "Id: Shenzhen Yiqingt. Yqt1213",
          "Id: Vivo Mobile Comm. Vivo Vivo X21A",
          "Id: Simcom Wireless. Sim800H",
          "Id: Zte Axon M Zte Axon M Axon M Axon M",
          "Id: Gemalto M2M Gmbh Cinterion Bgs3",
          "Id: Simcom Wireless. Sim900",
          "Id: Spa Condor Elect. F6",
          "Id: Shenzhen Gaoxinq. Gaoxinqi Et110",
          "Id: Sony Ericsson St18I",
          "Id: Sony Ericsson E15I",
          "Id: Teletalk Pvt Ltd Colors F016",
          "Id: Sierra Wireless Hl6528Rd-2.8V",
          "Id: Samsung Galaxy Note 8 (Sm-N950U)",
          "Id: Simcom Wireless. Simcom Sim900",
          "Id: Oppo R11S",
          "Id: Samsung Galaxy Wave Y (Gt-S5380)",
          "Id: Concox Informati. Gt06",
          "Id: Samsung Gt-S6310N",
          "Id: Concox Informati. Gt06E Gt06F Gv20",
          "Id: Test IMEI",
          "Id: Concox Informati. Concox Gt06 Gt06N Tr06",
          "Id: Lg Lg-T385",
          "Id: Wct Uno"
         ],
         "xaxis": "x",
         "y": [
          127461.5,
          102032.5,
          79406.625,
          79107.5,
          78004.75,
          77737.625,
          71867.25,
          69760.25,
          64989.025,
          59667,
          52768.75,
          52768.75,
          52768.75,
          52768.75,
          52768.75,
          52768.75,
          52535.25,
          52531.25,
          52387.25,
          52357.25,
          52129.875,
          52060.25,
          52043.25,
          52021.25,
          51941.5,
          51906.25,
          51367.25,
          51204.25,
          51181.25,
          51066.25,
          50956.25,
          50863.25,
          50848.25,
          50571.25,
          50549.25,
          50541.25,
          50341.25,
          50330.875,
          49381,
          48805,
          47661,
          47493,
          47250.997883149874,
          47039.07142857143,
          45761.625,
          45669,
          45652.5625,
          45257,
          45143,
          44772.5,
          44366,
          44355,
          44077.5,
          43448.5,
          42952,
          42767.78823993917,
          42597,
          42510.5,
          42352.10769230769,
          41687.583333333336,
          41541.375,
          41299.125,
          41016.125,
          40877,
          40810.416666666664,
          40706,
          40242,
          40066,
          39625,
          39558,
          39342.65,
          39214,
          39099.01136363636,
          39001,
          38904,
          38487.333333333336,
          38276,
          38041.5,
          37616.16176470588,
          37603,
          37551.916666666664,
          37337.25,
          36880.25,
          36540.833333333336,
          36453.875,
          36382.833333333336,
          36370.625,
          36186.142857142855,
          35918.125,
          35814,
          35803.5,
          35768,
          35715.75,
          35652.5625,
          35640.5,
          35636,
          35599.75,
          35521.5,
          35210.333333333336,
          35137.578125,
          35128.375,
          34922,
          34863.625,
          34694.166666666664,
          34622.083333333336,
          34212.5,
          33929.416666666664,
          33630.625,
          33534.75,
          33294.3125,
          33228.5,
          33165.8125,
          32977,
          32884.75,
          32804.45,
          32459,
          32303.533251231525,
          32255.333333333332,
          32239.625,
          32068,
          32023,
          31842,
          31841,
          31678.272727272728,
          31631.5,
          31622.933333333334,
          31566,
          31440,
          31362,
          31313.5,
          31017.2,
          30820.638157894737,
          30538.8125,
          30424,
          30242.5,
          30232.666666666668,
          30178.597345132745,
          30134.0625,
          30101,
          30067,
          29970.5,
          29558.583333333332,
          29428.25,
          29124.375,
          29089,
          28945.4375,
          28607.566666666666,
          28564.5,
          28559,
          28507.25,
          28416.5,
          28411,
          28252.375,
          28129.5,
          27924.375,
          27745.46875,
          27692.89285714286,
          27524.458333333332,
          27471.16447368421,
          27135.71629213483,
          27100.015625,
          27067.5,
          26956.9,
          26937.15,
          26892.11111111111,
          26892,
          26824,
          26814.875,
          26780,
          26692.5,
          26639.71875,
          26514,
          26431,
          26420,
          26394.848214285714,
          26375,
          26207.535714285714,
          26184.75,
          25845.45,
          25827.791666666668,
          25751,
          25680,
          25424,
          25378.5,
          25339,
          25296,
          25054.5,
          25025.126893939392,
          25002.25,
          24830.8,
          24722.583333333332,
          24694,
          24686.95,
          24641.375,
          24601.772727272728,
          24575,
          24553,
          24457.26219512195,
          24437.5,
          24407.75,
          24363.9,
          24315.45,
          24310,
          24267.90625,
          24256.25,
          24245.25,
          24242.825,
          24148.5625,
          24052.979166666668,
          23942,
          23873.2,
          23693.875,
          23612,
          23578.741071428572,
          23562.5625,
          23510,
          23414.1875,
          23397.625,
          23395,
          23352.25,
          23343.5,
          23259.333333333332,
          23164,
          23149.694444444445,
          23147.083333333332,
          23147,
          23106,
          23046.15625,
          22749.75,
          22729.25,
          22665.75,
          22623,
          22612.5,
          22575.5,
          22536.666666666668,
          22499.05,
          22473.41379310345,
          22366,
          22314.5,
          22276.25,
          22186.928571428572,
          22173,
          22114.708333333332,
          22107,
          22066,
          21902,
          21895.533333333333,
          21866.227272727272,
          21790.703703703704,
          21737.833333333332,
          21722.3125,
          21682,
          21650,
          21584.666666666668,
          21492,
          21404.666666666668,
          21373.464285714286,
          21358.383333333335,
          21256,
          21209.583333333332,
          21167.25,
          21094.8125,
          21024.6,
          20951.921875,
          20919.632352941175,
          20887.666666666668,
          20775.545454545456,
          20751.65,
          20713.5,
          20706.819444444445,
          20479.166666666668,
          20266.25,
          20254,
          20214.708333333332,
          20192,
          20156.734848484848,
          20119.5,
          20110,
          20091.46551724138,
          19874,
          19793.416666666668,
          19771.94230769231,
          19738.775,
          19596.05,
          19545.25,
          19543.106382978724,
          19520.98214285714,
          19517,
          19501.5,
          19450.5,
          19442,
          19431.8125,
          19350,
          19348.5,
          19340.158783783783,
          19340,
          19247,
          19240.9,
          19114.640625,
          19059.875,
          19046.96052631579,
          19044,
          18998,
          18937.666666666668,
          18901.25,
          18797.833333333332,
          18773.125,
          18743.55,
          18743.5,
          18736.434210526317,
          18691.295454545456,
          18676.196428571428,
          18673.583333333332,
          18618,
          18612.166666666668,
          18580.125,
          18561.45,
          18540,
          18486.98404255319,
          18414.79120879121,
          18406.375,
          18401.496710526317,
          18394.5,
          18369,
          18317.575,
          18308.23076923077,
          18307.083333333332,
          18274,
          18162.5,
          18147.678571428572,
          18098,
          18021.666666666668,
          17960.5,
          17914.25,
          17850.034090909092,
          17829.618613138686,
          17774,
          17765.5,
          17660.659090909092,
          17654.666666666668,
          17619.004237288136,
          17599,
          17575.730263157893,
          17572,
          17555.5,
          17507.60593220339,
          17485.511029411766,
          17474,
          17427,
          17398.875,
          17387.083333333332,
          17377,
          17368.103448275862,
          17333,
          17289.75,
          17202,
          17109.5,
          17051,
          17004.875,
          16999,
          16992,
          16960,
          16932.022727272728,
          16897,
          16873.119459833793,
          16872.666666666668,
          16831.264705882353,
          16803.9,
          16783,
          16782,
          16723.666666666668,
          16696.708333333332,
          16660.713701431494,
          16628,
          16601.0875,
          16490,
          16456.25,
          16400,
          16376.5,
          16247,
          16225.0775,
          16217.75,
          16141,
          16108.5,
          16100,
          16067.021739130434,
          16052.75,
          16046,
          16039.5,
          16030,
          16017.833333333334,
          16017,
          15991.25,
          15985.786764705883,
          15956.107142857143,
          15949.375,
          15934,
          15928,
          15916.90340909091,
          15853,
          15846.5,
          15831.25,
          15803.484681372549,
          15740.67535971223,
          15737.267441860466,
          15700.388888888889,
          15675,
          15636.5,
          15609.713709677419,
          15595.85,
          15585.92857142857,
          15566.5,
          15546.44642857143,
          15539,
          15526.245614035088,
          15514.413271604939,
          15509.675,
          15505,
          15498.5,
          15473.010869565218,
          15445.884615384615,
          15421.217741935483,
          15420.533333333333,
          15377.166666666666,
          15356.872881355932,
          15288,
          15285,
          15268.275,
          15253.692307692309,
          15238.953703703704,
          15225.319284603422,
          15203.875,
          15172,
          15152,
          15084.5,
          15073,
          15069,
          15061.039426523297,
          15050.125,
          15028.947916666666,
          15019.796875,
          14992.5,
          14976,
          14973.375,
          14957,
          14910.154605263158,
          14904,
          14863.463702359346,
          14758.958333333334,
          14625,
          14617.825,
          14578.85,
          14555.8,
          14524.113636363636,
          14523.248655913978,
          14508.5,
          14498.5,
          14487,
          14467,
          14462.666666666666,
          14452.636363636364,
          14410.51893939394,
          14397.5,
          14379,
          14374.75,
          14346.35,
          14217,
          14133,
          14107.158653846154,
          14106.86641025641,
          14066,
          14026,
          13980,
          13942,
          13941.5,
          13920.321584302326,
          13916.731514716439,
          13896.691950757575,
          13844.85,
          13762.055921052632,
          13719.05,
          13703,
          13690,
          13687.722222222223,
          13648,
          13573.95949074074,
          13570.5,
          13562,
          13526.721875,
          13522.05,
          13518,
          13471.75,
          13430,
          13427,
          13412.6875,
          13387.25,
          13349.9,
          13291.9375,
          13246.26,
          13219.809871495327,
          13216.5,
          13211.1,
          13190.739130434782,
          13165,
          13154.657894736842,
          13127.5,
          13088.412162162162,
          13073,
          13068.040549378678,
          13055.91544117647,
          12958.663471778487,
          12952,
          12864.5,
          12809.8125,
          12781,
          12778,
          12770.520695728754,
          12769,
          12716.5,
          12709.125,
          12663,
          12652.031568228105,
          12623.739573346116,
          12612.22619047619,
          12612.125,
          12607,
          12559.097222222223,
          12559,
          12546.40625,
          12455.25,
          12446.54676674365,
          12409,
          12403,
          12369.82743362832,
          12358.197916666666,
          12358.184523809523,
          12343,
          12332,
          12329.23076923077,
          12314,
          12283,
          12257.085843373494,
          12253.233333333334,
          12217.5,
          12178.5,
          12168.75,
          12132.416666666666,
          12114,
          12111.174295774648,
          12093.75892857143,
          12090,
          12078.25,
          11939.6,
          11914,
          11902,
          11898.333333333334,
          11866.83466819222,
          11862,
          11839.169811320755,
          11833.23213902596,
          11719.573113207547,
          11688,
          11686,
          11679.834302325582,
          11664.100409836066,
          11614.666666666666,
          11584.444444444445,
          11531.685393258427,
          11492.5,
          11469.5,
          11461,
          11457.45,
          11445.9,
          11408.6,
          11399.666666666666,
          11382.978773584906,
          11359,
          11315.807291666666,
          11294.440192743765,
          11283.3,
          11210.583188908146,
          11181,
          11093.403387533876,
          11049.044776119403,
          11021.57747603834,
          11009.611111111111,
          10962,
          10932,
          10905,
          10823.333333333334,
          10818,
          10796.025862068966,
          10723.721861471862,
          10722.166666666666,
          10699.5,
          10695.584388185654,
          10687,
          10685,
          10639,
          10591,
          10559.4375,
          10545.941860465116,
          10538,
          10528.666666666666,
          10497,
          10480,
          10479,
          10468.533132530121,
          10464,
          10447,
          10440,
          10425,
          10418,
          10417,
          10416.378547854785,
          10408,
          10384,
          10383.849462365592,
          10377.5,
          10351.930555555555,
          10328,
          10317,
          10315.5,
          10279.285714285714,
          10277,
          10269.5,
          10203,
          10177.666666666666,
          10151,
          10111.166666666666,
          10105.610119047618,
          10096,
          10056,
          10050.720528455284,
          9976.25,
          9933.20588235294,
          9911.683339531424,
          9907.781954887218,
          9887.3,
          9868,
          9785.972933643772,
          9779,
          9748,
          9741.863636363636,
          9719,
          9718,
          9680.959302325582,
          9674.7,
          9674,
          9650.71875,
          9600.75,
          9561.056640625,
          9546.00390625,
          9546,
          9526,
          9494.031565656565,
          9462.5,
          9460,
          9447,
          9442.75,
          9441.17857142857,
          9429.45652173913,
          9407.132,
          9389.292857142857,
          9388,
          9378,
          9343,
          9340.625,
          9314.833333333334,
          9313,
          9312.030092592593,
          9281,
          9278.354166666666,
          9275.841346153846,
          9253,
          9241.75,
          9237.281852506427,
          9231,
          9213,
          9212.888888888889,
          9206.1,
          9178.011904761905,
          9135.322222222223,
          9131.177777777777,
          9109.107196969697,
          9102,
          9095.691176470587,
          9090,
          9069.923076923076,
          9017.443181818182,
          8998,
          8977.934352517985,
          8977.75,
          8946,
          8937,
          8920.55,
          8901.5,
          8901,
          8897.5,
          8895,
          8894.761904761905,
          8881.75,
          8860,
          8756,
          8701.5,
          8687.375,
          8659.25,
          8639,
          8636,
          8629.9,
          8628.666666666666,
          8617.738095238095,
          8597.849206349207,
          8553.333333333334,
          8529.125,
          8503.884615384615,
          8498,
          8495,
          8491.65625,
          8485.733333333334,
          8457.19904174714,
          8452,
          8448.49593495935,
          8365.903846153846,
          8339,
          8287.47619047619,
          8213,
          8203.605807086615,
          8153.72,
          8131,
          8124.125,
          8107.375,
          8102.87323943662,
          8083.25,
          8071.166666666667,
          8028.181818181818,
          8022,
          8012,
          7926.013888888889,
          7926,
          7924.391666666666,
          7873,
          7854,
          7835.62573964497,
          7825,
          7821,
          7775.951986754967,
          7756,
          7652.5,
          7637.5,
          7633.5,
          7587.166666666667,
          7517,
          7511.007154213036,
          7499.2,
          7484.5,
          7448.987341772152,
          7438.9,
          7436,
          7423,
          7420.546568627451,
          7413.214285714285,
          7405,
          7399.166666666667,
          7394.5,
          7383.009259259259,
          7298.333333333333,
          7296.5,
          7285.8,
          7259,
          7253,
          7250,
          7233,
          7230.833333333333,
          7220.186224489796,
          7212.720316269097,
          7151.534926470588,
          7133.666666666667,
          7117.192307692308,
          7106.9,
          7095,
          7078.5,
          6985,
          6966,
          6955.5,
          6940,
          6919,
          6918.772413793104,
          6822.435761589404,
          6819,
          6818.647727272727,
          6789,
          6777,
          6768.136363636364,
          6762,
          6723.875,
          6709.98,
          6699,
          6698,
          6689,
          6639.75,
          6576,
          6480,
          6462,
          6398,
          6385,
          6383.357142857143,
          6314.333333333333,
          6302.666666666667,
          6285,
          6240,
          6213.599027237354,
          6198.18,
          6148.166666666667,
          6135.5,
          6134.083333333333,
          6122.642857142857,
          6116,
          6115,
          6096,
          6084.409090909091,
          6023.8,
          6012.318181818182,
          6010.4488188976375,
          5983,
          5954,
          5938.75,
          5867,
          5772.833333333333,
          5761,
          5732.5,
          5710.8125,
          5696.055555555556,
          5638,
          5604.8,
          5597,
          5580.571428571428,
          5547,
          5547,
          5533,
          5526.1,
          5508.25,
          5507.785714285715,
          5486.55,
          5441.2,
          5433,
          5432,
          5431,
          5415.5,
          5411.269301134284,
          5408.497023809524,
          5394.5,
          5372.535714285715,
          5359.866666666667,
          5350.742424242424,
          5316,
          5289,
          5273.607142857143,
          5229,
          5217,
          5196.666666666667,
          5144.704545454545,
          5121,
          5120.666666666667,
          5119.75,
          5043.75,
          5015,
          4991,
          4982,
          4927.666666666667,
          4910,
          4894,
          4871.75,
          4837,
          4780,
          4776,
          4774.25,
          4760,
          4733.5,
          4606,
          4591,
          4548,
          4535,
          4511.096153846154,
          4496,
          4427,
          4394.5,
          4352,
          4331,
          4316.4,
          4259.5,
          4244,
          4236,
          4236,
          4234,
          4167,
          4150.166666666667,
          4149,
          4137,
          4137,
          4101.5,
          4087,
          4066.3333333333335,
          4062,
          4059,
          4047,
          4039,
          4034.590909090909,
          4021,
          3936.5,
          3895.125,
          3884.5,
          3864.3382352941176,
          3853,
          3826.5714285714284,
          3808.1751179245284,
          3801,
          3777.3333333333335,
          3749.970588235294,
          3747,
          3743.25,
          3735,
          3712.5,
          3629,
          3623,
          3616,
          3603.75,
          3557,
          3536,
          3507,
          3481.5,
          3465.1,
          3455,
          3446,
          3384,
          3367,
          3357,
          3346.3333333333335,
          3319,
          3318.0714285714284,
          3246.5454545454545,
          3222.5714285714284,
          3201.4,
          3164.1666666666665,
          3159.777777777778,
          3087,
          3028,
          3012,
          2953.5,
          2946.6666666666665,
          2942.1363636363635,
          2940.5,
          2907,
          2891,
          2887,
          2849.307142857143,
          2813,
          2723,
          2720.5,
          2713.818181818182,
          2696.7051282051284,
          2687,
          2675,
          2656,
          2653,
          2645.75,
          2644,
          2633,
          2610.6,
          2605.6666666666665,
          2566.75,
          2532,
          2505.222222222222,
          2463.5,
          2447,
          2438.25,
          2438,
          2427,
          2423.2,
          2418.6,
          2406.4,
          2397,
          2393,
          2389.275,
          2357,
          2354,
          2316.6626506024095,
          2313,
          2299,
          2290.25,
          2259.125,
          2255,
          2240.5,
          2235,
          2204.0555555555557,
          2199.3571428571427,
          2191,
          2176,
          2173,
          2110.6666666666665,
          2104,
          2102,
          2043,
          2004,
          1937,
          1916,
          1883.142857142857,
          1880,
          1847,
          1825.5454545454545,
          1812,
          1795.488950276243,
          1788,
          1738,
          1737,
          1732,
          1710,
          1702.5,
          1676,
          1653,
          1647.4166666666667,
          1647,
          1640.6666666666667,
          1622,
          1606,
          1582,
          1581,
          1577,
          1558,
          1549,
          1548.5,
          1527.5,
          1524,
          1485,
          1484.5714285714287,
          1447,
          1434,
          1409,
          1400.6666666666667,
          1396,
          1390,
          1360,
          1334.8333333333333,
          1320.9798850574712,
          1320,
          1306,
          1305,
          1297,
          1286.6666666666667,
          1283,
          1276,
          1250,
          1247,
          1209.5416666666667,
          1198,
          1178.25,
          1171.1875,
          1163,
          1155,
          1153,
          1146,
          1141,
          1126,
          1102,
          1098.5,
          1082,
          1081,
          1076.2142857142858,
          1070,
          1064.5,
          1053.142857142857,
          1045,
          1018,
          1011.7,
          981,
          966,
          958,
          951,
          934,
          905.7142857142857,
          897,
          896,
          886,
          821,
          817,
          811,
          807,
          803.5,
          798,
          787,
          780,
          779,
          764.8,
          763,
          760,
          746,
          746,
          737,
          732,
          722.5,
          705,
          698,
          698,
          695.25,
          695,
          694.5,
          692,
          689,
          685,
          683,
          666,
          658.6,
          643,
          634,
          632.3333333333334,
          631.0555555555555,
          621,
          620,
          607,
          603,
          602,
          602,
          599,
          587,
          585,
          570.6666666666666,
          566,
          565,
          557,
          552,
          551,
          549,
          544,
          542,
          541,
          534.3333333333334,
          534,
          522,
          520,
          519,
          511,
          510,
          509,
          506,
          505,
          500,
          499.4,
          498,
          498,
          491,
          491,
          488,
          487,
          483,
          480,
          480,
          473,
          471,
          460,
          459,
          456.3529411764706,
          455.3333333333333,
          452,
          448,
          443.5,
          441.5,
          434,
          432,
          431,
          427,
          426.3333333333333,
          426,
          424,
          415,
          413,
          412,
          407,
          399.25,
          398.25,
          392,
          390,
          387,
          383,
          382.5,
          382.5,
          382,
          372.2,
          370,
          368,
          365,
          360,
          360,
          357,
          351,
          346,
          334,
          323,
          320,
          319,
          310,
          305,
          304,
          303,
          302.5,
          300,
          299,
          297,
          291,
          290,
          287,
          283,
          268,
          268,
          265,
          264,
          256.3333333333333,
          255,
          251.5,
          248.5,
          247,
          244,
          243,
          242,
          238.5,
          229,
          217,
          210,
          204,
          202.33333333333334,
          199,
          199,
          195,
          193.66666666666666,
          182,
          178.96875,
          176,
          168,
          164,
          163,
          156,
          153,
          152,
          148,
          148,
          137.5,
          132,
          124,
          119,
          118,
          115.2,
          113,
          112,
          110,
          106.4,
          105,
          104,
          104,
          103,
          97.5,
          92,
          92,
          91,
          86,
          85,
          84,
          83,
          83,
          83,
          81,
          79.5,
          78,
          77,
          77,
          77,
          76.70588235294117,
          76,
          75.5,
          75,
          74.77777777777777,
          74,
          73,
          73,
          73,
          71,
          71,
          66.5,
          66,
          65,
          63,
          63,
          61,
          60,
          58,
          57,
          57,
          56,
          54,
          53,
          51,
          51,
          50,
          49,
          49,
          49,
          48,
          48,
          48,
          47,
          46,
          46,
          46,
          45,
          44,
          44,
          42.6,
          42,
          40.5,
          40,
          38,
          38,
          36.5,
          34,
          29,
          28,
          27.333333333333332,
          27,
          26,
          26,
          25,
          24,
          23,
          22,
          21,
          21,
          20,
          19,
          17.25,
          14,
          14,
          12,
          11,
          8,
          8,
          8,
          7.666666666666667,
          7,
          7,
          7,
          7,
          6,
          5.5,
          5,
          5,
          5,
          4,
          3,
          2,
          2,
          2,
          2,
          0,
          0
         ],
         "yaxis": "y"
        }
       ],
       "layout": {
        "barmode": "relative",
        "legend": {
         "tracegroupgap": 0
        },
        "margin": {
         "t": 60
        },
        "template": {
         "data": {
          "bar": [
           {
            "error_x": {
             "color": "#2a3f5f"
            },
            "error_y": {
             "color": "#2a3f5f"
            },
            "marker": {
             "line": {
              "color": "#E5ECF6",
              "width": 0.5
             }
            },
            "type": "bar"
           }
          ],
          "barpolar": [
           {
            "marker": {
             "line": {
              "color": "#E5ECF6",
              "width": 0.5
             }
            },
            "type": "barpolar"
           }
          ],
          "carpet": [
           {
            "aaxis": {
             "endlinecolor": "#2a3f5f",
             "gridcolor": "white",
             "linecolor": "white",
             "minorgridcolor": "white",
             "startlinecolor": "#2a3f5f"
            },
            "baxis": {
             "endlinecolor": "#2a3f5f",
             "gridcolor": "white",
             "linecolor": "white",
             "minorgridcolor": "white",
             "startlinecolor": "#2a3f5f"
            },
            "type": "carpet"
           }
          ],
          "choropleth": [
           {
            "colorbar": {
             "outlinewidth": 0,
             "ticks": ""
            },
            "type": "choropleth"
           }
          ],
          "contour": [
           {
            "colorbar": {
             "outlinewidth": 0,
             "ticks": ""
            },
            "colorscale": [
             [
              0,
              "#0d0887"
             ],
             [
              0.1111111111111111,
              "#46039f"
             ],
             [
              0.2222222222222222,
              "#7201a8"
             ],
             [
              0.3333333333333333,
              "#9c179e"
             ],
             [
              0.4444444444444444,
              "#bd3786"
             ],
             [
              0.5555555555555556,
              "#d8576b"
             ],
             [
              0.6666666666666666,
              "#ed7953"
             ],
             [
              0.7777777777777778,
              "#fb9f3a"
             ],
             [
              0.8888888888888888,
              "#fdca26"
             ],
             [
              1,
              "#f0f921"
             ]
            ],
            "type": "contour"
           }
          ],
          "contourcarpet": [
           {
            "colorbar": {
             "outlinewidth": 0,
             "ticks": ""
            },
            "type": "contourcarpet"
           }
          ],
          "heatmap": [
           {
            "colorbar": {
             "outlinewidth": 0,
             "ticks": ""
            },
            "colorscale": [
             [
              0,
              "#0d0887"
             ],
             [
              0.1111111111111111,
              "#46039f"
             ],
             [
              0.2222222222222222,
              "#7201a8"
             ],
             [
              0.3333333333333333,
              "#9c179e"
             ],
             [
              0.4444444444444444,
              "#bd3786"
             ],
             [
              0.5555555555555556,
              "#d8576b"
             ],
             [
              0.6666666666666666,
              "#ed7953"
             ],
             [
              0.7777777777777778,
              "#fb9f3a"
             ],
             [
              0.8888888888888888,
              "#fdca26"
             ],
             [
              1,
              "#f0f921"
             ]
            ],
            "type": "heatmap"
           }
          ],
          "heatmapgl": [
           {
            "colorbar": {
             "outlinewidth": 0,
             "ticks": ""
            },
            "colorscale": [
             [
              0,
              "#0d0887"
             ],
             [
              0.1111111111111111,
              "#46039f"
             ],
             [
              0.2222222222222222,
              "#7201a8"
             ],
             [
              0.3333333333333333,
              "#9c179e"
             ],
             [
              0.4444444444444444,
              "#bd3786"
             ],
             [
              0.5555555555555556,
              "#d8576b"
             ],
             [
              0.6666666666666666,
              "#ed7953"
             ],
             [
              0.7777777777777778,
              "#fb9f3a"
             ],
             [
              0.8888888888888888,
              "#fdca26"
             ],
             [
              1,
              "#f0f921"
             ]
            ],
            "type": "heatmapgl"
           }
          ],
          "histogram": [
           {
            "marker": {
             "colorbar": {
              "outlinewidth": 0,
              "ticks": ""
             }
            },
            "type": "histogram"
           }
          ],
          "histogram2d": [
           {
            "colorbar": {
             "outlinewidth": 0,
             "ticks": ""
            },
            "colorscale": [
             [
              0,
              "#0d0887"
             ],
             [
              0.1111111111111111,
              "#46039f"
             ],
             [
              0.2222222222222222,
              "#7201a8"
             ],
             [
              0.3333333333333333,
              "#9c179e"
             ],
             [
              0.4444444444444444,
              "#bd3786"
             ],
             [
              0.5555555555555556,
              "#d8576b"
             ],
             [
              0.6666666666666666,
              "#ed7953"
             ],
             [
              0.7777777777777778,
              "#fb9f3a"
             ],
             [
              0.8888888888888888,
              "#fdca26"
             ],
             [
              1,
              "#f0f921"
             ]
            ],
            "type": "histogram2d"
           }
          ],
          "histogram2dcontour": [
           {
            "colorbar": {
             "outlinewidth": 0,
             "ticks": ""
            },
            "colorscale": [
             [
              0,
              "#0d0887"
             ],
             [
              0.1111111111111111,
              "#46039f"
             ],
             [
              0.2222222222222222,
              "#7201a8"
             ],
             [
              0.3333333333333333,
              "#9c179e"
             ],
             [
              0.4444444444444444,
              "#bd3786"
             ],
             [
              0.5555555555555556,
              "#d8576b"
             ],
             [
              0.6666666666666666,
              "#ed7953"
             ],
             [
              0.7777777777777778,
              "#fb9f3a"
             ],
             [
              0.8888888888888888,
              "#fdca26"
             ],
             [
              1,
              "#f0f921"
             ]
            ],
            "type": "histogram2dcontour"
           }
          ],
          "mesh3d": [
           {
            "colorbar": {
             "outlinewidth": 0,
             "ticks": ""
            },
            "type": "mesh3d"
           }
          ],
          "parcoords": [
           {
            "line": {
             "colorbar": {
              "outlinewidth": 0,
              "ticks": ""
             }
            },
            "type": "parcoords"
           }
          ],
          "pie": [
           {
            "automargin": true,
            "type": "pie"
           }
          ],
          "scatter": [
           {
            "marker": {
             "colorbar": {
              "outlinewidth": 0,
              "ticks": ""
             }
            },
            "type": "scatter"
           }
          ],
          "scatter3d": [
           {
            "line": {
             "colorbar": {
              "outlinewidth": 0,
              "ticks": ""
             }
            },
            "marker": {
             "colorbar": {
              "outlinewidth": 0,
              "ticks": ""
             }
            },
            "type": "scatter3d"
           }
          ],
          "scattercarpet": [
           {
            "marker": {
             "colorbar": {
              "outlinewidth": 0,
              "ticks": ""
             }
            },
            "type": "scattercarpet"
           }
          ],
          "scattergeo": [
           {
            "marker": {
             "colorbar": {
              "outlinewidth": 0,
              "ticks": ""
             }
            },
            "type": "scattergeo"
           }
          ],
          "scattergl": [
           {
            "marker": {
             "colorbar": {
              "outlinewidth": 0,
              "ticks": ""
             }
            },
            "type": "scattergl"
           }
          ],
          "scattermapbox": [
           {
            "marker": {
             "colorbar": {
              "outlinewidth": 0,
              "ticks": ""
             }
            },
            "type": "scattermapbox"
           }
          ],
          "scatterpolar": [
           {
            "marker": {
             "colorbar": {
              "outlinewidth": 0,
              "ticks": ""
             }
            },
            "type": "scatterpolar"
           }
          ],
          "scatterpolargl": [
           {
            "marker": {
             "colorbar": {
              "outlinewidth": 0,
              "ticks": ""
             }
            },
            "type": "scatterpolargl"
           }
          ],
          "scatterternary": [
           {
            "marker": {
             "colorbar": {
              "outlinewidth": 0,
              "ticks": ""
             }
            },
            "type": "scatterternary"
           }
          ],
          "surface": [
           {
            "colorbar": {
             "outlinewidth": 0,
             "ticks": ""
            },
            "colorscale": [
             [
              0,
              "#0d0887"
             ],
             [
              0.1111111111111111,
              "#46039f"
             ],
             [
              0.2222222222222222,
              "#7201a8"
             ],
             [
              0.3333333333333333,
              "#9c179e"
             ],
             [
              0.4444444444444444,
              "#bd3786"
             ],
             [
              0.5555555555555556,
              "#d8576b"
             ],
             [
              0.6666666666666666,
              "#ed7953"
             ],
             [
              0.7777777777777778,
              "#fb9f3a"
             ],
             [
              0.8888888888888888,
              "#fdca26"
             ],
             [
              1,
              "#f0f921"
             ]
            ],
            "type": "surface"
           }
          ],
          "table": [
           {
            "cells": {
             "fill": {
              "color": "#EBF0F8"
             },
             "line": {
              "color": "white"
             }
            },
            "header": {
             "fill": {
              "color": "#C8D4E3"
             },
             "line": {
              "color": "white"
             }
            },
            "type": "table"
           }
          ]
         },
         "layout": {
          "annotationdefaults": {
           "arrowcolor": "#2a3f5f",
           "arrowhead": 0,
           "arrowwidth": 1
          },
          "autotypenumbers": "strict",
          "coloraxis": {
           "colorbar": {
            "outlinewidth": 0,
            "ticks": ""
           }
          },
          "colorscale": {
           "diverging": [
            [
             0,
             "#8e0152"
            ],
            [
             0.1,
             "#c51b7d"
            ],
            [
             0.2,
             "#de77ae"
            ],
            [
             0.3,
             "#f1b6da"
            ],
            [
             0.4,
             "#fde0ef"
            ],
            [
             0.5,
             "#f7f7f7"
            ],
            [
             0.6,
             "#e6f5d0"
            ],
            [
             0.7,
             "#b8e186"
            ],
            [
             0.8,
             "#7fbc41"
            ],
            [
             0.9,
             "#4d9221"
            ],
            [
             1,
             "#276419"
            ]
           ],
           "sequential": [
            [
             0,
             "#0d0887"
            ],
            [
             0.1111111111111111,
             "#46039f"
            ],
            [
             0.2222222222222222,
             "#7201a8"
            ],
            [
             0.3333333333333333,
             "#9c179e"
            ],
            [
             0.4444444444444444,
             "#bd3786"
            ],
            [
             0.5555555555555556,
             "#d8576b"
            ],
            [
             0.6666666666666666,
             "#ed7953"
            ],
            [
             0.7777777777777778,
             "#fb9f3a"
            ],
            [
             0.8888888888888888,
             "#fdca26"
            ],
            [
             1,
             "#f0f921"
            ]
           ],
           "sequentialminus": [
            [
             0,
             "#0d0887"
            ],
            [
             0.1111111111111111,
             "#46039f"
            ],
            [
             0.2222222222222222,
             "#7201a8"
            ],
            [
             0.3333333333333333,
             "#9c179e"
            ],
            [
             0.4444444444444444,
             "#bd3786"
            ],
            [
             0.5555555555555556,
             "#d8576b"
            ],
            [
             0.6666666666666666,
             "#ed7953"
            ],
            [
             0.7777777777777778,
             "#fb9f3a"
            ],
            [
             0.8888888888888888,
             "#fdca26"
            ],
            [
             1,
             "#f0f921"
            ]
           ]
          },
          "colorway": [
           "#636efa",
           "#EF553B",
           "#00cc96",
           "#ab63fa",
           "#FFA15A",
           "#19d3f3",
           "#FF6692",
           "#B6E880",
           "#FF97FF",
           "#FECB52"
          ],
          "font": {
           "color": "#2a3f5f"
          },
          "geo": {
           "bgcolor": "white",
           "lakecolor": "white",
           "landcolor": "#E5ECF6",
           "showlakes": true,
           "showland": true,
           "subunitcolor": "white"
          },
          "hoverlabel": {
           "align": "left"
          },
          "hovermode": "closest",
          "mapbox": {
           "style": "light"
          },
          "paper_bgcolor": "white",
          "plot_bgcolor": "#E5ECF6",
          "polar": {
           "angularaxis": {
            "gridcolor": "white",
            "linecolor": "white",
            "ticks": ""
           },
           "bgcolor": "#E5ECF6",
           "radialaxis": {
            "gridcolor": "white",
            "linecolor": "white",
            "ticks": ""
           }
          },
          "scene": {
           "xaxis": {
            "backgroundcolor": "#E5ECF6",
            "gridcolor": "white",
            "gridwidth": 2,
            "linecolor": "white",
            "showbackground": true,
            "ticks": "",
            "zerolinecolor": "white"
           },
           "yaxis": {
            "backgroundcolor": "#E5ECF6",
            "gridcolor": "white",
            "gridwidth": 2,
            "linecolor": "white",
            "showbackground": true,
            "ticks": "",
            "zerolinecolor": "white"
           },
           "zaxis": {
            "backgroundcolor": "#E5ECF6",
            "gridcolor": "white",
            "gridwidth": 2,
            "linecolor": "white",
            "showbackground": true,
            "ticks": "",
            "zerolinecolor": "white"
           }
          },
          "shapedefaults": {
           "line": {
            "color": "#2a3f5f"
           }
          },
          "ternary": {
           "aaxis": {
            "gridcolor": "white",
            "linecolor": "white",
            "ticks": ""
           },
           "baxis": {
            "gridcolor": "white",
            "linecolor": "white",
            "ticks": ""
           },
           "bgcolor": "#E5ECF6",
           "caxis": {
            "gridcolor": "white",
            "linecolor": "white",
            "ticks": ""
           }
          },
          "title": {
           "x": 0.05
          },
          "xaxis": {
           "automargin": true,
           "gridcolor": "white",
           "linecolor": "white",
           "ticks": "",
           "title": {
            "standoff": 15
           },
           "zerolinecolor": "white",
           "zerolinewidth": 2
          },
          "yaxis": {
           "automargin": true,
           "gridcolor": "white",
           "linecolor": "white",
           "ticks": "",
           "title": {
            "standoff": 15
           },
           "zerolinecolor": "white",
           "zerolinewidth": 2
          }
         }
        },
        "xaxis": {
         "anchor": "y",
         "domain": [
          0,
          1
         ],
         "title": {
          "text": "x"
         }
        },
        "yaxis": {
         "anchor": "x",
         "domain": [
          0,
          1
         ],
         "title": {
          "text": "sum of y"
         }
        }
       }
      }
     },
     "metadata": {}
    }
   ],
   "metadata": {}
  },
  {
   "cell_type": "code",
   "execution_count": 59,
   "source": [
    "hist(top_tp.head(20))"
   ],
   "outputs": [
    {
     "output_type": "display_data",
     "data": {
      "application/vnd.plotly.v1+json": {
       "config": {
        "plotlyServerURL": "https://plot.ly"
       },
       "data": [
        {
         "alignmentgroup": "True",
         "bingroup": "x",
         "histfunc": "sum",
         "hovertemplate": "x=%{x}<br>sum of y=%{y}<extra></extra>",
         "legendgroup": "",
         "marker": {
          "color": "#636efa"
         },
         "name": "",
         "offsetgroup": "",
         "orientation": "v",
         "showlegend": false,
         "type": "histogram",
         "x": [
          "Id: Huawei Par-Lx9",
          "Id: Spa Condor Elect. Allure M2",
          "Id: Asustek Wireless-Ac1200 Lte Router",
          "Id: Lg-H860",
          "Id: Huawei B618S-22D",
          "Id: New-Bund Technol. Thor",
          "Id: Samsung Galaxy A7 (Sm-A730F)",
          "Id: Lenovo Moto Z Play Vx12752445",
          "Id: Huawei B715S-23C",
          "Id: Huawei B525S-65A",
          "Id: Samsung Galaxy S9+",
          "Id: Ovvi-Cellphone T. Echo",
          "Id: Huawei E8372",
          "Id: Oppo Cph1723",
          "Id: Zyxel Communicat. Sbg3600",
          "Id: Oppo Cph1701",
          "Id: Huawei Y6 Prime 2018",
          "Id: Spa Condor Elect. Plume L2",
          "Id: Lg G6+",
          "Id: Huawei Aum-Al00"
         ],
         "xaxis": "x",
         "y": [
          127461.5,
          102032.5,
          79406.625,
          79107.5,
          78004.75,
          77737.625,
          71867.25,
          69760.25,
          64989.025,
          59667,
          52768.75,
          52768.75,
          52768.75,
          52768.75,
          52768.75,
          52768.75,
          52535.25,
          52531.25,
          52387.25,
          52357.25
         ],
         "yaxis": "y"
        }
       ],
       "layout": {
        "barmode": "relative",
        "legend": {
         "tracegroupgap": 0
        },
        "margin": {
         "t": 60
        },
        "template": {
         "data": {
          "bar": [
           {
            "error_x": {
             "color": "#2a3f5f"
            },
            "error_y": {
             "color": "#2a3f5f"
            },
            "marker": {
             "line": {
              "color": "#E5ECF6",
              "width": 0.5
             }
            },
            "type": "bar"
           }
          ],
          "barpolar": [
           {
            "marker": {
             "line": {
              "color": "#E5ECF6",
              "width": 0.5
             }
            },
            "type": "barpolar"
           }
          ],
          "carpet": [
           {
            "aaxis": {
             "endlinecolor": "#2a3f5f",
             "gridcolor": "white",
             "linecolor": "white",
             "minorgridcolor": "white",
             "startlinecolor": "#2a3f5f"
            },
            "baxis": {
             "endlinecolor": "#2a3f5f",
             "gridcolor": "white",
             "linecolor": "white",
             "minorgridcolor": "white",
             "startlinecolor": "#2a3f5f"
            },
            "type": "carpet"
           }
          ],
          "choropleth": [
           {
            "colorbar": {
             "outlinewidth": 0,
             "ticks": ""
            },
            "type": "choropleth"
           }
          ],
          "contour": [
           {
            "colorbar": {
             "outlinewidth": 0,
             "ticks": ""
            },
            "colorscale": [
             [
              0,
              "#0d0887"
             ],
             [
              0.1111111111111111,
              "#46039f"
             ],
             [
              0.2222222222222222,
              "#7201a8"
             ],
             [
              0.3333333333333333,
              "#9c179e"
             ],
             [
              0.4444444444444444,
              "#bd3786"
             ],
             [
              0.5555555555555556,
              "#d8576b"
             ],
             [
              0.6666666666666666,
              "#ed7953"
             ],
             [
              0.7777777777777778,
              "#fb9f3a"
             ],
             [
              0.8888888888888888,
              "#fdca26"
             ],
             [
              1,
              "#f0f921"
             ]
            ],
            "type": "contour"
           }
          ],
          "contourcarpet": [
           {
            "colorbar": {
             "outlinewidth": 0,
             "ticks": ""
            },
            "type": "contourcarpet"
           }
          ],
          "heatmap": [
           {
            "colorbar": {
             "outlinewidth": 0,
             "ticks": ""
            },
            "colorscale": [
             [
              0,
              "#0d0887"
             ],
             [
              0.1111111111111111,
              "#46039f"
             ],
             [
              0.2222222222222222,
              "#7201a8"
             ],
             [
              0.3333333333333333,
              "#9c179e"
             ],
             [
              0.4444444444444444,
              "#bd3786"
             ],
             [
              0.5555555555555556,
              "#d8576b"
             ],
             [
              0.6666666666666666,
              "#ed7953"
             ],
             [
              0.7777777777777778,
              "#fb9f3a"
             ],
             [
              0.8888888888888888,
              "#fdca26"
             ],
             [
              1,
              "#f0f921"
             ]
            ],
            "type": "heatmap"
           }
          ],
          "heatmapgl": [
           {
            "colorbar": {
             "outlinewidth": 0,
             "ticks": ""
            },
            "colorscale": [
             [
              0,
              "#0d0887"
             ],
             [
              0.1111111111111111,
              "#46039f"
             ],
             [
              0.2222222222222222,
              "#7201a8"
             ],
             [
              0.3333333333333333,
              "#9c179e"
             ],
             [
              0.4444444444444444,
              "#bd3786"
             ],
             [
              0.5555555555555556,
              "#d8576b"
             ],
             [
              0.6666666666666666,
              "#ed7953"
             ],
             [
              0.7777777777777778,
              "#fb9f3a"
             ],
             [
              0.8888888888888888,
              "#fdca26"
             ],
             [
              1,
              "#f0f921"
             ]
            ],
            "type": "heatmapgl"
           }
          ],
          "histogram": [
           {
            "marker": {
             "colorbar": {
              "outlinewidth": 0,
              "ticks": ""
             }
            },
            "type": "histogram"
           }
          ],
          "histogram2d": [
           {
            "colorbar": {
             "outlinewidth": 0,
             "ticks": ""
            },
            "colorscale": [
             [
              0,
              "#0d0887"
             ],
             [
              0.1111111111111111,
              "#46039f"
             ],
             [
              0.2222222222222222,
              "#7201a8"
             ],
             [
              0.3333333333333333,
              "#9c179e"
             ],
             [
              0.4444444444444444,
              "#bd3786"
             ],
             [
              0.5555555555555556,
              "#d8576b"
             ],
             [
              0.6666666666666666,
              "#ed7953"
             ],
             [
              0.7777777777777778,
              "#fb9f3a"
             ],
             [
              0.8888888888888888,
              "#fdca26"
             ],
             [
              1,
              "#f0f921"
             ]
            ],
            "type": "histogram2d"
           }
          ],
          "histogram2dcontour": [
           {
            "colorbar": {
             "outlinewidth": 0,
             "ticks": ""
            },
            "colorscale": [
             [
              0,
              "#0d0887"
             ],
             [
              0.1111111111111111,
              "#46039f"
             ],
             [
              0.2222222222222222,
              "#7201a8"
             ],
             [
              0.3333333333333333,
              "#9c179e"
             ],
             [
              0.4444444444444444,
              "#bd3786"
             ],
             [
              0.5555555555555556,
              "#d8576b"
             ],
             [
              0.6666666666666666,
              "#ed7953"
             ],
             [
              0.7777777777777778,
              "#fb9f3a"
             ],
             [
              0.8888888888888888,
              "#fdca26"
             ],
             [
              1,
              "#f0f921"
             ]
            ],
            "type": "histogram2dcontour"
           }
          ],
          "mesh3d": [
           {
            "colorbar": {
             "outlinewidth": 0,
             "ticks": ""
            },
            "type": "mesh3d"
           }
          ],
          "parcoords": [
           {
            "line": {
             "colorbar": {
              "outlinewidth": 0,
              "ticks": ""
             }
            },
            "type": "parcoords"
           }
          ],
          "pie": [
           {
            "automargin": true,
            "type": "pie"
           }
          ],
          "scatter": [
           {
            "marker": {
             "colorbar": {
              "outlinewidth": 0,
              "ticks": ""
             }
            },
            "type": "scatter"
           }
          ],
          "scatter3d": [
           {
            "line": {
             "colorbar": {
              "outlinewidth": 0,
              "ticks": ""
             }
            },
            "marker": {
             "colorbar": {
              "outlinewidth": 0,
              "ticks": ""
             }
            },
            "type": "scatter3d"
           }
          ],
          "scattercarpet": [
           {
            "marker": {
             "colorbar": {
              "outlinewidth": 0,
              "ticks": ""
             }
            },
            "type": "scattercarpet"
           }
          ],
          "scattergeo": [
           {
            "marker": {
             "colorbar": {
              "outlinewidth": 0,
              "ticks": ""
             }
            },
            "type": "scattergeo"
           }
          ],
          "scattergl": [
           {
            "marker": {
             "colorbar": {
              "outlinewidth": 0,
              "ticks": ""
             }
            },
            "type": "scattergl"
           }
          ],
          "scattermapbox": [
           {
            "marker": {
             "colorbar": {
              "outlinewidth": 0,
              "ticks": ""
             }
            },
            "type": "scattermapbox"
           }
          ],
          "scatterpolar": [
           {
            "marker": {
             "colorbar": {
              "outlinewidth": 0,
              "ticks": ""
             }
            },
            "type": "scatterpolar"
           }
          ],
          "scatterpolargl": [
           {
            "marker": {
             "colorbar": {
              "outlinewidth": 0,
              "ticks": ""
             }
            },
            "type": "scatterpolargl"
           }
          ],
          "scatterternary": [
           {
            "marker": {
             "colorbar": {
              "outlinewidth": 0,
              "ticks": ""
             }
            },
            "type": "scatterternary"
           }
          ],
          "surface": [
           {
            "colorbar": {
             "outlinewidth": 0,
             "ticks": ""
            },
            "colorscale": [
             [
              0,
              "#0d0887"
             ],
             [
              0.1111111111111111,
              "#46039f"
             ],
             [
              0.2222222222222222,
              "#7201a8"
             ],
             [
              0.3333333333333333,
              "#9c179e"
             ],
             [
              0.4444444444444444,
              "#bd3786"
             ],
             [
              0.5555555555555556,
              "#d8576b"
             ],
             [
              0.6666666666666666,
              "#ed7953"
             ],
             [
              0.7777777777777778,
              "#fb9f3a"
             ],
             [
              0.8888888888888888,
              "#fdca26"
             ],
             [
              1,
              "#f0f921"
             ]
            ],
            "type": "surface"
           }
          ],
          "table": [
           {
            "cells": {
             "fill": {
              "color": "#EBF0F8"
             },
             "line": {
              "color": "white"
             }
            },
            "header": {
             "fill": {
              "color": "#C8D4E3"
             },
             "line": {
              "color": "white"
             }
            },
            "type": "table"
           }
          ]
         },
         "layout": {
          "annotationdefaults": {
           "arrowcolor": "#2a3f5f",
           "arrowhead": 0,
           "arrowwidth": 1
          },
          "autotypenumbers": "strict",
          "coloraxis": {
           "colorbar": {
            "outlinewidth": 0,
            "ticks": ""
           }
          },
          "colorscale": {
           "diverging": [
            [
             0,
             "#8e0152"
            ],
            [
             0.1,
             "#c51b7d"
            ],
            [
             0.2,
             "#de77ae"
            ],
            [
             0.3,
             "#f1b6da"
            ],
            [
             0.4,
             "#fde0ef"
            ],
            [
             0.5,
             "#f7f7f7"
            ],
            [
             0.6,
             "#e6f5d0"
            ],
            [
             0.7,
             "#b8e186"
            ],
            [
             0.8,
             "#7fbc41"
            ],
            [
             0.9,
             "#4d9221"
            ],
            [
             1,
             "#276419"
            ]
           ],
           "sequential": [
            [
             0,
             "#0d0887"
            ],
            [
             0.1111111111111111,
             "#46039f"
            ],
            [
             0.2222222222222222,
             "#7201a8"
            ],
            [
             0.3333333333333333,
             "#9c179e"
            ],
            [
             0.4444444444444444,
             "#bd3786"
            ],
            [
             0.5555555555555556,
             "#d8576b"
            ],
            [
             0.6666666666666666,
             "#ed7953"
            ],
            [
             0.7777777777777778,
             "#fb9f3a"
            ],
            [
             0.8888888888888888,
             "#fdca26"
            ],
            [
             1,
             "#f0f921"
            ]
           ],
           "sequentialminus": [
            [
             0,
             "#0d0887"
            ],
            [
             0.1111111111111111,
             "#46039f"
            ],
            [
             0.2222222222222222,
             "#7201a8"
            ],
            [
             0.3333333333333333,
             "#9c179e"
            ],
            [
             0.4444444444444444,
             "#bd3786"
            ],
            [
             0.5555555555555556,
             "#d8576b"
            ],
            [
             0.6666666666666666,
             "#ed7953"
            ],
            [
             0.7777777777777778,
             "#fb9f3a"
            ],
            [
             0.8888888888888888,
             "#fdca26"
            ],
            [
             1,
             "#f0f921"
            ]
           ]
          },
          "colorway": [
           "#636efa",
           "#EF553B",
           "#00cc96",
           "#ab63fa",
           "#FFA15A",
           "#19d3f3",
           "#FF6692",
           "#B6E880",
           "#FF97FF",
           "#FECB52"
          ],
          "font": {
           "color": "#2a3f5f"
          },
          "geo": {
           "bgcolor": "white",
           "lakecolor": "white",
           "landcolor": "#E5ECF6",
           "showlakes": true,
           "showland": true,
           "subunitcolor": "white"
          },
          "hoverlabel": {
           "align": "left"
          },
          "hovermode": "closest",
          "mapbox": {
           "style": "light"
          },
          "paper_bgcolor": "white",
          "plot_bgcolor": "#E5ECF6",
          "polar": {
           "angularaxis": {
            "gridcolor": "white",
            "linecolor": "white",
            "ticks": ""
           },
           "bgcolor": "#E5ECF6",
           "radialaxis": {
            "gridcolor": "white",
            "linecolor": "white",
            "ticks": ""
           }
          },
          "scene": {
           "xaxis": {
            "backgroundcolor": "#E5ECF6",
            "gridcolor": "white",
            "gridwidth": 2,
            "linecolor": "white",
            "showbackground": true,
            "ticks": "",
            "zerolinecolor": "white"
           },
           "yaxis": {
            "backgroundcolor": "#E5ECF6",
            "gridcolor": "white",
            "gridwidth": 2,
            "linecolor": "white",
            "showbackground": true,
            "ticks": "",
            "zerolinecolor": "white"
           },
           "zaxis": {
            "backgroundcolor": "#E5ECF6",
            "gridcolor": "white",
            "gridwidth": 2,
            "linecolor": "white",
            "showbackground": true,
            "ticks": "",
            "zerolinecolor": "white"
           }
          },
          "shapedefaults": {
           "line": {
            "color": "#2a3f5f"
           }
          },
          "ternary": {
           "aaxis": {
            "gridcolor": "white",
            "linecolor": "white",
            "ticks": ""
           },
           "baxis": {
            "gridcolor": "white",
            "linecolor": "white",
            "ticks": ""
           },
           "bgcolor": "#E5ECF6",
           "caxis": {
            "gridcolor": "white",
            "linecolor": "white",
            "ticks": ""
           }
          },
          "title": {
           "x": 0.05
          },
          "xaxis": {
           "automargin": true,
           "gridcolor": "white",
           "linecolor": "white",
           "ticks": "",
           "title": {
            "standoff": 15
           },
           "zerolinecolor": "white",
           "zerolinewidth": 2
          },
          "yaxis": {
           "automargin": true,
           "gridcolor": "white",
           "linecolor": "white",
           "ticks": "",
           "title": {
            "standoff": 15
           },
           "zerolinecolor": "white",
           "zerolinewidth": 2
          }
         }
        },
        "xaxis": {
         "anchor": "y",
         "domain": [
          0,
          1
         ],
         "title": {
          "text": "x"
         }
        },
        "yaxis": {
         "anchor": "x",
         "domain": [
          0,
          1
         ],
         "title": {
          "text": "sum of y"
         }
        }
       }
      }
     },
     "metadata": {}
    }
   ],
   "metadata": {}
  },
  {
   "cell_type": "markdown",
   "source": [
    "### The average TCP retransmission view per handset type and provide interpretation for your findings."
   ],
   "metadata": {}
  },
  {
   "cell_type": "code",
   "execution_count": null,
   "source": [
    "sorted_by_tcp = handset_type_df.sort_values(\n",
    "    'total_avg_tcp', ascending=False)\n",
    "top_tcp = sorted_by_tcp['total_avg_tcp']"
   ],
   "outputs": [],
   "metadata": {}
  },
  {
   "cell_type": "code",
   "execution_count": 61,
   "source": [
    "hist(top_tcp)"
   ],
   "outputs": [
    {
     "output_type": "display_data",
     "data": {
      "application/vnd.plotly.v1+json": {
       "config": {
        "plotlyServerURL": "https://plot.ly"
       },
       "data": [
        {
         "alignmentgroup": "True",
         "bingroup": "x",
         "histfunc": "sum",
         "hovertemplate": "x=%{x}<br>sum of y=%{y}<extra></extra>",
         "legendgroup": "",
         "marker": {
          "color": "#636efa"
         },
         "name": "",
         "offsetgroup": "",
         "orientation": "v",
         "showlegend": false,
         "type": "histogram",
         "x": [
          "Id: Sierra Wireless Usb305",
          "Id: Sfr Star Trail 5 By Sfr",
          "Id: Huawei B715S-23C",
          "Id: D-Link Corporati. D-Link Lte Usb Adaptor",
          "Id: Xiaomi Communica. Xiaomi Note",
          "Id: Gemalto M2M Gmbh Cinterion Pls8-E",
          "Id: Huawei B618S-22D",
          "Id: Gemalto M2M Gmbh Eu3-E",
          "Id: Huawei Evr-Al00",
          "Id: Hongkong Ipro Te. Ipro I9350 I9400 S3 Wave 3.5 Wave 4.0",
          "Id: Tcl Communicatio. Alcatel A5 Led Alcatel A5",
          "Id: Lenovo Moto Z Force (2Nd Gen) Ge12072245",
          "Id: Huawei E587 E587U-2 Turkcell Vinnwifi E587",
          "Id: Huawei Gr5",
          "Id: Sony Ericsson U20I (Aad-3880072-Bv)",
          "Id: Sony Ericsson St18I",
          "Id: Vivo Mobile Comm. Vivo Vivo 1718",
          "Id: Asustek Asus Zenfone Selfie Zd551Kl",
          "Id: Huawei Maimang 6",
          "Id: Shenzhen Yiqingt. Yqt1213",
          "Id: Option Nv Option Gtm661W Globesurfer Iii+",
          "Id: Zyxel Communicat. Lte7460",
          "Id: Lg-X210Ds",
          "Id: Zyxel Communicat. Sbg3600",
          "Id: Logicom Sa Logicom Id Bot 53+",
          "Id: Lg K10 2017",
          "Id: Samsung Galaxy Core 2 (Sm-G355X)",
          "Id: Lidaxin Technolo. Glida Be09",
          "Id: Tcl Communicatio. Pixi 4 6 3G Android",
          "Id: Apple iPhone 8 Plus (A1899)",
          "Id: Nubia Technology. Z17 Mini",
          "Id: Lg G2",
          "Id: Huawei Bln-Al10",
          "Id: Huawei E5776S-32",
          "Id: Logicom Sa Id Bot 54",
          "Id: Huawei Rvl-Al09",
          "Id: Samsung Gt-I5500",
          "Id: Logicom Sa L-Ement 551",
          "Id: A-Link Telecom I. Cubot Note S",
          "Id: Huawei Pra-Al00X",
          "Id: Huawei Frd-L19",
          "Id: Samsung Galaxy On 7",
          "Id: Sfr Starxtrem7",
          "Id: Htc Desire C",
          "Id: Sony Mobile Comm. Pm-1201-Bv",
          "Id: Lemobile Informa. Lex651",
          "Id: Samsung Galaxy J3 (Sm-J327)",
          "Id: Kvd Internationa. Doogee S55",
          "Id: Xiaomi Communica. B5",
          "Id: Sony Mobile Comm. Xperia M5 Dual",
          "Id: Lg G6+",
          "Id: Hewlett-Packard Hp Elite X3",
          "Id: Gemalto M2M Gmbh Cinterion Bgs3",
          "Id: Logicom Sa Logicom Id Bot 553+",
          "Id: New-Bund Technol. Mix 2",
          "Id: Shenzhen Leagoo. Leagoo S8",
          "Id: Test IMEI",
          "Id: Samsung Galaxy J8 2018",
          "Id: Ovvi-Cellphone T. Echo",
          "Id: Spa Condor Elect. Allure M1 Plus",
          "Id: Zte Blade L110 Zte Blade L110 Blade L110 Blade L110",
          "Id: Lg-M400Dy",
          "Id: Huawei E180",
          "Id: Spa Condor Elect. Plume L1 Plus",
          "Id: Gemalto M2M Gmbh Cinterion Wireless Module Phs8-P",
          "Id: Zebra Technologi. Mc67Na",
          "Id: Huawei Y6 Prime 2018",
          "Id: Spa Condor Elect. Plume L2",
          "Id: Ddm Brands Llc Yezz Andy 5.5Ei",
          "Id: Leagoo Intl Co. . Leagoo T5",
          "Id: Tp-Link Technolo. Tl-Mr6400",
          "Id: Qingdao Hisense. Hisense F17",
          "Id: Itel Technology. S33",
          "Id: Tp-Link Technolo. Archer Mr400",
          "Id: Huawei E5180",
          "Id: Nokia Rm-1091 Lumia 535 Microsoft Lumia 535",
          "Id: Infinix Technolo. Infinix Hot Note",
          "Id: Xiaomi Communica. Mi 6",
          "Id: Vivo Mobile Comm. Vivo V7+",
          "Id: Samsung Galaxy J4",
          "Id: Honstech Communi. Do G26",
          "Id: Xiaomi Communica. M1901F7G",
          "Id: Tcl Communicatio. Alcatel Onetouch Pop 3 (5.5)",
          "Id: Wiko Global Sasu Wiko Jerry Max",
          "Id: Huawei B525S-23A",
          "Id: Electro Depot Fr. W55Hd",
          "Id: Sierra Wireless Mc8355",
          "Id: Nokia Lumia 630 Dual Sim Rm-978",
          "Id: Dynamic Tech Hol. D-Mobile I3 I5 I7 I8 I9",
          "Id: Huawei Me909S-120",
          "Id: Huawei Jsn-Al00A",
          "Id: Huawei E5573B",
          "Id: Huawei B528S-23A",
          "Id: Ertebat Hamrah G. Glx H1",
          "Id: Samsung Galaxy J1 Mini (Sm-J105X)",
          "Id: Huawei Ascend P7",
          "Id: Neel Enterprise Kolor Crosscalltrekker-X2",
          "Id: Samsung Galaxy J2 2018 Duos (Sm-J250F Ds)",
          "Id: Sony Ericsson Sk17I",
          "Id: Tp-Link Technolo. Archer Mr200",
          "Id: Meizu Technology. Pro 5",
          "Id: Wiko Global Sasu Wiko Highway Signs",
          "Id: Tcl Communicatio. Linkzone",
          "Id: Huawei E5573",
          "Id: Huawei B593S-12",
          "Id: Lg Lg-H635",
          "Id: Tp-Link Technolo. Tp-Link Archer Mr200 Tp-Link Tl-Mr6400",
          "Id: Logicom Sa Le Up",
          "Id: Zte Mf626",
          "Id: D-Link Corporati. D-Link Dwr-921",
          "Id: Ddm Brands Llc Andy 4.5El Lte",
          "Id: Huawei E5577 E5577C",
          "Id: Huawei Lnd-L29",
          "Id: Simcom Wireless. Sim900",
          "Id: Shenzhen Kdi Com. D58",
          "Id: Shenzhen Huanuo. B2803",
          "Id: Apple iPhone Xr (A1984)",
          "Id: Infocus Corporat. Infocus Vzh",
          "Id: Apple iPhone 8 (A1906)",
          "Id: Hmd Global Oy Nokia 3310 Ds 3G",
          "Id: Spa Condor Elect. A9 Plus",
          "Id: Huawei E5186S",
          "Id: Huawei E5372S-32",
          "Id: Nokia Rm-980 Nokia X",
          "Id: Spa Condor Elect. C6+",
          "Id: Huawei Y6 Pro 2017 Huawei P9 Lite Mini",
          "Id: Samsung Galaxy Tab A (Sm-T585)",
          "Id: Huawei Pele",
          "Id: Sony Mobile Comm. Xperia C4 Dual",
          "Id: Htc Pl80100",
          "Id: Tinno Mobile Tec. Tinno S9091B",
          "Id: Quartel Infotech. Maximus M84",
          "Id: Apple iPhone X (A1902)",
          "Id: Lenovo P2 Ku12842445",
          "Id: Kook (Hong Kong). Teeno T600",
          "Id: Intermec Technol. Series 70 (Cn70 1000Cp01U) (Cn70E 1000Cp02U) (Ck70 1001Cp01U)",
          "Id: Samsung Gt-I9003",
          "Id: Samsung Galaxy A7 Sm-A720F Ds",
          "Id: Apple iPad Pro (A1652)",
          "Id: Archos Sa 55 Cobalt + Bush Spira B3 5.5",
          "Id: New-Bund Technol. Thor",
          "Id: Ddm Brands Llc Andy 4Ei2",
          "Id: Tcl Communicatio. Alcatel 3C",
          "Id: Archos Sa 50F Neon",
          "Id: Xiaomi Communica. Redmi 4A",
          "Id: Huawei Y7 Prime 2018",
          "Id: Bird L8",
          "Id: Dg Homtom Group. Homtom H50",
          "Id: Htc One (M8)",
          "Id: Shenzhen Jeko Co. Blackview P10000Pro",
          "Id: Spa Condor Elect. P8 Lite",
          "Id: Lg Nexus 4 (E960)",
          "Id: Asustek Asus Zenfone Max Zc550Kl",
          "Id: Huawei B593",
          "Id: Samsung Galaxy J4+",
          "Id: Hmd Global Oy Nokia 2",
          "Id: Power Idea Techn. Rg310",
          "Id: Topwell Technolo. Topwell M318A",
          "Id: Nokia 610 Nokia 610",
          "Id: Netgear Inc Aircard 810S",
          "Id: Zte Zte Blade C2 Smartphone Android By Sfr Startrail 4 Zte Blade Flex T809 Zte T809",
          "Id: Oppo Cph1837",
          "Id: Crosscall Odyssey-S1",
          "Id: Ddm Brands Llc Yezz Andy A6M",
          "Id: Wileyfox Europe. Wileyfox Swift 2",
          "Id: Oppo Cph1903",
          "Id: Huawei Fig-La1",
          "Id: Sony Mobile Comm. Xperia Xa1 Plus",
          "Id: Huawei B593S-22",
          "Id: Wiko Global Sasu View2 Go",
          "Id: Samsung Galaxy Note 8 (Sm-N950U)",
          "Id: Sony Mobile Comm. Pm-1150-Bv",
          "Id: Archos Sa Archos 45B Helium 50B Helium 50C Helium 50D Helium 50 Diamond",
          "Id: Xiaomi Communica. Redmi 5A",
          "Id: Apple iPhone 6S Plus (A1699)",
          "Id: Apple iPhone 8 Plus (A1864)",
          "Id: Sierra Wireless Airprime Q2687",
          "Id: Huawei Aum-Al00",
          "Id: Samsung Galaxy Note 2",
          "Id: Kvd Internationa. Doogee Mix Lite",
          "Id: Lg V30+",
          "Id: Huawei Mate 9",
          "Id: Huawei Bkl-Al20",
          "Id: Huawei E5785Lh-22C",
          "Id: Samsung Sm-N7505",
          "Id: Sony Mobile Comm. Xperia Z3",
          "Id: Samsung Galaxy S8 Edge (Sm-G955U)",
          "Id: Maysun Info Tech. M4028",
          "Id: Wistron Wnc D18Qx",
          "Id: Blu Products Inc Blu Studio C 5+5",
          "Id: Umi Network Tech. Z2",
          "Id: Apple iPhone 8 Plus (A1898)",
          "Id: D-Link Corporati. Dwr-953",
          "Id: Huawei Evr-L29",
          "Id: Meizu Technology. M6 Note",
          "Id: Qingdao Hisense. Hisense F20",
          "Id: Google Inc Pixel 3Xl",
          "Id: Apple iPad Mini (A1490)",
          "Id: Sfr Starshine 5",
          "Id: Samsung Galaxy J3 (Sm-J330G Ds)",
          "Id: Samsung Galaxy Note 8 (Sm-N950F Ds)",
          "Id: Huawei Stf-Al00",
          "Id: Hmd Global Oy Ta-1006",
          "Id: Samsung Galaxy J7 Prime Duos (Sm-G610F Ds)",
          "Id: Asustek Asus Zenfone 4 Max Zc554Kl",
          "Id: Zte Mf259",
          "Id: Qingdao Hisense. Hisense F23",
          "Id: Sony Mobile Comm. Pm-1164-Bv",
          "Id: Tct Mobile Suzho. Alcatel Onetouch Pop D5",
          "Id: Apple iPhone Xr (A2108)",
          "Id: Apple iPhone 6S Plus (A1634)",
          "Id: Apple iPhone 5 (A1428) A1428S",
          "Id: Lg-M200N",
          "Id: Qingdao Hisense. Hisense F31",
          "Id: Huawei Cor-L29",
          "Id: Apple iPhone 7 (A1779)",
          "Id: Huawei Ele-L29",
          "Id: Tp-Link Technolo. Tp-Link M7350",
          "Id: Microsoft Mobile. Nokia Rm-1034 Microsoft Lumia 532",
          "Id: Huawei Ine-Lx1",
          "Id: Kvd Internationa. Doogee X50",
          "Id: Apple iPhone 6 Plus (A1524)",
          "Id: Samsung Galaxy S10",
          "Id: M S Soha Enterp. Qphone Q70",
          "Id: Apple iPhone 6 Plus (A1522)",
          "Id: Lenovo Moto Z Ve12657645",
          "Id: Oppo A1601",
          "Id: Htc One M9",
          "Id: Sierra Wireless Hilo3G 900",
          "Id: Asustek Asus Zb500Tl",
          "Id: Samsung Galaxy S3 (Gt-I9305)",
          "Id: Asustek Asus Zenfone 2 Laser Ze500Kl",
          "Id: Huawei Pct-L29",
          "Id: Samsung Galaxy A6",
          "Id: Samsung Sm-T819",
          "Id: Huawei Y6Ii",
          "Id: Apple iPhone 8 Plus (A1897)",
          "Id: Apple iPhone Xr (A2105)",
          "Id: Wiko Global Sasu Wiko View Xl",
          "Id: Asustek Asus Za550Kl Zenfone Max M1",
          "Id: Apple iPhone 7 (A1660)",
          "Id: Huawei Par-Lx9",
          "Id: Sony Mobile Comm. Sony Xperia Z3",
          "Id: Oneplus Technolo. One A2003",
          "Id: Microsoft Mobile. Microsoft Rm-1075 Microsoft Lumia 640 Lte Dual Sim",
          "Id: Apple iPad 2 (A1396)",
          "Id: Archos Sa Archos Sense 50X",
          "Id: Apple iPhone 6 (A1549)",
          "Id: Apple iPhone 7 Plus (A1661)",
          "Id: Apple iPhone X (A1865)",
          "Id: Sony Mobile Comm. Pm-1162-Bv",
          "Id: Sfr Altice S61",
          "Id: Xiaomi Communica. A1",
          "Id: Lg G3",
          "Id: Apple iPhone X (A1901)",
          "Id: Huawei B315S-22",
          "Id: Apple iPad Air (A1475)",
          "Id: Apple iPhone 6S (A1633)",
          "Id: Huawei Jat-L29",
          "Id: Apple iPhone Xs (A1920)",
          "Id: Nokia 920.1 Lumia 920",
          "Id: Sony Mobile Comm. Xperia Xa2 Ultra",
          "Id: Lenovo Lenovo A588T",
          "Id: Orbita Telecom L. Konrow",
          "Id: Samsung 2018 Galaxy J4",
          "Id: Huawei Dub-Lx1",
          "Id: Apple iPhone 7 Plus (A1784)",
          "Id: Apple iPhone Xs Max (A2104)",
          "Id: Sony Ericsson Lt18I",
          "Id: Apple iPhone Xs Max (A2101)",
          "Id: Samsung Galaxy S8 Plus (Sm-G955Fd)",
          "Id: Huawei Honor 8X",
          "Id: Sony Mobile Comm. Xperia Xz2",
          "Id: Xiaomi Communica. H3C",
          "Id: Wiko Global Sasu Wiko Sunset",
          "Id: Samsung Galaxy Mega Duos (Gt-I9152)",
          "Id: Apple iPad (A1823)",
          "Id: Xiaomi Communica. Mi Max2",
          "Id: Wiko Global Sasu Wiko Sunny2 Plus",
          "Id: Netgear Inc Netgear Ac785S-100",
          "Id: Hmd Global Oy Nokia 3 Ds",
          "Id: Apple iPhone 6S Plus (A1687)",
          "Id: Lg-H870S",
          "Id: Sony Mobile Comm. Xperia Z5 Premium",
          "Id: Huawei E5577",
          "Id: Wiko Global Sasu Lenny 5",
          "Id: Samsung Galaxy J1 (Sm-J100X)",
          "Id: Samsung Galaxy Tab Active Sm-T365",
          "Id: Huawei G535-L11",
          "Id: Apple iPhone 6 (A1586)",
          "Id: Pacific Co (Bd). Nexus Nx14 Nx15 Nx65 Nx66 Nx8",
          "Id: Tcl Communicatio. Alcatel Pixi 4 (5) 5010D",
          "Id: Hem Easy",
          "Id: Wiko Jerry3",
          "Id: Sony Mobile Comm. Xperia T3",
          "Id: Xiaomi Communica. Redmi 5",
          "Id: Huawei Nova 3I Huawei P Smart+",
          "Id: Tcl Communicatio. Alcatel Onetouch Pixi 3 (3.5) 4009D",
          "Id: Logicom Sa M Bot 60",
          "Id: Lg G4C",
          "Id: Samsung Galaxy Grand Prime (Sm-G530F)",
          "Id: Lg-K120E",
          "Id: Asustek Asus Zenfone 4 Selfie Zd553Kl",
          "Id: Samsung Galaxy S9 Sm-G960F",
          "Id: Apple iPhone Xs (A2097)",
          "Id: Apple iPhone 8 (A1905)",
          "Id: Huawei Y7 2018",
          "Id: Google Inc Pixel 3",
          "Id: Huawei Vog-L29",
          "Id: Huawei E5786S-32A Huawei E5786Bs-32A",
          "Id: Huawei Lya-L29",
          "Id: Huawei Was-Al00",
          "Id: Wiko Global Sasu Wiko Lenny4",
          "Id: Lenovo Lenovo K50-T3S",
          "Id: Apple iPhone 6S (A1688)",
          "Id: Sony Mobile Comm. Xperia L2",
          "Id: Samsung Galaxy Note 8",
          "Id: Huawei Mate 10 Lite Huawei Nova 2I",
          "Id: Shenzhen Boway E. Boway Boway U11",
          "Id: Huawei Stf-L09",
          "Id: Apple iPhone 8 (A1863)",
          "Id: Samsung Galaxy A5 Sm-A520F Ds",
          "Id: Huawei Mate 10 Pro Porsche Design Huawei Mate 10",
          "Id: Huawei Plk-L01",
          "Id: Huawei Y7 Prime 2018 Huawei Y7 Pro 2018",
          "Id: Samsung Gt-S6310N",
          "Id: Huawei Mrd-Lx1",
          "Id: Samsung Galaxy A7 2018",
          "Id: Asustek Asus Zenfone 5 Ze620Kl",
          "Id: Samsung Galaxy S9",
          "Id: Samsung Galaxy J7 (Sm-J701F Ds)",
          "Id: Samsung Galaxy S8 Plus (Sm-G955F)",
          "Id: Archos Sa Archos 60 Platinum",
          "Id: Microsoft Mobile. Rm-1072 Microsoft Lumia 640 Lte",
          "Id: Wiko Global Sasu Wiko Jerry2",
          "Id: Wiko Global Sasu Wiko Lenny2",
          "Id: Apple iPhone Se (A1723)",
          "Id: Apple iPad 4 (A1460)",
          "Id: Samsung Galaxy A6 (Sm-A605Fn)",
          "Id: Samsung Galaxy Note9",
          "Id: Huawei P9",
          "Id: Apple iPhone 7 (A1778)",
          "Id: Xiaomi Communica. Mi Mix2S",
          "Id: Samsung Galaxy A8 (2018)",
          "Id: Huawei P20 Lite Huawei Nova 3E",
          "Id: Huawei Fig-Lx1",
          "Id: Hmd Global Oy Nokia 1 Ds",
          "Id: Lg-K350Nds",
          "Id: Samsung Galaxy S9 Sm-G960F Ds",
          "Id: Wiko Global Sasu Tommy3",
          "Id: Samsung Galaxy S8 (Sm-G950F)",
          "Id: Samsung Galaxy J6+",
          "Id: Hmd Global Oy Nokia 5 Ds",
          "Id: Huawei Honor 7S",
          "Id: Zte Blade V8 Blade V8",
          "Id: Samsung Galaxy Tab S3 (Sm-T825)",
          "Id: Samsung Galaxy J6",
          "Id: Sony Mobile Comm. Xperia Xz Premium",
          "Id: Apple iPhone Se (A1662)",
          "Id: Samsung Galaxy Grand (Gt-I9060X)",
          "Id: Asustek Asus Zenfone 3 Ze552Kl",
          "Id: Wiko Global Sasu Sunny3",
          "Id: Cisco Systems In. Cisco Mc7304",
          "Id: Huawei Mate 20 Lite",
          "Id: Tcl Communicatio. Alcatel Onetouch Pop 3 (5)",
          "Id: Huawei Col-L29",
          "Id: Htc Desire 626",
          "Id: Huawei Sne-Lx1",
          "Id: Samsung Galaxy S7 Edge (Sm-G935X)",
          "Id: Huawei P10 Lite",
          "Id: Samsung Galaxy Note 8 (Sm-N950F)",
          "Id: Apple iPhone 7 Plus (A1785)",
          "Id: Shenzhen Jeko Co. Blackview A20",
          "Id: Samsung Galaxy S7 (Sm-G930X)",
          "Id: Huawei Y6 2018",
          "Id: Lenovo Moto G Plus (5Th Gen) Co12984045",
          "Id: Samsung Galaxy J5",
          "Id: Razer Inc Razer Phone",
          "Id: Huawei P20",
          "Id: Xiaomi Communica. Redmi Note4",
          "Id: Samsung Galaxy S9 Plus (Sm-G965F)",
          "Id: Huawei P20 Pro",
          "Id: Tcl Communicatio. Alcatel Pixi 4 (5) 5010E",
          "Id: Xiaomi Communica. Redmi Note 2",
          "Id: Samsung Galaxy J3 (Sm-J330)",
          "Id: Meizu Technology. Pro 7",
          "Id: Apple iPad Mini (A1455)",
          "Id: Apple iPad Air 2 (A1567)",
          "Id: Huawei Honor 7A",
          "Id: Samsung Sm-J250Y Ds",
          "Id: Beijing Shenqi T. Z2 Pro",
          "Id: Huawei P8",
          "Id: Samsung Galaxy A6 Sm-A600Fn Ds",
          "Id: Huawei Honor 10",
          "Id: Samsung Sm-J106H Ds",
          "Id: Microsoft Mobile. Rm-1065 Lumia 640 Xl Lte Dual Sim",
          "Id: Archos Sa 50 Platinum 4G",
          "Id: Nokia Rm-941 Nokia 625 Lumia 625",
          "Id: Shenzhen Jeko Co. Blackview S8",
          "Id: Huawei P10",
          "Id: Samsung Galaxy S8 (Sm-G950U)",
          "Id: Acer M310",
          "Id: Samsung Galaxy S6 (Sm-G920X)",
          "Id: Meizu Technology. Pro 6S",
          "Id: Samsung Galaxy J5 (Sm-J530)",
          "Id: Samsung Galaxy J7 (Sm-J730)",
          "Id: Htc 10",
          "Id: Nokia Rm-984 Lumia 830 Nokia 830",
          "Id: Samsung Galaxy A5 Sm-A520F",
          "Id: Huawei Honor 7X",
          "Id: Wiko Global Sasu Wiko Rainbow Lite 4G",
          "Id: Huawei Tbd",
          "Id: Huawei Honor View10",
          "Id: Wiko Global Sasu Wiko Upulse Lite",
          "Id: Huawei Chc-U01",
          "Id: Vplus Communicat. Vplus V5001",
          "Id: Sony Mobile Comm. Sony D2303 - Xperia M2",
          "Id: Lg-H815",
          "Id: Lenovo Gl12494745",
          "Id: Apple iPad Pro 9.7 (A1674)",
          "Id: Sony Mobile Comm. Xperia Xz1 Compact",
          "Id: Samsung Galaxy S6 Edge (Sm-G925X)",
          "Id: Lg Lg-H818P",
          "Id: Samsung Galaxy Alpha (Sm-G850X)",
          "Id: Samsung Galaxy S8 (Sm-G950Fd)",
          "Id: Samsung Galaxy On5 (Sm-G550X)",
          "Id: Huawei Y6 2017 Huawei Nova Young",
          "Id: Samsung Galaxy J1 Ace (Sm-J111X)",
          "Id: Samsung Galaxy J2",
          "Id: Rim Blackberry Stl100-2 Z10 Rfh121Lw",
          "Id: Samsung Galaxy S5 (Sm-G900X)",
          "Id: Spa Condor Elect. Plume P6 Pro Lte",
          "Id: Oppo Cph1893",
          "Id: Huawei Pot-Lx1",
          "Id: Archos Sa Diamond S",
          "Id: Tcl Communicatio. Alcatel U5",
          "Id: Htc One Mini 2",
          "Id: Shenzhen Jeko Co. Blackview A7",
          "Id: Hmd Global Oy Ta-1063 Ds",
          "Id: Wiko Global Sasu Wiko U Feel Lite",
          "Id: Apple iPhone 6S (A1700)",
          "Id: Wiko Global Sasu Wiko Sunny2",
          "Id: Samsung Galaxy Y (Gt-S5360)",
          "Id: Samsung Galaxy Xcover4 Sm-G390F",
          "Id: Huawei Honor 9 Lite",
          "Id: Wiko Global Sasu Wiko Lenny3",
          "Id: Oneplus Technolo. Oneplus 6T",
          "Id: Telit Ul865-Eur",
          "Id: Sony Mobile Comm. Xperia Xz1",
          "Id: Wiko Global Sasu Wiko View",
          "Id: Xiaomi Communica. Mi A1",
          "Id: Tct Mobile Suzho. Alcatel One Touch 6030X",
          "Id: Asustek Asus Zenfone Zoom S Ze553Kl",
          "Id: Samsung Galaxy A3 (Sm-A320)",
          "Id: Apple iPhone 5S (A1530)",
          "Id: Lenovo Sl12367645",
          "Id: Lg G6",
          "Id: Nokia 520 Lumia 520 Nokia 520",
          "Id: Asustek Asus Zenfone 3 Deluxe Zs570Kl",
          "Id: Asustek Asus Zenfone Max Plus Zb570Tl",
          "Id: Samsung Galaxy J7",
          "Id: Samsung Sm-G386F",
          "Id: Maysun Info Tech. Maysunm Mid5702",
          "Id: Meizu Technology. Pro 6 Plus",
          "Id: Sony Mobile Comm. Xperia Xa2",
          "Id: Tcl Communicatio. Alcatel Pixi 4 (4) 4034D",
          "Id: Lg L80",
          "Id: Apple iPhone Xs Max (A1921)",
          "Id: Huawei Hma-L29",
          "Id: Sfr Altice S11",
          "Id: Tcl Communicatio. Alcatel 3L 5034D",
          "Id: Samsung Galaxy S6 (A3Lsmg920P)",
          "Id: Huawei Mu609",
          "Id: Oneplus Technolo. Oneplus 6",
          "Id: Asustek Asus_Z00Ad",
          "Id: Samsung Gt-B5510",
          "Id: Lenovo Moto X Style Indr001145",
          "Id: Microsoft Mobile. Rm-1154 Microsoft Lumia 650 Dual Sim",
          "Id: Huawei Jmm-L22 Honor 6C Pro Honor 6C Pro",
          "Id: Samsung Galaxy J2 Prime (Sm-G532)",
          "Id: Kvd Internationa. Doogee X5",
          "Id: Samsung Galaxy Grand 2 (Sm-G7105)",
          "Id: Asustek Asus Zenfone Live Zb501Kl",
          "Id: Wiko Global Sasu Wiko Barry Iggy Ozzy",
          "Id: Samsung Galaxy J7 Prime (On7) Duos (Sm-G6100)",
          "Id: Oneplus Technolo. Oneplus A3000",
          "Id: Sony Mobile Comm. Xperia E3",
          "Id: Rainbow Communic. C45",
          "Id: Huawei Y5 2018",
          "Id: Sony Mobile Comm. Sony D2105",
          "Id: Nokia Rm-1038 Nokia Lumia 735",
          "Id: Lg Nexus 5",
          "Id: Netgear Inc Nighthawk Ac1900 Cat 6 Lte Gateway",
          "Id: Rim Blackberry Sqc100-4 Rhg161Lw",
          "Id: Huawei Honor 6C Dig-L21Hn",
          "Id: Wiko Global Sasu Wiko U Feel",
          "Id: Samsung Galaxy Ace (Gt-S5830)",
          "Id: Lg X Power2",
          "Id: Samsung Sm-G390F",
          "Id: D-Link Corporati. Dwr-921",
          "Id: Huawei Was-Tl10",
          "Id: Qingdao Hisense. Hisense C20",
          "Id: Huawei Y6 2017 Huawei Nova Young Huawei Y5 2017",
          "Id: Huawei Lld-Al00",
          "Id: Lenovo Moto G Xt1032",
          "Id: Apple iPhone Xr (A2106)",
          "Id: Infinix Technolo. X511",
          "Id: Dn Electronics Danew Konnect 350",
          "Id: Sony Ericsson Lt15I (Aad-3880097-Bv)",
          "Id: Asustek Asus Zenfone2 Laser Ze600Kl",
          "Id: Huawei Honor 6X",
          "Id: Wiko Global Sasu View Max",
          "Id: Samsung Galaxy S6 Plus (Sm-G928)",
          "Id: Lidaxin Technolo. My81",
          "Id: Xiaomi Communica. Mi 8",
          "Id: Samsung Galaxy S5 (Sm-G900F)",
          "Id: Wiko Global Sasu Wiko Harry",
          "Id: Wiko Global Sasu Wiko Tommy2",
          "Id: Wiko Global Sasu View2 Pro",
          "Id: Lenovo Moto G (3Rd Gen) Ca12459445",
          "Id: Lenovo Moto G",
          "Id: Huawei Honor 5X",
          "Id: Samsung Galaxy C5 (Sm-C500X)",
          "Id: Samsung Galaxy J1 (Sm-J120X)",
          "Id: Zte Racer Iii Mini Zte Switch X1 Bouygues Telecom Bs 402 Blade Q Mini Zte Blade G Pro",
          "Id: Asustek Zenfone Max Zc550Kl",
          "Id: Shenzhen Jeko Co. Blackview Bv8000 Pro",
          "Id: Lg-As330",
          "Id: Huawei Y6 Pro",
          "Id: Wiko Global Sasu Jerry3",
          "Id: Lenovo Moto G (5Th Gen) Da12984545",
          "Id: Lg K10",
          "Id: Lenovo Moto E (2Nd Gen) With 4G Lte St12406045",
          "Id: Htc Desire 530",
          "Id: Wiko Global Sasu Wiko Robby",
          "Id: Kenxinda V7",
          "Id: Lg L Bello",
          "Id: Archos Sa Core 50 4G(L)",
          "Id: Wiko Global Sasu Wiko U Feel Prime",
          "Id: Oppo Cph1609",
          "Id: Apple iPhone 5S (A1453)",
          "Id: Blu Products Inc Blu R1 Plus",
          "Id: Logicom Sa Le Hello",
          "Id: Samsung Galaxy J5 (Sm-J500X)",
          "Id: Wiko Global Sasu Wiko Pulp 4G",
          "Id: Oneplus Technolo. One A1001 Oneplus A0001 One A0001",
          "Id: Samsung Galaxy S3 (Gt-I9300)",
          "Id: Meizu Technology. M5C",
          "Id: Oneplus Technolo. Oneplus 5",
          "Id: Huawei Frd-L09",
          "Id: Hmd Global Oy Nokia 7 Plus Ds",
          "Id: Asustek Asus Zenfone 4 Ze554Kl",
          "Id: Crosscall Trekker-X3",
          "Id: Rim Blackberry Sqn100-3 Q10 Rfn81Uw",
          "Id: Logicom Sa L-Ement 403",
          "Id: Huawei Nova 3E",
          "Id: Lenovo Lc12988845",
          "Id: Tcl Communicatio. Alcatel Onetouch Idol3 (5.5)",
          "Id: Samsung Galaxy S5 Mini (Sm-G800X)",
          "Id: Huawei Y5",
          "Id: Samsung Galaxy Tab E (Sm-T561)",
          "Id: Lg Lg-D620Fr",
          "Id: Xiaomi Communica. A7",
          "Id: Samsung Galaxy K Zoom Sm-C111",
          "Id: Apple iPhone 5C (A1529)",
          "Id: Samsung Galaxy J5 (Sm-J510X)",
          "Id: Samsung Galaxy Grand Prime (Sm-G530X)",
          "Id: Bullitt Group Li. S60",
          "Id: Lenovo Bl12416045",
          "Id: Apple iPhone 4S (A1387)",
          "Id: Wiko Global Sasu Wiko Rainbow 4G",
          "Id: Asustek Asus Zenfone4 Max Zc520Kl",
          "Id: Sony Ericsson E15I",
          "Id: Apple iPhone 5C (A1507)",
          "Id: Samsung Galaxy A6 Duos (Sm-A605G Ds)",
          "Id: Apple iPad Pro 10.5 (A1709)",
          "Id: Hong Kong Frog I. A10",
          "Id: Huawei Nova",
          "Id: Htc Desire 650",
          "Id: Hmd Global Oy Ta-1095",
          "Id: Samsung Galaxy Core Prime (Sm-G360X)",
          "Id: Samsung Galaxy Grand Prime Ve (Sm-G531X)",
          "Id: Huawei Bln-Al30",
          "Id: Samsung Galaxy A7 (Sm-A710X)",
          "Id: Asustek Asus Zenfone 3 Ze520Kl",
          "Id: Rim Blackberry Stl100-1 Z10 Rfg81Uw",
          "Id: Samsung Galaxy S4 Advance (Gt-I9506)",
          "Id: Oneplus Technolo. Oneplus 3",
          "Id: Samsung Galaxy J3 (Sm-J320X)",
          "Id: Huawei P8 Lite",
          "Id: Wiko Global Sasu Wiko Tommy2 Plus",
          "Id: Tcl Communicatio. Alcatel 1X",
          "Id: A-Link Telecom I. Cubot X18 Plus",
          "Id: Samsung Sm-G350",
          "Id: Huawei Ale-Ul00",
          "Id: Qingdao Hisense. Hs-U606 Starshine 4 Hs-U961 U602 Hs-U601",
          "Id: Samsung Galaxy J7 (Sm-J700X)",
          "Id: Apple iPhone 5C (A1456)",
          "Id: Zte Blade V8 Lite Blade V8 Lite Zte Blade V8 Se",
          "Id: Huawei Hry-Lx1",
          "Id: Asustek Wireless-Ac1200 Lte Router",
          "Id: Samsung Galaxy J7 (Sm-J710X)",
          "Id: Lenovo Moto C Plus Lc12988845",
          "Id: Samsung Galaxy S4 (Gt-I9505)",
          "Id: Huawei Dli-L22",
          "Id: Crosscall Action-X3",
          "Id: Sony Mobile Comm. Xperia X",
          "Id: Doro Ab Doro 8030 Doro 8028 Doro 8031 Doro 8030C Doro 8031C",
          "Id: Samsung Gt-S5690",
          "Id: Simcom Wireless. Simcom Sim900",
          "Id: Asustek Asus Asus_Z00Ada",
          "Id: Samsung Galaxy J5 Prime Dual-Sim (Sm-G570F Ds)",
          "Id: Samsung Galaxy Ace (Gt-S5839I)",
          "Id: Samsung Galaxy Xcover2 Gt-S7710",
          "Id: Sonaki Corporati. Crown Japan Cr-Mp3019",
          "Id: Samsung Galaxy Core Prime (Sm-G361F)",
          "Id: Huawei Hwi-Al00",
          "Id: Xiaomi Communica. M1804C3Dg",
          "Id: Htc One A9",
          "Id: Oneplus Technolo. Oneplus5T",
          "Id: Huawei Ascend G6",
          "Id: Nokia N8-00",
          "Id: Samsung Sm-G389F",
          "Id: Microsoft Mobile. Nokia Lumia 635 Rm-974",
          "Id: Gotron (Hk) Elec. Gemini",
          "Id: Apple iPhone 5S (A1457)",
          "Id: Logicom Sa L-Ement 400",
          "Id: Oppo 1201",
          "Id: Tcl Communicatio. U3 3G",
          "Id: Samsung Galaxy A5 (Sm-A500X)",
          "Id: Xiaomi Communica. Redmi Note6 Pro",
          "Id: Archos Sa 50 Titanium 4G",
          "Id: Samsung Galaxy Trend Lite 2 (Sm-G318X)",
          "Id: Wiko Global Sasu Wiko Freddy",
          "Id: Huawei Sla-L22",
          "Id: Asustek Asus Zs620Kl Zenfone 5Z",
          "Id: Samsung Galaxy A3 (Sm-A310X)",
          "Id: Apple iPhone 5 (A1429)",
          "Id: Rim Blackberry Rhd131Lw (Str100-1)",
          "Id: Sony Mobile Comm. Pm-1181-Bv",
          "Id: Samsung Galaxy Note 2 (Gt-N7100)",
          "Id: Wiko Global Sasu Wiko Sunny",
          "Id: Samsung Galaxy S5 Lte-A (Sm-G901X)",
          "Id: Sony Mobile Comm. Xperia Z3+ Dual",
          "Id: Asustek Asus Zb633Kl Zenfone Max M2",
          "Id: Archos Sa 55B Platinum",
          "Id: Oneplus Technolo. Oneplus 5T",
          "Id: Samsung Galaxy A5 (Sm-A510X)",
          "Id: Sony Mobile Comm. Xperia E5",
          "Id: Xiaomi Communica. Redmi Note4X",
          "Id: Samsung Sm-G110H",
          "Id: Sony Mobile Comm. Sony Xperia Z (C6603)",
          "Id: Sony Mobile Comm. Xperia Xz2 Compact",
          "Id: Samsung Galaxy Mega (Gt-I9205)",
          "Id: Htc Desire 510",
          "Id: Apple iPad Mini 4 (A1550)",
          "Id: Samsung Galaxy Note 4 (Sm-N910X)",
          "Id: Samsung Galaxy Trend (Gt-S7560)",
          "Id: Shenzhen Fortune. Nh001",
          "Id: Lenovo Moto G (5Th Gen) Indr003546",
          "Id: Samsung Galaxy A3 (Sm-A300X)",
          "Id: Sonim Technologi. Sonim Xp7",
          "Id: Apple iPhone 5S (A1533)",
          "Id: Apple iPhone 5C (A1532)",
          "Id: Tcl Communicatio. Alcatel Onetouch Pixi 3 (4.5)",
          "Id: Tp-Link Technolo. X1 Lite",
          "Id: Sony Mobile Comm. Xperia Z5",
          "Id: Sony Mobile Comm. Xperia Xa Ultra",
          "Id: Lg-K100",
          "Id: Logicom Sa Logicom B Bot 50",
          "Id: Doro Ab Doro 6530 Doro 6531",
          "Id: Sony Ericsson Lt15I",
          "Id: Sony Mobile Comm. Xperia Xa1",
          "Id: Infinix Technolo. Hot 6",
          "Id: Shenzhen Fortune. M-Ppas6",
          "Id: Sony Mobile Comm. Pm-1151-Bv",
          "Id: Xiaomi Communica. Pocophone F1",
          "Id: Apple iPhone 3Gs (A1303)",
          "Id: Lg Lg-D722",
          "Id: Huawei Y5Ii",
          "Id: Sony Mobile Comm. Xperia Z5 Compact",
          "Id: Microsoft Mobile. Rm-1072 Lumia 640 Lte",
          "Id: Asustek Asus Zc553Kl Zenfone 3 Max",
          "Id: Xiaomi Communica. Redmi 4X",
          "Id: Samsung Sm-G357Fz",
          "Id: Huawei Y635",
          "Id: Sony Mobile Comm. Xperia L1",
          "Id: Sony Mobile Comm. Xperia M4 Aqua",
          "Id: Oppo Cph1701",
          "Id: Lenovo Moto G Play (4Th Gen) Ju12797645",
          "Id: Xiaomi Communica. Redmi Note5",
          "Id: Samsung Galaxy Ace 2 (Gt-I8160)",
          "Id: Zebra Technologi. Mc659B",
          "Id: Lenovo Moto E Plus (4Th Gen) Go12071045",
          "Id: Huawei Maya",
          "Id: Lg Lg-E610",
          "Id: Wiko Global Sasu Wiko Jerry",
          "Id: Huawei Honor 8 Lite",
          "Id: Sony Mobile Comm. Sony St21I Xperia Tipo",
          "Id: Samsung Galaxy S (Gt-I9000)",
          "Id: Asustek Asus Zenfone2 Laser Ze601Kl",
          "Id: Oppo Cph1729",
          "Id: Wiko Global Sasu Wiko Pulp Fab 4G",
          "Id: Hmd Global Oy Ta-1080",
          "Id: Spa Condor Elect. Allure M3",
          "Id: Shanghai Chengyu. Pp6000",
          "Id: Shenzhen Jeko Co. Blackview Bv9000 Pro",
          "Id: Samsung Galaxy Trend Lite (Gt-S7390)",
          "Id: Wiko Global Sasu View Go",
          "Id: Qingdao Hisense. Starxtrem 6",
          "Id: Huawei Fig-Al00",
          "Id: Telit Le910-Eug",
          "Id: Sony Mobile Comm. Xperia E4",
          "Id: Oppo Cph1725",
          "Id: Samsung Xcover 3 (Sm-G388X)",
          "Id: Lg Lg-T385",
          "Id: Lenovo Moto G Play (4Th Gen) Ju12738345",
          "Id: Wiko Global Sasu Wiko Sunset2",
          "Id: Huawei P8Max",
          "Id: Sony Mobile Comm. Xperia Xa",
          "Id: Huawei P9 Lite",
          "Id: Concox Informati. Gt06E Gt06F Gv20",
          "Id: Lg-H860",
          "Id: Hmd Global Oy Nokia 6.1 Ds",
          "Id: Samsung Galaxy S3 Neo(Gt-I9301X)",
          "Id: Huawei Ascend Y600",
          "Id: Samsung Galaxy S3 Mini Ve(Gt-I8200X)",
          "Id: Crosscall Trekker-M1",
          "Id: Htc Desire 820",
          "Id: Xiaomi Communica. Redmi 3S",
          "Id: Xiaomi Communica. B3",
          "Id: Htc U Play",
          "Id: Sony Mobile Comm. Xperia Xa1 Ultra",
          "Id: Xiaomi Communica. Redmi 6",
          "Id: Htc 2Q5V100",
          "Id: Nokia 925.1 925.4 Lumia 925 Nokia 925",
          "Id: Samsung Galaxy S4 Mini (Gt-I9195)",
          "Id: Hmd Global Oy Nokia 8 Ss",
          "Id: Crosscall Trekker-M1 Core",
          "Id: Samsung Galaxy Note 9",
          "Id: Lephone U Pro",
          "Id: Xiaomi Communica. Redmi S2",
          "Id: Umi Network Tech. One Pro",
          "Id: Huawei Col-Al10",
          "Id: Doro Ab Doro Phoneeasy 632",
          "Id: Sony Mobile Comm. Xperia Xz",
          "Id: Crosscall Trekker-X4",
          "Id: Huawei Mate 10 Pro",
          "Id: Xiaomi Communica. Redmi 5Plus",
          "Id: Oneplus Technolo. Oneplus 3T",
          "Id: Microsoft Mobile. Rm-1089 Microsoft Lumia 535",
          "Id: Lg Nexus 5X",
          "Id: Logicom Sa Logicom Le Moov",
          "Id: Samsung Galaxy A7 (Sm-A700X)",
          "Id: Shenzhen Chainwa. C70",
          "Id: Asustek Asus Zenfone2 Ze551Ml",
          "Id: Logicom Sa L-Ement 505 T580",
          "Id: Asustek Zenfone Max Pro(M1)",
          "Id: Samsung Galaxy J2 (Sm-J200X)",
          "Id: Xiaomi Communica. Mi A2",
          "Id: Apple iPad (A1954)",
          "Id: Wiko Global Sasu View2",
          "Id: Maysun Info Tech. M5046",
          "Id: Huawei Bln-Tl10",
          "Id: Shenzhen Sprocom. Fly Iq4490",
          "Id: Huawei Frd-Al10",
          "Id: Hmd Global Oy Ta-1063",
          "Id: A-Link Telecom I. Cubot A5",
          "Id: Apple iPhone 4 (A1332)",
          "Id: Tinno Mobile Tec. Tinno S9111",
          "Id: Zebra Technologi. Symbol Tc55Bh",
          "Id: Microsoft Mobile. Rm-1085 Microsoft Lumia 950 Xl",
          "Id: Htc Desire 825",
          "Id: Meizu Technology. M5",
          "Id: Samsung Galaxy Note 3 (Sm-N9005)",
          "Id: Samsung Galaxy J2 Core Sm-J260F Ds",
          "Id: Lenovo Lenovo A6020A40",
          "Id: Wiko Global Sasu Wiko Tommy",
          "Id: China Trade Grou. Ed1",
          "Id: Huawei Honor",
          "Id: Nokia 1661-2 1661",
          "Id: Sony Mobile Comm. Xperia M2 Dual",
          "Id: Doro Ab Doro 6520 Doro 6521",
          "Id: Fully Holdings (. C8 4G",
          "Id: Samsung Galaxy Note 3 (Sm-N900X)",
          "Id: Xiaomi Communica. Redmi 5 Plus",
          "Id: Samsung Galaxy A9 2018",
          "Id: Asustek Asus Zenfone Go Zb500Kl",
          "Id: Huawei P10 Plus",
          "Id: Meizu Technology. M5 Note",
          "Id: Quectel Wireless. Quectel M10",
          "Id: Samsung Galaxy Tab A (Sm-T555)",
          "Id: Archos Sa 50 Saphir",
          "Id: Samsung Galaxy Ace 3 (Gt-S7275)",
          "Id: Group Acquisitio. Cirrus 5",
          "Id: Acer Liquid Z630",
          "Id: Samsung Galaxy S4 (Gt-I9515)",
          "Id: Power Idea Techn. Ruggear Rg230 Ruggear Rg500 I.Safe Innovation2.0",
          "Id: Apple iPhone Xs (A2098)",
          "Id: Htc Desire 310",
          "Id: Tcl Communicatio. Alcatel Pop4 6 4G 7070X",
          "Id: Lenovo D012064645",
          "Id: Modelabs Clap Plus 2",
          "Id: Samsung Gt-B3210C",
          "Id: Logicom Sa L-Ement 553",
          "Id: Tcl Communicatio. Pixi 4 6 4G Android",
          "Id: Sony Mobile Comm. Sony St26I",
          "Id: Asustek Asus Zenfone 3 Max Zc520Tl",
          "Id: Microsoft Mobile. Rm-1152 Microsoft Lumia 650",
          "Id: Huawei G8 Huawei Gx8 Huawei G7 Plus",
          "Id: Htc Windows Phone 8S By Htc",
          "Id: Kvd Internationa. Doogee X60L",
          "Id: Huawei Mate 9 Pro Porsche Design Huawei Mate 9",
          "Id: Spa Condor Elect. P4",
          "Id: Lenovo Moto Z Play Vx12752445",
          "Id: Samsung Galaxy Mini (Gt-S5570)",
          "Id: Lenovo Moto G With 4G Motorola M0Fa8",
          "Id: Lg-H791",
          "Id: Shenzhen Jeko Co. Blackview Bv6000",
          "Id: Huawei P Smart",
          "Id: Zte Blade A452 Blade A452",
          "Id: Samsung Galaxy S5 Neo (Sm-G903)",
          "Id: Htc Desire 610",
          "Id: Gemalto M2M Gmbh Cinterion Ehs6",
          "Id: A-Link Telecom I. Cubot Note Plus",
          "Id: Lenovo K Pro",
          "Id: Microsoft Mobile. Rm-1127 Microsoft Lumia 550",
          "Id: Samsung Gt-S5660",
          "Id: Asustek Zc550Kl Zenfone Max",
          "Id: Nubia Technology. Nx569H",
          "Id: Samsung Galaxy S2 (Gt-I9100)",
          "Id: Sony Ericsson St25I Xperia U",
          "Id: Lenovo Moto Z Play (2Nd Gen) Ho12005845",
          "Id: Sintave Technolo. Sintave S1000",
          "Id: Archos Sa 55 Diamond Selfie ( Lite)",
          "Id: Lg-K420N",
          "Id: Microsoft Mobile. Rm-1104 Microsoft Lumia 950",
          "Id: Lenovo Moto X (2Nd Generation) X112360445",
          "Id: Kvd Internationa. Doogee X20",
          "Id: Lenovo Moto G (2Nd Generation) Xt1064 Ti12402745",
          "Id: Acer Liquid Zest Plus",
          "Id: Xiaomi Communica. Mi A2 Lite",
          "Id: Nokia Lumia 635 Rm-974",
          "Id: Crosscall Action-X3 Pro",
          "Id: Samsung Galaxy Y",
          "Id: Civicom Technolo. European",
          "Id: Yota Devices Yotaphone2",
          "Id: Wiko Global Sasu Rainbow Jam 4G",
          "Id: Spa Condor Elect. Allure M1",
          "Id: Samsung Galaxy Tab A (Sm-T285)",
          "Id: Samsung Galaxy Tab S2 (Sm-T719)",
          "Id: Rim Blackberry Rhm181Lw (Stv100-4)",
          "Id: Crosscall Core-X3",
          "Id: Nokia 800 Nokia 800",
          "Id: Microsoft Mobile. Nokia Lumia 530 Dual Sim Rm-1019",
          "Id: Asustek Asus Zc521Tl Zenfone 3S Max",
          "Id: Samsung Galaxy S4 (Gt-I9500)",
          "Id: Huawei Mate 8",
          "Id: Dn Electronics Surnaturel R500",
          "Id: Tcl Communicatio. U5",
          "Id: Hmd Global Oy Nokia 6 Ss",
          "Id: Lenovo Moto G (5Th Gen S) D012081145",
          "Id: Fairphone B.V Fairphone 2",
          "Id: Samsung Galaxy Young (Gt-S5310)",
          "Id: Microsoft Mobile. Rm-1011 Nokia 225 Dual Sim",
          "Id: Nokia Rm-1089 Lumia 535 Microsoft Lumia 535",
          "Id: Wct Uno",
          "Id: Archos Sa 55 Helium (Ultra)",
          "Id: Huawei Stf-Al10",
          "Id: Tp-Link Technolo. Tp-Link Tp701A",
          "Id: Huawei Y9 2019",
          "Id: Xiaomi Communica. M1806E7Tg",
          "Id: Nokia 920.1 Lumia 920 Rm-821",
          "Id: Lg-H850",
          "Id: Lenovo Moto X Style",
          "Id: Sony Ericsson St25I - Xperia U",
          "Id: Xiaomi Communica. Redmi Note5A Prime",
          "Id: Htc Desire 620",
          "Id: Lemobile Informa. Lex720",
          "Id: Huawei B525S-65A",
          "Id: Samsung Gt-I8730",
          "Id: Sony Mobile Comm. Sony C6802 Xl39H",
          "Id: Google Inc G011C",
          "Id: Tct Mobile Suzho. Alcatel Onetouch Idol 3 (4.7)",
          "Id: Logicom Sa L-Ite 552",
          "Id: Asustek Asus Zb570Tl",
          "Id: Asustek Asus Ze500Kl Zenfone 2 Lazer",
          "Id: Samsung Galaxy Note (Gt-N7000)",
          "Id: Wiko Global Sasu Wiko Wim Lite",
          "Id: Zte A2016",
          "Id: Wiko Global Sasu View Lite",
          "Id: Huawei Y6",
          "Id: Zte Blade A506 Blade A506",
          "Id: Sony Mobile Comm. Xperia E4G Dual",
          "Id: Sony Mobile Comm. Xperia Z3 Compact",
          "Id: Lgms631",
          "Id: Logicom Sa L-Ite 400M",
          "Id: Xiaomi Communica. M1902F1G",
          "Id: Umi Network Tech. Umidigi Z1 Pro",
          "Id: Sony Ericsson St17I",
          "Id: Modelabs Horizon M",
          "Id: Lenovo Moto G (5Th Gen) Da12985045",
          "Id: Htc Desire 820G Plus Dual Sim",
          "Id: Tcl Communicatio. Alcatel Pixi 4 5045D",
          "Id: Microsoft Mobile. Nokia Rm-974 Nokia Lumia 635",
          "Id: Razer Inc Razer Phone 2",
          "Id: Doke Communicati. Blackview Bv6800 Pro",
          "Id: Shenzhen Kelly T. Kliton Kailitong F168",
          "Id: Samsung Galaxy J1 Mini Prime (Sm-J106B)",
          "Id: Wiko Global Sasu Wiko Jimmy",
          "Id: Logicom Sa Le Lift",
          "Id: Huawei Gr5 2017 Huawei Mate 9 Lite",
          "Id: Itel Technology. S31",
          "Id: Htc One",
          "Id: Qingdao Hisense. Staraddict 6",
          "Id: Lg-K520",
          "Id: Htc 2Pya210",
          "Id: Wiko Global Sasu Lenny2",
          "Id: Shenzhen Jsr Tec. Innos K502",
          "Id: Wiko Global Sasu Harry2",
          "Id: Nokia Rm-1045 Lumia 930 Nokia 930",
          "Id: Lenovo Moto X Play Lx12506245",
          "Id: Samsung Galaxy S5 (Sm-G900W8)",
          "Id: Kvd Internationa. Doogee S60",
          "Id: Hmd Global Oy Nokia 2 Ds",
          "Id: Rim Blackberry Passport Sqw100-1 Rgy181Lw",
          "Id: Samsung Gt-I9105P",
          "Id: Lenovo Ro12524245",
          "Id: Tcl Communicatio. Blackberry Bbb100-2",
          "Id: Sony Mobile Comm. Sony Xperia Z2 (D6503)",
          "Id: Ecom Instruments. Ecom Mobile Safety Ex-Handy 209",
          "Id: Lg-H870Ds",
          "Id: Nokia Lumia 635 Rm-975",
          "Id: Wiko Global Sasu Wiko View Prime",
          "Id: Sony Mobile Comm. Pm-0951-Bv",
          "Id: Tcl Communicatio. Pop 4+",
          "Id: Quanta 1Kg",
          "Id: Oppo Cph1877",
          "Id: Samsung Galaxy Note5 (A3Lsmn920P)",
          "Id: Samsung Galaxy Note 3 (Sm-N9002)",
          "Id: Tcl Communicatio. Alcatel M812F",
          "Id: Qingdao Hisense. Hisense F17 Pro",
          "Id: Asustek Asus Zc550Tl",
          "Id: Huawei Ascend Y330",
          "Id: Archos Sa Archos 50C Platinum",
          "Id: Nokia Rm-998 525 Lumia 525 Nokia 525",
          "Id: Samsung Galaxy A6 (Sm-A605F)",
          "Id: Infinix Technolo. Note 3 Pro",
          "Id: Huawei Bnd-Al10",
          "Id: Tct Mobile Suzho. 7048A",
          "Id: Logicom Sa L-Ite 504Hd",
          "Id: Lenovo Moto G (4Th Gen) Af12802745",
          "Id: Oppo Pacm00",
          "Id: Samsung Galaxy Tab A2 Xl",
          "Id: Lenovo Moto G Plus (4Th Gen) Af12802845",
          "Id: Samsung Galaxy S3 Mini (Gt-I8190)",
          "Id: Microsoft Mobile. Microsoft Rm-1089 Microsoft Lumia 535",
          "Id: Lenovo Moto G (2Nd Generation) Xt1068 Indr000145",
          "Id: Wistron M18Qw",
          "Id: Samsung Galaxy Note 5 (Sm-N920X)",
          "Id: Logicom Sa L-Egant One",
          "Id: Mikrotikls Sia R11E-Lte",
          "Id: Samsung Galaxy J4 Core",
          "Id: Lg Leon",
          "Id: Nokia 625 Lumia 625",
          "Id: Kvd Internationa. Doogee X30",
          "Id: Apple iPhone 7 (A1780)",
          "Id: Tcl Communicatio. Alcatel 1",
          "Id: Xiaomi Communica. M1808D2Tg",
          "Id: Lenovo K520",
          "Id: Asustek Asus Zenfone Max Pro Zb631Kl",
          "Id: Teletalk Pvt Ltd Colors Cl220+",
          "Id: Microsoft Mobile. Microsoft Rm-1099 Microsoft Lumia 435 Dual Sim",
          "Id: Wiko Global Sasu Wiko Rainbow Getaway",
          "Id: Tct Mobile Suzho. Alcatel Onetouch Pop2 4.5",
          "Id: Shenzhen Jeko Co. Blackview Bv4000",
          "Id: Zte Blade V7 Lite Blade V6 Plus Zte Blitz",
          "Id: Wiko Global Sasu Wiko Lenny4 Plus",
          "Id: Shenzhen Guowei. V6304",
          "Id: Oneplus Technolo. Oneplus A3003",
          "Id: Shenzhen Gaoxinq. Gaoxinqi Et110",
          "Id: Microsoft Mobile. Rm-1116 Microsoft Lumia 950 Xl",
          "Id: Hmd Global Oy Ta-1049",
          "Id: Rim Blackberry (Q5)",
          "Id: Kapsys Smartvision Kapsys Smartvision By Kapsys Smartconnect",
          "Id: Lg Ck",
          "Id: Apple iPad 3 (A1430)",
          "Id: Samsung Galaxy Note 2 (Gt-N7105)",
          "Id: Sony Mobile Comm. Xperia E4G",
          "Id: Lenovo Motorola Razr I Sm12334645 M0D12 Xt890",
          "Id: Samsung Galaxy S9 Sm-G960N",
          "Id: Huawei Nova 2I Huawei Mate 10 Lite",
          "Id: Sony Mobile Comm. Sony Xperia M2",
          "Id: Gigaset Communic. Gs185",
          "Id: Logicom Sa Le Smooth",
          "Id: Tp-Link Technolo. C5A",
          "Id: Wiko Global Sasu Wiko U Pulse",
          "Id: Sony Mobile Comm. Xperia X Compact",
          "Id: Nokia Rm-941 625 Lumia 625",
          "Id: Zte Mf190",
          "Id: Haier G50 L54",
          "Id: Asustek Asus Zb552Kl Zenfone Go",
          "Id: Qingdao Hisense. S41",
          "Id: Tianyu K-Touch M7",
          "Id: Acer Liquid Z220",
          "Id: Hmd Global Oy Nokia 8110 4G Ds",
          "Id: Source (Hk) Ltd J-Max Zara-Zara",
          "Id: Asustek Asus Zenfone 3 Laser Zc551Kl",
          "Id: Doro Ab Doro 8040",
          "Id: Rim 9000 (At&T)",
          "Id: Xiaomi Communica. H3A",
          "Id: Sony Mobile Comm. Xperia Z2",
          "Id: Shenzhen New Cha. Cb358",
          "Id: Lg Lg-D315",
          "Id: Power Idea Techn. Rg730 Md501 D1",
          "Id: Gemalto M2M Gmbh Cinterion Ehs5-E",
          "Id: Ddm Brands Llc Andy 5Ei3",
          "Id: Nokia Rm-1017 530 Lumia 530",
          "Id: Sony Mobile Comm. Pm-1190-Bv",
          "Id: Oppo Cph1821",
          "Id: Microsoft Mobile. Rm-1090 Microsoft Lumia 535 Dual Sim",
          "Id: Lenovo Moto G (3Rd Gen)",
          "Id: Huawei Nova 3I",
          "Id: Htc U11",
          "Id: Telit Le910-Eu V2",
          "Id: Dg Homtom Group. Homtom Ht16",
          "Id: Wiko Global Sasu Wiko Ridge 4G",
          "Id: Acer Liquid Z530",
          "Id: Fully Holdings (. K10",
          "Id: Lg V20",
          "Id: Dg Homtom Group. Homtom Ht3",
          "Id: Apple iPhone Xs (A2100)",
          "Id: Lenovo Nexus 6 Valocia",
          "Id: Huawei Lld-Al30",
          "Id: Lg Optimus L5 Ii",
          "Id: Lenovo K6",
          "Id: Lg C70",
          "Id: Sierra Wireless Mc7710",
          "Id: Samsung Gt-I8260",
          "Id: Leagoo Intl Co. . Leagoo Lead 6 Lead 5 Lead 7",
          "Id: Tcl Communicatio. Alcatel Pixi 4 (4) 4034X",
          "Id: Tcl Communicatio. Alcatel 3V",
          "Id: A-Link Telecom I. Cubot Nova",
          "Id: Shenzhen Leagoo. Leagoo M9 Pro",
          "Id: Wiko Global Sasu Fever",
          "Id: Sony Mobile Comm. Xperia Z5 Dual",
          "Id: Lg-H410",
          "Id: Huawei Stf-Tl10",
          "Id: Tcl Communicatio. Alcatel A3",
          "Id: Neel Enterprise Kolor Crosscall Odyssey",
          "Id: Meizu Technology. Mx6",
          "Id: Htc Clic100",
          "Id: Oppo A37Fw",
          "Id: Huawei Y3",
          "Id: Archos Sa Archos 50 Cobalt Bush Spira B3 5",
          "Id: Htc Desire 728",
          "Id: Wiko Global Sasu Wiko Wax",
          "Id: Oneplus Technolo. One E1003",
          "Id: Meizu Technology. Meizu U20",
          "Id: Lg G4",
          "Id: Apple iPhone 5S (A1528)",
          "Id: Huawei Lld-Al10",
          "Id: Lenovo Al12415545",
          "Id: Gigaset Communic. Gs100",
          "Id: Tct Mobile Suzho. Alcatel Onetouch Pop S7",
          "Id: Lemobile Informa. Le X527",
          "Id: Wiko Global Sasu Wiko Highway Pure",
          "Id: Nokia Rm-1090 Lumia 535 Dual Sim Microsoft Lumia 535 Dual Sim",
          "Id: Huawei E3372",
          "Id: Shenzhen Jeko Co. Blackview Bv5800",
          "Id: Xiaomi Communica. M1803E1A",
          "Id: Huawei Porsche Design Huawei Mate Rs",
          "Id: Samsung Gt-I5510",
          "Id: Samsung Galaxy Xcover 2 Gt-S7710",
          "Id: Samsung Gt-C3590",
          "Id: Lemobile Informa. Lex626",
          "Id: Shenzhen Jeko Co. Blackview Bv7000",
          "Id: Microsoft Mobile. Rm-1118 Microsoft Lumia 950",
          "Id: Bullitt Group Li. Cat S30",
          "Id: Wiko Global Sasu Wiko Kite",
          "Id: Xiaomi Communica. C3",
          "Id: Bullitt Group Li. S61",
          "Id: D-Link Corporati. Dwr-932",
          "Id: Huawei U8825-1",
          "Id: Huawei Ascend Mate7",
          "Id: Xiaomi Communica. M1805D1Sg",
          "Id: Huawei Jkm-Lx1",
          "Id: Sony Mobile Comm. Sony Lt30P",
          "Id: Wiko Global Sasu Wiko Lenny",
          "Id: Huawei E5220S-2",
          "Id: Microsoft Mobile. Microsoft Rm-1071 Microsoft Lumia 435",
          "Id: Lenovo Lenovo A Plus Lenovo Vibe A Plus",
          "Id: Concox Informati. Gt06",
          "Id: Archos Sa 50B Cobalt (Lite)",
          "Id: Doro Ab Doro Liberto 822 Doro 8031",
          "Id: Microsoft Mobile. Microsoft Rm-1090 Microsoft Lumia 535 Dual Sim",
          "Id: Kvd Internationa. Doogee Y6 C",
          "Id: Vivo Mobile Comm. Vivo Vivo X21A",
          "Id: Logicom Sa Logicom Power Bot",
          "Id: Spa Condor Elect. Allure M2",
          "Id: Shenzhen Fortune. Ss5804G",
          "Id: Lemobile Informa. Lex622",
          "Id: Archos Sa Access 50 4G",
          "Id: Kvd Internationa. Doogee S55 Lite",
          "Id: Adar Stanley Mobile S231",
          "Id: Nokia Lumia 520 Nokia 520",
          "Id: Rim Blackberry Sta100-2 Z30 Rfw121Lw",
          "Id: Ck Telecom Limit. M1",
          "Id: Kenxinda Victor Vm-66 N6000 K6",
          "Id: Tcl Communicatio. Blackberry Bba100-2",
          "Id: Archos Sa Archos 40 Helium",
          "Id: Samsung Galaxy Express Gt-I8730",
          "Id: Sentar Wireless. Sentar V80",
          "Id: Tecno Telecom (H. Phantom6 Plus",
          "Id: Lenovo A6020A40",
          "Id: Kiwip Technologi. Montre Telephone Connectee Kiwip",
          "Id: Shenzhen Jeko Co. Blackview Bv5800 Pro",
          "Id: Archos Sa Access 45 4G",
          "Id: Alif Communicati. Pulian Cm84",
          "Id: Rim Blackberry Sqc100-1 Rhh151Lw",
          "Id: Apple iPad Pro 12.9 (A1671)",
          "Id: Nokia Rm-1019 Lumia 530 Dual Sim",
          "Id: Lenovo Al12492145",
          "Id: Apple iPad Mini (A1600)",
          "Id: Microsoft Mobile. Nokia Lumia 630 Rm-976",
          "Id: Samsung Galaxy Note Edge (Sm-N915X)",
          "Id: Zebra Technologi. Mc5574",
          "Id: Kvd Internationa. Doogee X10",
          "Id: Pt. Arga Mas Les. Advan S35D",
          "Id: Nokia 620 Lumia 620 Nokia 620",
          "Id: Samsung Galaxy S4 Active Gt-I9295",
          "Id: Samsung Metro 350",
          "Id: Lg Lg-X145",
          "Id: Bullitt Group Li. S41",
          "Id: Sony Mobile Comm. Sony C1505 - Xperia E",
          "Id: Huawei Nexus 6P",
          "Id: Huawei Fig-Al10",
          "Id: Xiaomi Communica. B6L",
          "Id: Sony Mobile Comm. Sony C5303 -Xperia Sp",
          "Id: Asustek Zenfone 4 Selfie Pro",
          "Id: Huawei Tit-Al00 Huawei Y6 Pro",
          "Id: Lg Lm-X410Eow",
          "Id: Wiko Global Sasu Wiko Rainbow Jam",
          "Id: Huawei Dli-Al10",
          "Id: Ddm Brands Llc Andy 5El Lte",
          "Id: Kvd Internationa. Doogee S30",
          "Id: Xiaomi Communica. Redmi Note3",
          "Id: Huawei Vns-Dl00",
          "Id: Tcl Communicatio. A7 Xl",
          "Id: Nubia Technology. M2 Play",
          "Id: Microsoft Mobile. Rm-1062 Lumia 640 Xl Lte",
          "Id: Sony Mobile Comm. Xperia M4 Aqua Dual",
          "Id: Hmd Global Oy Ta-1003",
          "Id: Mptech Hammer Energy 18X9",
          "Id: Huawei Ascend G620S",
          "Id: Oppo Cph1723",
          "Id: Lg-M160",
          "Id: Lg Lg-P700",
          "Id: Tcl Communicatio. Alcatel Idol4 6055K",
          "Id: Samsung Galaxy A7 (Sm-A730F)",
          "Id: Kapsys Smartvision2 Smartconnect2",
          "Id: Huawei Y7",
          "Id: Huawei Bkl-Tl10",
          "Id: Samsung Galaxy Trend Plus (Gt-S7580)",
          "Id: Kazam Mobile Lim. Kazam Trooper 451",
          "Id: Ddm Brands Llc Energy S550",
          "Id: Tct Mobile Suzho. Alcatel One Touch 6010X",
          "Id: Nokia Rm-914 520 Lumia 520 Nokia 520",
          "Id: Nokia X",
          "Id: Shenzhen Huadoo. Huadoo Hg03",
          "Id: Tct Mobile Suzho. Alcatel One Touch Y580D",
          "Id: Lenovo Xt1772",
          "Id: Tct Mobile Suzho. Alcatel One Touch Pop C1 Alcatel One Touch Pop C1 Alcatel One Touch Pixi2",
          "Id: Yi Sheng Technol. Gretel A7",
          "Id: Wiko Global Sasu Wiko Highway 4G",
          "Id: Lenovo Motorola Moto G (2Nd Generation) Xt1068 Ti12402545",
          "Id: Huawei Honor 6",
          "Id: Kvd Internationa. Doogee Mix",
          "Id: Samsung Gt-I8700",
          "Id: Tcl Communicatio. Alcatel Onetouch 5070D",
          "Id: Huawei E8372",
          "Id: Shenzhen Fortune. X8610",
          "Id: Tecno Telecom (H. C9",
          "Id: Samsung Galaxy J7 Prime Duos (Sm-G610F Dd)",
          "Id: Sony Mobile Comm. Sony Xperia Z1 (C6903)",
          "Id: Hmd Global Oy Ta-1109",
          "Id: Sony Mobile Comm. Sony Xperia Z1 Compact (D5503)",
          "Id: Wiko Global Sasu Wiko Goa",
          "Id: Nubia Technology. Z17S",
          "Id: Lenovo Lenovo B Lenovo Vibe B",
          "Id: Oppo A33F",
          "Id: Doro Ab Doro Liberto 820",
          "Id: Samsung Galaxy Wave Y (Gt-S5380)",
          "Id: Microsoft Mobile. Nokia Lumia 530 Rm-1017",
          "Id: Tianlong Interna. Uphone S922 Uphone S930",
          "Id: Lenovo Lenovo K52E78",
          "Id: Tinno Mobile Tec. Tinno S9201",
          "Id: Wiko Global Sasu Wiko Rainbow Up 4G",
          "Id: Doro Ab Doro Liberto 825",
          "Id: Tct Mobile Suzho. Alcatel Onetouch Pop S3",
          "Id: Lenovo Moto E Plus (4Th Gen)",
          "Id: Lenovo Moto E (4Th Gen)",
          "Id: Yop Technology C. Maze Alpha",
          "Id: Archos Sa Access 55 3G",
          "Id: Doro Ab Doro 8030 Doro 8028 Doro 8031",
          "Id: Xiaomi Communica. Redmi 2",
          "Id: Lg-H811",
          "Id: Hmd Global Oy Nokia 3",
          "Id: Qingdao Hisense. Cmb510",
          "Id: Zyxel Communicat. Zyxel Wah7706",
          "Id: Haier Hw-W717 Hw-W816 Hw-W870",
          "Id: A-Link Telecom I. Cubot R9",
          "Id: Oneplus Technolo. One A0001",
          "Id: Meizu Technology. Mx5 Pro",
          "Id: Sfr Starxtrem5",
          "Id: Hmd Global Oy Nokia 1",
          "Id: Xiaomi Communica. Mi Mix2",
          "Id: Asustek Asus Zb500Kg",
          "Id: Samsung Gt-I5800",
          "Id: Nokia 820.1 Lumia 820",
          "Id: Tp-Link Technolo. C7 Y7",
          "Id: Shenzhen Diadem. Liquid Z6",
          "Id: Xiaomi Communica. Redmi Note5A",
          "Id: Lg-X210",
          "Id: Samsung Galaxy Mobile (E.G. A3Lschi535)",
          "Id: Sony Mobile Comm. Xperia M5",
          "Id: Wiko Global Sasu Wiko Darkmoon Slide",
          "Id: Asustek Asus Ze550Kl Zenfone2 Laser",
          "Id: Ecom Instruments. Ecom Mobile Safety Smart-Ex 201",
          "Id: Shenzhen Jeko Co. Blackview Bv5000",
          "Id: Fully Holdings (. Oukitel C2",
          "Id: Wileyfox Europe. Wileyfox Spark",
          "Id: Microsoft Mobile. Nokia Lumia 630 Dual Sim Rm-978",
          "Id: Huawei Y3Ii",
          "Id: Archos Sa Sense 55S",
          "Id: Huawei P9 Plus",
          "Id: Nokia Rm-976 Lumia 630",
          "Id: Nokia Lumia 1020",
          "Id: Tcl Communicatio. B-Luna",
          "Id: Xiaomi Communica. Mi Max3",
          "Id: Lg-H791F",
          "Id: Shenzhen Xin Kin. V18H",
          "Id: Samsung Galaxy J1 Pop (Sm-J110X)",
          "Id: Sfr Startrail 6",
          "Id: Power Idea Techn. Rg160",
          "Id: Simcom Wireless. Sim800H",
          "Id: Nokia Lumia 925 Lumia 925",
          "Id: Xiaomi Communica. Mi 5X",
          "Id: Lenovo Moto G (5Th Gen) Da12936945",
          "Id: Tct Mobile Suzho. Alcatel One Touch Pop C5",
          "Id: Qingdao Hisense. Hisense L830",
          "Id: Sony Mobile Comm. Pm-0953-Bv",
          "Id: Apple iPhone 4S (A1431)",
          "Id: Sony Ericsson Mt27I - Xperia Sola",
          "Id: Ddm Brands Llc Andy C5V",
          "Id: Lg-K600Y",
          "Id: Huawei Y5 2017",
          "Id: Qingdao Hisense. Hisense L675",
          "Id: Lg Gt540",
          "Id: Oppo R11S",
          "Id: Sdt Electronica Startrail 8",
          "Id: Htc Desire 816",
          "Id: Haier W826",
          "Id: Tcl Communicatio. Alcatel Onetouch Pixi 3 (3.5) 4009X",
          "Id: Lemobile Informa. Le X820",
          "Id: Qingdao Hisense. Hs-U609 Hisense I500U Hisense E260U Hs-U607 Hs-U980 Pure 1 Eco",
          "Id: Zte Blade A2 Plus Zte Blade A610 Plus",
          "Id: Wiko Global Sasu Wiko Iggy",
          "Id: Vastking Technol. Vastking M750",
          "Id: Huawei Ascend Y550",
          "Id: Logicom Sa Logicom Vr Bot 552+",
          "Id: Tct Mobile Suzho. One Touch Idol S",
          "Id: Vivo Mobile Comm. Vivo Vivo X7Plus",
          "Id: Spa Condor Elect. F6",
          "Id: Teletalk Pvt Ltd Colors F016",
          "Id: Htc 2Q55100",
          "Id: Tcl Communicatio. A3 Xl",
          "Id: Nokia Test Imei",
          "Id: Xiaomi Communica. A12A",
          "Id: Shenzhen Xin Kin. V1600",
          "Id: Haier L55",
          "Id: Lg-K100Ds",
          "Id: Htc One Mini",
          "Id: Oppo Pbam00",
          "Id: Gotron (Hk) Elec. Power 5",
          "Id: Huawei Ham-L09",
          "Id: Oppo F1F",
          "Id: Neel Enterprise Kolor Crosscall Trekker-X1",
          "Id: Htc Desire X",
          "Id: Acer Liquid Zest 4G",
          "Id: Avenir Telecom Pm550S",
          "Id: Essential Produc. Ph-1",
          "Id: Tecno Telecom (H. It1506",
          "Id: Lenovo Za12074545",
          "Id: Asustek Asus_Z00D",
          "Id: Tcl Communicatio. Nura 2",
          "Id: Shenzhen Jeko Co. Blackview A20 Pro",
          "Id: Samsung Galaxy Wave 2 (Gt-S8530)",
          "Id: Compal Electroni. Cat B15Q",
          "Id: Lg-M320N",
          "Id: Zte Axon M Zte Axon M Axon M Axon M",
          "Id: Concox Informati. Concox Gt06 Gt06N Tr06",
          "Id: Asustek Asus Zb555Kl Zenfone Max M1",
          "Id: Samsung Galaxy S4 (Sgh-I337M)",
          "Id: Xiaomi Communica. M1807E8A",
          "Id: Lenovo Moto C",
          "Id: Acer Zx Z130",
          "Id: Concox Informati. Jh09",
          "Id: Acer V370 Acer V370 Liquid E2 Duo",
          "Id: Huawei U8815",
          "Id: Sierra Wireless Hl6528Rd-2.8V",
          "Id: Xiaomi Communica. M1805E10A",
          "Id: A-Link Telecom I. Cubot Power",
          "Id: Infinix Technolo. Infinix Surf Bravo",
          "Id: Tcl Communicatio. B-Athena",
          "Id: Tinno Mobile Tec. Tinno S909X S930X S9311 P5003 P6001",
          "Id: Lenovo Moto X (4Th Gen) Ib12266545",
          "Id: Zte Blade A506 Blade A506 Dive 71 Orange Dive 71 D52 Lite",
          "Id: Lenovo Moto G Plus (5Th Gen) Co128983645",
          "Id: Samsung Galaxy Y (Gt-S5369)",
          "Id: Tct Mobile Suzho. Alcatel One Touch 997",
          "Id: Zte Axon 6S Zte Axon 7 Axon 7",
          "Id: Hmd Global Oy Nokia 6 Ds",
          "Id: Tinno Mobile Tec. Lt X33",
          "Id: Umi Network Tech. One",
          "Id: Lg Optimus L3 Lg-E400",
          "Id: Tcl Communicatio. Alcatel Onetouch Pixi 3 (4)",
          "Id: Huawei Y7 Prime",
          "Id: Htc 2Q5W100",
          "Id: Samsung Gt-I5700",
          "Id: Sony Mobile Comm. Xperia X Performance Dual",
          "Id: Shenzhen Malata Liger 81G Smb-E1002 Smb-E8001",
          "Id: Huawei Ascend Y530",
          "Id: Yota Devices Yota Y3",
          "Id: Samsung Galaxy Pocket Gt-S5301",
          "Id: Archos Sa 50 Cesium",
          "Id: Asustek Asus Zenfone Zoom Zx551Ml",
          "Id: Qingdao Hisense. Hisense F24",
          "Id: Samsung Galaxy J7 (Sm-J701F)",
          "Id: Samsung Galaxy S9+",
          "Id: Tct Mobile Suzho. Alcatel Onetouch Pop C2",
          "Id: Lg Lm-G710Em",
          "Id: Lenovo Moto E",
          "Id: Lg-K430Ds",
          "Id: Huawei Vns-Al00",
          "Id: Htc 2Q6E100",
          "Id: Samsung Gt-S5280",
          "Id: Hmd Global Oy Nokia 5 Ss",
          "Id: Samsung Sm-T235",
          "Id: Meizu Technology. M3 Note",
          "Id: Samsung Gt-P5220",
          "Id: Oppo A37F",
          "Id: Logicom Sa Le Must",
          "Id: Lenovo Moto X Play",
          "Id: Gotron (Hk) Elec. Armor X",
          "Id: Lenovo Moto E (3Rd Gen) Ta12892945",
          "Id: Mundo Reader S.L. Aquaris U2 16+2",
          "Id: Samsung Gt-S6790N",
          "Id: Samsung Galaxy Note 8 (Sm-N9500)",
          "Id: Kvd Internationa. Doogee X5 Max Pro",
          "Id: Maysun Info Tech. M5026",
          "Id: Casper Bilgisaya. Via M1"
         ],
         "xaxis": "x",
         "y": [
          15766270.25,
          10008959.5,
          8835179.5875,
          8626397.375,
          8539969.875,
          8493261.7,
          8261994.25,
          8049425.875,
          7944219.875,
          7883135.125,
          7883135.125,
          7883135.125,
          7883135.125,
          7883135.125,
          7883135.125,
          7883135.125,
          7883135.125,
          7883135.125,
          7883135.125,
          7883135.125,
          7883135.125,
          7883135.125,
          7883135.125,
          7883135.125,
          7883135.125,
          7883135.125,
          7878926.875,
          7875141,
          7860290.5,
          7855690.875,
          7825816.875,
          7824987.875,
          7824009.875,
          7805927.46875,
          7800770.875,
          7799327.875,
          7792795.875,
          7782563.875,
          7781238.875,
          7772102.25,
          7770184.875,
          7765034.875,
          7765012.875,
          7760172.875,
          7758654.875,
          7750705.875,
          7740800.875,
          7740469.875,
          7736917.875,
          7731327.875,
          7730197.875,
          7729700.875,
          7727209.875,
          7725323.875,
          7723296.875,
          7722245.875,
          7721760.875,
          7719672.875,
          7718529.875,
          7717976.875,
          7717627.875,
          7716646.875,
          7716034.875,
          7715691.875,
          7715364.875,
          7714055.875,
          7647938,
          7505984,
          7455548,
          7365877,
          7127027.142857143,
          7012387,
          6955145,
          6953317.375,
          6921034.698137172,
          6758994.4375,
          6565552,
          6557557.5625,
          6333526,
          6174932.25,
          6151645,
          6102702,
          6083497,
          6048069.4375,
          6040522.876923077,
          5909550.6,
          5788732,
          5634792,
          5625858.416666667,
          5543276.0625,
          5427626,
          5418564.215707964,
          5375841.006880265,
          5344355.583333333,
          5326230.083333333,
          5219256,
          5207155.916666667,
          5070867,
          5047872,
          5012635.34375,
          4995364,
          4986687.25,
          4982769.787037037,
          4949813.584359606,
          4936304.1875,
          4926435.291666667,
          4919718.691964285,
          4918879.4375,
          4852921,
          4844859.839285715,
          4835101.625,
          4810517.746710527,
          4793937.46875,
          4782916.291666667,
          4705409.95,
          4690656.708333333,
          4678015.84375,
          4651207.291666667,
          4619816.2578125,
          4617708.5625,
          4504821,
          4464125.448863637,
          4381340.3355263155,
          4368911.25,
          4335509,
          4300876.4375,
          4261203.4375,
          4227139,
          4214952.5625,
          4197472.25,
          4150406,
          4136089.4375,
          4115704.9375,
          4083118.96875,
          4071432.775,
          4062697.5,
          4054906.9583333335,
          4045761.0625,
          4019460.8125,
          3998653.5625,
          3994520.5,
          3986263.5625,
          3981877.3125,
          3981582,
          3977535.0625,
          3975954.0625,
          3968193.0625,
          3964121.3125,
          3962233.5,
          3961355.0625,
          3952812.0625,
          3950746.0625,
          3944021.9375,
          3940128.9375,
          3936816.6375,
          3933891.4375,
          3929191.5,
          3910769.5,
          3905217.9375,
          3903883.7,
          3903663.4375,
          3884108.9375,
          3882319.4375,
          3874452,
          3868759.9375,
          3862058.9375,
          3828059,
          3827498.5,
          3804868.765625,
          3750997.589285714,
          3708420,
          3699613.1306818184,
          3657799,
          3645036.025,
          3628784.0535714286,
          3624148.6666666665,
          3605905,
          3551612,
          3544559.7083333335,
          3539146,
          3521370,
          3512070.4534883723,
          3506585.5,
          3495429.9479166665,
          3478510.6666666665,
          3471459.2916666665,
          3436731,
          3432419,
          3419834,
          3418223,
          3388756,
          3360049.6,
          3351176.25,
          3317833.0833333335,
          3298003,
          3297316.125,
          3294413.3958333335,
          3258935,
          3249865.96875,
          3238815.625,
          3238052.905092593,
          3220708.9821428573,
          3207524.4583333335,
          3194672.8055555555,
          3165751.78125,
          3135471.709375,
          3133555.3333333335,
          3129492.4094827585,
          3127477,
          3117875.7678571427,
          3102406.931547619,
          3101667.46875,
          3101347.9583333335,
          3093950,
          3088082.375,
          3084656.2988721803,
          3079345.005514706,
          3078047.5,
          3072481.825,
          3066468.475,
          3062806,
          3059648.274702381,
          3056781.698598131,
          3044828,
          3043755.858274648,
          3036126,
          3035389.9583333335,
          2998730.625,
          2997444,
          2991417,
          2974522.625,
          2969537.625,
          2960140.879310345,
          2958514.367647059,
          2946277.3125,
          2928909.9583333335,
          2924578.6191275166,
          2915892.466522237,
          2908453.0416666665,
          2905970.175,
          2897775.3761441647,
          2896635,
          2895816.4166666665,
          2887928.3333333335,
          2875421.951923077,
          2872097.71875,
          2870589,
          2862489.831635623,
          2853443.5707964604,
          2853189.138319672,
          2851208.2916666665,
          2849887.625,
          2840278,
          2838653.96875,
          2836551.5478219697,
          2831843.625,
          2817080.9583333335,
          2813987.4004329005,
          2810901.25,
          2801303.613095238,
          2784637,
          2780857.768581081,
          2780523,
          2780079.3863636362,
          2778650.375,
          2772386.325,
          2758364.004327902,
          2752518.6944444445,
          2743537.1875,
          2738725.6223714952,
          2729505.385,
          2728590.419070513,
          2727834.736111111,
          2716569,
          2713926.46875,
          2711667,
          2710674.65,
          2700793.5,
          2698823.55625,
          2696829.28125,
          2693447.125,
          2692449.6081856955,
          2691602,
          2686432.625,
          2685304.85,
          2669383.7734375,
          2657844.9166666665,
          2657101.0416666665,
          2656122.7083333335,
          2649941.91343991,
          2647944.375,
          2646373.625,
          2642561.1428571427,
          2630997.4765625,
          2621808.736111111,
          2621552.625,
          2618506,
          2618461.9583333335,
          2614769.0833333335,
          2613526.625,
          2603917.2163915094,
          2598870.9583333335,
          2594671.3958333335,
          2591014.46875,
          2579785.24613951,
          2574601.094777494,
          2564409.0868055555,
          2563149.3092105263,
          2531286.840116279,
          2530354.6666666665,
          2528734.5576923075,
          2524621.5625,
          2520196.679347826,
          2512201,
          2507076.3961521317,
          2500320,
          2496126.798076923,
          2487962.0891203703,
          2486271.46875,
          2482051.742138365,
          2465886.35483871,
          2455683.265625,
          2452959.4112903224,
          2437044.328125,
          2421450,
          2421450,
          2420037.5795454546,
          2412650.7771084337,
          2411106.089285714,
          2408301.2440043604,
          2401197.875,
          2391134.838734568,
          2382439.25,
          2377722.825,
          2376084.3068181816,
          2361483.840625,
          2360883.180079067,
          2356418.15625,
          2340710.336,
          2329435.9723214284,
          2328256.9615384615,
          2326631.6264750054,
          2323387.375,
          2319720.182384824,
          2318349.275742574,
          2305887.8609848483,
          2297512.3928571427,
          2297467.8214285714,
          2297112.6788669066,
          2296453.6197916665,
          2294131.31403577,
          2293183.9637573967,
          2289791.175,
          2289703.95,
          2285512.25,
          2284863.21875,
          2276125.643287037,
          2273182.9439655175,
          2264706.622413793,
          2264361.7089285715,
          2262767.3055555555,
          2261794.9767857143,
          2256836,
          2255660.1025943398,
          2255187.535714286,
          2253864.02,
          2250204.03125,
          2248284.3203125,
          2243407.9266870064,
          2236110.9145496534,
          2233415.4013292436,
          2231170.022727273,
          2224699.6666666665,
          2213052.8856230737,
          2206241.1372516556,
          2202169.5,
          2198396.96875,
          2197533,
          2197472.6808076226,
          2196228.6428571427,
          2195083.5514102564,
          2194539.8121537394,
          2194061,
          2192488,
          2188565.654523346,
          2183984,
          2176288.2,
          2175483.5375,
          2173153.8020833335,
          2163289.472972973,
          2161696,
          2158586.109375,
          2157662.484375,
          2151230.7338709678,
          2148023.477272727,
          2142162.825,
          2137333.96875,
          2133807.71875,
          2131387.3333333335,
          2121294.0744485296,
          2114477.3333333335,
          2111548.875,
          2100744.473570191,
          2098123,
          2097021.2730058543,
          2095794.1506294964,
          2091814.75,
          2090697.65,
          2090062.889921904,
          2089257.2319277108,
          2087935.965116279,
          2082283.25,
          2065499.2993421052,
          2063765.25,
          2060874,
          2058416.6666666667,
          2056563.825,
          2055669.65625,
          2052621.46875,
          2050446.078125,
          2047293.267857143,
          2038526.2759584663,
          2034678.25,
          2029540.075,
          2024613.18125,
          2022550,
          2020926.2426470588,
          2020548.3333333333,
          2019760.0625,
          2018904.78125,
          2016898.5625,
          2002412.0833333333,
          2001870.825,
          1995001.3120155039,
          1990026,
          1986703.5416666667,
          1984619,
          1979482,
          1974077,
          1973904.6,
          1965731.2279411764,
          1960055.0234375,
          1953651.25,
          1952178.4801324503,
          1949400.8150510204,
          1946393.0275,
          1943664.2430555555,
          1940525.6875,
          1937800.7647058824,
          1937437.8511904762,
          1934798.0875,
          1931848.71875,
          1930524.375,
          1929238.7249602543,
          1927327.0104166667,
          1927176.5,
          1919410.575892857,
          1919300.1875,
          1916987.5,
          1913438.8583333334,
          1910860.9947257384,
          1902417.1666666667,
          1896136.25,
          1890118,
          1887372.646875,
          1885420.8088235294,
          1884376,
          1881914.482142857,
          1879172.3103448276,
          1875943,
          1872410.625,
          1871931.5,
          1860372,
          1857966.0070224719,
          1857864.40625,
          1848471,
          1845050,
          1844366.25,
          1835157.9791666667,
          1834977.15,
          1832206,
          1829049.475,
          1824406,
          1819630,
          1816793,
          1810917,
          1807431.1875,
          1784513.0833333333,
          1778453.162313433,
          1769954.425,
          1765077.7954545454,
          1764295.375,
          1753088.5,
          1751686,
          1750010.4125,
          1749272.5625,
          1747799.8482142857,
          1742652.5,
          1735714.1350235848,
          1734999.625,
          1734457.0208333333,
          1734148.4166666667,
          1729471.5208333333,
          1707831.3863636365,
          1695842,
          1691815.5,
          1690988.5,
          1688489.9318181819,
          1685772.5,
          1685742.4,
          1678583.7743055555,
          1672394.4642857143,
          1667597.7802734375,
          1648418,
          1646322.5916666666,
          1644076.629385965,
          1639987.2083333333,
          1638492.1488095238,
          1635166.5,
          1624618.7291666667,
          1622002.6458333333,
          1621888.355,
          1617622,
          1615344.82,
          1613036.575,
          1609761.0833333333,
          1608421.775,
          1603894,
          1599899,
          1599417.48,
          1597303.825,
          1594285,
          1593736.225,
          1593685.95,
          1592003.25,
          1582174,
          1582144.75,
          1580313.75,
          1574989.890625,
          1568188,
          1560786.0580985916,
          1559813,
          1555313.375,
          1554639.199013158,
          1552482.3653846155,
          1540459.375,
          1534421.4375,
          1532399,
          1532173.1477272727,
          1529946.3333333333,
          1527542.4507575757,
          1520451.725,
          1518727.986111111,
          1510882.8541666667,
          1505454.734375,
          1498225.8260869565,
          1496540.7685185184,
          1494818,
          1491804.1830357143,
          1490487.625,
          1486186,
          1482633,
          1478529.6,
          1465037,
          1456167.4226190476,
          1454718.5090725806,
          1453441.2313829786,
          1449896.3333333333,
          1446456.6796875,
          1436915.1125690609,
          1424392.85,
          1421760.357638889,
          1417938,
          1407206.6984126985,
          1401731,
          1398692.7708333333,
          1396615.6666666667,
          1395059.1726190476,
          1389759.515625,
          1389275.5,
          1384538.2135416667,
          1381500.6166666667,
          1378854.75,
          1374674,
          1373030.9791666667,
          1372773,
          1371086,
          1366860.2604166667,
          1353049.680894309,
          1350691.4932598039,
          1346924.85,
          1346271.8482142857,
          1346150.5,
          1335593.9659090908,
          1333823.625,
          1330732,
          1325352.0625,
          1324192.514423077,
          1322449,
          1317188.5220588236,
          1309634.375,
          1306039.3120437956,
          1305561,
          1302067.4801136365,
          1294820.025,
          1292346.4916666667,
          1287534.4208333334,
          1267281.4423076923,
          1263855.4107142857,
          1262365,
          1261244,
          1253293,
          1251679.8786764706,
          1249690,
          1248932.25,
          1248180.253968254,
          1248176,
          1247533,
          1244970.75,
          1241612.51875,
          1235259.625,
          1232851,
          1232475.855654762,
          1232234.9114583333,
          1227028,
          1224949.7815504808,
          1224461,
          1224081,
          1223784.1875,
          1223286.419642857,
          1210554.6125,
          1206538,
          1203777.3411458333,
          1203731.85625,
          1198315,
          1192406,
          1189992.8326612904,
          1188823.9192913387,
          1186504,
          1181592.0865384615,
          1173404.5909090908,
          1172937.2573529412,
          1168303.539893617,
          1166787,
          1160400,
          1159905.6666666667,
          1158782.0735294118,
          1156929.0868644067,
          1156596.6902173914,
          1156202.75,
          1153321.982142857,
          1152264,
          1149664.5555555555,
          1146609,
          1144112.1293103448,
          1138182.1708333334,
          1128279.8881578948,
          1127423.78125,
          1127154.75,
          1118856.7794117648,
          1108908.5154494382,
          1107111,
          1104634.484375,
          1101822.0416666667,
          1096265,
          1095383,
          1094304.0576923077,
          1093162.0416666667,
          1091512.8333333333,
          1090849,
          1088676,
          1085720,
          1085080.2372881356,
          1080377,
          1076103.25,
          1076103.0833333333,
          1075282.6102941176,
          1062254.875,
          1058600,
          1054764.2183544303,
          1053580.6907894737,
          1045059.0378787878,
          1040375.9125,
          1037628.1838235294,
          1036109.8365384615,
          1034947.75,
          1032703.7154605263,
          1029722.9270833334,
          1024859,
          1018921.25,
          1012175.4005681818,
          1006392.8,
          1004597.0625,
          1004427.1979166666,
          1002718,
          1001065.484375,
          986208.525,
          973642.4,
          970670,
          963739.6071428572,
          962916.25,
          961579,
          959872.2272727273,
          959865.2,
          958280.6666666666,
          952562,
          951831.5,
          950628.7710843374,
          950001.25,
          948824,
          947882.25,
          946810,
          944741,
          943312,
          938260.4558823529,
          932717.25,
          930321,
          929156.1363636364,
          925563,
          923908.9632352941,
          922940.0148305085,
          920885,
          919442,
          919344.6527777778,
          912258,
          909879,
          908149.6666666666,
          906280.0625,
          904781.8977272727,
          900590.5,
          898902,
          894246,
          893559.9605263158,
          893166.5,
          890206.5,
          883548,
          881942.6859756098,
          877060.6666666666,
          869834.2513020834,
          868879,
          862301,
          858859.5288461539,
          857919,
          856804.6666666666,
          851936,
          850662.368902439,
          849914.4285714285,
          847195.4615384615,
          843510.5,
          843037.8181818182,
          842371,
          836415.375,
          830942.6666666666,
          829951.65,
          828555,
          828363,
          823857.5,
          820856.3333333334,
          815291.5,
          814467.515625,
          813665.1666666666,
          812858.25,
          811264,
          805175.5,
          802300,
          800647,
          794050.1944444445,
          793127,
          790928.1077586206,
          788804,
          786719.0357142857,
          785966,
          785193.3863636364,
          783082.5,
          780932.445,
          777043,
          774446.3333333334,
          774142.3583333333,
          771549,
          767815.9545454546,
          762797,
          760837,
          747784.625,
          737847.6666666666,
          736389,
          728270.2946428572,
          722057.4,
          719363,
          717673.75,
          717189.5,
          714095,
          709708.3333333334,
          709245.8333333334,
          704970.25,
          702508,
          699557,
          690295,
          688925,
          683311,
          680195,
          680185,
          679230.5625,
          669504.75,
          668907.5,
          668569.625,
          666656.0625,
          665908,
          659928.96875,
          658550.9583333334,
          658170.5,
          654029,
          652292.5,
          651300,
          650617,
          650019,
          636000.45,
          633482.2,
          633139,
          630265,
          628487.1538461539,
          626783,
          622803.3835227273,
          621191.5833333334,
          620275.3125,
          616213,
          611969,
          611657.205,
          610065.8125,
          605508.5,
          603966,
          586423.0125,
          585572.3333333334,
          581709.5,
          579394,
          579281,
          579122.3333333334,
          575828.4,
          575149,
          562349,
          557375,
          557258,
          554011.0909090909,
          553111.9285714285,
          552518.3333333334,
          551447.0833333334,
          551212,
          547002,
          544422.3333333334,
          543959.6,
          536180.3125,
          534877.3333333334,
          532837,
          531630.0923913043,
          530476,
          529688.5,
          520088,
          518370,
          517773.22222222225,
          514856.6666666667,
          499123,
          494075.6785714286,
          489436.6666666667,
          488278.75,
          485016.5,
          483845.125,
          483805,
          480867,
          468833.85714285716,
          461160.5,
          460833,
          459231,
          452170.4,
          446924.6666666667,
          444527.85714285716,
          435677.125,
          434626,
          429315,
          428770.1666666667,
          426039,
          422617,
          420294,
          419056,
          418604.3333333333,
          416700.3333333333,
          412151.6666666667,
          410393.4166666667,
          406836.5,
          401367.3333333333,
          398306.3888888889,
          396129,
          393385.6666666667,
          381867,
          376923,
          372838,
          370116,
          367082,
          361065,
          359377.6666666667,
          359207,
          355747,
          349159,
          348924,
          344374,
          341423.5416666667,
          339074.4,
          338481,
          326699,
          326564,
          324726,
          323988.5,
          323053.125,
          322151.5,
          321967,
          320993.6,
          319081,
          318825,
          314593.5,
          313741.0416666667,
          308657,
          308479.7,
          306443.5,
          305624,
          305068,
          301226.25,
          298787,
          296364.8333333333,
          295903.25,
          293521.6666666667,
          292504.8333333333,
          292058,
          291652,
          284658,
          284131,
          283849.4,
          283162,
          282806,
          280833.25,
          279611,
          276359,
          270172,
          267612,
          264538,
          261943,
          259570.33333333334,
          259557,
          259310.25,
          258081,
          256840,
          252964,
          252189,
          251863,
          249761.8,
          248700,
          247618.25,
          245139.6,
          244798.88888888888,
          241758.33333333334,
          241649,
          241579.25,
          241076.25,
          240854,
          240635,
          238886.5,
          238070,
          233026.5,
          230131,
          230007,
          229503.56818181818,
          228037.85,
          227588,
          226563.5,
          226551.25,
          223719.75,
          223611,
          221999,
          221988,
          219627,
          217344,
          216848,
          216778,
          216126,
          215231.41666666666,
          210072,
          207933,
          204089.25,
          202194,
          201186,
          198329.83333333334,
          197450.5,
          195489,
          195322,
          193959,
          192598.875,
          190763,
          190305,
          190058.25,
          188115,
          187820,
          186431.25,
          185617,
          183171.66666666666,
          177385.33333333334,
          174969,
          174504,
          174387,
          173761.25,
          171782.25,
          171463,
          170746.25,
          170478.25,
          169625,
          169442.125,
          169420.25,
          169240.25,
          169186.25,
          169160.25,
          167809.125,
          166485.4642857143,
          166441.25,
          165706,
          165552.4,
          162283,
          161771,
          161717,
          160203,
          160114,
          158183,
          154432,
          154176,
          153829,
          151259,
          149097.5,
          147087.5,
          147017,
          144340.66666666666,
          143847.125,
          141498.5,
          141333.625,
          141200,
          140851,
          140082,
          139104,
          137170,
          136894,
          136447.17857142858,
          136227.33333333334,
          134418,
          133984,
          133546,
          128775.5,
          127912,
          127877,
          127776,
          126754.8,
          125510,
          123777,
          123251,
          122010,
          121535,
          121323,
          117886,
          117620.8125,
          117593.75,
          116844,
          115921,
          115769,
          115286,
          114161.5,
          112839.625,
          111605.125,
          109707,
          109476,
          108808.75,
          108657.125,
          108314,
          107549,
          105747.75,
          104594,
          103460.66666666667,
          103099,
          103053,
          101276,
          100508,
          99750,
          99604.65,
          98496,
          98216,
          97791,
          97386.5,
          96952,
          95538,
          95379,
          94404,
          94266,
          92682,
          91549.5,
          90759,
          89652,
          89392,
          89016,
          88719,
          87935,
          87704,
          86691,
          86355,
          83514,
          82236,
          81064,
          80882,
          80339,
          80181,
          79208,
          78820,
          78324,
          78038,
          76147,
          75890,
          74317.6,
          72771,
          71494.83333333333,
          71033.5,
          71026,
          70915.75,
          70882,
          70143,
          68738.5,
          68507,
          67802,
          67683,
          67345.5,
          65572,
          65474,
          64266,
          64053,
          63909,
          63428,
          61450,
          61310,
          61123,
          61055,
          60701,
          59721,
          59115,
          58283,
          57634,
          56837,
          56365,
          55676,
          54512,
          53718,
          53489,
          53197.75,
          53170,
          52575,
          52226.666666666664,
          51686,
          51557,
          51232.28571428572,
          50890,
          49701,
          48788,
          48542.5,
          47711,
          47553,
          47279,
          47266,
          46398,
          45740,
          45477,
          44998,
          44844,
          44698.5,
          44413,
          44144,
          43890,
          43833,
          43530,
          43497.333333333336,
          43076,
          42696,
          41867,
          41230,
          40887,
          40855,
          40439,
          40360,
          40270,
          39886.6,
          39865,
          39427,
          38964,
          37917,
          37690,
          37147,
          36958,
          36624,
          36456,
          36374.333333333336,
          36301.5,
          36048,
          35687,
          34925,
          34719,
          34029,
          33203,
          32725,
          32171,
          31579,
          31482,
          31409,
          31153,
          30999,
          30470,
          30409,
          30222,
          29669,
          29039.5,
          28789,
          28441.5,
          28102,
          27913,
          27902,
          26918,
          26283,
          25066,
          24888,
          24753,
          24484,
          24276,
          24018,
          23916,
          23879,
          23512,
          23278.5,
          22922,
          22642,
          22610,
          22580,
          22415,
          21391,
          21372,
          21280,
          21258.5,
          21111,
          20931,
          20529,
          19938,
          19884,
          18888,
          18608,
          18384,
          18365.5,
          18101,
          17938,
          17686,
          17553,
          17537,
          16720,
          16718,
          16064,
          15729,
          15528.666666666666,
          15391,
          15356,
          14895,
          14381.666666666666,
          14040,
          13974,
          13870,
          13304,
          13300,
          13230,
          13219,
          13048,
          13048,
          12932,
          12918,
          12763,
          12723,
          12658,
          12249,
          11970,
          11843,
          11656,
          11449,
          11397,
          11274,
          11267,
          11266,
          11142,
          11068,
          11012,
          10908,
          10797,
          10628,
          10551,
          10310,
          10096,
          10025,
          9980,
          9764,
          9760,
          9748,
          9310,
          8944,
          8889,
          8886,
          8558,
          8518,
          8412,
          8343.5,
          8170,
          8041,
          7663,
          7412,
          7185,
          7178,
          7030,
          6765,
          6650,
          6590,
          6113,
          6044,
          5673,
          5359,
          5320,
          5293,
          4990,
          4829,
          4556,
          4266,
          4182,
          4082,
          4077,
          3990,
          3934,
          3912,
          3877,
          3857,
          3707,
          3406,
          3359,
          3289,
          3231,
          3093,
          2894,
          2762,
          2606,
          2520,
          2510.5,
          2400,
          2377,
          1880,
          1817,
          1500,
          650,
          594,
          471,
          418,
          416,
          391,
          360
         ],
         "yaxis": "y"
        }
       ],
       "layout": {
        "barmode": "relative",
        "legend": {
         "tracegroupgap": 0
        },
        "margin": {
         "t": 60
        },
        "template": {
         "data": {
          "bar": [
           {
            "error_x": {
             "color": "#2a3f5f"
            },
            "error_y": {
             "color": "#2a3f5f"
            },
            "marker": {
             "line": {
              "color": "#E5ECF6",
              "width": 0.5
             }
            },
            "type": "bar"
           }
          ],
          "barpolar": [
           {
            "marker": {
             "line": {
              "color": "#E5ECF6",
              "width": 0.5
             }
            },
            "type": "barpolar"
           }
          ],
          "carpet": [
           {
            "aaxis": {
             "endlinecolor": "#2a3f5f",
             "gridcolor": "white",
             "linecolor": "white",
             "minorgridcolor": "white",
             "startlinecolor": "#2a3f5f"
            },
            "baxis": {
             "endlinecolor": "#2a3f5f",
             "gridcolor": "white",
             "linecolor": "white",
             "minorgridcolor": "white",
             "startlinecolor": "#2a3f5f"
            },
            "type": "carpet"
           }
          ],
          "choropleth": [
           {
            "colorbar": {
             "outlinewidth": 0,
             "ticks": ""
            },
            "type": "choropleth"
           }
          ],
          "contour": [
           {
            "colorbar": {
             "outlinewidth": 0,
             "ticks": ""
            },
            "colorscale": [
             [
              0,
              "#0d0887"
             ],
             [
              0.1111111111111111,
              "#46039f"
             ],
             [
              0.2222222222222222,
              "#7201a8"
             ],
             [
              0.3333333333333333,
              "#9c179e"
             ],
             [
              0.4444444444444444,
              "#bd3786"
             ],
             [
              0.5555555555555556,
              "#d8576b"
             ],
             [
              0.6666666666666666,
              "#ed7953"
             ],
             [
              0.7777777777777778,
              "#fb9f3a"
             ],
             [
              0.8888888888888888,
              "#fdca26"
             ],
             [
              1,
              "#f0f921"
             ]
            ],
            "type": "contour"
           }
          ],
          "contourcarpet": [
           {
            "colorbar": {
             "outlinewidth": 0,
             "ticks": ""
            },
            "type": "contourcarpet"
           }
          ],
          "heatmap": [
           {
            "colorbar": {
             "outlinewidth": 0,
             "ticks": ""
            },
            "colorscale": [
             [
              0,
              "#0d0887"
             ],
             [
              0.1111111111111111,
              "#46039f"
             ],
             [
              0.2222222222222222,
              "#7201a8"
             ],
             [
              0.3333333333333333,
              "#9c179e"
             ],
             [
              0.4444444444444444,
              "#bd3786"
             ],
             [
              0.5555555555555556,
              "#d8576b"
             ],
             [
              0.6666666666666666,
              "#ed7953"
             ],
             [
              0.7777777777777778,
              "#fb9f3a"
             ],
             [
              0.8888888888888888,
              "#fdca26"
             ],
             [
              1,
              "#f0f921"
             ]
            ],
            "type": "heatmap"
           }
          ],
          "heatmapgl": [
           {
            "colorbar": {
             "outlinewidth": 0,
             "ticks": ""
            },
            "colorscale": [
             [
              0,
              "#0d0887"
             ],
             [
              0.1111111111111111,
              "#46039f"
             ],
             [
              0.2222222222222222,
              "#7201a8"
             ],
             [
              0.3333333333333333,
              "#9c179e"
             ],
             [
              0.4444444444444444,
              "#bd3786"
             ],
             [
              0.5555555555555556,
              "#d8576b"
             ],
             [
              0.6666666666666666,
              "#ed7953"
             ],
             [
              0.7777777777777778,
              "#fb9f3a"
             ],
             [
              0.8888888888888888,
              "#fdca26"
             ],
             [
              1,
              "#f0f921"
             ]
            ],
            "type": "heatmapgl"
           }
          ],
          "histogram": [
           {
            "marker": {
             "colorbar": {
              "outlinewidth": 0,
              "ticks": ""
             }
            },
            "type": "histogram"
           }
          ],
          "histogram2d": [
           {
            "colorbar": {
             "outlinewidth": 0,
             "ticks": ""
            },
            "colorscale": [
             [
              0,
              "#0d0887"
             ],
             [
              0.1111111111111111,
              "#46039f"
             ],
             [
              0.2222222222222222,
              "#7201a8"
             ],
             [
              0.3333333333333333,
              "#9c179e"
             ],
             [
              0.4444444444444444,
              "#bd3786"
             ],
             [
              0.5555555555555556,
              "#d8576b"
             ],
             [
              0.6666666666666666,
              "#ed7953"
             ],
             [
              0.7777777777777778,
              "#fb9f3a"
             ],
             [
              0.8888888888888888,
              "#fdca26"
             ],
             [
              1,
              "#f0f921"
             ]
            ],
            "type": "histogram2d"
           }
          ],
          "histogram2dcontour": [
           {
            "colorbar": {
             "outlinewidth": 0,
             "ticks": ""
            },
            "colorscale": [
             [
              0,
              "#0d0887"
             ],
             [
              0.1111111111111111,
              "#46039f"
             ],
             [
              0.2222222222222222,
              "#7201a8"
             ],
             [
              0.3333333333333333,
              "#9c179e"
             ],
             [
              0.4444444444444444,
              "#bd3786"
             ],
             [
              0.5555555555555556,
              "#d8576b"
             ],
             [
              0.6666666666666666,
              "#ed7953"
             ],
             [
              0.7777777777777778,
              "#fb9f3a"
             ],
             [
              0.8888888888888888,
              "#fdca26"
             ],
             [
              1,
              "#f0f921"
             ]
            ],
            "type": "histogram2dcontour"
           }
          ],
          "mesh3d": [
           {
            "colorbar": {
             "outlinewidth": 0,
             "ticks": ""
            },
            "type": "mesh3d"
           }
          ],
          "parcoords": [
           {
            "line": {
             "colorbar": {
              "outlinewidth": 0,
              "ticks": ""
             }
            },
            "type": "parcoords"
           }
          ],
          "pie": [
           {
            "automargin": true,
            "type": "pie"
           }
          ],
          "scatter": [
           {
            "marker": {
             "colorbar": {
              "outlinewidth": 0,
              "ticks": ""
             }
            },
            "type": "scatter"
           }
          ],
          "scatter3d": [
           {
            "line": {
             "colorbar": {
              "outlinewidth": 0,
              "ticks": ""
             }
            },
            "marker": {
             "colorbar": {
              "outlinewidth": 0,
              "ticks": ""
             }
            },
            "type": "scatter3d"
           }
          ],
          "scattercarpet": [
           {
            "marker": {
             "colorbar": {
              "outlinewidth": 0,
              "ticks": ""
             }
            },
            "type": "scattercarpet"
           }
          ],
          "scattergeo": [
           {
            "marker": {
             "colorbar": {
              "outlinewidth": 0,
              "ticks": ""
             }
            },
            "type": "scattergeo"
           }
          ],
          "scattergl": [
           {
            "marker": {
             "colorbar": {
              "outlinewidth": 0,
              "ticks": ""
             }
            },
            "type": "scattergl"
           }
          ],
          "scattermapbox": [
           {
            "marker": {
             "colorbar": {
              "outlinewidth": 0,
              "ticks": ""
             }
            },
            "type": "scattermapbox"
           }
          ],
          "scatterpolar": [
           {
            "marker": {
             "colorbar": {
              "outlinewidth": 0,
              "ticks": ""
             }
            },
            "type": "scatterpolar"
           }
          ],
          "scatterpolargl": [
           {
            "marker": {
             "colorbar": {
              "outlinewidth": 0,
              "ticks": ""
             }
            },
            "type": "scatterpolargl"
           }
          ],
          "scatterternary": [
           {
            "marker": {
             "colorbar": {
              "outlinewidth": 0,
              "ticks": ""
             }
            },
            "type": "scatterternary"
           }
          ],
          "surface": [
           {
            "colorbar": {
             "outlinewidth": 0,
             "ticks": ""
            },
            "colorscale": [
             [
              0,
              "#0d0887"
             ],
             [
              0.1111111111111111,
              "#46039f"
             ],
             [
              0.2222222222222222,
              "#7201a8"
             ],
             [
              0.3333333333333333,
              "#9c179e"
             ],
             [
              0.4444444444444444,
              "#bd3786"
             ],
             [
              0.5555555555555556,
              "#d8576b"
             ],
             [
              0.6666666666666666,
              "#ed7953"
             ],
             [
              0.7777777777777778,
              "#fb9f3a"
             ],
             [
              0.8888888888888888,
              "#fdca26"
             ],
             [
              1,
              "#f0f921"
             ]
            ],
            "type": "surface"
           }
          ],
          "table": [
           {
            "cells": {
             "fill": {
              "color": "#EBF0F8"
             },
             "line": {
              "color": "white"
             }
            },
            "header": {
             "fill": {
              "color": "#C8D4E3"
             },
             "line": {
              "color": "white"
             }
            },
            "type": "table"
           }
          ]
         },
         "layout": {
          "annotationdefaults": {
           "arrowcolor": "#2a3f5f",
           "arrowhead": 0,
           "arrowwidth": 1
          },
          "autotypenumbers": "strict",
          "coloraxis": {
           "colorbar": {
            "outlinewidth": 0,
            "ticks": ""
           }
          },
          "colorscale": {
           "diverging": [
            [
             0,
             "#8e0152"
            ],
            [
             0.1,
             "#c51b7d"
            ],
            [
             0.2,
             "#de77ae"
            ],
            [
             0.3,
             "#f1b6da"
            ],
            [
             0.4,
             "#fde0ef"
            ],
            [
             0.5,
             "#f7f7f7"
            ],
            [
             0.6,
             "#e6f5d0"
            ],
            [
             0.7,
             "#b8e186"
            ],
            [
             0.8,
             "#7fbc41"
            ],
            [
             0.9,
             "#4d9221"
            ],
            [
             1,
             "#276419"
            ]
           ],
           "sequential": [
            [
             0,
             "#0d0887"
            ],
            [
             0.1111111111111111,
             "#46039f"
            ],
            [
             0.2222222222222222,
             "#7201a8"
            ],
            [
             0.3333333333333333,
             "#9c179e"
            ],
            [
             0.4444444444444444,
             "#bd3786"
            ],
            [
             0.5555555555555556,
             "#d8576b"
            ],
            [
             0.6666666666666666,
             "#ed7953"
            ],
            [
             0.7777777777777778,
             "#fb9f3a"
            ],
            [
             0.8888888888888888,
             "#fdca26"
            ],
            [
             1,
             "#f0f921"
            ]
           ],
           "sequentialminus": [
            [
             0,
             "#0d0887"
            ],
            [
             0.1111111111111111,
             "#46039f"
            ],
            [
             0.2222222222222222,
             "#7201a8"
            ],
            [
             0.3333333333333333,
             "#9c179e"
            ],
            [
             0.4444444444444444,
             "#bd3786"
            ],
            [
             0.5555555555555556,
             "#d8576b"
            ],
            [
             0.6666666666666666,
             "#ed7953"
            ],
            [
             0.7777777777777778,
             "#fb9f3a"
            ],
            [
             0.8888888888888888,
             "#fdca26"
            ],
            [
             1,
             "#f0f921"
            ]
           ]
          },
          "colorway": [
           "#636efa",
           "#EF553B",
           "#00cc96",
           "#ab63fa",
           "#FFA15A",
           "#19d3f3",
           "#FF6692",
           "#B6E880",
           "#FF97FF",
           "#FECB52"
          ],
          "font": {
           "color": "#2a3f5f"
          },
          "geo": {
           "bgcolor": "white",
           "lakecolor": "white",
           "landcolor": "#E5ECF6",
           "showlakes": true,
           "showland": true,
           "subunitcolor": "white"
          },
          "hoverlabel": {
           "align": "left"
          },
          "hovermode": "closest",
          "mapbox": {
           "style": "light"
          },
          "paper_bgcolor": "white",
          "plot_bgcolor": "#E5ECF6",
          "polar": {
           "angularaxis": {
            "gridcolor": "white",
            "linecolor": "white",
            "ticks": ""
           },
           "bgcolor": "#E5ECF6",
           "radialaxis": {
            "gridcolor": "white",
            "linecolor": "white",
            "ticks": ""
           }
          },
          "scene": {
           "xaxis": {
            "backgroundcolor": "#E5ECF6",
            "gridcolor": "white",
            "gridwidth": 2,
            "linecolor": "white",
            "showbackground": true,
            "ticks": "",
            "zerolinecolor": "white"
           },
           "yaxis": {
            "backgroundcolor": "#E5ECF6",
            "gridcolor": "white",
            "gridwidth": 2,
            "linecolor": "white",
            "showbackground": true,
            "ticks": "",
            "zerolinecolor": "white"
           },
           "zaxis": {
            "backgroundcolor": "#E5ECF6",
            "gridcolor": "white",
            "gridwidth": 2,
            "linecolor": "white",
            "showbackground": true,
            "ticks": "",
            "zerolinecolor": "white"
           }
          },
          "shapedefaults": {
           "line": {
            "color": "#2a3f5f"
           }
          },
          "ternary": {
           "aaxis": {
            "gridcolor": "white",
            "linecolor": "white",
            "ticks": ""
           },
           "baxis": {
            "gridcolor": "white",
            "linecolor": "white",
            "ticks": ""
           },
           "bgcolor": "#E5ECF6",
           "caxis": {
            "gridcolor": "white",
            "linecolor": "white",
            "ticks": ""
           }
          },
          "title": {
           "x": 0.05
          },
          "xaxis": {
           "automargin": true,
           "gridcolor": "white",
           "linecolor": "white",
           "ticks": "",
           "title": {
            "standoff": 15
           },
           "zerolinecolor": "white",
           "zerolinewidth": 2
          },
          "yaxis": {
           "automargin": true,
           "gridcolor": "white",
           "linecolor": "white",
           "ticks": "",
           "title": {
            "standoff": 15
           },
           "zerolinecolor": "white",
           "zerolinewidth": 2
          }
         }
        },
        "xaxis": {
         "anchor": "y",
         "domain": [
          0,
          1
         ],
         "title": {
          "text": "x"
         }
        },
        "yaxis": {
         "anchor": "x",
         "domain": [
          0,
          1
         ],
         "title": {
          "text": "sum of y"
         }
        }
       }
      }
     },
     "metadata": {}
    }
   ],
   "metadata": {}
  },
  {
   "cell_type": "code",
   "execution_count": 62,
   "source": [
    "hist(top_tcp.head(20))"
   ],
   "outputs": [
    {
     "output_type": "display_data",
     "data": {
      "application/vnd.plotly.v1+json": {
       "config": {
        "plotlyServerURL": "https://plot.ly"
       },
       "data": [
        {
         "alignmentgroup": "True",
         "bingroup": "x",
         "histfunc": "sum",
         "hovertemplate": "x=%{x}<br>sum of y=%{y}<extra></extra>",
         "legendgroup": "",
         "marker": {
          "color": "#636efa"
         },
         "name": "",
         "offsetgroup": "",
         "orientation": "v",
         "showlegend": false,
         "type": "histogram",
         "x": [
          "Id: Sierra Wireless Usb305",
          "Id: Sfr Star Trail 5 By Sfr",
          "Id: Huawei B715S-23C",
          "Id: D-Link Corporati. D-Link Lte Usb Adaptor",
          "Id: Xiaomi Communica. Xiaomi Note",
          "Id: Gemalto M2M Gmbh Cinterion Pls8-E",
          "Id: Huawei B618S-22D",
          "Id: Gemalto M2M Gmbh Eu3-E",
          "Id: Huawei Evr-Al00",
          "Id: Hongkong Ipro Te. Ipro I9350 I9400 S3 Wave 3.5 Wave 4.0",
          "Id: Tcl Communicatio. Alcatel A5 Led Alcatel A5",
          "Id: Lenovo Moto Z Force (2Nd Gen) Ge12072245",
          "Id: Huawei E587 E587U-2 Turkcell Vinnwifi E587",
          "Id: Huawei Gr5",
          "Id: Sony Ericsson U20I (Aad-3880072-Bv)",
          "Id: Sony Ericsson St18I",
          "Id: Vivo Mobile Comm. Vivo Vivo 1718",
          "Id: Asustek Asus Zenfone Selfie Zd551Kl",
          "Id: Huawei Maimang 6",
          "Id: Shenzhen Yiqingt. Yqt1213"
         ],
         "xaxis": "x",
         "y": [
          15766270.25,
          10008959.5,
          8835179.5875,
          8626397.375,
          8539969.875,
          8493261.7,
          8261994.25,
          8049425.875,
          7944219.875,
          7883135.125,
          7883135.125,
          7883135.125,
          7883135.125,
          7883135.125,
          7883135.125,
          7883135.125,
          7883135.125,
          7883135.125,
          7883135.125,
          7883135.125
         ],
         "yaxis": "y"
        }
       ],
       "layout": {
        "barmode": "relative",
        "legend": {
         "tracegroupgap": 0
        },
        "margin": {
         "t": 60
        },
        "template": {
         "data": {
          "bar": [
           {
            "error_x": {
             "color": "#2a3f5f"
            },
            "error_y": {
             "color": "#2a3f5f"
            },
            "marker": {
             "line": {
              "color": "#E5ECF6",
              "width": 0.5
             }
            },
            "type": "bar"
           }
          ],
          "barpolar": [
           {
            "marker": {
             "line": {
              "color": "#E5ECF6",
              "width": 0.5
             }
            },
            "type": "barpolar"
           }
          ],
          "carpet": [
           {
            "aaxis": {
             "endlinecolor": "#2a3f5f",
             "gridcolor": "white",
             "linecolor": "white",
             "minorgridcolor": "white",
             "startlinecolor": "#2a3f5f"
            },
            "baxis": {
             "endlinecolor": "#2a3f5f",
             "gridcolor": "white",
             "linecolor": "white",
             "minorgridcolor": "white",
             "startlinecolor": "#2a3f5f"
            },
            "type": "carpet"
           }
          ],
          "choropleth": [
           {
            "colorbar": {
             "outlinewidth": 0,
             "ticks": ""
            },
            "type": "choropleth"
           }
          ],
          "contour": [
           {
            "colorbar": {
             "outlinewidth": 0,
             "ticks": ""
            },
            "colorscale": [
             [
              0,
              "#0d0887"
             ],
             [
              0.1111111111111111,
              "#46039f"
             ],
             [
              0.2222222222222222,
              "#7201a8"
             ],
             [
              0.3333333333333333,
              "#9c179e"
             ],
             [
              0.4444444444444444,
              "#bd3786"
             ],
             [
              0.5555555555555556,
              "#d8576b"
             ],
             [
              0.6666666666666666,
              "#ed7953"
             ],
             [
              0.7777777777777778,
              "#fb9f3a"
             ],
             [
              0.8888888888888888,
              "#fdca26"
             ],
             [
              1,
              "#f0f921"
             ]
            ],
            "type": "contour"
           }
          ],
          "contourcarpet": [
           {
            "colorbar": {
             "outlinewidth": 0,
             "ticks": ""
            },
            "type": "contourcarpet"
           }
          ],
          "heatmap": [
           {
            "colorbar": {
             "outlinewidth": 0,
             "ticks": ""
            },
            "colorscale": [
             [
              0,
              "#0d0887"
             ],
             [
              0.1111111111111111,
              "#46039f"
             ],
             [
              0.2222222222222222,
              "#7201a8"
             ],
             [
              0.3333333333333333,
              "#9c179e"
             ],
             [
              0.4444444444444444,
              "#bd3786"
             ],
             [
              0.5555555555555556,
              "#d8576b"
             ],
             [
              0.6666666666666666,
              "#ed7953"
             ],
             [
              0.7777777777777778,
              "#fb9f3a"
             ],
             [
              0.8888888888888888,
              "#fdca26"
             ],
             [
              1,
              "#f0f921"
             ]
            ],
            "type": "heatmap"
           }
          ],
          "heatmapgl": [
           {
            "colorbar": {
             "outlinewidth": 0,
             "ticks": ""
            },
            "colorscale": [
             [
              0,
              "#0d0887"
             ],
             [
              0.1111111111111111,
              "#46039f"
             ],
             [
              0.2222222222222222,
              "#7201a8"
             ],
             [
              0.3333333333333333,
              "#9c179e"
             ],
             [
              0.4444444444444444,
              "#bd3786"
             ],
             [
              0.5555555555555556,
              "#d8576b"
             ],
             [
              0.6666666666666666,
              "#ed7953"
             ],
             [
              0.7777777777777778,
              "#fb9f3a"
             ],
             [
              0.8888888888888888,
              "#fdca26"
             ],
             [
              1,
              "#f0f921"
             ]
            ],
            "type": "heatmapgl"
           }
          ],
          "histogram": [
           {
            "marker": {
             "colorbar": {
              "outlinewidth": 0,
              "ticks": ""
             }
            },
            "type": "histogram"
           }
          ],
          "histogram2d": [
           {
            "colorbar": {
             "outlinewidth": 0,
             "ticks": ""
            },
            "colorscale": [
             [
              0,
              "#0d0887"
             ],
             [
              0.1111111111111111,
              "#46039f"
             ],
             [
              0.2222222222222222,
              "#7201a8"
             ],
             [
              0.3333333333333333,
              "#9c179e"
             ],
             [
              0.4444444444444444,
              "#bd3786"
             ],
             [
              0.5555555555555556,
              "#d8576b"
             ],
             [
              0.6666666666666666,
              "#ed7953"
             ],
             [
              0.7777777777777778,
              "#fb9f3a"
             ],
             [
              0.8888888888888888,
              "#fdca26"
             ],
             [
              1,
              "#f0f921"
             ]
            ],
            "type": "histogram2d"
           }
          ],
          "histogram2dcontour": [
           {
            "colorbar": {
             "outlinewidth": 0,
             "ticks": ""
            },
            "colorscale": [
             [
              0,
              "#0d0887"
             ],
             [
              0.1111111111111111,
              "#46039f"
             ],
             [
              0.2222222222222222,
              "#7201a8"
             ],
             [
              0.3333333333333333,
              "#9c179e"
             ],
             [
              0.4444444444444444,
              "#bd3786"
             ],
             [
              0.5555555555555556,
              "#d8576b"
             ],
             [
              0.6666666666666666,
              "#ed7953"
             ],
             [
              0.7777777777777778,
              "#fb9f3a"
             ],
             [
              0.8888888888888888,
              "#fdca26"
             ],
             [
              1,
              "#f0f921"
             ]
            ],
            "type": "histogram2dcontour"
           }
          ],
          "mesh3d": [
           {
            "colorbar": {
             "outlinewidth": 0,
             "ticks": ""
            },
            "type": "mesh3d"
           }
          ],
          "parcoords": [
           {
            "line": {
             "colorbar": {
              "outlinewidth": 0,
              "ticks": ""
             }
            },
            "type": "parcoords"
           }
          ],
          "pie": [
           {
            "automargin": true,
            "type": "pie"
           }
          ],
          "scatter": [
           {
            "marker": {
             "colorbar": {
              "outlinewidth": 0,
              "ticks": ""
             }
            },
            "type": "scatter"
           }
          ],
          "scatter3d": [
           {
            "line": {
             "colorbar": {
              "outlinewidth": 0,
              "ticks": ""
             }
            },
            "marker": {
             "colorbar": {
              "outlinewidth": 0,
              "ticks": ""
             }
            },
            "type": "scatter3d"
           }
          ],
          "scattercarpet": [
           {
            "marker": {
             "colorbar": {
              "outlinewidth": 0,
              "ticks": ""
             }
            },
            "type": "scattercarpet"
           }
          ],
          "scattergeo": [
           {
            "marker": {
             "colorbar": {
              "outlinewidth": 0,
              "ticks": ""
             }
            },
            "type": "scattergeo"
           }
          ],
          "scattergl": [
           {
            "marker": {
             "colorbar": {
              "outlinewidth": 0,
              "ticks": ""
             }
            },
            "type": "scattergl"
           }
          ],
          "scattermapbox": [
           {
            "marker": {
             "colorbar": {
              "outlinewidth": 0,
              "ticks": ""
             }
            },
            "type": "scattermapbox"
           }
          ],
          "scatterpolar": [
           {
            "marker": {
             "colorbar": {
              "outlinewidth": 0,
              "ticks": ""
             }
            },
            "type": "scatterpolar"
           }
          ],
          "scatterpolargl": [
           {
            "marker": {
             "colorbar": {
              "outlinewidth": 0,
              "ticks": ""
             }
            },
            "type": "scatterpolargl"
           }
          ],
          "scatterternary": [
           {
            "marker": {
             "colorbar": {
              "outlinewidth": 0,
              "ticks": ""
             }
            },
            "type": "scatterternary"
           }
          ],
          "surface": [
           {
            "colorbar": {
             "outlinewidth": 0,
             "ticks": ""
            },
            "colorscale": [
             [
              0,
              "#0d0887"
             ],
             [
              0.1111111111111111,
              "#46039f"
             ],
             [
              0.2222222222222222,
              "#7201a8"
             ],
             [
              0.3333333333333333,
              "#9c179e"
             ],
             [
              0.4444444444444444,
              "#bd3786"
             ],
             [
              0.5555555555555556,
              "#d8576b"
             ],
             [
              0.6666666666666666,
              "#ed7953"
             ],
             [
              0.7777777777777778,
              "#fb9f3a"
             ],
             [
              0.8888888888888888,
              "#fdca26"
             ],
             [
              1,
              "#f0f921"
             ]
            ],
            "type": "surface"
           }
          ],
          "table": [
           {
            "cells": {
             "fill": {
              "color": "#EBF0F8"
             },
             "line": {
              "color": "white"
             }
            },
            "header": {
             "fill": {
              "color": "#C8D4E3"
             },
             "line": {
              "color": "white"
             }
            },
            "type": "table"
           }
          ]
         },
         "layout": {
          "annotationdefaults": {
           "arrowcolor": "#2a3f5f",
           "arrowhead": 0,
           "arrowwidth": 1
          },
          "autotypenumbers": "strict",
          "coloraxis": {
           "colorbar": {
            "outlinewidth": 0,
            "ticks": ""
           }
          },
          "colorscale": {
           "diverging": [
            [
             0,
             "#8e0152"
            ],
            [
             0.1,
             "#c51b7d"
            ],
            [
             0.2,
             "#de77ae"
            ],
            [
             0.3,
             "#f1b6da"
            ],
            [
             0.4,
             "#fde0ef"
            ],
            [
             0.5,
             "#f7f7f7"
            ],
            [
             0.6,
             "#e6f5d0"
            ],
            [
             0.7,
             "#b8e186"
            ],
            [
             0.8,
             "#7fbc41"
            ],
            [
             0.9,
             "#4d9221"
            ],
            [
             1,
             "#276419"
            ]
           ],
           "sequential": [
            [
             0,
             "#0d0887"
            ],
            [
             0.1111111111111111,
             "#46039f"
            ],
            [
             0.2222222222222222,
             "#7201a8"
            ],
            [
             0.3333333333333333,
             "#9c179e"
            ],
            [
             0.4444444444444444,
             "#bd3786"
            ],
            [
             0.5555555555555556,
             "#d8576b"
            ],
            [
             0.6666666666666666,
             "#ed7953"
            ],
            [
             0.7777777777777778,
             "#fb9f3a"
            ],
            [
             0.8888888888888888,
             "#fdca26"
            ],
            [
             1,
             "#f0f921"
            ]
           ],
           "sequentialminus": [
            [
             0,
             "#0d0887"
            ],
            [
             0.1111111111111111,
             "#46039f"
            ],
            [
             0.2222222222222222,
             "#7201a8"
            ],
            [
             0.3333333333333333,
             "#9c179e"
            ],
            [
             0.4444444444444444,
             "#bd3786"
            ],
            [
             0.5555555555555556,
             "#d8576b"
            ],
            [
             0.6666666666666666,
             "#ed7953"
            ],
            [
             0.7777777777777778,
             "#fb9f3a"
            ],
            [
             0.8888888888888888,
             "#fdca26"
            ],
            [
             1,
             "#f0f921"
            ]
           ]
          },
          "colorway": [
           "#636efa",
           "#EF553B",
           "#00cc96",
           "#ab63fa",
           "#FFA15A",
           "#19d3f3",
           "#FF6692",
           "#B6E880",
           "#FF97FF",
           "#FECB52"
          ],
          "font": {
           "color": "#2a3f5f"
          },
          "geo": {
           "bgcolor": "white",
           "lakecolor": "white",
           "landcolor": "#E5ECF6",
           "showlakes": true,
           "showland": true,
           "subunitcolor": "white"
          },
          "hoverlabel": {
           "align": "left"
          },
          "hovermode": "closest",
          "mapbox": {
           "style": "light"
          },
          "paper_bgcolor": "white",
          "plot_bgcolor": "#E5ECF6",
          "polar": {
           "angularaxis": {
            "gridcolor": "white",
            "linecolor": "white",
            "ticks": ""
           },
           "bgcolor": "#E5ECF6",
           "radialaxis": {
            "gridcolor": "white",
            "linecolor": "white",
            "ticks": ""
           }
          },
          "scene": {
           "xaxis": {
            "backgroundcolor": "#E5ECF6",
            "gridcolor": "white",
            "gridwidth": 2,
            "linecolor": "white",
            "showbackground": true,
            "ticks": "",
            "zerolinecolor": "white"
           },
           "yaxis": {
            "backgroundcolor": "#E5ECF6",
            "gridcolor": "white",
            "gridwidth": 2,
            "linecolor": "white",
            "showbackground": true,
            "ticks": "",
            "zerolinecolor": "white"
           },
           "zaxis": {
            "backgroundcolor": "#E5ECF6",
            "gridcolor": "white",
            "gridwidth": 2,
            "linecolor": "white",
            "showbackground": true,
            "ticks": "",
            "zerolinecolor": "white"
           }
          },
          "shapedefaults": {
           "line": {
            "color": "#2a3f5f"
           }
          },
          "ternary": {
           "aaxis": {
            "gridcolor": "white",
            "linecolor": "white",
            "ticks": ""
           },
           "baxis": {
            "gridcolor": "white",
            "linecolor": "white",
            "ticks": ""
           },
           "bgcolor": "#E5ECF6",
           "caxis": {
            "gridcolor": "white",
            "linecolor": "white",
            "ticks": ""
           }
          },
          "title": {
           "x": 0.05
          },
          "xaxis": {
           "automargin": true,
           "gridcolor": "white",
           "linecolor": "white",
           "ticks": "",
           "title": {
            "standoff": 15
           },
           "zerolinecolor": "white",
           "zerolinewidth": 2
          },
          "yaxis": {
           "automargin": true,
           "gridcolor": "white",
           "linecolor": "white",
           "ticks": "",
           "title": {
            "standoff": 15
           },
           "zerolinecolor": "white",
           "zerolinewidth": 2
          }
         }
        },
        "xaxis": {
         "anchor": "y",
         "domain": [
          0,
          1
         ],
         "title": {
          "text": "x"
         }
        },
        "yaxis": {
         "anchor": "x",
         "domain": [
          0,
          1
         ],
         "title": {
          "text": "sum of y"
         }
        }
       }
      }
     },
     "metadata": {}
    }
   ],
   "metadata": {}
  },
  {
   "cell_type": "markdown",
   "source": [
    "### Task 3.4 \n",
    "Using the experience metrics above, perform a k-means clustering(where k=3) to segment users into groups of experiences and provide a brief description of each cluster. (The description must define each group based on your understanding of the data)\n"
   ],
   "metadata": {}
  },
  {
   "cell_type": "code",
   "execution_count": 68,
   "source": [
    "experiance_metric_df = user_engagement_df[[\n",
    "    \"total_avg_rtt\",\n",
    "    \"total_avg_tp\",\n",
    "    \"total_avg_tcp\"]].copy()\n",
    "experiance_metric_df.head()"
   ],
   "outputs": [
    {
     "output_type": "execute_result",
     "data": {
      "text/plain": [
       "               total_avg_rtt  total_avg_tp  total_avg_tcp\n",
       "msisdn_number                                            \n",
       "33601001722            46.00         76.00      729692.00\n",
       "33601001754            31.00         99.00       15743.00\n",
       "33601002511            50.00         97.00     4032874.25\n",
       "33601007832            84.00        248.00        5056.00\n",
       "33601008617           119.00      43204.50     8980965.88"
      ],
      "text/html": [
       "<div>\n",
       "<style scoped>\n",
       "    .dataframe tbody tr th:only-of-type {\n",
       "        vertical-align: middle;\n",
       "    }\n",
       "\n",
       "    .dataframe tbody tr th {\n",
       "        vertical-align: top;\n",
       "    }\n",
       "\n",
       "    .dataframe thead th {\n",
       "        text-align: right;\n",
       "    }\n",
       "</style>\n",
       "<table border=\"1\" class=\"dataframe\">\n",
       "  <thead>\n",
       "    <tr style=\"text-align: right;\">\n",
       "      <th></th>\n",
       "      <th>total_avg_rtt</th>\n",
       "      <th>total_avg_tp</th>\n",
       "      <th>total_avg_tcp</th>\n",
       "    </tr>\n",
       "    <tr>\n",
       "      <th>msisdn_number</th>\n",
       "      <th></th>\n",
       "      <th></th>\n",
       "      <th></th>\n",
       "    </tr>\n",
       "  </thead>\n",
       "  <tbody>\n",
       "    <tr>\n",
       "      <th>33601001722</th>\n",
       "      <td>46.00</td>\n",
       "      <td>76.00</td>\n",
       "      <td>729692.00</td>\n",
       "    </tr>\n",
       "    <tr>\n",
       "      <th>33601001754</th>\n",
       "      <td>31.00</td>\n",
       "      <td>99.00</td>\n",
       "      <td>15743.00</td>\n",
       "    </tr>\n",
       "    <tr>\n",
       "      <th>33601002511</th>\n",
       "      <td>50.00</td>\n",
       "      <td>97.00</td>\n",
       "      <td>4032874.25</td>\n",
       "    </tr>\n",
       "    <tr>\n",
       "      <th>33601007832</th>\n",
       "      <td>84.00</td>\n",
       "      <td>248.00</td>\n",
       "      <td>5056.00</td>\n",
       "    </tr>\n",
       "    <tr>\n",
       "      <th>33601008617</th>\n",
       "      <td>119.00</td>\n",
       "      <td>43204.50</td>\n",
       "      <td>8980965.88</td>\n",
       "    </tr>\n",
       "  </tbody>\n",
       "</table>\n",
       "</div>"
      ]
     },
     "metadata": {},
     "execution_count": 68
    }
   ],
   "metadata": {}
  },
  {
   "cell_type": "markdown",
   "source": [
    "Check for outliers"
   ],
   "metadata": {}
  },
  {
   "cell_type": "code",
   "execution_count": 70,
   "source": [
    "experiance_metric_df.plot.box()"
   ],
   "outputs": [
    {
     "output_type": "execute_result",
     "data": {
      "text/plain": [
       "<AxesSubplot:>"
      ]
     },
     "metadata": {},
     "execution_count": 70
    },
    {
     "output_type": "display_data",
     "data": {
      "text/plain": [
       "<Figure size 432x288 with 1 Axes>"
      ],
      "image/png": "[encoded data removed]"
     },
     "metadata": {
      "needs_background": "light"
     }
    }
   ],
   "metadata": {}
  },
  {
   "cell_type": "code",
   "execution_count": 71,
   "source": [
    "df_outliers = DfOutlier(experiance_metric_df)\n",
    "df_outliers.getOverview()"
   ],
   "outputs": [
    {
     "output_type": "execute_result",
     "data": {
      "text/plain": [
       "                    Q1    median         Q3        IQR  skew  number_of_outliers percentage_of_outliers  min_value   max_value       mean\n",
       "label                                                                                                                                    \n",
       "total_avg_rtt    47.00     59.00     106.00      59.00  3.61                5623                  5.32%       0.00     1094.00      83.30\n",
       "total_avg_tp     97.00    302.00   25398.88   25301.88  3.27                4950                  4.68%       0.00   445213.25   16659.82\n",
       "total_avg_tcp 78086.75 661481.50 4622683.81 4544597.06  2.74                4152                  3.93%      44.00 56842100.75 2873245.29"
      ],
      "text/html": [
       "<div>\n",
       "<style scoped>\n",
       "    .dataframe tbody tr th:only-of-type {\n",
       "        vertical-align: middle;\n",
       "    }\n",
       "\n",
       "    .dataframe tbody tr th {\n",
       "        vertical-align: top;\n",
       "    }\n",
       "\n",
       "    .dataframe thead th {\n",
       "        text-align: right;\n",
       "    }\n",
       "</style>\n",
       "<table border=\"1\" class=\"dataframe\">\n",
       "  <thead>\n",
       "    <tr style=\"text-align: right;\">\n",
       "      <th></th>\n",
       "      <th>Q1</th>\n",
       "      <th>median</th>\n",
       "      <th>Q3</th>\n",
       "      <th>IQR</th>\n",
       "      <th>skew</th>\n",
       "      <th>number_of_outliers</th>\n",
       "      <th>percentage_of_outliers</th>\n",
       "      <th>min_value</th>\n",
       "      <th>max_value</th>\n",
       "      <th>mean</th>\n",
       "    </tr>\n",
       "    <tr>\n",
       "      <th>label</th>\n",
       "      <th></th>\n",
       "      <th></th>\n",
       "      <th></th>\n",
       "      <th></th>\n",
       "      <th></th>\n",
       "      <th></th>\n",
       "      <th></th>\n",
       "      <th></th>\n",
       "      <th></th>\n",
       "      <th></th>\n",
       "    </tr>\n",
       "  </thead>\n",
       "  <tbody>\n",
       "    <tr>\n",
       "      <th>total_avg_rtt</th>\n",
       "      <td>47.00</td>\n",
       "      <td>59.00</td>\n",
       "      <td>106.00</td>\n",
       "      <td>59.00</td>\n",
       "      <td>3.61</td>\n",
       "      <td>5623</td>\n",
       "      <td>5.32%</td>\n",
       "      <td>0.00</td>\n",
       "      <td>1094.00</td>\n",
       "      <td>83.30</td>\n",
       "    </tr>\n",
       "    <tr>\n",
       "      <th>total_avg_tp</th>\n",
       "      <td>97.00</td>\n",
       "      <td>302.00</td>\n",
       "      <td>25398.88</td>\n",
       "      <td>25301.88</td>\n",
       "      <td>3.27</td>\n",
       "      <td>4950</td>\n",
       "      <td>4.68%</td>\n",
       "      <td>0.00</td>\n",
       "      <td>445213.25</td>\n",
       "      <td>16659.82</td>\n",
       "    </tr>\n",
       "    <tr>\n",
       "      <th>total_avg_tcp</th>\n",
       "      <td>78086.75</td>\n",
       "      <td>661481.50</td>\n",
       "      <td>4622683.81</td>\n",
       "      <td>4544597.06</td>\n",
       "      <td>2.74</td>\n",
       "      <td>4152</td>\n",
       "      <td>3.93%</td>\n",
       "      <td>44.00</td>\n",
       "      <td>56842100.75</td>\n",
       "      <td>2873245.29</td>\n",
       "    </tr>\n",
       "  </tbody>\n",
       "</table>\n",
       "</div>"
      ]
     },
     "metadata": {},
     "execution_count": 71
    }
   ],
   "metadata": {}
  },
  {
   "cell_type": "code",
   "execution_count": 73,
   "source": [
    "df_outliers.replace_outliers_with_iqr(\n",
    "    [\"total_avg_rtt\",\n",
    "     \"total_avg_tp\",\n",
    "     \"total_avg_tcp\"])\n",
    "df_outliers = DfOutlier(experiance_metric_df)\n",
    "df_outliers.getOverview()"
   ],
   "outputs": [
    {
     "output_type": "execute_result",
     "data": {
      "text/plain": [
       "                    Q1    median         Q3        IQR  skew  number_of_outliers percentage_of_outliers  min_value   max_value       mean\n",
       "label                                                                                                                                    \n",
       "total_avg_rtt    47.00     59.00     106.00      59.00  1.10                   0                   0.0%       0.00      194.50      77.14\n",
       "total_avg_tp     97.00    302.00   25398.88   25301.88  1.22                   0                   0.0%       0.00    63351.69   14116.57\n",
       "total_avg_tcp 78086.75 661481.50 4622683.81 4544597.06  1.18                   0                   0.0%      44.00 11439579.41 2618383.02"
      ],
      "text/html": [
       "<div>\n",
       "<style scoped>\n",
       "    .dataframe tbody tr th:only-of-type {\n",
       "        vertical-align: middle;\n",
       "    }\n",
       "\n",
       "    .dataframe tbody tr th {\n",
       "        vertical-align: top;\n",
       "    }\n",
       "\n",
       "    .dataframe thead th {\n",
       "        text-align: right;\n",
       "    }\n",
       "</style>\n",
       "<table border=\"1\" class=\"dataframe\">\n",
       "  <thead>\n",
       "    <tr style=\"text-align: right;\">\n",
       "      <th></th>\n",
       "      <th>Q1</th>\n",
       "      <th>median</th>\n",
       "      <th>Q3</th>\n",
       "      <th>IQR</th>\n",
       "      <th>skew</th>\n",
       "      <th>number_of_outliers</th>\n",
       "      <th>percentage_of_outliers</th>\n",
       "      <th>min_value</th>\n",
       "      <th>max_value</th>\n",
       "      <th>mean</th>\n",
       "    </tr>\n",
       "    <tr>\n",
       "      <th>label</th>\n",
       "      <th></th>\n",
       "      <th></th>\n",
       "      <th></th>\n",
       "      <th></th>\n",
       "      <th></th>\n",
       "      <th></th>\n",
       "      <th></th>\n",
       "      <th></th>\n",
       "      <th></th>\n",
       "      <th></th>\n",
       "    </tr>\n",
       "  </thead>\n",
       "  <tbody>\n",
       "    <tr>\n",
       "      <th>total_avg_rtt</th>\n",
       "      <td>47.00</td>\n",
       "      <td>59.00</td>\n",
       "      <td>106.00</td>\n",
       "      <td>59.00</td>\n",
       "      <td>1.10</td>\n",
       "      <td>0</td>\n",
       "      <td>0.0%</td>\n",
       "      <td>0.00</td>\n",
       "      <td>194.50</td>\n",
       "      <td>77.14</td>\n",
       "    </tr>\n",
       "    <tr>\n",
       "      <th>total_avg_tp</th>\n",
       "      <td>97.00</td>\n",
       "      <td>302.00</td>\n",
       "      <td>25398.88</td>\n",
       "      <td>25301.88</td>\n",
       "      <td>1.22</td>\n",
       "      <td>0</td>\n",
       "      <td>0.0%</td>\n",
       "      <td>0.00</td>\n",
       "      <td>63351.69</td>\n",
       "      <td>14116.57</td>\n",
       "    </tr>\n",
       "    <tr>\n",
       "      <th>total_avg_tcp</th>\n",
       "      <td>78086.75</td>\n",
       "      <td>661481.50</td>\n",
       "      <td>4622683.81</td>\n",
       "      <td>4544597.06</td>\n",
       "      <td>1.18</td>\n",
       "      <td>0</td>\n",
       "      <td>0.0%</td>\n",
       "      <td>44.00</td>\n",
       "      <td>11439579.41</td>\n",
       "      <td>2618383.02</td>\n",
       "    </tr>\n",
       "  </tbody>\n",
       "</table>\n",
       "</div>"
      ]
     },
     "metadata": {},
     "execution_count": 73
    }
   ],
   "metadata": {}
  },
  {
   "cell_type": "code",
   "execution_count": 74,
   "source": [
    "experiance_metric_df.plot.box()\n"
   ],
   "outputs": [
    {
     "output_type": "execute_result",
     "data": {
      "text/plain": [
       "<AxesSubplot:>"
      ]
     },
     "metadata": {},
     "execution_count": 74
    },
    {
     "output_type": "display_data",
     "data": {
      "text/plain": [
       "<Figure size 432x288 with 1 Axes>"
      ],
      "image/png": "[encoded data removed]"
     },
     "metadata": {
      "needs_background": "light"
     }
    }
   ],
   "metadata": {}
  },
  {
   "cell_type": "code",
   "execution_count": 75,
   "source": [
    "scaler = StandardScaler()\n",
    "scaled_array = scaler.fit_transform(df_outliers.df)\n",
    "scaled_array\n",
    "pd.DataFrame(scaled_array)"
   ],
   "outputs": [
    {
     "output_type": "execute_result",
     "data": {
      "text/plain": [
       "           0     1     2\n",
       "0      -0.68 -0.68 -0.55\n",
       "1      -1.01 -0.68 -0.76\n",
       "2      -0.60 -0.68  0.41\n",
       "3       0.15 -0.67 -0.76\n",
       "4       0.92  1.41  1.85\n",
       "...      ...   ...   ...\n",
       "105709 -0.53 -0.68 -0.76\n",
       "105710  0.92  1.87 -0.76\n",
       "105711 -0.55 -0.18 -0.70\n",
       "105712 -0.82 -0.68  1.48\n",
       "105713 -0.60 -0.68 -0.69\n",
       "\n",
       "[105714 rows x 3 columns]"
      ],
      "text/html": [
       "<div>\n",
       "<style scoped>\n",
       "    .dataframe tbody tr th:only-of-type {\n",
       "        vertical-align: middle;\n",
       "    }\n",
       "\n",
       "    .dataframe tbody tr th {\n",
       "        vertical-align: top;\n",
       "    }\n",
       "\n",
       "    .dataframe thead th {\n",
       "        text-align: right;\n",
       "    }\n",
       "</style>\n",
       "<table border=\"1\" class=\"dataframe\">\n",
       "  <thead>\n",
       "    <tr style=\"text-align: right;\">\n",
       "      <th></th>\n",
       "      <th>0</th>\n",
       "      <th>1</th>\n",
       "      <th>2</th>\n",
       "    </tr>\n",
       "  </thead>\n",
       "  <tbody>\n",
       "    <tr>\n",
       "      <th>0</th>\n",
       "      <td>-0.68</td>\n",
       "      <td>-0.68</td>\n",
       "      <td>-0.55</td>\n",
       "    </tr>\n",
       "    <tr>\n",
       "      <th>1</th>\n",
       "      <td>-1.01</td>\n",
       "      <td>-0.68</td>\n",
       "      <td>-0.76</td>\n",
       "    </tr>\n",
       "    <tr>\n",
       "      <th>2</th>\n",
       "      <td>-0.60</td>\n",
       "      <td>-0.68</td>\n",
       "      <td>0.41</td>\n",
       "    </tr>\n",
       "    <tr>\n",
       "      <th>3</th>\n",
       "      <td>0.15</td>\n",
       "      <td>-0.67</td>\n",
       "      <td>-0.76</td>\n",
       "    </tr>\n",
       "    <tr>\n",
       "      <th>4</th>\n",
       "      <td>0.92</td>\n",
       "      <td>1.41</td>\n",
       "      <td>1.85</td>\n",
       "    </tr>\n",
       "    <tr>\n",
       "      <th>...</th>\n",
       "      <td>...</td>\n",
       "      <td>...</td>\n",
       "      <td>...</td>\n",
       "    </tr>\n",
       "    <tr>\n",
       "      <th>105709</th>\n",
       "      <td>-0.53</td>\n",
       "      <td>-0.68</td>\n",
       "      <td>-0.76</td>\n",
       "    </tr>\n",
       "    <tr>\n",
       "      <th>105710</th>\n",
       "      <td>0.92</td>\n",
       "      <td>1.87</td>\n",
       "      <td>-0.76</td>\n",
       "    </tr>\n",
       "    <tr>\n",
       "      <th>105711</th>\n",
       "      <td>-0.55</td>\n",
       "      <td>-0.18</td>\n",
       "      <td>-0.70</td>\n",
       "    </tr>\n",
       "    <tr>\n",
       "      <th>105712</th>\n",
       "      <td>-0.82</td>\n",
       "      <td>-0.68</td>\n",
       "      <td>1.48</td>\n",
       "    </tr>\n",
       "    <tr>\n",
       "      <th>105713</th>\n",
       "      <td>-0.60</td>\n",
       "      <td>-0.68</td>\n",
       "      <td>-0.69</td>\n",
       "    </tr>\n",
       "  </tbody>\n",
       "</table>\n",
       "<p>105714 rows × 3 columns</p>\n",
       "</div>"
      ]
     },
     "metadata": {},
     "execution_count": 75
    }
   ],
   "metadata": {}
  },
  {
   "cell_type": "code",
   "execution_count": 76,
   "source": [
    "kmeans = KMeans(n_clusters=3, random_state=0).fit(scaled_array)\n",
    "kmeans.labels_"
   ],
   "outputs": [
    {
     "output_type": "execute_result",
     "data": {
      "text/plain": [
       "array([0, 0, 0, ..., 0, 2, 0], dtype=int32)"
      ]
     },
     "metadata": {},
     "execution_count": 76
    }
   ],
   "metadata": {}
  },
  {
   "cell_type": "code",
   "execution_count": 77,
   "source": [
    "experiance_metric_df.insert(0, 'cluster', kmeans.labels_)\n",
    "experiance_metric_df"
   ],
   "outputs": [
    {
     "output_type": "execute_result",
     "data": {
      "text/plain": [
       "                 cluster  total_avg_rtt  total_avg_tp  total_avg_tcp\n",
       "msisdn_number                                                       \n",
       "33601001722            0          46.00         76.00      729692.00\n",
       "33601001754            0          31.00         99.00       15743.00\n",
       "33601002511            0          50.00         97.00     4032874.25\n",
       "33601007832            0          84.00        248.00        5056.00\n",
       "33601008617            1         119.00      43204.50     8980965.88\n",
       "...                  ...            ...           ...            ...\n",
       "33789967113            0          53.00         67.00        2833.00\n",
       "33789980299            1         119.00      52862.75       11809.00\n",
       "33789996170            0          52.00      10365.00      218045.00\n",
       "33789997247            2          40.00        116.00     7715186.88\n",
       "337000037000919        0          50.00         33.00      252857.00\n",
       "\n",
       "[105714 rows x 4 columns]"
      ],
      "text/html": [
       "<div>\n",
       "<style scoped>\n",
       "    .dataframe tbody tr th:only-of-type {\n",
       "        vertical-align: middle;\n",
       "    }\n",
       "\n",
       "    .dataframe tbody tr th {\n",
       "        vertical-align: top;\n",
       "    }\n",
       "\n",
       "    .dataframe thead th {\n",
       "        text-align: right;\n",
       "    }\n",
       "</style>\n",
       "<table border=\"1\" class=\"dataframe\">\n",
       "  <thead>\n",
       "    <tr style=\"text-align: right;\">\n",
       "      <th></th>\n",
       "      <th>cluster</th>\n",
       "      <th>total_avg_rtt</th>\n",
       "      <th>total_avg_tp</th>\n",
       "      <th>total_avg_tcp</th>\n",
       "    </tr>\n",
       "    <tr>\n",
       "      <th>msisdn_number</th>\n",
       "      <th></th>\n",
       "      <th></th>\n",
       "      <th></th>\n",
       "      <th></th>\n",
       "    </tr>\n",
       "  </thead>\n",
       "  <tbody>\n",
       "    <tr>\n",
       "      <th>33601001722</th>\n",
       "      <td>0</td>\n",
       "      <td>46.00</td>\n",
       "      <td>76.00</td>\n",
       "      <td>729692.00</td>\n",
       "    </tr>\n",
       "    <tr>\n",
       "      <th>33601001754</th>\n",
       "      <td>0</td>\n",
       "      <td>31.00</td>\n",
       "      <td>99.00</td>\n",
       "      <td>15743.00</td>\n",
       "    </tr>\n",
       "    <tr>\n",
       "      <th>33601002511</th>\n",
       "      <td>0</td>\n",
       "      <td>50.00</td>\n",
       "      <td>97.00</td>\n",
       "      <td>4032874.25</td>\n",
       "    </tr>\n",
       "    <tr>\n",
       "      <th>33601007832</th>\n",
       "      <td>0</td>\n",
       "      <td>84.00</td>\n",
       "      <td>248.00</td>\n",
       "      <td>5056.00</td>\n",
       "    </tr>\n",
       "    <tr>\n",
       "      <th>33601008617</th>\n",
       "      <td>1</td>\n",
       "      <td>119.00</td>\n",
       "      <td>43204.50</td>\n",
       "      <td>8980965.88</td>\n",
       "    </tr>\n",
       "    <tr>\n",
       "      <th>...</th>\n",
       "      <td>...</td>\n",
       "      <td>...</td>\n",
       "      <td>...</td>\n",
       "      <td>...</td>\n",
       "    </tr>\n",
       "    <tr>\n",
       "      <th>33789967113</th>\n",
       "      <td>0</td>\n",
       "      <td>53.00</td>\n",
       "      <td>67.00</td>\n",
       "      <td>2833.00</td>\n",
       "    </tr>\n",
       "    <tr>\n",
       "      <th>33789980299</th>\n",
       "      <td>1</td>\n",
       "      <td>119.00</td>\n",
       "      <td>52862.75</td>\n",
       "      <td>11809.00</td>\n",
       "    </tr>\n",
       "    <tr>\n",
       "      <th>33789996170</th>\n",
       "      <td>0</td>\n",
       "      <td>52.00</td>\n",
       "      <td>10365.00</td>\n",
       "      <td>218045.00</td>\n",
       "    </tr>\n",
       "    <tr>\n",
       "      <th>33789997247</th>\n",
       "      <td>2</td>\n",
       "      <td>40.00</td>\n",
       "      <td>116.00</td>\n",
       "      <td>7715186.88</td>\n",
       "    </tr>\n",
       "    <tr>\n",
       "      <th>337000037000919</th>\n",
       "      <td>0</td>\n",
       "      <td>50.00</td>\n",
       "      <td>33.00</td>\n",
       "      <td>252857.00</td>\n",
       "    </tr>\n",
       "  </tbody>\n",
       "</table>\n",
       "<p>105714 rows × 4 columns</p>\n",
       "</div>"
      ]
     },
     "metadata": {},
     "execution_count": 77
    }
   ],
   "metadata": {}
  },
  {
   "cell_type": "code",
   "execution_count": 78,
   "source": [
    "experiance_metric_df['cluster'].value_counts()\n"
   ],
   "outputs": [
    {
     "output_type": "execute_result",
     "data": {
      "text/plain": [
       "0    67004\n",
       "1    22016\n",
       "2    16694\n",
       "Name: cluster, dtype: int64"
      ]
     },
     "metadata": {},
     "execution_count": 78
    }
   ],
   "metadata": {}
  },
  {
   "cell_type": "code",
   "execution_count": 81,
   "source": [
    "fig = px.scatter(experiance_metric_df, x='total_avg_rtt', y=\"total_avg_tp\",\n",
    "                 color='cluster', size='total_avg_tcp')\n",
    "fig.show()\n"
   ],
   "outputs": [
    {
     "output_type": "error",
     "ename": "ValueError",
     "evalue": "Value of 'color' is not the name of a column in 'data_frame'. Expected one of ['total_avg_rtt', 'total_avg_tp', 'total_avg_tcp', 'handset_type'] but received: cluster",
     "traceback": [
      "\u001b[0;31m---------------------------------------------------------------------------\u001b[0m",
      "\u001b[0;31mValueError\u001b[0m                                Traceback (most recent call last)",
      "\u001b[0;32m<ipython-input-81-fa850bcda629>\u001b[0m in \u001b[0;36m<module>\u001b[0;34m\u001b[0m\n\u001b[0;32m----> 1\u001b[0;31m fig = px.scatter(user_engagement_df, x='total_avg_rtt', y=\"total_avg_tp\",\n\u001b[0m\u001b[1;32m      2\u001b[0m                  color='cluster', size='total_avg_tcp')\n\u001b[1;32m      3\u001b[0m \u001b[0mfig\u001b[0m\u001b[0;34m.\u001b[0m\u001b[0mshow\u001b[0m\u001b[0;34m(\u001b[0m\u001b[0;34m)\u001b[0m\u001b[0;34m\u001b[0m\u001b[0;34m\u001b[0m\u001b[0m\n",
      "\u001b[0;32m/usr/local/lib/python3.9/site-packages/plotly/express/_chart_types.py\u001b[0m in \u001b[0;36mscatter\u001b[0;34m(data_frame, x, y, color, symbol, size, hover_name, hover_data, custom_data, text, facet_row, facet_col, facet_col_wrap, facet_row_spacing, facet_col_spacing, error_x, error_x_minus, error_y, error_y_minus, animation_frame, animation_group, category_orders, labels, orientation, color_discrete_sequence, color_discrete_map, color_continuous_scale, range_color, color_continuous_midpoint, symbol_sequence, symbol_map, opacity, size_max, marginal_x, marginal_y, trendline, trendline_color_override, log_x, log_y, range_x, range_y, render_mode, title, template, width, height)\u001b[0m\n\u001b[1;32m     62\u001b[0m     \u001b[0mmark\u001b[0m \u001b[0;32min\u001b[0m \u001b[0;36m2\u001b[0m\u001b[0mD\u001b[0m \u001b[0mspace\u001b[0m\u001b[0;34m.\u001b[0m\u001b[0;34m\u001b[0m\u001b[0;34m\u001b[0m\u001b[0m\n\u001b[1;32m     63\u001b[0m     \"\"\"\n\u001b[0;32m---> 64\u001b[0;31m     \u001b[0;32mreturn\u001b[0m \u001b[0mmake_figure\u001b[0m\u001b[0;34m(\u001b[0m\u001b[0margs\u001b[0m\u001b[0;34m=\u001b[0m\u001b[0mlocals\u001b[0m\u001b[0;34m(\u001b[0m\u001b[0;34m)\u001b[0m\u001b[0;34m,\u001b[0m \u001b[0mconstructor\u001b[0m\u001b[0;34m=\u001b[0m\u001b[0mgo\u001b[0m\u001b[0;34m.\u001b[0m\u001b[0mScatter\u001b[0m\u001b[0;34m)\u001b[0m\u001b[0;34m\u001b[0m\u001b[0;34m\u001b[0m\u001b[0m\n\u001b[0m\u001b[1;32m     65\u001b[0m \u001b[0;34m\u001b[0m\u001b[0m\n\u001b[1;32m     66\u001b[0m \u001b[0;34m\u001b[0m\u001b[0m\n",
      "\u001b[0;32m/usr/local/lib/python3.9/site-packages/plotly/express/_core.py\u001b[0m in \u001b[0;36mmake_figure\u001b[0;34m(args, constructor, trace_patch, layout_patch)\u001b[0m\n\u001b[1;32m   1859\u001b[0m     \u001b[0mapply_default_cascade\u001b[0m\u001b[0;34m(\u001b[0m\u001b[0margs\u001b[0m\u001b[0;34m)\u001b[0m\u001b[0;34m\u001b[0m\u001b[0;34m\u001b[0m\u001b[0m\n\u001b[1;32m   1860\u001b[0m \u001b[0;34m\u001b[0m\u001b[0m\n\u001b[0;32m-> 1861\u001b[0;31m     \u001b[0margs\u001b[0m \u001b[0;34m=\u001b[0m \u001b[0mbuild_dataframe\u001b[0m\u001b[0;34m(\u001b[0m\u001b[0margs\u001b[0m\u001b[0;34m,\u001b[0m \u001b[0mconstructor\u001b[0m\u001b[0;34m)\u001b[0m\u001b[0;34m\u001b[0m\u001b[0;34m\u001b[0m\u001b[0m\n\u001b[0m\u001b[1;32m   1862\u001b[0m     \u001b[0;32mif\u001b[0m \u001b[0mconstructor\u001b[0m \u001b[0;32min\u001b[0m \u001b[0;34m[\u001b[0m\u001b[0mgo\u001b[0m\u001b[0;34m.\u001b[0m\u001b[0mTreemap\u001b[0m\u001b[0;34m,\u001b[0m \u001b[0mgo\u001b[0m\u001b[0;34m.\u001b[0m\u001b[0mSunburst\u001b[0m\u001b[0;34m]\u001b[0m \u001b[0;32mand\u001b[0m \u001b[0margs\u001b[0m\u001b[0;34m[\u001b[0m\u001b[0;34m\"path\"\u001b[0m\u001b[0;34m]\u001b[0m \u001b[0;32mis\u001b[0m \u001b[0;32mnot\u001b[0m \u001b[0;32mNone\u001b[0m\u001b[0;34m:\u001b[0m\u001b[0;34m\u001b[0m\u001b[0;34m\u001b[0m\u001b[0m\n\u001b[1;32m   1863\u001b[0m         \u001b[0margs\u001b[0m \u001b[0;34m=\u001b[0m \u001b[0mprocess_dataframe_hierarchy\u001b[0m\u001b[0;34m(\u001b[0m\u001b[0margs\u001b[0m\u001b[0;34m)\u001b[0m\u001b[0;34m\u001b[0m\u001b[0;34m\u001b[0m\u001b[0m\n",
      "\u001b[0;32m/usr/local/lib/python3.9/site-packages/plotly/express/_core.py\u001b[0m in \u001b[0;36mbuild_dataframe\u001b[0;34m(args, constructor)\u001b[0m\n\u001b[1;32m   1375\u001b[0m     \u001b[0;31m# now that things have been prepped, we do the systematic rewriting of `args`\u001b[0m\u001b[0;34m\u001b[0m\u001b[0;34m\u001b[0m\u001b[0;34m\u001b[0m\u001b[0m\n\u001b[1;32m   1376\u001b[0m \u001b[0;34m\u001b[0m\u001b[0m\n\u001b[0;32m-> 1377\u001b[0;31m     df_output, wide_id_vars = process_args_into_dataframe(\n\u001b[0m\u001b[1;32m   1378\u001b[0m         \u001b[0margs\u001b[0m\u001b[0;34m,\u001b[0m \u001b[0mwide_mode\u001b[0m\u001b[0;34m,\u001b[0m \u001b[0mvar_name\u001b[0m\u001b[0;34m,\u001b[0m \u001b[0mvalue_name\u001b[0m\u001b[0;34m\u001b[0m\u001b[0;34m\u001b[0m\u001b[0m\n\u001b[1;32m   1379\u001b[0m     )\n",
      "\u001b[0;32m/usr/local/lib/python3.9/site-packages/plotly/express/_core.py\u001b[0m in \u001b[0;36mprocess_args_into_dataframe\u001b[0;34m(args, wide_mode, var_name, value_name)\u001b[0m\n\u001b[1;32m   1181\u001b[0m                         \u001b[0;32mif\u001b[0m \u001b[0margument\u001b[0m \u001b[0;34m==\u001b[0m \u001b[0;34m\"index\"\u001b[0m\u001b[0;34m:\u001b[0m\u001b[0;34m\u001b[0m\u001b[0;34m\u001b[0m\u001b[0m\n\u001b[1;32m   1182\u001b[0m                             \u001b[0merr_msg\u001b[0m \u001b[0;34m+=\u001b[0m \u001b[0;34m\"\\n To use the index, pass it in directly as `df.index`.\"\u001b[0m\u001b[0;34m\u001b[0m\u001b[0;34m\u001b[0m\u001b[0m\n\u001b[0;32m-> 1183\u001b[0;31m                         \u001b[0;32mraise\u001b[0m \u001b[0mValueError\u001b[0m\u001b[0;34m(\u001b[0m\u001b[0merr_msg\u001b[0m\u001b[0;34m)\u001b[0m\u001b[0;34m\u001b[0m\u001b[0;34m\u001b[0m\u001b[0m\n\u001b[0m\u001b[1;32m   1184\u001b[0m                 \u001b[0;32melif\u001b[0m \u001b[0mlength\u001b[0m \u001b[0;32mand\u001b[0m \u001b[0mlen\u001b[0m\u001b[0;34m(\u001b[0m\u001b[0mdf_input\u001b[0m\u001b[0;34m[\u001b[0m\u001b[0margument\u001b[0m\u001b[0;34m]\u001b[0m\u001b[0;34m)\u001b[0m \u001b[0;34m!=\u001b[0m \u001b[0mlength\u001b[0m\u001b[0;34m:\u001b[0m\u001b[0;34m\u001b[0m\u001b[0;34m\u001b[0m\u001b[0m\n\u001b[1;32m   1185\u001b[0m                     raise ValueError(\n",
      "\u001b[0;31mValueError\u001b[0m: Value of 'color' is not the name of a column in 'data_frame'. Expected one of ['total_avg_rtt', 'total_avg_tp', 'total_avg_tcp', 'handset_type'] but received: cluster"
     ]
    }
   ],
   "metadata": {}
  },
  {
   "cell_type": "code",
   "execution_count": 80,
   "source": [
    "# scatter3D(experiance_metric_df, x=\"total_avg_rtt\", y=\"total_avg_tp\", z=\"total_avg_tcp\",\n",
    "#           c=\"cluster\")"
   ],
   "outputs": [],
   "metadata": {}
  },
  {
   "cell_type": "code",
   "execution_count": null,
   "source": [],
   "outputs": [],
   "metadata": {}
  },
  {
   "cell_type": "code",
   "execution_count": null,
   "source": [],
   "outputs": [],
   "metadata": {}
  }
 ],
 "metadata": {
  "orig_nbformat": 4,
  "language_info": {
   "name": "python"
  }
 },
 "nbformat": 4,
 "nbformat_minor": 2
}