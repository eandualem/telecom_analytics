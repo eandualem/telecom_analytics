{
 "cells": [
  {
   "cell_type": "markdown",
   "source": [
    "# User Experience Analytics"
   ],
   "metadata": {}
  },
  {
   "cell_type": "markdown",
   "source": [
    "## Imports"
   ],
   "metadata": {}
  },
  {
   "cell_type": "code",
   "execution_count": 1,
   "source": [
    "import pickle\n",
    "import numpy as np\n",
    "import pandas as pd\n",
    "from math import floor\n",
    "import plotly.express as px\n",
    "import plotly.graph_objects as go\n",
    "from plotly.subplots import make_subplots\n",
    "from scipy.stats import zscore\n",
    "from sklearn import metrics\n",
    "from sklearn.cluster import KMeans\n",
    "from sklearn.preprocessing import StandardScaler, normalize\n",
    "from scipy.spatial.distance import cdist\n",
    "import matplotlib.pyplot as plt"
   ],
   "outputs": [],
   "metadata": {}
  },
  {
   "cell_type": "code",
   "execution_count": 2,
   "source": [
    "pd.set_option('display.max_columns', None)\n",
    "pd.set_option('display.max_colwidth', None)\n",
    "pd.set_option(\"expand_frame_repr\", False)\n",
    "pd.set_option('display.float_format', '{:.2f}'.format)"
   ],
   "outputs": [],
   "metadata": {}
  },
  {
   "cell_type": "code",
   "execution_count": 3,
   "source": [
    "sys.path.append(os.path.abspath(os.path.join('../scripts')))\n",
    "from df_selector import DfSelector\n",
    "from df_outlier import DfOutlier\n",
    "from vis_seaborn import *\n",
    "from vis_plotly import *"
   ],
   "outputs": [
    {
     "output_type": "stream",
     "name": "stdout",
     "text": [
      "2021-07-17 02:51:14,225 — DfSelector — DEBUG — Loaded successfully!\n",
      "2021-07-17 02:51:14,230 — DfOutlier — DEBUG — Loaded successfully!\n"
     ]
    }
   ],
   "metadata": {}
  },
  {
   "cell_type": "markdown",
   "source": [
    "## Data reading"
   ],
   "metadata": {}
  },
  {
   "cell_type": "code",
   "execution_count": 4,
   "source": [
    "df = pd.read_csv(\"../data/clean_data.csv\")\n",
    "df.info()"
   ],
   "outputs": [
    {
     "output_type": "stream",
     "name": "stdout",
     "text": [
      "<class 'pandas.core.frame.DataFrame'>\n",
      "RangeIndex: 146882 entries, 0 to 146881\n",
      "Data columns (total 54 columns):\n",
      " #   Column                          Non-Null Count   Dtype  \n",
      "---  ------                          --------------   -----  \n",
      " 0   bearer_id                       146882 non-null  int64  \n",
      " 1   start                           146882 non-null  object \n",
      " 2   start_ms                        146882 non-null  float64\n",
      " 3   end                             146882 non-null  object \n",
      " 4   end_ms                          146882 non-null  float64\n",
      " 5   dur_(ms)                        146882 non-null  float64\n",
      " 6   imsi                            146882 non-null  int64  \n",
      " 7   msisdn_number                   146882 non-null  int64  \n",
      " 8   imei                            146882 non-null  int64  \n",
      " 9   last_location_name              146882 non-null  object \n",
      " 10  avg_rtt_dl_(ms)                 146882 non-null  float64\n",
      " 11  avg_rtt_ul_(ms)                 146882 non-null  float64\n",
      " 12  avg_bearer_tp_dl_(kbps)         146882 non-null  float64\n",
      " 13  avg_bearer_tp_ul_(kbps)         146882 non-null  float64\n",
      " 14  tcp_dl_retrans_vol_(bytes)      146882 non-null  float64\n",
      " 15  tcp_ul_retrans_vol_(bytes)      146882 non-null  float64\n",
      " 16  dl_tp_<_50_kbps_(%)             146882 non-null  float64\n",
      " 17  50_kbps_<_dl_tp_<_250_kbps_(%)  146882 non-null  float64\n",
      " 18  250_kbps_<_dl_tp_<_1_mbps_(%)   146882 non-null  float64\n",
      " 19  dl_tp_>_1_mbps_(%)              146882 non-null  float64\n",
      " 20  ul_tp_<_10_kbps_(%)             146882 non-null  float64\n",
      " 21  10_kbps_<_ul_tp_<_50_kbps_(%)   146882 non-null  float64\n",
      " 22  50_kbps_<_ul_tp_<_300_kbps_(%)  146882 non-null  float64\n",
      " 23  ul_tp_>_300_kbps_(%)            146882 non-null  float64\n",
      " 24  activity_duration_dl_(ms)       146882 non-null  float64\n",
      " 25  activity_duration_ul_(ms)       146882 non-null  float64\n",
      " 26  handset_manufacturer            146882 non-null  object \n",
      " 27  handset_type                    146882 non-null  object \n",
      " 28  nb_of_sec_with_vol_dl_<_6250b   146882 non-null  float64\n",
      " 29  nb_of_sec_with_vol_ul_<_1250b   146882 non-null  float64\n",
      " 30  social_media_dl_(bytes)         146882 non-null  float64\n",
      " 31  social_media_ul_(bytes)         146882 non-null  float64\n",
      " 32  google_dl_(bytes)               146882 non-null  float64\n",
      " 33  google_ul_(bytes)               146882 non-null  float64\n",
      " 34  email_dl_(bytes)                146882 non-null  float64\n",
      " 35  email_ul_(bytes)                146882 non-null  float64\n",
      " 36  youtube_dl_(bytes)              146882 non-null  float64\n",
      " 37  youtube_ul_(bytes)              146882 non-null  float64\n",
      " 38  netflix_dl_(bytes)              146882 non-null  float64\n",
      " 39  netflix_ul_(bytes)              146882 non-null  float64\n",
      " 40  gaming_dl_(bytes)               146882 non-null  float64\n",
      " 41  gaming_ul_(bytes)               146882 non-null  float64\n",
      " 42  other_dl_(bytes)                146882 non-null  float64\n",
      " 43  other_ul_(bytes)                146882 non-null  float64\n",
      " 44  total_ul_(bytes)                146882 non-null  float64\n",
      " 45  total_dl_(bytes)                146882 non-null  float64\n",
      " 46  social_media                    146882 non-null  float64\n",
      " 47  google                          146882 non-null  float64\n",
      " 48  email                           146882 non-null  float64\n",
      " 49  youtube                         146882 non-null  float64\n",
      " 50  netflix                         146882 non-null  float64\n",
      " 51  gaming                          146882 non-null  float64\n",
      " 52  other                           146882 non-null  float64\n",
      " 53  total_data                      146882 non-null  float64\n",
      "dtypes: float64(45), int64(4), object(5)\n",
      "memory usage: 60.5+ MB\n"
     ]
    }
   ],
   "metadata": {}
  },
  {
   "cell_type": "markdown",
   "source": [
    "## Task 4.1"
   ],
   "metadata": {}
  },
  {
   "cell_type": "markdown",
   "source": [
    "engagement score to each user. Consider the engagement score as the Euclidean distance between the user data point & the less engaged cluster(use the first clustering for this)(Euclidean Distance)\n"
   ],
   "metadata": {}
  },
  {
   "cell_type": "markdown",
   "source": [
    "experience score to each user. Consider the experience score as the Euclidean distance between the user data point & the worst experience’s cluster.\n"
   ],
   "metadata": {}
  },
  {
   "cell_type": "markdown",
   "source": [
    "## Task 4.2"
   ],
   "metadata": {}
  },
  {
   "cell_type": "markdown",
   "source": [
    "Consider the average of both engagement & experience scores as the satisfaction score & report the top 10 satisfied customer\n"
   ],
   "metadata": {}
  },
  {
   "cell_type": "markdown",
   "source": [
    "## Task 4.3\n"
   ],
   "metadata": {}
  },
  {
   "cell_type": "markdown",
   "source": [
    "Build a regression model of your choice to predict the satisfaction score of a customer.\n"
   ],
   "metadata": {}
  },
  {
   "cell_type": "markdown",
   "source": [
    "## Task 4.4\n"
   ],
   "metadata": {}
  },
  {
   "cell_type": "markdown",
   "source": [
    "Run a k-means(k=2) on the engagement & the experience score .\n"
   ],
   "metadata": {}
  },
  {
   "cell_type": "markdown",
   "source": [
    "## Task 4.5\n"
   ],
   "metadata": {}
  },
  {
   "cell_type": "markdown",
   "source": [
    "Aggregate the average satisfaction & experience score per cluster.\n"
   ],
   "metadata": {}
  },
  {
   "cell_type": "markdown",
   "source": [
    "## Task 4.6\n"
   ],
   "metadata": {}
  },
  {
   "cell_type": "markdown",
   "source": [
    "Export your final table containing all user id + engagement, experience & satisfaction scores in your local MySQL database. Report a screenshot of a select query output on the exported table.\n"
   ],
   "metadata": {}
  },
  {
   "cell_type": "markdown",
   "source": [
    "## Task 4.7\n"
   ],
   "metadata": {}
  },
  {
   "cell_type": "markdown",
   "source": [
    "Model deployment tracking - deploy the model and monitor your model. Here you can use MlOps tools which can help you to track your model’s change.  Your model tracking report includes code version, start and end time, source, parameters, metrics(loss convergence) and artifacts or any output file regarding each specific run. (CSV file, screenshot)\n"
   ],
   "metadata": {}
  },
  {
   "cell_type": "code",
   "execution_count": null,
   "source": [],
   "outputs": [],
   "metadata": {}
  }
 ],
 "metadata": {
  "orig_nbformat": 4,
  "language_info": {
   "name": "python"
  }
 },
 "nbformat": 4,
 "nbformat_minor": 2
}