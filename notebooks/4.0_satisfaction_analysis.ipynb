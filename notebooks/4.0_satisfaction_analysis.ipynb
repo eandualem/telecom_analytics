{
 "cells": [
  {
   "cell_type": "markdown",
   "source": [
    "# User Experience Analytics"
   ],
   "metadata": {}
  },
  {
   "cell_type": "markdown",
   "source": [
    "## Imports"
   ],
   "metadata": {}
  },
  {
   "cell_type": "code",
   "execution_count": 1,
   "source": [
    "import pickle\n",
    "import numpy as np\n",
    "import pandas as pd\n",
    "from math import floor\n",
    "import plotly.express as px\n",
    "import plotly.graph_objects as go\n",
    "from plotly.subplots import make_subplots\n",
    "from scipy.stats import zscore\n",
    "from sklearn import metrics\n",
    "from sklearn.cluster import KMeans\n",
    "from sklearn.preprocessing import StandardScaler, normalize\n",
    "from scipy.spatial.distance import cdist\n",
    "import matplotlib.pyplot as plt"
   ],
   "outputs": [],
   "metadata": {}
  },
  {
   "cell_type": "code",
   "execution_count": 2,
   "source": [
    "pd.set_option('display.max_columns', None)\n",
    "pd.set_option('display.max_colwidth', None)\n",
    "pd.set_option(\"expand_frame_repr\", False)\n",
    "pd.set_option('display.float_format', '{:.2f}'.format)"
   ],
   "outputs": [],
   "metadata": {}
  },
  {
   "cell_type": "code",
   "execution_count": 3,
   "source": [
    "sys.path.append(os.path.abspath(os.path.join('../scripts')))\n",
    "from df_selector import DfSelector\n",
    "from df_outlier import DfOutlier\n",
    "from vis_seaborn import *\n",
    "from vis_plotly import *"
   ],
   "outputs": [
    {
     "output_type": "stream",
     "name": "stdout",
     "text": [
      "2021-07-17 03:40:26,782 — DfSelector — DEBUG — Loaded successfully!\n",
      "2021-07-17 03:40:26,788 — DfOutlier — DEBUG — Loaded successfully!\n"
     ]
    }
   ],
   "metadata": {}
  },
  {
   "cell_type": "markdown",
   "source": [
    "## Data reading"
   ],
   "metadata": {}
  },
  {
   "cell_type": "code",
   "execution_count": 4,
   "source": [
    "df = pd.read_csv(\"../data/clean_data.csv\")\n",
    "user_experiance = pd.read_csv(\"../data/user_experiance.csv\")\n",
    "user_experiance.info()"
   ],
   "outputs": [
    {
     "output_type": "stream",
     "name": "stdout",
     "text": [
      "<class 'pandas.core.frame.DataFrame'>\n",
      "RangeIndex: 105714 entries, 0 to 105713\n",
      "Data columns (total 4 columns):\n",
      " #   Column         Non-Null Count   Dtype  \n",
      "---  ------         --------------   -----  \n",
      " 0   cluster        105714 non-null  int64  \n",
      " 1   total_avg_rtt  105714 non-null  float64\n",
      " 2   total_avg_tp   105714 non-null  float64\n",
      " 3   total_avg_tcp  105714 non-null  float64\n",
      "dtypes: float64(3), int64(1)\n",
      "memory usage: 3.2 MB\n"
     ]
    }
   ],
   "metadata": {}
  },
  {
   "cell_type": "code",
   "execution_count": 5,
   "source": [
    "user_engagement = pd.read_csv(\"../data/user_engagement.csv\")\n",
    "user_engagement.info()"
   ],
   "outputs": [
    {
     "output_type": "stream",
     "name": "stdout",
     "text": [
      "<class 'pandas.core.frame.DataFrame'>\n",
      "RangeIndex: 105714 entries, 0 to 105713\n",
      "Data columns (total 4 columns):\n",
      " #   Column             Non-Null Count   Dtype  \n",
      "---  ------             --------------   -----  \n",
      " 0   cluster            105714 non-null  int64  \n",
      " 1   sessions           105714 non-null  float64\n",
      " 2   duration           105714 non-null  float64\n",
      " 3   total_data_volume  105714 non-null  float64\n",
      "dtypes: float64(3), int64(1)\n",
      "memory usage: 3.2 MB\n"
     ]
    }
   ],
   "metadata": {}
  },
  {
   "cell_type": "markdown",
   "source": [
    "## Task 4.1"
   ],
   "metadata": {}
  },
  {
   "cell_type": "markdown",
   "source": [
    "engagement score to each user. Consider the engagement score as the Euclidean distance between the user data point & the less engaged cluster(use the first clustering for this)(Euclidean Distance)\n"
   ],
   "metadata": {}
  },
  {
   "cell_type": "code",
   "execution_count": 6,
   "source": [
    "with open(\"../models/user_engagement.pkl\", \"rb\") as f:\n",
    "    kmeans1 = pickle.load(f)"
   ],
   "outputs": [],
   "metadata": {}
  },
  {
   "cell_type": "code",
   "execution_count": 7,
   "source": [
    "less_engagement = 1"
   ],
   "outputs": [],
   "metadata": {}
  },
  {
   "cell_type": "markdown",
   "source": [
    "Calculate and assign the distance between the centroid and samples"
   ],
   "metadata": {}
  },
  {
   "cell_type": "code",
   "execution_count": 8,
   "source": [
    "distance = kmeans1.fit_transform(user_engagement)\n",
    "distance_from_less_engagement = list(\n",
    "    map(lambda x: x[less_engagement], distance))\n",
    "user_engagement['enga_score'] = distance_from_less_engagement\n",
    "user_engagement.head(5)"
   ],
   "outputs": [
    {
     "output_type": "execute_result",
     "data": {
      "text/plain": [
       "   cluster  sessions  duration  total_data_volume    enga_score\n",
       "0        3      1.00 116720.00       878690574.00  579384568.44\n",
       "1        2      1.00 181230.00       156859643.00 1301215488.72\n",
       "2        2      1.00 134969.00       595966483.00  862108653.30\n",
       "3        0      1.00  49878.00       422320698.00 1035754448.94\n",
       "4        1      2.00  37104.00      1457410944.00     692616.94"
      ],
      "text/html": [
       "<div>\n",
       "<style scoped>\n",
       "    .dataframe tbody tr th:only-of-type {\n",
       "        vertical-align: middle;\n",
       "    }\n",
       "\n",
       "    .dataframe tbody tr th {\n",
       "        vertical-align: top;\n",
       "    }\n",
       "\n",
       "    .dataframe thead th {\n",
       "        text-align: right;\n",
       "    }\n",
       "</style>\n",
       "<table border=\"1\" class=\"dataframe\">\n",
       "  <thead>\n",
       "    <tr style=\"text-align: right;\">\n",
       "      <th></th>\n",
       "      <th>cluster</th>\n",
       "      <th>sessions</th>\n",
       "      <th>duration</th>\n",
       "      <th>total_data_volume</th>\n",
       "      <th>enga_score</th>\n",
       "    </tr>\n",
       "  </thead>\n",
       "  <tbody>\n",
       "    <tr>\n",
       "      <th>0</th>\n",
       "      <td>3</td>\n",
       "      <td>1.00</td>\n",
       "      <td>116720.00</td>\n",
       "      <td>878690574.00</td>\n",
       "      <td>579384568.44</td>\n",
       "    </tr>\n",
       "    <tr>\n",
       "      <th>1</th>\n",
       "      <td>2</td>\n",
       "      <td>1.00</td>\n",
       "      <td>181230.00</td>\n",
       "      <td>156859643.00</td>\n",
       "      <td>1301215488.72</td>\n",
       "    </tr>\n",
       "    <tr>\n",
       "      <th>2</th>\n",
       "      <td>2</td>\n",
       "      <td>1.00</td>\n",
       "      <td>134969.00</td>\n",
       "      <td>595966483.00</td>\n",
       "      <td>862108653.30</td>\n",
       "    </tr>\n",
       "    <tr>\n",
       "      <th>3</th>\n",
       "      <td>0</td>\n",
       "      <td>1.00</td>\n",
       "      <td>49878.00</td>\n",
       "      <td>422320698.00</td>\n",
       "      <td>1035754448.94</td>\n",
       "    </tr>\n",
       "    <tr>\n",
       "      <th>4</th>\n",
       "      <td>1</td>\n",
       "      <td>2.00</td>\n",
       "      <td>37104.00</td>\n",
       "      <td>1457410944.00</td>\n",
       "      <td>692616.94</td>\n",
       "    </tr>\n",
       "  </tbody>\n",
       "</table>\n",
       "</div>"
      ]
     },
     "metadata": {},
     "execution_count": 8
    }
   ],
   "metadata": {}
  },
  {
   "cell_type": "markdown",
   "source": [
    "experience score to each user. Consider the experience score as the Euclidean distance between the user data point & the worst experience’s cluster.\n"
   ],
   "metadata": {}
  },
  {
   "cell_type": "code",
   "execution_count": 9,
   "source": [
    "with open(\"../models/user_experiance.pkl\", \"rb\") as f:\n",
    "    kmeans2 = pickle.load(f)"
   ],
   "outputs": [],
   "metadata": {}
  },
  {
   "cell_type": "code",
   "execution_count": 10,
   "source": [
    "worst_experiance = 1"
   ],
   "outputs": [],
   "metadata": {}
  },
  {
   "cell_type": "code",
   "execution_count": 11,
   "source": [
    "distance = kmeans2.fit_transform(user_experiance)\n",
    "distance_from_worest_experiance = list(\n",
    "    map(lambda x: x[worst_experiance], distance))\n",
    "user_experiance['expe_score'] = distance_from_worest_experiance\n",
    "user_experiance.head(5)\n"
   ],
   "outputs": [
    {
     "output_type": "execute_result",
     "data": {
      "text/plain": [
       "   cluster  total_avg_rtt  total_avg_tp  total_avg_tcp  expe_score\n",
       "0        0          46.00         76.00      729692.00  7816408.21\n",
       "1        0          31.00         99.00       15743.00  8530354.49\n",
       "2        2          50.00         97.00     4032874.25  4513249.16\n",
       "3        0          84.00        248.00        5056.00  8541041.06\n",
       "4        1         119.00      43204.50     8980965.88   435395.44"
      ],
      "text/html": [
       "<div>\n",
       "<style scoped>\n",
       "    .dataframe tbody tr th:only-of-type {\n",
       "        vertical-align: middle;\n",
       "    }\n",
       "\n",
       "    .dataframe tbody tr th {\n",
       "        vertical-align: top;\n",
       "    }\n",
       "\n",
       "    .dataframe thead th {\n",
       "        text-align: right;\n",
       "    }\n",
       "</style>\n",
       "<table border=\"1\" class=\"dataframe\">\n",
       "  <thead>\n",
       "    <tr style=\"text-align: right;\">\n",
       "      <th></th>\n",
       "      <th>cluster</th>\n",
       "      <th>total_avg_rtt</th>\n",
       "      <th>total_avg_tp</th>\n",
       "      <th>total_avg_tcp</th>\n",
       "      <th>expe_score</th>\n",
       "    </tr>\n",
       "  </thead>\n",
       "  <tbody>\n",
       "    <tr>\n",
       "      <th>0</th>\n",
       "      <td>0</td>\n",
       "      <td>46.00</td>\n",
       "      <td>76.00</td>\n",
       "      <td>729692.00</td>\n",
       "      <td>7816408.21</td>\n",
       "    </tr>\n",
       "    <tr>\n",
       "      <th>1</th>\n",
       "      <td>0</td>\n",
       "      <td>31.00</td>\n",
       "      <td>99.00</td>\n",
       "      <td>15743.00</td>\n",
       "      <td>8530354.49</td>\n",
       "    </tr>\n",
       "    <tr>\n",
       "      <th>2</th>\n",
       "      <td>2</td>\n",
       "      <td>50.00</td>\n",
       "      <td>97.00</td>\n",
       "      <td>4032874.25</td>\n",
       "      <td>4513249.16</td>\n",
       "    </tr>\n",
       "    <tr>\n",
       "      <th>3</th>\n",
       "      <td>0</td>\n",
       "      <td>84.00</td>\n",
       "      <td>248.00</td>\n",
       "      <td>5056.00</td>\n",
       "      <td>8541041.06</td>\n",
       "    </tr>\n",
       "    <tr>\n",
       "      <th>4</th>\n",
       "      <td>1</td>\n",
       "      <td>119.00</td>\n",
       "      <td>43204.50</td>\n",
       "      <td>8980965.88</td>\n",
       "      <td>435395.44</td>\n",
       "    </tr>\n",
       "  </tbody>\n",
       "</table>\n",
       "</div>"
      ]
     },
     "metadata": {},
     "execution_count": 11
    }
   ],
   "metadata": {}
  },
  {
   "cell_type": "markdown",
   "source": [
    "## Task 4.2"
   ],
   "metadata": {}
  },
  {
   "cell_type": "markdown",
   "source": [
    "Consider the average of both engagement & experience scores as the satisfaction score & report the top 10 satisfied customer\n"
   ],
   "metadata": {}
  },
  {
   "cell_type": "code",
   "execution_count": null,
   "source": [
    "customer_id_engagement = user_engagement.index\n",
    "customer_id_experiance = user_experiance.index\n",
    "customers_intersection = list(\n",
    "    set(customer_id_engagement).intersection(customer_id_experiance))\n",
    "\n",
    "data_engagement2 = user_engagement.reset_index()\n",
    "data_engagement2 = data_engagement2[data_engagement2['MSISDN/Number'].isin(\n",
    "    customers_intersection)]\n",
    "\n",
    "data_experiance2 = user_experiance.reset_index()\n",
    "data_experiance2 = data_experiance2[data_experiance2['MSISDN/Number'].isin(\n",
    "    customers_intersection)]\n",
    "\n",
    "data_users = pd.merge(data_engagement2, data_experiance2, on='MSISDN/Number')\n",
    "\n",
    "data_users['sat_score'] = (\n",
    "    data_users['enga_score'] + data_users['expe_score'])/2\n"
   ],
   "outputs": [],
   "metadata": {}
  },
  {
   "cell_type": "markdown",
   "source": [
    "## Task 4.3\n"
   ],
   "metadata": {}
  },
  {
   "cell_type": "markdown",
   "source": [
    "Build a regression model of your choice to predict the satisfaction score of a customer.\n"
   ],
   "metadata": {}
  },
  {
   "cell_type": "markdown",
   "source": [
    "## Task 4.4\n"
   ],
   "metadata": {}
  },
  {
   "cell_type": "markdown",
   "source": [
    "Run a k-means(k=2) on the engagement & the experience score .\n"
   ],
   "metadata": {}
  },
  {
   "cell_type": "markdown",
   "source": [
    "## Task 4.5\n"
   ],
   "metadata": {}
  },
  {
   "cell_type": "markdown",
   "source": [
    "Aggregate the average satisfaction & experience score per cluster.\n"
   ],
   "metadata": {}
  },
  {
   "cell_type": "markdown",
   "source": [
    "## Task 4.6\n"
   ],
   "metadata": {}
  },
  {
   "cell_type": "markdown",
   "source": [
    "Export your final table containing all user id + engagement, experience & satisfaction scores in your local MySQL database. Report a screenshot of a select query output on the exported table.\n"
   ],
   "metadata": {}
  },
  {
   "cell_type": "markdown",
   "source": [
    "## Task 4.7\n"
   ],
   "metadata": {}
  },
  {
   "cell_type": "markdown",
   "source": [
    "Model deployment tracking - deploy the model and monitor your model. Here you can use MlOps tools which can help you to track your model’s change.  Your model tracking report includes code version, start and end time, source, parameters, metrics(loss convergence) and artifacts or any output file regarding each specific run. (CSV file, screenshot)\n"
   ],
   "metadata": {}
  },
  {
   "cell_type": "code",
   "execution_count": null,
   "source": [],
   "outputs": [],
   "metadata": {}
  }
 ],
 "metadata": {
  "orig_nbformat": 4,
  "language_info": {
   "name": "python"
  }
 },
 "nbformat": 4,
 "nbformat_minor": 2
}